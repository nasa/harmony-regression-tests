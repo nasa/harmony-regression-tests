{
 "cells": [
  {
   "cell_type": "markdown",
   "id": "4609a539",
   "metadata": {},
   "source": [
    "# IMAGENATOR Regression Tests\n",
    "\n",
    "This notebook runs a suite of regression tests against the Harmony IMAGENATOR Service chain.\n",
    "These tests use a sample TEMPO NO₂ granule to verify that IMAGENATOR logic works as expected and that output matches reference data in `reference_data/`.\n"
   ]
  },
  {
   "cell_type": "code",
   "execution_count": 1,
   "id": "526534cd",
   "metadata": {
    "tags": [
     "parameters"
    ]
   },
   "outputs": [],
   "source": [
    "harmony_host_url = 'https://harmony.uat.earthdata.nasa.gov'\n",
    "# (Overridden if you set HARMONY_HOST_URL in the shell before running.)"
   ]
  },
  {
   "cell_type": "markdown",
   "id": "42686ad9",
   "metadata": {},
   "source": [
    "## Prerequisites\n",
    "\n",
    "- Create the `papermill-filtering` environment:\n",
    "  ```bash\n",
    "  conda env create -f ./environment.yaml && conda activate papermill-filtering\n",
    "  ```\n",
    "- Ensure a `.netrc` file with your Earthdata Login credentials is present here.\n"
   ]
  },
  {
   "cell_type": "markdown",
   "id": "964a92ad",
   "metadata": {},
   "source": [
    "### Import required packages:\n"
   ]
  },
  {
   "cell_type": "code",
   "execution_count": 5,
   "id": "d204c930",
   "metadata": {},
   "outputs": [],
   "source": [
    "from harmony import Client, Collection, Environment, Request\n",
    "from utilities import validate_imagenator_outputs"
   ]
  },
  {
   "cell_type": "markdown",
   "id": "6c4efdf1",
   "metadata": {},
   "source": [
    "### Set up environment-dependent variables for IMAGENATOR L2:\n",
    "\n",
    "Define the collection and granule for testing in each environment."
   ]
  },
  {
   "cell_type": "code",
   "execution_count": 8,
   "id": "ffd001f4",
   "metadata": {},
   "outputs": [],
   "source": [
    "# TEMPO NO2 Level-2 data\n",
    "non_production_collection = {\n",
    "    'filter_collection': Collection(id='C1262899916-LARC_CLOUD')\n",
    "}\n",
    "non_prod_granule_data = {'filter_granules': ['G1269044683-LARC_CLOUD']}\n",
    "\n",
    "collection_data = {\n",
    "    'https://harmony.uat.earthdata.nasa.gov': {\n",
    "        **non_production_collection,\n",
    "        **non_prod_granule_data,\n",
    "        'env': Environment.UAT,\n",
    "    },\n",
    "    'https://harmony.sit.earthdata.nasa.gov': {\n",
    "        **non_production_collection,\n",
    "        **non_prod_granule_data,\n",
    "        'env': Environment.SIT,\n",
    "    },\n",
    "    'http://localhost:3000': {\n",
    "        **non_production_collection,\n",
    "        **non_prod_granule_data,\n",
    "        'env': Environment.LOCAL,\n",
    "    },\n",
    "}\n",
    "\n",
    "environment_information = collection_data.get(harmony_host_url)\n",
    "\n",
    "if environment_information is not None:\n",
    "    harmony_client = Client(env=environment_information['env'])\n",
    "    filter_collection = environment_information['filter_collection']\n",
    "    filter_granule = environment_information['filter_granules'][0]\n",
    "else:\n",
    "    print('Skipping tests: IMAGENATOR L2 is not configured for environment')"
   ]
  },
  {
   "cell_type": "markdown",
   "id": "e75ca9df",
   "metadata": {},
   "source": [
    "## Test: IMAGENATOR L2 request on TEMPO NO2 vertical_column_stratosphere variable\n",
    "\n",
    "Submit a single-granule request and validate output files."
   ]
  },
  {
   "cell_type": "code",
   "execution_count": 12,
   "id": "a5365989",
   "metadata": {},
   "outputs": [
    {
     "name": "stdout",
     "output_type": "stream",
     "text": [
      "curl -X POST -H 'Accept: */*' -H 'Accept-Encoding: gzip, deflate, br' -H 'Connection: keep-alive' -H 'Content-Length: 466' -H 'Content-Type: multipart/form-data; boundary=f3cda58e96a85ef5700d2d2b7908f07f' -H 'Cookie: state=s%3A1c1aa2feb6c6668d8e4b2311d6043600.TJTBgvt49diLdGmvx4s3lhDXvCfPxAjzZdvh1Ql4HbY; token=*****; uat_urs_user_already_logged=yes; _urs_uat-gui_session=5ca5d01db96270f5beff391bd2eb40f3' -H 'User-Agent: python-requests/2.32.2 harmony-py/0.4.15 Darwin/24.5.0 CPython/3.12.2' -d '--f3cda58e96a85ef5700d2d2b7908f07f\n",
      "Content-Disposition: form-data; name=\"forceAsync\"\n",
      "\n",
      "true\n",
      "--f3cda58e96a85ef5700d2d2b7908f07f\n",
      "Content-Disposition: form-data; name=\"granuleId\"\n",
      "\n",
      "G1269044683-LARC_CLOUD\n",
      "--f3cda58e96a85ef5700d2d2b7908f07f\n",
      "Content-Disposition: form-data; name=\"format\"\n",
      "\n",
      "image/png\n",
      "--f3cda58e96a85ef5700d2d2b7908f07f\n",
      "Content-Disposition: form-data; name=\"variable\"\n",
      "\n",
      "product/vertical_column_stratosphere\n",
      "--f3cda58e96a85ef5700d2d2b7908f07f--\n",
      "' https://harmony.uat.earthdata.nasa.gov/C1262899916-LARC_CLOUD/ogc-api-coverages/1.0.0/collections/parameter_vars/coverage/rangeset\n"
     ]
    },
    {
     "name": "stderr",
     "output_type": "stream",
     "text": [
      " [ Processing: 100% ] |###################################################| [|]\n"
     ]
    },
    {
     "name": "stdout",
     "output_type": "stream",
     "text": [
      "DEBUG: download_all returned 3 future(s)\n",
      "/var/folders/dd/11810wbj3b9786vrn7f_12440000gp/T/tmphefuf_m3/6268818_TEMPO_NO2_L2_V03_20240801T195948Z_S012G02_regridded_filtered_product_vertical_column_stratosphere_reformatted.png.aux.xml\n",
      "/var/folders/dd/11810wbj3b9786vrn7f_12440000gp/T/tmphefuf_m3/6268818_TEMPO_NO2_L2_V03_20240801T195948Z_S012G02_regridded_filtered_product_vertical_column_stratosphere_reformatted.png\n",
      "/var/folders/dd/11810wbj3b9786vrn7f_12440000gp/T/tmphefuf_m3/6268818_TEMPO_NO2_L2_V03_20240801T195948Z_S012G02_regridded_filtered_product_vertical_column_stratosphere_reformatted.pgw\n",
      "DEBUG: downloaded files: ['/var/folders/dd/11810wbj3b9786vrn7f_12440000gp/T/tmphefuf_m3/6268818_TEMPO_NO2_L2_V03_20240801T195948Z_S012G02_regridded_filtered_product_vertical_column_stratosphere_reformatted.png', '/var/folders/dd/11810wbj3b9786vrn7f_12440000gp/T/tmphefuf_m3/6268818_TEMPO_NO2_L2_V03_20240801T195948Z_S012G02_regridded_filtered_product_vertical_column_stratosphere_reformatted.pgw', '/var/folders/dd/11810wbj3b9786vrn7f_12440000gp/T/tmphefuf_m3/6268818_TEMPO_NO2_L2_V03_20240801T195948Z_S012G02_regridded_filtered_product_vertical_column_stratosphere_reformatted.png.aux.xml']\n",
      "\u001b[92mSuccess: Downloaded 3 output files.\u001b[0m\n",
      "Validating 6268818_TEMPO_NO2_L2_V03_20240801T195948Z_S012G02_regridded_filtered_product_vertical_column_stratosphere_reformatted.png → TEMPO_NO2_L2_V03_20240801T195948Z_S012G02_regridded_filtered_product_vertical_column_stratosphere_reformatted.png (level=L2)...\n",
      "\u001b[92mSuccess: TEMPO_NO2_L2_V03_20240801T195948Z_S012G02_regridded_filtered_product_vertical_column_stratosphere_reformatted.png matches reference.\u001b[0m\n",
      "Validating 6268818_TEMPO_NO2_L2_V03_20240801T195948Z_S012G02_regridded_filtered_product_vertical_column_stratosphere_reformatted.pgw → TEMPO_NO2_L2_V03_20240801T195948Z_S012G02_regridded_filtered_product_vertical_column_stratosphere_reformatted.pgw (level=L2)...\n",
      "\u001b[92mSuccess: TEMPO_NO2_L2_V03_20240801T195948Z_S012G02_regridded_filtered_product_vertical_column_stratosphere_reformatted.pgw matches reference.\u001b[0m\n",
      "Validating 6268818_TEMPO_NO2_L2_V03_20240801T195948Z_S012G02_regridded_filtered_product_vertical_column_stratosphere_reformatted.png.aux.xml → TEMPO_NO2_L2_V03_20240801T195948Z_S012G02_regridded_filtered_product_vertical_column_stratosphere_reformatted.png.aux.xml (level=L2)...\n",
      "\u001b[92mSuccess: TEMPO_NO2_L2_V03_20240801T195948Z_S012G02_regridded_filtered_product_vertical_column_stratosphere_reformatted.png.aux.xml matches reference.\u001b[0m\n",
      "\u001b[92mSuccess: All IMAGENATOR outputs match their reference files!\u001b[0m\n"
     ]
    }
   ],
   "source": [
    "if environment_information is not None:\n",
    "    # Build the request\n",
    "    request = Request(collection=filter_collection, granule_id=[filter_granule],\n",
    "                      variables='product/vertical_column_stratosphere',format='image/png')\n",
    "    print(harmony_client.request_as_curl(request))\n",
    "\n",
    "    # Submit and wait for completion\n",
    "    job_id = harmony_client.submit(request)\n",
    "    harmony_client.wait_for_processing(job_id, show_progress=True)\n",
    "\n",
    "    # Validate against reference_data/\n",
    "    validate_imagenator_outputs(harmony_client, job_id)\n",
    "else:\n",
    "    print('Skipping test: IMAGENATOR L2 not configured for environment')"
   ]
  },
  {
   "cell_type": "markdown",
   "id": "4252b16d-c5c2-4cc3-8004-1d7695641782",
   "metadata": {},
   "source": [
    "### Set up environment-dependent variables for IMAGENATOR L3:\n",
    "\n",
    "Define the collection and granule for testing in each environment."
   ]
  },
  {
   "cell_type": "code",
   "execution_count": 16,
   "id": "fb196c0e-1631-4845-b57f-4dd40125de04",
   "metadata": {},
   "outputs": [],
   "source": [
    "# TEMPO NO2 Level-3 data\n",
    "non_production_collection = {\n",
    "    'filter_collection': Collection(id='C1262899964-LARC_CLOUD')\n",
    "}\n",
    "non_prod_granule_data = {'filter_granules': ['G1269043414-LARC_CLOUD']}\n",
    "\n",
    "collection_data = {\n",
    "    'https://harmony.uat.earthdata.nasa.gov': {\n",
    "        **non_production_collection,\n",
    "        **non_prod_granule_data,\n",
    "        'env': Environment.UAT,\n",
    "    },\n",
    "    'https://harmony.sit.earthdata.nasa.gov': {\n",
    "        **non_production_collection,\n",
    "        **non_prod_granule_data,\n",
    "        'env': Environment.SIT,\n",
    "    },\n",
    "    'http://localhost:3000': {\n",
    "        **non_production_collection,\n",
    "        **non_prod_granule_data,\n",
    "        'env': Environment.LOCAL,\n",
    "    },\n",
    "}\n",
    "\n",
    "environment_information = collection_data.get(harmony_host_url)\n",
    "\n",
    "if environment_information is not None:\n",
    "    harmony_client = Client(env=environment_information['env'])\n",
    "    filter_collection = environment_information['filter_collection']\n",
    "    filter_granule = environment_information['filter_granules'][0]\n",
    "else:\n",
    "    print('Skipping tests: IMAGENATOR L3 is not configured for environment')"
   ]
  },
  {
   "cell_type": "markdown",
   "id": "7a28b942-9775-47e8-bcb0-26e1ab5f6988",
   "metadata": {},
   "source": [
    "## Test: IMAGENATOR L3 request on TEMPO NO2 vertical_column_stratosphere variable\n",
    "\n",
    "Submit a single-granule request and validate output files."
   ]
  },
  {
   "cell_type": "code",
   "execution_count": 18,
   "id": "c39675ba-a8df-49e5-93c3-8289d0916759",
   "metadata": {},
   "outputs": [
    {
     "name": "stdout",
     "output_type": "stream",
     "text": [
      "curl -X POST -H 'Accept: */*' -H 'Accept-Encoding: gzip, deflate, br' -H 'Connection: keep-alive' -H 'Content-Length: 466' -H 'Content-Type: multipart/form-data; boundary=c099732c9763c2e45b91d6068eee9af4' -H 'Cookie: state=s%3A83b0161cfcae5be3bf24537ab8c26a4b.O3yedS4H1MeG4rruShA8lvBEoM1TbCKBFdxZ72i0eJc; token=*****; uat_urs_user_already_logged=yes; _urs_uat-gui_session=8599d45a0a6d6d5d90b37eb3a1de8050' -H 'User-Agent: python-requests/2.32.2 harmony-py/0.4.15 Darwin/24.5.0 CPython/3.12.2' -d '--c099732c9763c2e45b91d6068eee9af4\n",
      "Content-Disposition: form-data; name=\"forceAsync\"\n",
      "\n",
      "true\n",
      "--c099732c9763c2e45b91d6068eee9af4\n",
      "Content-Disposition: form-data; name=\"granuleId\"\n",
      "\n",
      "G1269043414-LARC_CLOUD\n",
      "--c099732c9763c2e45b91d6068eee9af4\n",
      "Content-Disposition: form-data; name=\"format\"\n",
      "\n",
      "image/png\n",
      "--c099732c9763c2e45b91d6068eee9af4\n",
      "Content-Disposition: form-data; name=\"variable\"\n",
      "\n",
      "product/vertical_column_stratosphere\n",
      "--c099732c9763c2e45b91d6068eee9af4--\n",
      "' https://harmony.uat.earthdata.nasa.gov/C1262899964-LARC_CLOUD/ogc-api-coverages/1.0.0/collections/parameter_vars/coverage/rangeset\n"
     ]
    },
    {
     "name": "stderr",
     "output_type": "stream",
     "text": [
      " [ Processing: 100% ] |###################################################| [|]\n"
     ]
    },
    {
     "name": "stdout",
     "output_type": "stream",
     "text": [
      "DEBUG: download_all returned 3 future(s)\n",
      "/var/folders/dd/11810wbj3b9786vrn7f_12440000gp/T/tmpj4moan5f/6268822_TEMPO_NO2_L3_V03_20240822T114056Z_S002_filtered_product_vertical_column_stratosphere_reformatted.png.aux.xml\n",
      "/var/folders/dd/11810wbj3b9786vrn7f_12440000gp/T/tmpj4moan5f/6268822_TEMPO_NO2_L3_V03_20240822T114056Z_S002_filtered_product_vertical_column_stratosphere_reformatted.pgw\n",
      "/var/folders/dd/11810wbj3b9786vrn7f_12440000gp/T/tmpj4moan5f/6268822_TEMPO_NO2_L3_V03_20240822T114056Z_S002_filtered_product_vertical_column_stratosphere_reformatted.png\n",
      "DEBUG: downloaded files: ['/var/folders/dd/11810wbj3b9786vrn7f_12440000gp/T/tmpj4moan5f/6268822_TEMPO_NO2_L3_V03_20240822T114056Z_S002_filtered_product_vertical_column_stratosphere_reformatted.png', '/var/folders/dd/11810wbj3b9786vrn7f_12440000gp/T/tmpj4moan5f/6268822_TEMPO_NO2_L3_V03_20240822T114056Z_S002_filtered_product_vertical_column_stratosphere_reformatted.pgw', '/var/folders/dd/11810wbj3b9786vrn7f_12440000gp/T/tmpj4moan5f/6268822_TEMPO_NO2_L3_V03_20240822T114056Z_S002_filtered_product_vertical_column_stratosphere_reformatted.png.aux.xml']\n",
      "\u001b[92mSuccess: Downloaded 3 output files.\u001b[0m\n",
      "Validating 6268822_TEMPO_NO2_L3_V03_20240822T114056Z_S002_filtered_product_vertical_column_stratosphere_reformatted.png → TEMPO_NO2_L3_V03_20240822T114056Z_S002_filtered_product_vertical_column_stratosphere_reformatted.png (level=L3)...\n",
      "\u001b[92mSuccess: TEMPO_NO2_L3_V03_20240822T114056Z_S002_filtered_product_vertical_column_stratosphere_reformatted.png matches reference.\u001b[0m\n",
      "Validating 6268822_TEMPO_NO2_L3_V03_20240822T114056Z_S002_filtered_product_vertical_column_stratosphere_reformatted.pgw → TEMPO_NO2_L3_V03_20240822T114056Z_S002_filtered_product_vertical_column_stratosphere_reformatted.pgw (level=L3)...\n",
      "\u001b[92mSuccess: TEMPO_NO2_L3_V03_20240822T114056Z_S002_filtered_product_vertical_column_stratosphere_reformatted.pgw matches reference.\u001b[0m\n",
      "Validating 6268822_TEMPO_NO2_L3_V03_20240822T114056Z_S002_filtered_product_vertical_column_stratosphere_reformatted.png.aux.xml → TEMPO_NO2_L3_V03_20240822T114056Z_S002_filtered_product_vertical_column_stratosphere_reformatted.png.aux.xml (level=L3)...\n",
      "\u001b[92mSuccess: TEMPO_NO2_L3_V03_20240822T114056Z_S002_filtered_product_vertical_column_stratosphere_reformatted.png.aux.xml matches reference.\u001b[0m\n",
      "\u001b[92mSuccess: All IMAGENATOR outputs match their reference files!\u001b[0m\n"
     ]
    }
   ],
   "source": [
    "if environment_information is not None:\n",
    "    # Build the request\n",
    "    request = Request(collection=filter_collection, granule_id=[filter_granule],\n",
    "                      variables='product/vertical_column_stratosphere',format='image/png')\n",
    "    print(harmony_client.request_as_curl(request))\n",
    "\n",
    "    # Submit and wait for completion\n",
    "    job_id = harmony_client.submit(request)\n",
    "    harmony_client.wait_for_processing(job_id, show_progress=True)\n",
    "\n",
    "    # Validate against reference_data/\n",
    "    validate_imagenator_outputs(harmony_client, job_id)\n",
    "else:\n",
    "    print('Skipping test: IMAGENATOR L3 not configured for environment')"
   ]
  },
  {
   "cell_type": "code",
   "execution_count": null,
   "id": "81367e61-fe23-4f20-8d8a-616455da523d",
   "metadata": {},
   "outputs": [],
   "source": []
  },
  {
   "cell_type": "code",
   "execution_count": null,
   "id": "290fc0e7-a9a7-4142-a0a8-ceef30e3930a",
   "metadata": {},
   "outputs": [],
   "source": []
  }
 ],
 "metadata": {
  "kernelspec": {
   "display_name": "Python 3 (ipykernel)",
   "language": "python",
   "name": "python3"
  },
  "language_info": {
   "codemirror_mode": {
    "name": "ipython",
    "version": 3
   },
   "file_extension": ".py",
   "mimetype": "text/x-python",
   "name": "python",
   "nbconvert_exporter": "python",
   "pygments_lexer": "ipython3",
   "version": "3.12.2"
  }
 },
 "nbformat": 4,
 "nbformat_minor": 5
}
