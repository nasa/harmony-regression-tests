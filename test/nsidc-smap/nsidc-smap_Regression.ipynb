{
 "cells": [
  {
   "cell_type": "markdown",
   "id": "b26a933e-65ac-4a7a-b298-855c0b845ff1",
   "metadata": {
    "editable": true,
    "slideshow": {
     "slide_type": ""
    },
    "tags": []
   },
   "source": [
    "# NSIDC SMAP Regression tests\n",
    "\n",
    "### This juypter notebook runs and verifies a series of test requests against NSIDC's SMAP data.\n",
    "\n",
    "Requests are submitted and the retrieved data compared to a set of verified results.\n",
    "\n",
    "Sample requests include:\n",
    "\n",
    "- Subset by Bounding Box\n",
    "- Subset by Geojson\n",
    "- Subset by Shapefile \n",
    "- Subset by Variable\n",
    "- Subset by KML\n",
    "- Reprojection to Geographic\n",
    "- GeoTIFF Reformating\n",
    "\n",
    "\n",
    "## Prerequisites\n",
    "\n",
    "The dependencies for running this notebook are listed in the\n",
    "[environment.yaml](https://github.com/nasa/harmony-regression-tests/blob/main/test/nsidc-smap/environment.yaml).\n",
    "\n",
    "In order to test locally, run the following commands from the `test/nsidc-smap/` directory to create and activate the conda environment necessary to run the regression testing notebook.\n",
    "\n",
    "```sh\n",
    "conda env create -f ./environment.yaml && conda activate papermill-nsidc-smap\n",
    "```\n",
    "\n",
    "To use this environment within a shared Jupyter Hub, see [instructions](https://nasa-openscapes.github.io/earthdata-cloud-cookbook/contributing/workflow.html#create-a-jupyter-kernel-to-run-notebooks) in the NASA Earthdata Cloud Cookbook for how to create a new kernel based on this environment. \n",
    "\n",
    "## Authentication\n",
    "\n",
    "To provide your credentials to harmony, a `.netrc` file must be located in the `test` directory of this repository.\n",
    "Ensure the credentials in this .netrc belong to a user that can access the NSIDC data which is protected by ACLs in UAT and SIT.\n",
    "\n",
    "\n",
    "## Set the Harmony environment:\n",
    "\n",
    "The next cell below sets the `harmony_host_url` to one of the following valid values:\n",
    "\n",
    "* Production: <https://harmony.earthdata.nasa.gov>\n",
    "* UAT: <https://harmony.uat.earthdata.nasa.gov>\n",
    "* SIT: <https://harmony.sit.earthdata.nasa.gov>\n",
    "* Local: <http://localhost:3000>\n",
    "\n",
    "By default, the value is set to use Harmony's UAT environment. You can modify the target environment in two ways when using this notebook.\n",
    "\n",
    "* Run this notebook in a local Jupyter notebook server and simply edit the value of `harmony_host_url` in the cell below to be the desired value for your environment.\n",
    "\n",
    "* Run the `run_notebooks.sh` script, which uses the papermill library to parameterize and run notebooks. Before running, set the environment variable `HARMONY_HOST_URL` to the desired environment's URL from the list above. This variable will override the default value in the cell below, allowing papermill to inject the correct URL into the notebook at runtime.\n",
    "\n",
    "## Test reference files:\n",
    "\n",
    "The reference files stored in the harmony-regression-test repository are JSON files containing hashed values derived from the groups, variables and metadata in each file. The raw netCDF4, HDF-5 or GeoTIFF files are hosted in the Harmony UAT AWS account in the `harmony-uat-regression-tests` S3 bucket in the `nsidc-smap/reference_files/X.Y.Z` folder."
   ]
  },
  {
   "cell_type": "code",
   "execution_count": null,
   "id": "f08acc3f-6bc7-4a2e-a602-cc10ecb27677",
   "metadata": {
    "editable": true,
    "slideshow": {
     "slide_type": ""
    },
    "tags": [
     "parameters"
    ]
   },
   "outputs": [],
   "source": [
    "harmony_host_url = \"https://harmony.uat.earthdata.nasa.gov\""
   ]
  },
  {
   "cell_type": "markdown",
   "id": "861e2e7d-9627-4c4f-9eda-77e915a3cc2d",
   "metadata": {},
   "source": [
    "### Import required packages"
   ]
  },
  {
   "cell_type": "code",
   "execution_count": null,
   "id": "c6c54643-4653-4368-9158-1deb8197f9c9",
   "metadata": {},
   "outputs": [],
   "source": [
    "from os.path import exists\n",
    "from pathlib import Path\n",
    "from tempfile import TemporaryDirectory\n",
    "import json\n",
    "\n",
    "from harmony import Client, Environment, Request\n",
    "from earthdata_hashdiff import (\n",
    "    geotiff_matches_reference_hash_file,\n",
    ")"
   ]
  },
  {
   "cell_type": "markdown",
   "id": "723b8b8e-312c-4bdc-9620-3cbcb48183d7",
   "metadata": {},
   "source": [
    "#### Import shared utility functions:"
   ]
  },
  {
   "cell_type": "code",
   "execution_count": null,
   "id": "4919504b-1f79-4073-ae79-9a23fb1f906f",
   "metadata": {},
   "outputs": [],
   "source": [
    "import sys\n",
    "\n",
    "sys.path.append(\"../shared_utils\")\n",
    "from utilities import print_success, submit_and_download\n",
    "from smap_utils import file_for_variable, comparison_function_by_extension"
   ]
  },
  {
   "cell_type": "markdown",
   "id": "b38863ea-7be5-4251-afa8-9669e973fc36",
   "metadata": {},
   "source": [
    "### Set up test information\n",
    "\n",
    "The tests are configured in json objects in the `test_configuration.py` module.\n",
    "\n",
    "\n"
   ]
  },
  {
   "cell_type": "code",
   "execution_count": null,
   "id": "d056598e-5058-470c-83f9-f8dca360308a",
   "metadata": {},
   "outputs": [],
   "source": [
    "from test_configuraton import non_production_configuration, production_configuration"
   ]
  },
  {
   "cell_type": "code",
   "execution_count": null,
   "id": "1bcb56c0-f6f6-411a-9bfd-3f867bfe235a",
   "metadata": {},
   "outputs": [],
   "source": [
    "environment_configuration = {\n",
    "    \"https://harmony.earthdata.nasa.gov\": {\n",
    "        **production_configuration,\n",
    "        \"env\": Environment.PROD,\n",
    "    },\n",
    "    \"https://harmony.uat.earthdata.nasa.gov\": {\n",
    "        **non_production_configuration,\n",
    "        \"env\": Environment.UAT,\n",
    "    },\n",
    "    \"https://harmony.sit.earthdata.nasa.gov\": {\n",
    "        **non_production_configuration,\n",
    "        \"env\": Environment.SIT,\n",
    "    },\n",
    "    \"http://localhost:3000\": {\n",
    "        **non_production_configuration,\n",
    "        \"env\": Environment.LOCAL,\n",
    "    },\n",
    "}\n",
    "\n",
    "configuration = environment_configuration.get(harmony_host_url)\n",
    "\n",
    "if configuration is not None:\n",
    "    harmony_client = Client(env=configuration[\"env\"])"
   ]
  },
  {
   "cell_type": "markdown",
   "id": "b115ba16-0d31-43b0-9f57-6a7061b7eeda",
   "metadata": {},
   "source": [
    "### Run Tests"
   ]
  },
  {
   "cell_type": "markdown",
   "id": "e0788c88-6aee-450a-be35-087ba36a1d80",
   "metadata": {},
   "source": [
    "The next cell runs through each of the tests forming requests that are submitted to Harmony and comparing the downloaded results against reference data files that have been verified.  This ensures that Harmony continues to return the expected binary files for expected requests.\n",
    "\n",
    "\n",
    "The tests include:\n",
    "\n",
    "- subset_bounding_box: SPL2SMA, SPL3FTP_E\n",
    "- subset_by_geojson: SPL2SMA\n",
    "- subset_by_geojson: SPL2SMA\n",
    "- subset_by_shapefile: SPL3FTP\n",
    "- subset_by_variable: SPL2SMP_E, SPL2SMP_E_2\n",
    "- subset_by_kml: SPL3SMP\n",
    "- reprojection_to_geographic: SPL4CMDL\n",
    "            \n",
    "\n"
   ]
  },
  {
   "cell_type": "code",
   "execution_count": null,
   "id": "e745045b-10fc-4e6c-808c-3bdaf2725d03",
   "metadata": {},
   "outputs": [],
   "source": [
    "if configuration is not None:\n",
    "    for test_name, test_configs in configuration[\"single_output_tests\"].items():\n",
    "        print(f\"Running Tests: {test_name}\")\n",
    "\n",
    "        with TemporaryDirectory() as tmp_dir:\n",
    "\n",
    "            for shortname, test_config in test_configs.items():\n",
    "                print(f\"running request: {shortname}\")\n",
    "\n",
    "                test_request = Request(**test_config[\"request_params\"])\n",
    "                ext = test_config[\"test_params\"][\"ext\"]\n",
    "                test_output = tmp_dir / Path(f\"{shortname}_{test_name}{ext}\")\n",
    "                test_reference = Path(\n",
    "                    f\"reference_files/{test_output.stem}_reference.json\"\n",
    "                )\n",
    "\n",
    "                submit_and_download(harmony_client, test_request, test_output)\n",
    "\n",
    "                assert exists(\n",
    "                    test_output\n",
    "                ), f\"Unsuccessful Harmony Request: {shortname}: {test_name}\"\n",
    "\n",
    "                # Grab correct comparison function and call it.\n",
    "                compare_fxn = comparison_function_by_extension(ext)\n",
    "                reference_file = (\n",
    "                    Path(\"reference_files\") / f\"{test_output.stem}_reference.json\"\n",
    "                )\n",
    "                print(\n",
    "                    f\"assert: {compare_fxn.__name__}({test_output.name}, {reference_file}) \"\n",
    "                )\n",
    "                assert compare_fxn(\n",
    "                    test_output, reference_file\n",
    "                ), f'Failed comparison for {shortname}:{test_name}'\n",
    "\n",
    "                print_success(f\"{shortname} {test_name} test request complete.\")\n",
    "            print_success(f\"{test_name} test suite complete.\")\n",
    "        print_success(\"Entire SMAP Single Output Regression Test suite complete.\")\n",
    "else:\n",
    "    print(\n",
    "        f'Bounding box tests not configured for environment: {configuration[\"env\"]} - skipping tests'\n",
    "    )"
   ]
  },
  {
   "cell_type": "markdown",
   "id": "80ba1a0f-6928-4906-9002-f0a15c75f381",
   "metadata": {},
   "source": [
    "## Multiple output file tests\n",
    "\n",
    "The following cell runs through any request that generates multiple output files. These are GeoTIFF Reformatting requests. These are generally requests for multiple variables and generate a single GeoTIFF for each variable on the output. The tests make a request and then download all of the resulting files and then compare those to the reference hash values to verify no changes in the output.\n",
    "\n",
    "The tests include:\n",
    "\n",
    "- SPL2SMP with multiple variable subsetting.\n"
   ]
  },
  {
   "cell_type": "code",
   "execution_count": null,
   "id": "6e5e2c1c-4ad6-4761-b001-1a90af7c1bf7",
   "metadata": {},
   "outputs": [],
   "source": [
    "if configuration is not None:\n",
    "    for test_name, test_configs in configuration[\"multiple_output_tests\"].items():\n",
    "        with TemporaryDirectory() as tmp_dir:\n",
    "\n",
    "            for shortname, test_config in test_configs.items():\n",
    "                print(\n",
    "                    f\"testing {shortname} with {json.dumps(test_config, indent=2, default=str)}\"\n",
    "                )\n",
    "                test_request = Request(**test_config[\"request_params\"])\n",
    "                ext = test_config[\"test_params\"][\"ext\"]\n",
    "\n",
    "                ## Generate and download all of the output files\n",
    "                job_id = harmony_client.submit(test_request)\n",
    "\n",
    "                for filename in [\n",
    "                    file_future.result()\n",
    "                    for file_future in harmony_client.download_all(\n",
    "                        job_id, overwrite=True, directory=tmp_dir\n",
    "                    )\n",
    "                ]:\n",
    "                    prefix = Path(filename).name.split(\"_\")[0]\n",
    "                    print(f\"Downloaded: {Path(filename).name}\")\n",
    "\n",
    "                # ## Check each of the expected output files against its reference file.\n",
    "                for test_var in test_config[\"request_params\"][\"variables\"]:\n",
    "                    var_base = test_var.split(\"/\")[-1]\n",
    "                    output_file = file_for_variable(\n",
    "                        Path(tmp_dir), f\"{prefix}*Data_{var_base}_reformatted*\"\n",
    "                    )\n",
    "                    reference_file = file_for_variable(\n",
    "                        Path(\"reference_files\"), f\"{var_base}_reference*\"\n",
    "                    )\n",
    "                    print(f\"validating {output_file.name}\")\n",
    "                    assert geotiff_matches_reference_hash_file(\n",
    "                        output_file, reference_file\n",
    "                    ), f'Failed {shortname}:{test_name}'\n",
    "\n",
    "                print_success(f\"{shortname} {test_name} test request complete.\")\n",
    "            print_success(f\"{test_name} test suite complete.\")\n",
    "        print_success(\"muliple_output_test: SMAP Regression Test suite complete.\")\n",
    "else:\n",
    "    print(\n",
    "        f'Bounding box tests not configured for environment: {configuration[\"env\"]} - skipping tests'\n",
    "    )"
   ]
  }
 ],
 "metadata": {
  "kernelspec": {
   "display_name": "Python 3 (ipykernel)",
   "language": "python",
   "name": "python3"
  },
  "language_info": {
   "codemirror_mode": {
    "name": "ipython",
    "version": 3
   },
   "file_extension": ".py",
   "mimetype": "text/x-python",
   "name": "python",
   "nbconvert_exporter": "python",
   "pygments_lexer": "ipython3",
   "version": "3.12.11"
  }
 },
 "nbformat": 4,
 "nbformat_minor": 5
}
