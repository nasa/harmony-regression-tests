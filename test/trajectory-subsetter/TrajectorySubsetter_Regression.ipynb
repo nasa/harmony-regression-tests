{
 "cells": [
  {
   "cell_type": "markdown",
   "id": "f7f9ded8",
   "metadata": {},
   "source": [
    "# Regression test suite the Segmented Trajectory Subsetter:\n",
    "\n",
    "This notebook provides condensed examples of using Harmony to make requests using the Segmented Trajectory Subsetter service developed and managed by the Data Services team on the Transformation Train. This subsetter is designed for use against L2 data, and includes the following capabilities:\n",
    "\n",
    "* Variable subsetting.\n",
    "* Temporal subsetting.\n",
    "* Bounding box spatial subsetting.\n",
    "* Polygon spatial subsetting.\n",
    "* Preservation of photon segment indices.\n",
    "\n",
    "Note, several configuration tips were gained from [this blog post](https://towardsdatascience.com/introduction-to-papermill-2c61f66bea30).\n",
    "\n",
    "## Prerequisites\n",
    "\n",
    "The dependencies for this notebook are listed in the [environment.yaml](./environment.yaml). To test or install locally, create the papermill environment used in the automated regression testing suite:\n",
    "\n",
    "`conda env create -f ./environment.yaml && conda activate papermill`\n",
    "\n",
    "A `.netrc` file must also be located in the `test` directory of this repository."
   ]
  },
  {
   "cell_type": "markdown",
   "id": "009f1df8",
   "metadata": {},
   "source": [
    "## Import requirements:"
   ]
  },
  {
   "cell_type": "code",
   "execution_count": null,
   "id": "7ce7f640",
   "metadata": {
    "jupyter": {
     "source_hidden": true
    },
    "tags": []
   },
   "outputs": [],
   "source": [
    "from datetime import datetime\n",
    "from os.path import exists\n",
    "\n",
    "from harmony import BBox, Client, Collection, Environment, Request\n",
    "\n",
    "from utilities import (compare_results_to_reference_file, print_success,\n",
    "                       remove_results_files, submit_and_download)"
   ]
  },
  {
   "cell_type": "markdown",
   "id": "00758d6f",
   "metadata": {},
   "source": [
    "## Set default parameters:\n",
    "\n",
    "`papermill` requires default values for parameters used on the workflow. In this case, `harmony_host_url`."
   ]
  },
  {
   "cell_type": "code",
   "execution_count": null,
   "id": "45f380c6",
   "metadata": {
    "tags": [
     "parameters"
    ]
   },
   "outputs": [],
   "source": [
    "harmony_host_url = 'https://harmony.uat.earthdata.nasa.gov'"
   ]
  },
  {
   "cell_type": "markdown",
   "id": "9237f449",
   "metadata": {},
   "source": [
    "### Identify Harmony environment (for easier reference):"
   ]
  },
  {
   "cell_type": "code",
   "execution_count": null,
   "id": "4420bb6e",
   "metadata": {},
   "outputs": [],
   "source": [
    "host_environment = {'http://localhost:3000': Environment.LOCAL,\n",
    "                    'https://harmony.sit.earthdata.nasa.gov': Environment.SIT,\n",
    "                    'https://harmony.uat.earthdata.nasa.gov': Environment.UAT,\n",
    "                    'https://harmony.earthdata.nasa.gov': Environment.PROD}\n",
    "\n",
    "\n",
    "harmony_environment = host_environment.get(harmony_host_url)\n",
    "\n",
    "if harmony_environment is not None:\n",
    "    harmony_client = Client(env=harmony_environment)"
   ]
  },
  {
   "cell_type": "markdown",
   "id": "fc7aef85",
   "metadata": {},
   "source": [
    "# Begin regression tests:"
   ]
  },
  {
   "cell_type": "markdown",
   "id": "703c863b",
   "metadata": {},
   "source": [
    "## Segmented Trajectory Subsetter:\n",
    "\n",
    "The Segmented Trajectory Subsetter is currently only activated for collections in the UAT environment. Requests will be made against granules in the GEDI L4A collection, as this is the only currently active collection. To minimize the size of the output, all requests will use a variable subset - the original granules are > 1 GB in size!\n",
    "\n",
    "The specific granule used in the requests below was selected to have a trajectory that crosses the Amazon river basin GeoJSON shape used in the MaskFill regression tests above."
   ]
  },
  {
   "cell_type": "code",
   "execution_count": null,
   "id": "68b09818",
   "metadata": {},
   "outputs": [],
   "source": [
    "traj_sub_non_prod_information = {'collection': Collection(id='C1242267295-EEDTEST'),\n",
    "                                 'granule_id': 'G1242274836-EEDTEST',\n",
    "                                 'shape_file_path': 'amazon_basin.geo.json',\n",
    "                                 'requested_variables': ['/BEAM0000/agbd'],\n",
    "                                 'retrieved_variables': ['/BEAM0000/agbd', '/BEAM0000/delta_time',\n",
    "                                                         '/BEAM0000/lat_lowestmode',\n",
    "                                                         '/BEAM0000/lon_lowestmode',\n",
    "                                                         '/BEAM0000/shot_number']}\n",
    "\n",
    "trajectory_subsetter_env = {Environment.LOCAL: traj_sub_non_prod_information,\n",
    "                            Environment.SIT: traj_sub_non_prod_information,\n",
    "                            Environment.UAT: traj_sub_non_prod_information}\n",
    "\n",
    "if harmony_environment in trajectory_subsetter_env:\n",
    "    trajectory_subsetter_info = trajectory_subsetter_env[harmony_environment]\n",
    "else:\n",
    "    trajectory_subsetter_info = None"
   ]
  },
  {
   "cell_type": "markdown",
   "id": "b9f35c7e",
   "metadata": {},
   "source": [
    "### Trajectory Subsetter variable subset request:\n",
    "\n",
    "This is a request to retrieve a variable subset of a GEDI L4A granule. The request will ask for a single variable `/BEAM0000/agbd`, but will retrieve an additional four variables that are required to make the output viable for downstream processing. The five expected output variables are:\n",
    "\n",
    "* `/BEAM0000/agbd` (above ground biomass density)\n",
    "* `/BEAM0000/delta_time` (from the `coordinates` metadata attribute of `/BEAM0000/agbd`)\n",
    "* `/BEAM0000/lat_lowestmode` (from the `coordinates` metadata attribute of `/BEAM0000/agbd`)\n",
    "* `/BEAM0000/lon_lowestmode` (from the `coordinates` metadata attribute of `/BEAM0000/agbd`)\n",
    "* `/BEAM0000/shot_number` (from the `ancillary_variables` metadata attribute of `/BEAM0000/agbd`, as configured by `sds-varinfo`)"
   ]
  },
  {
   "cell_type": "code",
   "execution_count": null,
   "id": "74bf1567",
   "metadata": {},
   "outputs": [],
   "source": [
    "if trajectory_subsetter_info is not None:\n",
    "    ts_variable_file_name = 'trajectory_subsetter_variable.h5'\n",
    "    ts_variable_request = Request(collection=trajectory_subsetter_info['collection'],\n",
    "                                  granule_id=[trajectory_subsetter_info['granule_id']],\n",
    "                                  variables=trajectory_subsetter_info['requested_variables'])\n",
    "\n",
    "    submit_and_download(harmony_client, ts_variable_request, ts_variable_file_name)\n",
    "    assert exists(ts_variable_file_name), 'Unsuccessful Trajectory Subsetter variable subset request.'\n",
    "\n",
    "    compare_results_to_reference_file(ts_variable_file_name,\n",
    "                                      'reference_files/trajectory_subsetter_variable_reference.h5',\n",
    "                                      '/BEAM0000')\n",
    "\n",
    "    print_success('Trajectory Subsetter variable subset request.')\n",
    "else:\n",
    "    print(f'Trajectory Subsetter is not configured for environment: \"{harmony_environment}\" - skipping test.')"
   ]
  },
  {
   "cell_type": "markdown",
   "id": "42e85030",
   "metadata": {},
   "source": [
    "### Trajectory Subsetter temporal subset request:\n",
    "\n",
    "This request will combine a variable subset with a temporal range - as defined via the `subset` request parameter. The requested data should fall between 1am and 2am on the 8th of July 2020."
   ]
  },
  {
   "cell_type": "code",
   "execution_count": null,
   "id": "c51eb82c",
   "metadata": {},
   "outputs": [],
   "source": [
    "if trajectory_subsetter_info is not None:\n",
    "    ts_temporal_file_name = 'trajectory_subsetter_temporal.h5'\n",
    "    ts_temporal_request = Request(collection=trajectory_subsetter_info['collection'],\n",
    "                                  granule_id=[trajectory_subsetter_info['granule_id']],\n",
    "                                  variables=trajectory_subsetter_info['requested_variables'],\n",
    "                                  temporal={'start': datetime(2020, 7, 8, 1, 0, 0),\n",
    "                                            'stop': datetime(2020, 7, 8, 2, 0, 0)})\n",
    "\n",
    "    submit_and_download(harmony_client, ts_temporal_request, ts_temporal_file_name)\n",
    "    assert exists(ts_temporal_file_name), 'Unsuccessful Trajectory Subsetter temporal subset request.'\n",
    "\n",
    "    compare_results_to_reference_file(ts_temporal_file_name,\n",
    "                                      'reference_files/trajectory_subsetter_temporal_reference.h5',\n",
    "                                      '/BEAM0000')\n",
    "\n",
    "    print_success('Trajectory Subsetter temporal subset request.')\n",
    "else:\n",
    "    print(f'Trajectory Subsetter is not configured for environment: \"{harmony_environment}\" - skipping test.')"
   ]
  },
  {
   "cell_type": "markdown",
   "id": "3f6a86b6",
   "metadata": {},
   "source": [
    "### Trajectory Subsetter bounding box spatial subset request:\n",
    "\n",
    "This request combines the variable subset (for output size purposes) with a bounding box spatial subset. The bounding box has been selected to approximately encompass Brazil:\n",
    "\n",
    "* -74 ≤ longitude (degrees east) ≤ -35\n",
    "* -34 ≤ latitude (degress north) ≤ 5"
   ]
  },
  {
   "cell_type": "code",
   "execution_count": null,
   "id": "ffb9742c",
   "metadata": {},
   "outputs": [],
   "source": [
    "if trajectory_subsetter_info is not None:\n",
    "    ts_bbox_file_name = 'trajectory_subsetter_bbox.h5'\n",
    "    ts_bbox_bbox = BBox(w=-74, s=-34, e=-35, n=5)\n",
    "    ts_bbox_request = Request(collection=trajectory_subsetter_info['collection'],\n",
    "                              granule_id=[trajectory_subsetter_info['granule_id']],\n",
    "                              variables=trajectory_subsetter_info['requested_variables'],\n",
    "                              spatial=ts_bbox_bbox)\n",
    "\n",
    "    submit_and_download(harmony_client, ts_bbox_request, ts_bbox_file_name)\n",
    "    assert exists(ts_bbox_file_name), 'Unsuccessful Trajectory Subsetter bounding box subset request.'\n",
    "\n",
    "    compare_results_to_reference_file(ts_bbox_file_name,\n",
    "                                      'reference_files/trajectory_subsetter_bbox_reference.h5',\n",
    "                                      '/BEAM0000')\n",
    "\n",
    "    print_success('Trajectory Subsetter bounding box spatial subset request.')\n",
    "else:\n",
    "    print(f'Trajectory Subsetter is not configured for environment: \"{harmony_environment}\" - skipping test.')"
   ]
  },
  {
   "cell_type": "markdown",
   "id": "05201125",
   "metadata": {},
   "source": [
    "### Trajectory Subsetter polygon spatial subset request:\n",
    "\n",
    "The request below combines a variable subset with the Amazon river basin polygon. The output should constrained to be extent of this polygon."
   ]
  },
  {
   "cell_type": "code",
   "execution_count": null,
   "id": "a10d6af4",
   "metadata": {},
   "outputs": [],
   "source": [
    "if trajectory_subsetter_info is not None:\n",
    "    ts_polygon_file_name = 'trajectory_subsetter_polygon.h5'\n",
    "    ts_polygon_request = Request(collection=trajectory_subsetter_info['collection'],\n",
    "                                 granule_id=[trajectory_subsetter_info['granule_id']],\n",
    "                                 variables=trajectory_subsetter_info['requested_variables'],\n",
    "                                 shape=trajectory_subsetter_info['shape_file_path'])\n",
    "\n",
    "    submit_and_download(harmony_client, ts_polygon_request, ts_polygon_file_name)\n",
    "    assert exists(ts_polygon_file_name), 'Unsuccessful Trajectory Subsetter polygon spatial subset request.'\n",
    "\n",
    "    compare_results_to_reference_file(ts_polygon_file_name,\n",
    "                                      'reference_files/trajectory_subsetter_polygon_reference.h5',\n",
    "                                      '/BEAM0000')\n",
    "\n",
    "    print_success('Trajectory Subsetter polygon spatial subset request.')\n",
    "else:\n",
    "    print(f'Trajectory Subsetter is not configured for environment: \"{harmony_environment}\" - skipping test.')"
   ]
  },
  {
   "cell_type": "markdown",
   "id": "da258874",
   "metadata": {},
   "source": [
    "### Segmented Trajectory Subsetter additional tests:\n",
    "\n",
    "Ideally, we should test that photon segment indices are correctly handled (e.g., they are all consecutive integers, even if a middle segment is excluded by a subset: [0, 0, 0, 0, 1, 1, 1, 1, 2, 2, ...]). Currently (2021-12-02), there are no Cloud-hosted collections with photon segment indices associated with the Segmented Trajectory Subsetter."
   ]
  },
  {
   "cell_type": "markdown",
   "id": "ca88eb71-2526-4b34-8ff7-441f869244e0",
   "metadata": {},
   "source": [
    "# Clean up test outputs:"
   ]
  },
  {
   "cell_type": "code",
   "execution_count": null,
   "id": "73fdd147-74a0-48d3-957f-388e2abe356a",
   "metadata": {},
   "outputs": [],
   "source": [
    "remove_results_files()"
   ]
  }
 ],
 "metadata": {
  "celltoolbar": "Tags",
  "kernelspec": {
   "display_name": "Python 3 (ipykernel)",
   "language": "python",
   "name": "python3"
  },
  "language_info": {
   "codemirror_mode": {
    "name": "ipython",
    "version": 3
   },
   "file_extension": ".py",
   "mimetype": "text/x-python",
   "name": "python",
   "nbconvert_exporter": "python",
   "pygments_lexer": "ipython3",
   "version": "3.9.15"
  },
  "name": "SDS_Regression.ipynb"
 },
 "nbformat": 4,
 "nbformat_minor": 5
}
