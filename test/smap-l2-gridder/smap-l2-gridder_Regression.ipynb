{
 "cells": [
  {
   "attachments": {},
   "cell_type": "markdown",
   "id": "d512811f-271b-4f35-93ad-ce523fc0d9cf",
   "metadata": {},
   "source": [
    "## Regression tests for the Harmony SMAP L2 Gridder \n",
    "\n",
    "\n",
    "This Jupyter notebook runs a suite of regression tests against the Harmony SMAP L2 gridding service. \n",
    "\n",
    "SMAP Enhanced L2 Radiometer Half-Orbit 9 km EASE-Grid Soil Moisture V006 ([SPL2SMP_E](https://mmt.uat.earthdata.nasa.gov/collections/C1268429712-EEDTEST)) as gridded trajectory input data.\n",
    "\n",
    "Validation is done by making a request to the service and validating the correct \"shape\" of the output data file and then a subset of the data is compared against regression data.\n",
    "\n",
    "\n",
    "## Set the Harmony environment:\n",
    "\n",
    "The cell below sets the `harmony_host_url` to one of the following valid values:\n",
    "\n",
    "* Production: <https://harmony.earthdata.nasa.gov>\n",
    "* UAT: <https://harmony.uat.earthdata.nasa.gov>\n",
    "* SIT: <https://harmony.sit.earthdata.nasa.gov>\n",
    "* Local: <http://localhost:3000>\n",
    "\n",
    "The default value is for the UAT environment. When using this notebook there are two ways to use the non-default environment:\n",
    "\n",
    "* Run this notebook in a local Jupyter notebook server and change the value of `harmony_host_url` in the cell below to the value for the environment you require from the above list.\n",
    "\n",
    "* Use the `run_notebooks.sh` script, which requires you to declare an environment variable `HARMONY_HOST_URL`. Set that environment variable to the value above that corresponds to the environment you want to test. That environment variable will take precedence over the default value in the cell below."
   ]
  },
  {
   "cell_type": "code",
   "execution_count": null,
   "id": "470dd22d-14ca-447b-a179-1bdfc6d565fd",
   "metadata": {
    "editable": true,
    "slideshow": {
     "slide_type": ""
    },
    "tags": [
     "parameters"
    ]
   },
   "outputs": [],
   "source": [
    "harmony_host_url = 'https://harmony.uat.earthdata.nasa.gov'"
   ]
  },
  {
   "cell_type": "markdown",
   "id": "a5e17b33-05d7-4759-b4f2-b4d9dfe90d68",
   "metadata": {
    "editable": true,
    "slideshow": {
     "slide_type": ""
    },
    "tags": []
   },
   "source": [
    "## Prerequisites\n",
    "\n",
    "The dependencies for this notebook are listed in the [environment.yaml](./environment.yaml). To test or install locally, create the papermill environment used in the automated regression testing suite:\n",
    "\n",
    "`conda env create -f ./environment.yaml && conda activate papermill-smap-l2-gridder`\n",
    "\n",
    "A `.netrc` file must also be located in the `test` directory of this repository."
   ]
  },
  {
   "cell_type": "markdown",
   "id": "26eacd72-e36e-4ff0-abc5-de1f06922d93",
   "metadata": {
    "editable": true,
    "slideshow": {
     "slide_type": ""
    },
    "tags": []
   },
   "source": [
    "### Import required packages:"
   ]
  },
  {
   "cell_type": "code",
   "execution_count": null,
   "id": "d5fe92fb-bcbb-4bae-95ea-ad2195d0f382",
   "metadata": {},
   "outputs": [],
   "source": [
    "from harmony import Client, Collection, Environment, Request\n",
    "from pathlib import Path\n",
    "from tempfile import TemporaryDirectory"
   ]
  },
  {
   "cell_type": "markdown",
   "id": "4b9f2a42-2062-4a57-9d8b-9280c2b3b046",
   "metadata": {},
   "source": [
    "#### Import shared utility functions:"
   ]
  },
  {
   "cell_type": "code",
   "execution_count": null,
   "id": "d675c4d5-80b5-4c2b-8397-b07f29664913",
   "metadata": {},
   "outputs": [],
   "source": [
    "import sys\n",
    "\n",
    "sys.path.append('../shared_utils')\n",
    "from utilities import print_success, submit_and_download\n",
    "from compare import nc4_matches_reference_hash_file"
   ]
  },
  {
   "cell_type": "markdown",
   "id": "d54ca830-eaff-45b8-ab3b-03fee28f8c94",
   "metadata": {},
   "source": [
    "### Set up test configuration\n",
    "\n",
    "The next cell organizes the collections and granules to be tested in each environment."
   ]
  },
  {
   "cell_type": "code",
   "execution_count": null,
   "id": "30de20e7-e29d-4c69-8ad4-523d4ee239b5",
   "metadata": {},
   "outputs": [],
   "source": [
    "non_production_configuration = {\n",
    "    'SPL2SMP_E': {\n",
    "        'collection_concept_id': Collection(id='C1268429712-EEDTEST'),\n",
    "        'granule_id': 'G1268429718-EEDTEST',\n",
    "    },\n",
    "    'SPL2SMAP': {\n",
    "        'collection_concept_id': Collection(id='C1268429748-EEDTEST'),\n",
    "        'granule_id': 'G1268429753-EEDTEST',\n",
    "    },\n",
    "    'SPL2SMA': {\n",
    "        'collection_concept_id': Collection(id='C1268429729-EEDTEST'),\n",
    "        'granule_id': 'G1268429743-EEDTEST',\n",
    "    },\n",
    "    'SPL2SMP': {\n",
    "        'collection_concept_id': Collection(id='C1268429309-EEDTEST'),\n",
    "        'granule_id': 'G1268454418-EEDTEST',\n",
    "    },\n",
    "}\n",
    "\n",
    "\n",
    "production_configuration = {\n",
    "    'SPL2SMP_E': {\n",
    "        'collection_concept_id': Collection(id='TBD'),\n",
    "        'granule_id': '',\n",
    "    },\n",
    "    'SPL2SMAP': {\n",
    "        'collection_concept_id': Collection(id='TBD'),\n",
    "        'granule_id': '',\n",
    "    },\n",
    "    'SPL2SMA': {\n",
    "        'collection_concept_id': Collection(id='C1236303826-NSIDC_ECS'),\n",
    "        'granule_id': '',\n",
    "    },\n",
    "    'SPL2SMP': {\n",
    "        'collection_concept_id': Collection(id='TBD'),\n",
    "        'granule_id': 'TBD',\n",
    "    },\n",
    "}"
   ]
  },
  {
   "cell_type": "code",
   "execution_count": null,
   "id": "37511561-96a4-4648-8a66-a8ce8730fd04",
   "metadata": {},
   "outputs": [],
   "source": [
    "environment_configuration = {\n",
    "    # 'https://harmony.earthdata.nasa.gov': {\n",
    "    #     'config': production_configuration,\n",
    "    #     'env': Environment.PROD,\n",
    "    # },\n",
    "    'https://harmony.uat.earthdata.nasa.gov': {\n",
    "        'config': non_production_configuration,\n",
    "        'env': Environment.UAT,\n",
    "    },\n",
    "    'https://harmony.sit.earthdata.nasa.gov': {\n",
    "        'config': non_production_configuration,\n",
    "        'env': Environment.SIT,\n",
    "    },\n",
    "    'http://localhost:3000': {\n",
    "        'config': non_production_configuration,\n",
    "        'env': Environment.LOCAL,\n",
    "    },\n",
    "}\n",
    "\n",
    "configuration = environment_configuration.get(harmony_host_url)\n",
    "\n",
    "if configuration is not None:\n",
    "    harmony_client = Client(env=configuration['env'])"
   ]
  },
  {
   "cell_type": "markdown",
   "id": "316542e3-0e6e-48d0-ad4d-dc02d20bdbe6",
   "metadata": {},
   "source": [
    "### Run Tests\n",
    "\n",
    "* The cell below loops through the SMAP L2 collections for the configured environment.\n",
    "* A request for gridding the L2 data is submitted to Harmony and the results downloaded.\n",
    "* Verification compares the results to a previously generated and subsetted reference data file."
   ]
  },
  {
   "cell_type": "code",
   "execution_count": null,
   "id": "5f0ef138-2e97-4469-a701-726ca060d611",
   "metadata": {},
   "outputs": [],
   "source": [
    "if configuration is not None:\n",
    "    for collection, test_config in configuration['config'].items():\n",
    "        with TemporaryDirectory() as tmp_dir:\n",
    "            test_request = Request(\n",
    "                collection=test_config['collection_concept_id'],\n",
    "                granule_id=[test_config['granule_id']],\n",
    "                crs='EPSG:4326',\n",
    "                format='application/x-netcdf4',\n",
    "            )\n",
    "            test_output = tmp_dir / Path(f'{collection}.nc')\n",
    "            test_reference = Path(f'reference_files/{test_output.stem}_reference.json')\n",
    "\n",
    "            submit_and_download(harmony_client, test_request, test_output)\n",
    "\n",
    "            assert Path(\n",
    "                test_output\n",
    "            ).exists, f'Unsuccessful Harmony Request: {collection}'\n",
    "            assert nc4_matches_reference_hash_file(\n",
    "                test_output,\n",
    "                test_reference,\n",
    "            ), f'Output and reference files do not match: {collection}'\n",
    "\n",
    "        print_success(f'{collection} Test.')\n",
    "\n",
    "    print_success('Entire Test Suite.')\n",
    "else:\n",
    "    print('No configured environment - skipping tests')"
   ]
  }
 ],
 "metadata": {
  "kernelspec": {
   "display_name": "Python 3 (ipykernel)",
   "language": "python",
   "name": "python3"
  },
  "language_info": {
   "codemirror_mode": {
    "name": "ipython",
    "version": 3
   },
   "file_extension": ".py",
   "mimetype": "text/x-python",
   "name": "python",
   "nbconvert_exporter": "python",
   "pygments_lexer": "ipython3",
   "version": "3.12.11"
  }
 },
 "nbformat": 4,
 "nbformat_minor": 5
}
