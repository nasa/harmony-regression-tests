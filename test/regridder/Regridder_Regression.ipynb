{
 "cells": [
  {
   "cell_type": "markdown",
   "id": "ab819831",
   "metadata": {},
   "source": [
    "# Harmony Regridding Service (HRS) [regridder] regression tests\n",
    "\n",
    "This Jupyter notebook runs a suite of regression tests against some requests against the Harmony Regridding Service.\n",
    "\n",
    "These tests use the a MERRA-2 hourly collection of time averaged data ([M2T1NXSLV](https://cmr.earthdata.nasa.gov/search/concepts/C1276812863-GES_DISC.html)) and the ICESat-2/ATL16 Weekly Gridded Atmosphere collection ([ATL16](https://cmr.earthdata.nasa.gov/search/concepts/C2153575232-NSIDC_CPRD.html)) available from GES DISC and NSIDC, respectively.\n",
    "\n",
    "\n",
    "## Set the Harmony environment:\n",
    "\n",
    "The cell below sets the `harmony_host_url` to one of the following valid values:\n",
    "\n",
    "* Production: <https://harmony.earthdata.nasa.gov>\n",
    "* UAT: <https://harmony.uat.earthdata.nasa.gov>\n",
    "* SIT: <https://harmony.sit.earthdata.nasa.gov>\n",
    "* Local: <http://localhost:3000>\n",
    "\n",
    "The default value is for the UAT environment. When using this notebook there are two ways to use the non-default environment:\n",
    "\n",
    "* Run this notebook in a local Jupyter notebook server and change the value of `harmony_host_url` in the cell below to the value for the environment you require from the above list.\n",
    "* Use the `run_notebooks.sh` script, which requires you to declare an environment variable `HARMONY_HOST_URL`. Set that environment variable to the value above that corresponds to the environment you want to test. That environment variable will take precedence over the default value in the cell below."
   ]
  },
  {
   "cell_type": "code",
   "execution_count": null,
   "id": "a7b732c0",
   "metadata": {
    "tags": [
     "parameters"
    ]
   },
   "outputs": [],
   "source": [
    "harmony_host_url = 'https://harmony.uat.earthdata.nasa.gov'"
   ]
  },
  {
   "cell_type": "markdown",
   "id": "650f966e-0748-494e-9a67-5b5571cf71eb",
   "metadata": {},
   "source": [
    "## Prerequisites\n",
    "\n",
    "The dependencies for this notebook are listed in the [environment.yaml](./environment.yaml). To test or install locally, create the papermill environment used in the automated regression testing suite:\n",
    "\n",
    "`conda env create -f ./environment.yaml && conda activate papermill-regridder`\n",
    "\n",
    "A `.netrc` file must also be located in the `test` directory of this repository."
   ]
  },
  {
   "cell_type": "markdown",
   "id": "4979305a",
   "metadata": {},
   "source": [
    "### Import required packages:"
   ]
  },
  {
   "cell_type": "code",
   "execution_count": null,
   "id": "93128635",
   "metadata": {},
   "outputs": [],
   "source": [
    "from harmony import Collection, Environment, Client, Request\n",
    "from utility import  print_success \n",
    "from tempfile import TemporaryDirectory\n",
    "import xarray as xr\n",
    "\n",
    "from pathlib import Path"
   ]
  },
  {
   "cell_type": "markdown",
   "id": "7e29b32f",
   "metadata": {},
   "source": [
    "### Set up environment dependent variables:\n",
    "\n",
    "This includes the Harmony `Client` object and `Collection` objects for each of the collections for which there are regression tests. The local, SIT and UAT Harmony instances all utilise resources from CMR UAT, meaning any non-production environment will use the same resources.\n",
    "\n",
    "When adding a production entry to the dictionary below, the collection instances can be included directly in the production dictionary entry, as they do not need to be shared."
   ]
  },
  {
   "cell_type": "code",
   "execution_count": null,
   "id": "f5c95750",
   "metadata": {},
   "outputs": [],
   "source": [
    "non_production_collection = {\n",
    "    'merra_collection': Collection(id='C1245662776-EEDTEST'),\n",
    "    'atl16_collection': Collection(id='C1238589498-EEDTEST')\n",
    "}\n",
    "\n",
    "non_prod_granule_data = {\n",
    "    'merra_granules': ['G1245662793-EEDTEST', 'G1245662791-EEDTEST'],\n",
    "    'atl16_granules': ['G1245614996-EEDTEST', 'G1245614968-EEDTEST']\n",
    "}\n",
    "\n",
    "\n",
    "collection_data = {\n",
    "    'https://harmony.uat.earthdata.nasa.gov': {\n",
    "        **non_production_collection,\n",
    "        **non_prod_granule_data,\n",
    "        'env': Environment.UAT\n",
    "    },\n",
    "    'https://harmony.sit.earthdata.nasa.gov': {\n",
    "        **non_production_collection,\n",
    "        **non_prod_granule_data,\n",
    "        'env': Environment.SIT\n",
    "    },\n",
    "    'http://localhost:3000': {\n",
    "        **non_production_collection,\n",
    "        **non_prod_granule_data,        \n",
    "        'env': Environment.LOCAL\n",
    "    },\n",
    "}\n",
    "\n",
    "environment_information = collection_data.get(harmony_host_url)\n",
    "\n",
    "if environment_information is not None:\n",
    "    harmony_client = Client(env=environment_information['env'])\n",
    "    endpoint_url = environment_information.get('endpoint_url', None)"
   ]
  },
  {
   "cell_type": "markdown",
   "id": "ae80e3cf",
   "metadata": {},
   "source": [
    "## Test for full earth downsample of MERRA-2 data  (M2T1NXSLV)\n",
    "\n",
    "Make a request specifying a single granule selecting parameters to create a 2.5 degree output grid (72x144):\n",
    "\n",
    "This test will regrid all grids ['global', 'npolar', and 'spolar'] to the same grid, explicitly stating the `scaleExtent`, `scaleSize`, `height`, `width` and `crs` for the Harmony request, instead of using a UMM-Grid object."
   ]
  },
  {
   "cell_type": "code",
   "execution_count": null,
   "id": "b1d14fa0-a103-4c7b-951c-0345970b41d8",
   "metadata": {},
   "outputs": [],
   "source": [
    "if environment_information is not None:\n",
    "    merra_request = Request(collection=environment_information['merra_collection'],\n",
    "                           granule_id=environment_information['merra_granules'][0],\n",
    "                           interpolation='Elliptical Weighted Averaging',\n",
    "                           scale_size=(2.5, 2.5), scale_extent=(-180, -90, 180, 90),\n",
    "                           crs='+proj=latlong +datum=WGS84 +no_defs', height=72, width=144)                       \n",
    "    merra_job_id = harmony_client.submit(merra_request)\n",
    "    harmony_client.wait_for_processing(merra_job_id, show_progress=True)\n",
    "    with TemporaryDirectory() as temp_dir:\n",
    "        downloaded_grid_outputs = [\n",
    "            file_future.result()\n",
    "            for file_future\n",
    "            in harmony_client.download_all(merra_job_id, overwrite=True, directory=temp_dir)\n",
    "        ]\n",
    "        reference_ds = xr.open_dataset('reference_data/MERRA2_400.tavg1_2d_slv_Nx.20210605_regridded.nc4', engine='netcdf4')\n",
    "        output_ds =  xr.open_dataset(Path(temp_dir, downloaded_grid_outputs[0]), engine='netcdf4')\n",
    "        assert output_ds.equals(reference_ds), 'Generated data did not match reference dataset'\n",
    "\n",
    "    print_success('Regrid MERRA2 Data Success')\n",
    "else:\n",
    "    print('Skipping test: regridder regression tests not configured for this environment.')"
   ]
  },
  {
   "cell_type": "markdown",
   "id": "3a8eb539-9d7d-4da0-8ca2-8f04431b4114",
   "metadata": {},
   "source": [
    "# Test ATL16\n",
    "\n",
    "The ATL16 data has multiple grids stored in the file.\n",
    "\n",
    "This test will regrid all grids ['global', 'npolar', and 'spolar'] to the same grid, explicitly stating the `scaleExtent`, `scaleSize`, `height`, `width` and `crs` for the Harmony request, instead of using a UMM-Grid object.\n",
    "\n",
    "A small 5 degree grid is chosen to save space."
   ]
  },
  {
   "cell_type": "code",
   "execution_count": null,
   "id": "6f00c8a5-285a-43bf-92fc-e3871a9f2881",
   "metadata": {},
   "outputs": [],
   "source": [
    "if environment_information is not None:\n",
    "    atl16_request = Request(collection=environment_information['atl16_collection'],\n",
    "                           granule_id=environment_information['atl16_granules'][0],\n",
    "                           interpolation='Elliptical Weighted Averaging',\n",
    "                           scale_size=(5.0, 5.0),\n",
    "                           scale_extent=(-180, -90, 180, 90),\n",
    "                           crs='EPSG:4326', height=36, width=72) \n",
    "    atl16_job_id = harmony_client.submit(atl16_request)\n",
    "    harmony_client.wait_for_processing(atl16_job_id, show_progress=True)\n",
    "\n",
    "    with TemporaryDirectory() as temp_dir:\n",
    "        downloaded_grid_outputs = [\n",
    "            file_future.result()\n",
    "            for file_future\n",
    "            in harmony_client.download_all(atl16_job_id, overwrite=True, directory=temp_dir)\n",
    "        ]\n",
    "        reference_ds = xr.open_dataset('reference_data/ATL16_20200308000030_11040601_004_01_regridded.h5', engine='netcdf4')\n",
    "        output_ds =  xr.open_dataset(Path(temp_dir, downloaded_grid_outputs[0]), engine='netcdf4')\n",
    "\n",
    "        assert output_ds.equals(reference_ds), 'Regridded ATL16 data did not match reference dataset'\n",
    "\n",
    "    print_success('Regrid ATL16 Data Success')\n",
    "else:\n",
    "    print('Skipping test: regridder regression tests not configured for this environment.')"
   ]
  }
 ],
 "metadata": {
  "celltoolbar": "Tags",
  "kernelspec": {
   "display_name": "Python 3 (ipykernel)",
   "language": "python",
   "name": "python3"
  },
  "language_info": {
   "codemirror_mode": {
    "name": "ipython",
    "version": 3
   },
   "file_extension": ".py",
   "mimetype": "text/x-python",
   "name": "python",
   "nbconvert_exporter": "python",
   "pygments_lexer": "ipython3",
   "version": "3.10.13"
  },
  "name": "Regridder_Regression.ipynb"
 },
 "nbformat": 4,
 "nbformat_minor": 5
}
