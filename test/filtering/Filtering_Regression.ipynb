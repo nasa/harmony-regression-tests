{
 "cells": [
  {
   "cell_type": "markdown",
   "id": "4609a539",
   "metadata": {},
   "source": [
    "# Filtering Regression Tests\n",
    "\n",
    "This notebook runs a suite of regression tests against the Harmony Filtering Service.\n",
    "These tests use a sample TEMPO NO₂ granule to verify that filtering logic works as expected and that output matches reference data in `reference_data/`.\n"
   ]
  },
  {
   "cell_type": "code",
   "execution_count": null,
   "id": "526534cd",
   "metadata": {
    "tags": [
     "parameters"
    ]
   },
   "outputs": [],
   "source": [
    "harmony_host_url = 'https://harmony.uat.earthdata.nasa.gov'\n",
    "# (Overridden if you set HARMONY_HOST_URL in the shell before running.)"
   ]
  },
  {
   "cell_type": "markdown",
   "id": "42686ad9",
   "metadata": {},
   "source": [
    "## Prerequisites\n",
    "\n",
    "- Create the `papermill-filtering` environment:\n",
    "  ```bash\n",
    "  conda env create -f ./environment.yaml && conda activate papermill-filtering\n",
    "  ```\n",
    "- Ensure a `.netrc` file with your Earthdata Login credentials is present here.\n"
   ]
  },
  {
   "cell_type": "markdown",
   "id": "964a92ad",
   "metadata": {},
   "source": [
    "### Import required packages:\n"
   ]
  },
  {
   "cell_type": "code",
   "execution_count": null,
   "id": "d204c930",
   "metadata": {},
   "outputs": [],
   "source": [
    "from harmony import Client, Collection, Environment, Request\n",
    "from utilities import validate_filter_outputs"
   ]
  },
  {
   "cell_type": "markdown",
   "id": "6c4efdf1",
   "metadata": {},
   "source": [
    "### Set up environment-dependent variables:\n",
    "\n",
    "Define the collection and granule for testing in each environment."
   ]
  },
  {
   "cell_type": "code",
   "execution_count": null,
   "id": "ffd001f4",
   "metadata": {},
   "outputs": [],
   "source": [
    "non_production_collection = {\n",
    "    'filter_collection': Collection(id='C1262899964-LARC_CLOUD')\n",
    "}\n",
    "non_prod_granule_data = {\n",
    "    'filter_granules': ['G1273455903-LARC_CLOUD']\n",
    "}\n",
    "\n",
    "collection_data = {\n",
    "    'https://harmony.uat.earthdata.nasa.gov': {\n",
    "        **non_production_collection,\n",
    "        **non_prod_granule_data,\n",
    "        'env': Environment.UAT\n",
    "    },\n",
    "    'https://harmony.sit.earthdata.nasa.gov': {\n",
    "        **non_production_collection,\n",
    "        **non_prod_granule_data,\n",
    "        'env': Environment.SIT\n",
    "    },\n",
    "    'http://localhost:3000': {\n",
    "        **non_production_collection,\n",
    "        **non_prod_granule_data,\n",
    "        'env': Environment.LOCAL\n",
    "    }\n",
    "}\n",
    "\n",
    "environment_information = collection_data.get(harmony_host_url)\n",
    "\n",
    "if environment_information is not None:\n",
    "    harmony_client = Client(env=environment_information['env'])\n",
    "    filter_collection = environment_information['filter_collection']\n",
    "    filter_granule = environment_information['filter_granules'][0]\n",
    "else:\n",
    "    print('Skipping tests: filtering is not configured for environment')\n"
   ]
  },
  {
   "cell_type": "markdown",
   "id": "e75ca9df",
   "metadata": {},
   "source": [
    "## Test: Filtering request on TEMPO NO2 vertical_column_stratosphere variable\n",
    "\n",
    "Submit a single-granule request and validate output files."
   ]
  },
  {
   "cell_type": "code",
   "execution_count": null,
   "id": "a5365989",
   "metadata": {},
   "outputs": [],
   "source": [
    "if environment_information is not None:\n",
    "    # Build the request\n",
    "    request = Request(\n",
    "        collection=filter_collection,\n",
    "        granule_id=[filter_granule]\n",
    "    )\n",
    "    print(harmony_client.request_as_curl(request))\n",
    "    \n",
    "    # Submit and wait for completion\n",
    "    job_id = harmony_client.submit(request)\n",
    "    harmony_client.wait_for_processing(job_id, show_progress=True)\n",
    "    \n",
    "    # Validate against reference_data/\n",
    "    validate_filter_outputs(harmony_client, job_id)\n",
    "else:\n",
    "    print('Skipping test: filtering not configured for environment')\n"
   ]
  },
  {
   "cell_type": "code",
   "execution_count": null,
   "id": "83b85842",
   "metadata": {},
   "outputs": [],
   "source": []
  }
 ],
 "metadata": {
  "kernelspec": {
   "display_name": "Python 3 (ipykernel)",
   "language": "python",
   "name": "python3"
  },
  "language_info": {
   "codemirror_mode": {
    "name": "ipython",
    "version": 3
   },
   "file_extension": ".py",
   "mimetype": "text/x-python",
   "name": "python",
   "nbconvert_exporter": "python",
   "pygments_lexer": "ipython3",
   "version": "3.10.17"
  }
 },
 "nbformat": 4,
 "nbformat_minor": 5
}
