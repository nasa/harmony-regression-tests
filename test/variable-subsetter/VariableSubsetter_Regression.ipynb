{
 "cells": [
  {
   "cell_type": "markdown",
   "id": "f7f9ded8",
   "metadata": {},
   "source": [
    "# Regression test suite for the Variable Subsetter backend Harmony service:\n",
    "\n",
    "This notebook provides condensed examples of using Harmony to make requests against the Variable Subsetter services developed and managed by the Data Services team on the Transformation Train. This service makes use of CF-Conventions to retrieve all requested variable from OPeNDAP, along with all those other variables required to make the output product usable in downstream processing (e.g., coordinate and dimension variables). This service can be used with any OPeNDAP-enabled collection that adheres to the Climate and Forecast metadata conventions.\n",
    "\n",
    "The data retrieved from OPeNDAP will be in a NetCDF-4 format.\n",
    "\n",
    "Note, several configuration tips were gained from [this blog post](https://towardsdatascience.com/introduction-to-papermill-2c61f66bea30).\n",
    "\n",
    "## Prerequisites\n",
    "\n",
    "The dependencies for this notebook are listed in the [environment.yaml](./environment.yaml). To test or install locally, create the papermill environment used in the automated regression testing suite:\n",
    "\n",
    "`conda env create -f ./environment.yaml && conda activate papermill-variable-subsetter`\n",
    "\n",
    "A `.netrc` file must also be located in the `test` directory of this repository."
   ]
  },
  {
   "cell_type": "markdown",
   "id": "009f1df8",
   "metadata": {},
   "source": [
    "## Import requirements:"
   ]
  },
  {
   "cell_type": "code",
   "execution_count": null,
   "id": "7ce7f640",
   "metadata": {
    "jupyter": {
     "source_hidden": true
    },
    "tags": []
   },
   "outputs": [],
   "source": [
    "from os.path import exists\n",
    "\n",
    "from harmony import Client, Collection, Environment, Request\n",
    "import numpy as np\n",
    "\n",
    "from utilities import (\n",
    "    compare_results_to_reference_file,\n",
    "    print_success,\n",
    "    remove_results_files,\n",
    "    submit_and_download,\n",
    ")"
   ]
  },
  {
   "cell_type": "markdown",
   "id": "00758d6f",
   "metadata": {},
   "source": [
    "## Set default parameters:\n",
    "\n",
    "`papermill` requires default values for parameters used on the workflow. In this case, `harmony_host_url`."
   ]
  },
  {
   "cell_type": "code",
   "execution_count": null,
   "id": "45f380c6",
   "metadata": {
    "tags": [
     "parameters"
    ]
   },
   "outputs": [],
   "source": [
    "harmony_host_url = 'https://harmony.uat.earthdata.nasa.gov'"
   ]
  },
  {
   "cell_type": "markdown",
   "id": "9237f449",
   "metadata": {},
   "source": [
    "### Identify Harmony environment (for easier reference):"
   ]
  },
  {
   "cell_type": "code",
   "execution_count": null,
   "id": "4420bb6e",
   "metadata": {},
   "outputs": [],
   "source": [
    "host_environment = {\n",
    "    'http://localhost:3000': Environment.LOCAL,\n",
    "    'https://harmony.sit.earthdata.nasa.gov': Environment.SIT,\n",
    "    'https://harmony.uat.earthdata.nasa.gov': Environment.UAT,\n",
    "    'https://harmony.earthdata.nasa.gov': Environment.PROD,\n",
    "}\n",
    "\n",
    "harmony_environment = host_environment.get(harmony_host_url)\n",
    "\n",
    "if harmony_environment is not None:\n",
    "    harmony_client = Client(env=harmony_environment)"
   ]
  },
  {
   "cell_type": "markdown",
   "id": "162a6fb9-fe99-4d2e-afe5-e252f0d8c6ab",
   "metadata": {},
   "source": [
    "## Variable Subsetter\n",
    "\n",
    "The variable subsetter is currently only configured for collections in UAT.\n",
    "\n",
    "**2023-05-11 - The tests in this notebook been disabled as there are currently no collections associated with the Variable Subsetter. ATL03 and ATL08 have recently been associated with the Trajectory Subsetter instead.**\n",
    "\n",
    "To re-enable these tests:\n",
    "\n",
    "* Associate a suitable UAT collection to the [UMM-S record for the variable-subsetter](https://mmt.uat.earthdata.nasa.gov/services/S1237976118-EEDTEST). This collection will likely be L2, and must be enabled for OPeNDAP (including related URLs in granule UMM-G records).\n",
    "* Revert the change in the next cell to `var_subsetter_env`.\n",
    "* Add the collection concept ID and granule concept ID for testing to the `var_subsetter_non_prod_information` cell.\n",
    "* Enter a variable name in the single-variable `harmony.Request` instance.\n",
    "* Create reference files for both requests and save them in the `reference_files` subdirectory (with the expected file names).\n",
    "* Run the notebook locally before commiting any changes."
   ]
  },
  {
   "cell_type": "code",
   "execution_count": null,
   "id": "7ada788f",
   "metadata": {},
   "outputs": [],
   "source": [
    "var_subsetter_non_prod_information = {\n",
    "    'collection': Collection(id='<enter collection concept ID>'),\n",
    "    'granule_id': '<enter granule concept ID>',\n",
    "}\n",
    "\n",
    "var_subsetter_env = {}\n",
    "# var_subsetter_env = {Environment.LOCAL: var_subsetter_non_prod_information,\n",
    "#                      Environment.SIT: var_subsetter_non_prod_information,\n",
    "#                      Environment.UAT: var_subsetter_non_prod_information}\n",
    "\n",
    "if harmony_environment in var_subsetter_env:\n",
    "    var_subsetter_info = var_subsetter_env[harmony_environment]\n",
    "else:\n",
    "    var_subsetter_info = None"
   ]
  },
  {
   "cell_type": "markdown",
   "id": "e8f58ea4-124f-4dc4-8039-81fb20cd02c7",
   "metadata": {},
   "source": [
    "### Variable Subsetter, single-variable request:\n",
    "\n",
    "**2023-05-11 - When this test is active a sample reference file will need to be created and added as `reference_files/var_subsetter_single_var_reference.nc4`.**\n",
    "\n",
    "This request should retrieve the requested variable and any required variables (e.g., coordinates, or dimension variables). When this test is reactivated for a new collection, the expected output variables should be listed here."
   ]
  },
  {
   "cell_type": "code",
   "execution_count": null,
   "id": "6af0f6d7",
   "metadata": {},
   "outputs": [],
   "source": [
    "if var_subsetter_info is not None:\n",
    "    single_var_file_name = 'var_subsetter.nc4'\n",
    "    single_var_request = Request(\n",
    "        collection=var_subsetter_info['collection'],\n",
    "        granule_id=[var_subsetter_info['granule_id']],\n",
    "        variables=['<enter variable full name>'],\n",
    "    )\n",
    "\n",
    "    submit_and_download(harmony_client, single_var_request, single_var_file_name)\n",
    "    assert exists(\n",
    "        single_var_file_name\n",
    "    ), 'Unsuccessful single-variable Variable Subsetter request.'\n",
    "\n",
    "    compare_results_to_reference_file(\n",
    "        single_var_file_name, 'reference_files/var_subsetter_single_var_reference.nc4'\n",
    "    )\n",
    "\n",
    "    print_success('Variable subsetter single variable request.')\n",
    "else:\n",
    "    print(\n",
    "        f'The Variable Subsetter is not configured for environment: \"{harmony_environment}\" - skipping test.'\n",
    "    )"
   ]
  },
  {
   "cell_type": "markdown",
   "id": "aaeb21d3-ce95-4068-b6aa-28b9f9b93b5a",
   "metadata": {},
   "source": [
    "### Variable Subsetter, all variables\n",
    "\n",
    "Make a request for \"all\" variables. This should retrieve the entire file, with all the variables from the original source granule.\n",
    "\n",
    "**2023-05-11 - When this test is active a sample reference file will need to be created and added as `reference_files/var_subsetter_all_vars_reference.nc4`.**"
   ]
  },
  {
   "cell_type": "code",
   "execution_count": null,
   "id": "a5b11ceb",
   "metadata": {},
   "outputs": [],
   "source": [
    "if var_subsetter_info is not None:\n",
    "    all_variables_file_name = 'var_subsetter_all_vars.nc4'\n",
    "    all_variables_request = Request(\n",
    "        collection=var_subsetter_info['collection'],\n",
    "        granule_id=[var_subsetter_info['granule_id']],\n",
    "    )\n",
    "\n",
    "    submit_and_download(harmony_client, all_variables_request, all_variables_file_name)\n",
    "    assert exists(\n",
    "        all_variables_file_name\n",
    "    ), 'Unsuccessful Variable Subsetter all-variable request.'\n",
    "\n",
    "    compare_results_to_reference_file(\n",
    "        all_variables_file_name, 'reference_files/var_subsetter_all_vars_reference.nc4'\n",
    "    )\n",
    "\n",
    "    print_success('Variable Subsetter all variable request.')\n",
    "else:\n",
    "    print(\n",
    "        f'The Variable Subsetter is not configured for environment: \"{harmony_environment}\" - skipping test.'\n",
    "    )"
   ]
  },
  {
   "cell_type": "markdown",
   "id": "08dc1eb9",
   "metadata": {},
   "source": [
    "## Remove results files:"
   ]
  },
  {
   "cell_type": "code",
   "execution_count": null,
   "id": "73fdd147-74a0-48d3-957f-388e2abe356a",
   "metadata": {},
   "outputs": [],
   "source": [
    "remove_results_files()"
   ]
  }
 ],
 "metadata": {
  "celltoolbar": "Tags",
  "kernelspec": {
   "display_name": "Python 3 (ipykernel)",
   "language": "python",
   "name": "python3"
  },
  "language_info": {
   "codemirror_mode": {
    "name": "ipython",
    "version": 3
   },
   "file_extension": ".py",
   "mimetype": "text/x-python",
   "name": "python",
   "nbconvert_exporter": "python",
   "pygments_lexer": "ipython3",
   "version": "3.9.13"
  },
  "name": "SDS_Regression.ipynb"
 },
 "nbformat": 4,
 "nbformat_minor": 5
}
