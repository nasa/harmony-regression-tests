{
 "cells": [
  {
   "cell_type": "markdown",
   "id": "f7f9ded8",
   "metadata": {},
   "source": [
    "# Regression test suite for the Variable Subsetter backend Harmony service:\n",
    "\n",
    "This notebook provides condensed examples of using Harmony to make requests against the Variable Subsetter services developed and managed by the Data Services team on the Transformation Train. This service makes use of CF-Conventions to retrieve all requested variable from OPeNDAP, along with all those other variables required to make the output product usable in downstream processing (e.g., coordinate and dimension variables). This service can be used with any OPeNDAP-enabled collection that adheres to the Climate and Forecast metadata conventions.\n",
    "\n",
    "The data retrieved from OPeNDAP will be in a NetCDF-4 format.\n",
    "\n",
    "Note, several configuration tips were gained from [this blog post](https://towardsdatascience.com/introduction-to-papermill-2c61f66bea30).\n",
    "\n",
    "## Prerequisites\n",
    "\n",
    "The dependencies for this notebook are listed in the [environment.yaml](./environment.yaml). To test or install locally, create the papermill environment used in the automated regression testing suite:\n",
    "\n",
    "`conda env create -f ./environment.yaml && conda activate papermill`\n",
    "\n",
    "A `.netrc` file must also be located in the `test` directory of this repository."
   ]
  },
  {
   "cell_type": "markdown",
   "id": "009f1df8",
   "metadata": {},
   "source": [
    "## Import requirements:"
   ]
  },
  {
   "cell_type": "code",
   "execution_count": null,
   "id": "7ce7f640",
   "metadata": {
    "jupyter": {
     "source_hidden": true
    },
    "tags": []
   },
   "outputs": [],
   "source": [
    "from os.path import exists\n",
    "\n",
    "from harmony import Client, Collection, Environment, Request\n",
    "import numpy as np\n",
    "\n",
    "from utilities import (compare_results_to_reference_file, print_success,\n",
    "                       remove_results_files, submit_and_download)"
   ]
  },
  {
   "cell_type": "markdown",
   "id": "00758d6f",
   "metadata": {},
   "source": [
    "## Set default parameters:\n",
    "\n",
    "`papermill` requires default values for parameters used on the workflow. In this case, `harmony_host_url`."
   ]
  },
  {
   "cell_type": "code",
   "execution_count": null,
   "id": "45f380c6",
   "metadata": {
    "tags": [
     "parameters"
    ]
   },
   "outputs": [],
   "source": [
    "harmony_host_url = 'https://harmony.uat.earthdata.nasa.gov'"
   ]
  },
  {
   "cell_type": "markdown",
   "id": "9237f449",
   "metadata": {},
   "source": [
    "### Identify Harmony environment (for easier reference):"
   ]
  },
  {
   "cell_type": "code",
   "execution_count": null,
   "id": "4420bb6e",
   "metadata": {},
   "outputs": [],
   "source": [
    "host_environment = {'http://localhost:3000': Environment.LOCAL,\n",
    "                    'https://harmony.sit.earthdata.nasa.gov': Environment.SIT,\n",
    "                    'https://harmony.uat.earthdata.nasa.gov': Environment.UAT,\n",
    "                    'https://harmony.earthdata.nasa.gov': Environment.PROD}\n",
    "\n",
    "harmony_environment = host_environment.get(harmony_host_url)\n",
    "\n",
    "if harmony_environment is not None:\n",
    "    harmony_client = Client(env=harmony_environment)"
   ]
  },
  {
   "cell_type": "markdown",
   "id": "162a6fb9-fe99-4d2e-afe5-e252f0d8c6ab",
   "metadata": {},
   "source": [
    "## Variable Subsetter\n",
    "\n",
    "The variable subsetter is currently only configured for collections in UAT.\n",
    "\n",
    "The granule selected is the smallest in the ATL08 collection, to improve performance of tests."
   ]
  },
  {
   "cell_type": "code",
   "execution_count": null,
   "id": "7ada788f",
   "metadata": {},
   "outputs": [],
   "source": [
    "var_subsetter_non_prod_information = {'collection': Collection(id='C1234714698-EEDTEST'),\n",
    "                                      'granule_id': 'G1238479209-EEDTEST'}\n",
    "\n",
    "var_subsetter_env = {Environment.LOCAL: var_subsetter_non_prod_information,\n",
    "                     Environment.SIT: var_subsetter_non_prod_information,\n",
    "                     Environment.UAT: var_subsetter_non_prod_information}\n",
    "\n",
    "if harmony_environment in var_subsetter_env:\n",
    "    var_subsetter_info = var_subsetter_env[harmony_environment]\n",
    "else:\n",
    "    var_subsetter_info = None"
   ]
  },
  {
   "cell_type": "markdown",
   "id": "e8f58ea4-124f-4dc4-8039-81fb20cd02c7",
   "metadata": {},
   "source": [
    "### Variable Subsetter request, no Int64 variables\n",
    "\n",
    "This request should retrieve the requested `/gt1l/land_segments/dem_h` variable alongside the following supporting variables:\n",
    "\n",
    "* `/gt1l/land_segments/delta_time`\n",
    "* `/gt1l/land_segments/latitude`\n",
    "* `/gt1l/land_segments/longitude`"
   ]
  },
  {
   "cell_type": "code",
   "execution_count": null,
   "id": "6af0f6d7",
   "metadata": {},
   "outputs": [],
   "source": [
    "if var_subsetter_info is not None:\n",
    "    no_int64_file_name = 'var_subsetter_no_int64.nc4'\n",
    "    no_int64_request = Request(collection=var_subsetter_info['collection'],\n",
    "                               granule_id=[var_subsetter_info['granule_id']],\n",
    "                               variables=['/gt1l/land_segments/dem_h'])\n",
    "\n",
    "    submit_and_download(harmony_client, no_int64_request, no_int64_file_name)\n",
    "    assert exists(no_int64_file_name), 'Unsuccessful non-Int64 Variable Subsetter request.'\n",
    "\n",
    "    compare_results_to_reference_file(no_int64_file_name,\n",
    "                              'reference_files/var_subsetter_no_int64_reference.nc4')\n",
    "\n",
    "    print_success('Variable subsetter synchronous request.')\n",
    "else:\n",
    "    print(f'The Variable Subsetter is not configured for environment: \"{harmony_environment}\" - skipping test.')"
   ]
  },
  {
   "cell_type": "markdown",
   "id": "40e40229-3ff7-4d82-945b-af33703eb11c",
   "metadata": {},
   "source": [
    "### Variable Subsetter request and Int64 variables\n",
    "\n",
    "This request should retrieve the `/gt1l/signal_photons/classed_pc_flag` variable and 6 supporting variables, some of which are Int64, which is not supported by the DAP2 protocol:\n",
    "\n",
    "* `/gt1l/signal_photons/delta_time`\n",
    "* `/gt1l/land_segments/ph_ndx`\n",
    "* `/gt1l/land_segments/n_seg_ph`\n",
    "* `/gt1l/land_segments/delta_time`\n",
    "* `/gt1l/land_segments/latitude`\n",
    "* `/gt1l/land_segments/longitude`"
   ]
  },
  {
   "cell_type": "code",
   "execution_count": null,
   "id": "41a3f8fd",
   "metadata": {},
   "outputs": [],
   "source": [
    "if var_subsetter_info is not None:\n",
    "    int64_file_name = 'var_subsetter_int64.nc4'\n",
    "    int64_request = Request(collection=var_subsetter_info['collection'],\n",
    "                            granule_id=[var_subsetter_info['granule_id']],\n",
    "                            variables=['/gt1l/signal_photons/classed_pc_flag'])\n",
    "\n",
    "    submit_and_download(harmony_client, int64_request, int64_file_name)\n",
    "    assert exists(int64_file_name), 'Unsuccessful Int64 Variable Subsetter request.'\n",
    "\n",
    "    compare_results_to_reference_file(int64_file_name,\n",
    "                              'reference_files/var_subsetter_int64_reference.nc4')\n",
    "\n",
    "    print_success('Variable Subsetter Int64 request.')\n",
    "else:\n",
    "    print(f'The Variable Subsetter is not configured for environment: \"{harmony_environment}\" - skipping test.')"
   ]
  },
  {
   "cell_type": "markdown",
   "id": "aaeb21d3-ce95-4068-b6aa-28b9f9b93b5a",
   "metadata": {},
   "source": [
    "### Variable Subsetter, all variables\n",
    "\n",
    "Make a request for \"all\" variables. This should retrieve the entire file, with all the variables from the original source granule.\n",
    "\n",
    "**2023-01-12: This test is currently disabled as the output contains a variable type for `/ancillary_data/control` that is not currently handled by OPeNDAP (an array of string types).**"
   ]
  },
  {
   "cell_type": "code",
   "execution_count": null,
   "id": "a5b11ceb",
   "metadata": {},
   "outputs": [],
   "source": [
    "# if var_subsetter_info is not None:\n",
    "#     all_variables_file_name = 'var_subsetter_all_vars.nc4'\n",
    "#     all_variables_request = Request(collection=var_subsetter_info['collection'],\n",
    "#                                     granule_id=[var_subsetter_info['granule_id']])\n",
    "#\n",
    "#     submit_and_download(harmony_client, all_variables_request, all_variables_file_name)\n",
    "#     assert exists(all_variables_file_name), 'Unsuccessful Variable Subsetter all variable request.'\n",
    "# \n",
    "#     compare_results_to_reference_file(all_variables_file_name, 'reference_files/to_be_retrieved...')\n",
    "# \n",
    "#     print_success('Variable Subsetter all variable request.')\n",
    "# else:\n",
    "#     print(f'The Variable Subsetter is not configured for environment: \"{harmony_environment}\" - skipping test.')"
   ]
  },
  {
   "cell_type": "markdown",
   "id": "08dc1eb9",
   "metadata": {},
   "source": [
    "## Remove results files:"
   ]
  },
  {
   "cell_type": "code",
   "execution_count": null,
   "id": "73fdd147-74a0-48d3-957f-388e2abe356a",
   "metadata": {},
   "outputs": [],
   "source": [
    "remove_results_files()"
   ]
  }
 ],
 "metadata": {
  "celltoolbar": "Tags",
  "kernelspec": {
   "display_name": "Python 3 (ipykernel)",
   "language": "python",
   "name": "python3"
  },
  "language_info": {
   "codemirror_mode": {
    "name": "ipython",
    "version": 3
   },
   "file_extension": ".py",
   "mimetype": "text/x-python",
   "name": "python",
   "nbconvert_exporter": "python",
   "pygments_lexer": "ipython3",
   "version": "3.9.13"
  },
  "name": "SDS_Regression.ipynb"
 },
 "nbformat": 4,
 "nbformat_minor": 5
}
