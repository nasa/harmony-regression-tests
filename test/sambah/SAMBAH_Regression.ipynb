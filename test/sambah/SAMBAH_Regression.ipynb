{
 "cells": [
  {
   "cell_type": "markdown",
   "id": "5a9896b1",
   "metadata": {},
   "source": [
    "# Regression test suite for the SAMBAH:\n",
    "\n",
    "This notebook provides condensed examples of using Harmony to make requests against the [Subsetter And Multi-dimensional Batched Aggregation in Harmony (SAMBAH)](https://stitchee.readthedocs.io/en/latest/sambah_readme/) service developed to process Level 2 data from the [Tropospheric Emissions: Monitoring of Pollution (TEMPO)](https://asdc.larc.nasa.gov/project/TEMPO) instrument. \n",
    "\n",
    "### Features of SAMBAH include:\n",
    "\n",
    "* Variable subsetting, including required variables.\n",
    "* Temporal subsetting.\n",
    "* Bounding box spatial subsetting.\n",
    "* Concatenation within TEMPO east-west scans\n",
    "* Concatenation across scans\n",
    "\n",
    "### Prerequisites\n",
    "\n",
    "The dependencies for this notebook are listed in the [environment.yaml](./environment.yaml). To test or install locally, create the papermill environment used in the automated regression testing suite:\n",
    "\n",
    "`conda env create -f ./environment.yaml && conda activate papermill-sambah`\n",
    "\n",
    "A `.netrc` file must also be located in the `test` directory of this repository."
   ]
  },
  {
   "cell_type": "markdown",
   "id": "009f1df8",
   "metadata": {},
   "source": [
    "# Import required packages:"
   ]
  },
  {
   "cell_type": "code",
   "execution_count": null,
   "id": "7ce7f640",
   "metadata": {
    "ExecuteTime": {
     "end_time": "2024-11-13T19:16:56.881691Z",
     "start_time": "2024-11-13T19:16:55.207082Z"
    },
    "tags": []
   },
   "outputs": [],
   "source": [
    "from datetime import datetime\n",
    "from os.path import exists\n",
    "from pathlib import Path\n",
    "from tempfile import TemporaryDirectory\n",
    "\n",
    "from earthdata_hashdiff import nc4_matches_reference_hash_file\n",
    "from harmony import BBox, Client, Collection, Environment, Request"
   ]
  },
  {
   "cell_type": "markdown",
   "id": "ca4b9bb8-227c-4370-96a1-d87e16d3668b",
   "metadata": {},
   "source": [
    "## Import shared utility functions:"
   ]
  },
  {
   "cell_type": "code",
   "execution_count": null,
   "id": "25f05477-a082-4104-9b6a-1b3678b36005",
   "metadata": {},
   "outputs": [],
   "source": [
    "import sys\n",
    "\n",
    "sys.path.append('../shared_utils')\n",
    "from utilities import print_success, submit_and_download"
   ]
  },
  {
   "cell_type": "markdown",
   "id": "00758d6f",
   "metadata": {},
   "source": [
    "## Set default parameters:\n",
    "\n",
    "`papermill` requires default values for parameters used on the workflow. In this case, `harmony_host_url`."
   ]
  },
  {
   "cell_type": "code",
   "execution_count": null,
   "id": "45f380c6",
   "metadata": {
    "ExecuteTime": {
     "end_time": "2024-11-13T19:17:01.668202Z",
     "start_time": "2024-11-13T19:17:01.663791Z"
    },
    "tags": [
     "parameters"
    ]
   },
   "outputs": [],
   "source": [
    "harmony_host_url = 'https://harmony.uat.earthdata.nasa.gov'"
   ]
  },
  {
   "cell_type": "markdown",
   "id": "9237f449",
   "metadata": {},
   "source": [
    "### Identify Harmony environment (for easier reference):"
   ]
  },
  {
   "cell_type": "code",
   "execution_count": null,
   "id": "97dc22bb-e04e-442c-ab12-160ff4842325",
   "metadata": {},
   "outputs": [],
   "source": [
    "host_environment = {\n",
    "    'http://localhost:3000': Environment.LOCAL,\n",
    "    'https://harmony.sit.earthdata.nasa.gov': Environment.SIT,\n",
    "    'https://harmony.uat.earthdata.nasa.gov': Environment.UAT,\n",
    "    'https://harmony.earthdata.nasa.gov': Environment.PROD,\n",
    "}\n",
    "\n",
    "harmony_environment = host_environment.get(harmony_host_url)\n",
    "\n",
    "if harmony_environment is not None:\n",
    "    harmony_client = Client(env=harmony_environment)"
   ]
  },
  {
   "cell_type": "markdown",
   "id": "36975d17-5f5c-4a57-8bc5-db9585546b96",
   "metadata": {},
   "source": [
    "The request collection and granules are different for UAT and PROD:"
   ]
  },
  {
   "cell_type": "code",
   "execution_count": null,
   "id": "4420bb6e",
   "metadata": {
    "ExecuteTime": {
     "end_time": "2024-11-13T19:17:08.213477Z",
     "start_time": "2024-11-13T19:17:05.311566Z"
    }
   },
   "outputs": [],
   "source": [
    "sambah_non_prod_information = {\n",
    "    # TEMPO NO2 tropospheric, stratospheric, and total columns V03\n",
    "    # https://cmr.uat.earthdata.nasa.gov/search/concepts/C1262899916-LARC_CLOUD.html\n",
    "    'collection': Collection(id='C1262899916-LARC_CLOUD'),\n",
    "    'granule_id': [\n",
    "        'G1269044486-LARC_CLOUD',  # TEMPO_NO2_L2_V03_20240801T153258Z_S007G07.nc\n",
    "        'G1269044632-LARC_CLOUD',  # TEMPO_NO2_L2_V03_20240801T153935Z_S007G08.nc\n",
    "        'G1269044623-LARC_CLOUD',  # TEMPO_NO2_L2_V03_20240801T154612Z_S007G09.nc\n",
    "        'G1269044612-LARC_CLOUD',  # TEMPO_NO2_L2_V03_20240801T155308Z_S008G01.nc\n",
    "        'G1269044756-LARC_CLOUD',  # TEMPO_NO2_L2_V03_20240801T155948Z_S008G02.nc\n",
    "    ],\n",
    "    'full_subset_reference_file': 'reference_files/temp_var_bbox_uat.json',\n",
    "    'variable_subset_reference_file': 'reference_files/var_only_uat.json',\n",
    "    'spatial_subset_reference_file': 'reference_files/spatial_only_uat.json',\n",
    "    'no_subset_reference_file': 'reference_files/all_data_uat.json',\n",
    "}\n",
    "\n",
    "sambah_prod_information = {\n",
    "    # TEMPO NO2 tropospheric and stratospheric columns V03 (BETA)\n",
    "    # https://cmr.earthdata.nasa.gov/search/concepts/C2930725014-LARC_CLOUD.html\n",
    "    'collection': Collection(id='C2930725014-LARC_CLOUD'),\n",
    "    'granule_id': [\n",
    "        'G3181300053-LARC_CLOUD',  # TEMPO_NO2_L2_V03_20240801T153258Z_S007G07.nc\n",
    "        'G3181300108-LARC_CLOUD',  # TEMPO_NO2_L2_V03_20240801T153935Z_S007G08.nc\n",
    "        'G3181299889-LARC_CLOUD',  # TEMPO_NO2_L2_V03_20240801T154612Z_S007G09.nc\n",
    "        'G3181345515-LARC_CLOUD',  # TEMPO_NO2_L2_V03_20240801T155308Z_S008G01.nc\n",
    "        'G3181345531-LARC_CLOUD',  # TEMPO_NO2_L2_V03_20240801T155948Z_S008G02.nc\n",
    "    ],\n",
    "    'full_subset_reference_file': 'reference_files/temp_var_bbox_prod.json',\n",
    "    'variable_subset_reference_file': 'reference_files/var_only_prod.json',\n",
    "    'spatial_subset_reference_file': 'reference_files/spatial_only_prod.json',\n",
    "    'no_subset_reference_file': 'reference_files/all_data_prod.json',\n",
    "}\n",
    "\n",
    "sambah_request_env = {\n",
    "    Environment.LOCAL: sambah_non_prod_information,\n",
    "    Environment.SIT: sambah_non_prod_information,\n",
    "    Environment.UAT: sambah_non_prod_information,\n",
    "    Environment.PROD: sambah_prod_information,\n",
    "}\n",
    "\n",
    "if harmony_environment in sambah_request_env:\n",
    "    sambah_info = sambah_request_env[harmony_environment]\n",
    "else:\n",
    "    sambah_info = None"
   ]
  },
  {
   "cell_type": "code",
   "execution_count": null,
   "id": "0d7e83fa-20f1-4382-b07f-9f59ca1acb11",
   "metadata": {},
   "outputs": [],
   "source": [
    "request_info = {\n",
    "    **sambah_info,\n",
    "    'temporal': {\n",
    "        'start': datetime(2024, 8, 1, 15, 34, 0),\n",
    "        'stop': datetime(2024, 8, 1, 16, 0, 0),\n",
    "    },\n",
    "    'spatial': BBox(-170, 33, -10, 38),\n",
    "    # chosen variables include one variable from each group\n",
    "    # support/scattering_weights is 3D variable\n",
    "    'variables': [\n",
    "        'product/vertical_column_stratosphere',\n",
    "        'qa_statistics/fit_rms_residual',\n",
    "        'support_data/scattering_weights',\n",
    "    ],\n",
    "}"
   ]
  },
  {
   "cell_type": "markdown",
   "id": "fc7aef85",
   "metadata": {},
   "source": [
    "# Begin regression tests:\n",
    "\n",
    "SAMBAH is currently deployed to Sandbox, SIT, UAT and production. Requests will be made against the TEMPO NO2 L2 V03 collection. Each request will:\n",
    "\n",
    "* Define a request to Harmony using  `harmony-py`.\n",
    "* Execute that request.\n",
    "* Download the output file within a temporary directory.\n",
    "* Ensure that the expected output file is downloaded (i.e. that the request was successful).\n",
    "* Convert the output to a JSON file that hashes the variables and groups in the output file.\n",
    "* Compare that JSON file to a reference JSON file, that should be identical (except for the `history` and `history_json` attributes that contain timestamps)."
   ]
  },
  {
   "cell_type": "markdown",
   "id": "ef9ec4d2-2228-47d0-a990-d5a4d77b7bc7",
   "metadata": {},
   "source": [
    "### SAMBAH: temporal, variable and bounding box subset request\n",
    "\n",
    "This is a request that exercises the full range of SAMBAH options: \n",
    "- time range\n",
    "- spatial bounding box\n",
    "- variable subsetting\n",
    "- concatenating within (i.e., `extend`) and across scans"
   ]
  },
  {
   "cell_type": "code",
   "execution_count": null,
   "id": "d6aaf063-1f3c-4d84-b414-ca80e65ef78b",
   "metadata": {
    "ExecuteTime": {
     "end_time": "2024-11-13T19:18:18.977791Z",
     "start_time": "2024-11-13T19:17:24.118362Z"
    }
   },
   "outputs": [],
   "source": [
    "if request_info is not None:\n",
    "    temp_var_bbox_request = Request(\n",
    "        collection=request_info['collection'],\n",
    "        extend=['mirror_step'],\n",
    "        concatenate=True,\n",
    "        granule_id=request_info['granule_id'],\n",
    "        temporal=request_info['temporal'],\n",
    "        variables=request_info['variables'],\n",
    "        spatial=request_info['spatial'],\n",
    "    )\n",
    "\n",
    "    request_name = 'SAMBAH temporal, variable, bounding box request'\n",
    "\n",
    "    with TemporaryDirectory() as tmp_dir:\n",
    "        full_output_path = tmp_dir / Path('temp_var_bbox.nc4')\n",
    "        submit_and_download(harmony_client, temp_var_bbox_request, full_output_path)\n",
    "        assert exists(full_output_path), f'Unsuccessful {request_name}.'\n",
    "        assert nc4_matches_reference_hash_file(\n",
    "            full_output_path,\n",
    "            request_info['full_subset_reference_file'],\n",
    "        ), f'{request_name}: Output and reference files do not match'\n",
    "\n",
    "    print_success(request_name)\n",
    "else:\n",
    "    print(\n",
    "        f'SAMBAH is not configured for environment: \"{harmony_environment}\" - skipping test.'\n",
    "    )"
   ]
  },
  {
   "cell_type": "markdown",
   "id": "55aca1b5-0dec-4866-952d-b7c016bcf86e",
   "metadata": {},
   "source": [
    "### SAMBAH: variable subset request, two files\n",
    "\n",
    "This is a request that includes:\n",
    "- variable subsetting\n",
    "- concatenating two granules within (i.e., `extend`) a scan"
   ]
  },
  {
   "cell_type": "code",
   "execution_count": null,
   "id": "90bb3455-f82c-4cd8-93f2-feba79fbed7b",
   "metadata": {},
   "outputs": [],
   "source": [
    "if request_info is not None:\n",
    "    var_only_request = Request(\n",
    "        collection=request_info['collection'],\n",
    "        extend=['mirror_step'],\n",
    "        concatenate=True,\n",
    "        granule_id=request_info['granule_id'][:2],\n",
    "        variables=request_info['variables'],\n",
    "    )\n",
    "\n",
    "    request_name = 'SAMBAH variable request'\n",
    "\n",
    "    with TemporaryDirectory() as tmp_dir:\n",
    "        var_output_path = tmp_dir / Path('var_only.nc4')\n",
    "        submit_and_download(harmony_client, var_only_request, var_output_path)\n",
    "        assert exists(var_output_path), f'Unsuccessful {request_name}.'\n",
    "        assert nc4_matches_reference_hash_file(\n",
    "            var_output_path,\n",
    "            request_info['variable_subset_reference_file'],\n",
    "        ), f'{request_name}: Output and reference files do not match'\n",
    "\n",
    "    print_success(request_name)\n",
    "else:\n",
    "    print(\n",
    "        f'SAMBAH is not configured for environment: \"{harmony_environment}\" - skipping test.'\n",
    "    )"
   ]
  },
  {
   "cell_type": "markdown",
   "id": "c8322c1b-7fad-4b87-a46d-abf5f0ee56df",
   "metadata": {},
   "source": [
    "### SAMBAH: spatial request\n",
    "\n",
    "This is a request that includes:\n",
    "- spatial bounding box subsetting\n",
    "- concatenating granules within (i.e., `extend`) and across scans"
   ]
  },
  {
   "cell_type": "code",
   "execution_count": null,
   "id": "4330105a-f9f0-429e-9762-3049f408d635",
   "metadata": {},
   "outputs": [],
   "source": [
    "if request_info is not None:\n",
    "    spatial_only_request = Request(\n",
    "        collection=request_info['collection'],\n",
    "        extend=['mirror_step'],\n",
    "        concatenate=True,\n",
    "        granule_id=request_info['granule_id'],\n",
    "        spatial=request_info['spatial'],\n",
    "    )\n",
    "\n",
    "    request_name = 'SAMBAH spatial request'\n",
    "\n",
    "    with TemporaryDirectory() as tmp_dir:\n",
    "        spatial_output_path = tmp_dir / Path('spatial_only.nc4')\n",
    "\n",
    "        submit_and_download(harmony_client, spatial_only_request, spatial_output_path)\n",
    "        assert exists(spatial_output_path), f'Unsuccessful {request_name}.'\n",
    "        assert nc4_matches_reference_hash_file(\n",
    "            spatial_output_path,\n",
    "            request_info['spatial_subset_reference_file'],\n",
    "        ), f'{request_name}: Output and reference files do not match'\n",
    "\n",
    "    print_success(request_name)\n",
    "else:\n",
    "    print(\n",
    "        f'SAMBAH is not configured for environment: \"{harmony_environment}\" - skipping test.'\n",
    "    )"
   ]
  },
  {
   "cell_type": "markdown",
   "id": "d0629b4f-1990-42f7-b19d-025e46a96629",
   "metadata": {},
   "source": [
    "### SAMBAH: no subsetting required, single file\n",
    "\n",
    "This is a request that includes:\n",
    "- a single granule\n",
    "- no subsetting"
   ]
  },
  {
   "cell_type": "code",
   "execution_count": null,
   "id": "c747cfcc-e63a-4858-b406-a4ec87b6acb5",
   "metadata": {},
   "outputs": [],
   "source": [
    "if request_info is not None:\n",
    "    all_data_request = Request(\n",
    "        collection=request_info['collection'],\n",
    "        extend='mirror_step',\n",
    "        concatenate=True,\n",
    "        granule_id=request_info['granule_id'][0],\n",
    "    )\n",
    "\n",
    "    request_name = 'SAMBAH no subset single file request'\n",
    "\n",
    "    with TemporaryDirectory() as tmp_dir:\n",
    "        all_data_output_path = tmp_dir / Path('all_data.nc4')\n",
    "\n",
    "        submit_and_download(harmony_client, all_data_request, all_data_output_path)\n",
    "        assert exists(all_data_output_path), f'Unsuccessful {request_name}.'\n",
    "        assert nc4_matches_reference_hash_file(\n",
    "            all_data_output_path,\n",
    "            request_info['no_subset_reference_file'],\n",
    "        ), f'{request_name}: Output and reference files do not match'\n",
    "\n",
    "    print_success(request_name)\n",
    "else:\n",
    "    print(\n",
    "        f'SAMBAH is not configured for environment: \"{harmony_environment}\" - skipping test.'\n",
    "    )"
   ]
  }
 ],
 "metadata": {
  "celltoolbar": "Tags",
  "kernelspec": {
   "display_name": "Python 3 (ipykernel)",
   "language": "python",
   "name": "python3"
  },
  "language_info": {
   "codemirror_mode": {
    "name": "ipython",
    "version": 3
   },
   "file_extension": ".py",
   "mimetype": "text/x-python",
   "name": "python",
   "nbconvert_exporter": "python",
   "pygments_lexer": "ipython3",
   "version": "3.12.11"
  },
  "name": "SDS_Regression.ipynb"
 },
 "nbformat": 4,
 "nbformat_minor": 5
}
