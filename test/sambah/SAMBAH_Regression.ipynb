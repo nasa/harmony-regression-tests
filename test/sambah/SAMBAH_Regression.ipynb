{
 "cells": [
  {
   "cell_type": "markdown",
   "id": "5a9896b1",
   "metadata": {},
   "source": [
    "# Regression test suite for the SAMBAH:\n",
    "\n",
    "This notebook provides condensed examples of using Harmony to make requests against the [Subsetter And Multi-dimensional Batched Aggregation in Harmony (SAMBAH)](https://stitchee.readthedocs.io/en/latest/sambah_readme/) service developed to process Level 2 data from the [Tropospheric Emissions: Monitoring of Pollution (TEMPO)](https://asdc.larc.nasa.gov/project/TEMPO) instrument. \n",
    "\n",
    "### Features of SAMBAH include:\n",
    "\n",
    "* Variable subsetting, including required variables.\n",
    "* Temporal subsetting.\n",
    "* Bounding box spatial subsetting.\n",
    "* Concatenation within TEMPO east-west scans\n",
    "* Concatenation across scans\n",
    "\n",
    "### Prerequisites\n",
    "\n",
    "The dependencies for this notebook are listed in the [environment.yaml](./environment.yaml). To test or install locally, create the papermill environment used in the automated regression testing suite:\n",
    "\n",
    "`conda env create -f ./environment.yaml && conda activate papermill-sambah`\n",
    "\n",
    "A `.netrc` file must also be located in the `test` directory of this repository.\n",
    "\n",
    "### Test reference files:\n",
    "\n",
    "The reference files stored in the `harmony-regression-test` repository are JSON files containing hashed values derived from all groups and variables in each file. The raw netCDF4 files are hosted in the Harmony UAT AWS account in the harmony-uat-regression-tests S3 bucket in the `sambah` folder."
   ]
  },
  {
   "metadata": {},
   "cell_type": "markdown",
   "source": "# Setup",
   "id": "11c99946a6c20848"
  },
  {
   "metadata": {},
   "cell_type": "markdown",
   "source": "## Import required packages:",
   "id": "99073a78dabf5dbc"
  },
  {
   "metadata": {},
   "cell_type": "code",
   "outputs": [],
   "execution_count": null,
   "source": [
    "from datetime import datetime\n",
    "from os.path import exists\n",
    "from pathlib import Path\n",
    "from tempfile import TemporaryDirectory\n",
    "\n",
    "from earthdata_hashdiff import nc4_matches_reference_hash_file\n",
    "from harmony import BBox, Client, Collection, Environment, Request"
   ],
   "id": "7e30a672c28056a6"
  },
  {
   "metadata": {},
   "cell_type": "markdown",
   "source": "### Import shared utility functions:",
   "id": "66212342a30e0af1"
  },
  {
   "metadata": {},
   "cell_type": "code",
   "outputs": [],
   "execution_count": null,
   "source": [
    "import sys\n",
    "\n",
    "sys.path.append('../shared_utils')\n",
    "from utilities import print_success, submit_and_download"
   ],
   "id": "b48cdb47d243c22a"
  },
  {
   "cell_type": "markdown",
   "id": "00758d6f",
   "metadata": {},
   "source": [
    "## Set default parameters:\n",
    "\n",
    "`papermill` requires default values for parameters used on the workflow. In this case, `harmony_host_url`."
   ]
  },
  {
   "cell_type": "code",
   "execution_count": null,
   "id": "45f380c6",
   "metadata": {
    "ExecuteTime": {
     "end_time": "2024-11-13T19:17:01.668202Z",
     "start_time": "2024-11-13T19:17:01.663791Z"
    },
    "tags": [
     "parameters"
    ]
   },
   "outputs": [],
   "source": [
    "harmony_host_url = 'https://harmony.uat.earthdata.nasa.gov'"
   ]
  },
  {
   "cell_type": "markdown",
   "id": "9237f449",
   "metadata": {},
   "source": [
    "### Identify Harmony environment (for easier reference):"
   ]
  },
  {
   "cell_type": "code",
   "execution_count": null,
   "id": "97dc22bb-e04e-442c-ab12-160ff4842325",
   "metadata": {},
   "outputs": [],
   "source": [
    "host_environment = {\n",
    "    'http://localhost:3000': Environment.LOCAL,\n",
    "    'https://harmony.sit.earthdata.nasa.gov': Environment.SIT,\n",
    "    'https://harmony.uat.earthdata.nasa.gov': Environment.UAT,\n",
    "    'https://harmony.earthdata.nasa.gov': Environment.PROD,\n",
    "}\n",
    "\n",
    "harmony_environment = host_environment.get(harmony_host_url)\n",
    "\n",
    "if harmony_environment is not None:\n",
    "    harmony_client = Client(env=harmony_environment)"
   ]
  },
  {
   "cell_type": "markdown",
   "id": "36975d17-5f5c-4a57-8bc5-db9585546b96",
   "metadata": {},
   "source": [
    "The request collection and granules are different for UAT and PROD:"
   ]
  },
  {
   "metadata": {},
   "cell_type": "code",
   "outputs": [],
   "execution_count": null,
   "source": [
    "tempo_no2_test_data_uat = {\n",
    "    # TEMPO NO2 tropospheric, stratospheric, and total columns V03\n",
    "    # https://cmr.uat.earthdata.nasa.gov/search/concepts/C1262899916-LARC_CLOUD.html\n",
    "    'collection': Collection(id='C1262899916-LARC_CLOUD'),\n",
    "    'granule_id': [\n",
    "        'G1269044486-LARC_CLOUD',  # TEMPO_NO2_L2_V03_20240801T153258Z_S007G07.nc\n",
    "        'G1269044632-LARC_CLOUD',  # TEMPO_NO2_L2_V03_20240801T153935Z_S007G08.nc\n",
    "        'G1269044623-LARC_CLOUD',  # TEMPO_NO2_L2_V03_20240801T154612Z_S007G09.nc\n",
    "        'G1269044612-LARC_CLOUD',  # TEMPO_NO2_L2_V03_20240801T155308Z_S008G01.nc\n",
    "        'G1269044756-LARC_CLOUD',  # TEMPO_NO2_L2_V03_20240801T155948Z_S008G02.nc\n",
    "    ],\n",
    "}\n",
    "\n",
    "tempo_no2_test_data_prod = {\n",
    "    # TEMPO NO2 tropospheric and stratospheric columns V03 (BETA)\n",
    "    # https://cmr.earthdata.nasa.gov/search/concepts/C2930725014-LARC_CLOUD.html\n",
    "    'collection': Collection(id='C2930725014-LARC_CLOUD'),\n",
    "    'granule_id': [\n",
    "        'G3181300053-LARC_CLOUD',  # TEMPO_NO2_L2_V03_20240801T153258Z_S007G07.nc\n",
    "        'G3181300108-LARC_CLOUD',  # TEMPO_NO2_L2_V03_20240801T153935Z_S007G08.nc\n",
    "        'G3181299889-LARC_CLOUD',  # TEMPO_NO2_L2_V03_20240801T154612Z_S007G09.nc\n",
    "        'G3181345515-LARC_CLOUD',  # TEMPO_NO2_L2_V03_20240801T155308Z_S008G01.nc\n",
    "        'G3181345531-LARC_CLOUD',  # TEMPO_NO2_L2_V03_20240801T155948Z_S008G02.nc\n",
    "    ],\n",
    "}\n",
    "\n",
    "sambah_test_data_by_environment = {\n",
    "    Environment.LOCAL: tempo_no2_test_data_uat,\n",
    "    Environment.SIT: tempo_no2_test_data_uat,\n",
    "    Environment.UAT: tempo_no2_test_data_uat,\n",
    "    Environment.PROD: tempo_no2_test_data_prod,\n",
    "}\n",
    "\n",
    "if harmony_environment in sambah_test_data_by_environment:\n",
    "    sambah_test_data = sambah_test_data_by_environment[harmony_environment]\n",
    "else:\n",
    "    sambah_test_data = None"
   ],
   "id": "648c47b58224d160"
  },
  {
   "metadata": {},
   "cell_type": "code",
   "outputs": [],
   "execution_count": null,
   "source": [
    "request_info = {\n",
    "    **sambah_test_data,\n",
    "    'temporal': {\n",
    "        'start': datetime(2024, 8, 1, 15, 34, 0),\n",
    "        'stop': datetime(2024, 8, 1, 16, 0, 0),\n",
    "    },\n",
    "    'spatial': BBox(-170, 33, -10, 38),\n",
    "    # chosen variables include one variable from each group\n",
    "    # support/scattering_weights is 3D variable\n",
    "    'variables': [\n",
    "        'product/vertical_column_stratosphere',\n",
    "        'qa_statistics/fit_rms_residual',\n",
    "        'support_data/scattering_weights',\n",
    "    ],\n",
    "}"
   ],
   "id": "91a13dd5465b85fb"
  },
  {
   "metadata": {},
   "cell_type": "markdown",
   "source": [
    "# Begin regression tests\n",
    "\n",
    "SAMBAH is currently deployed to Sandbox, SIT, UAT and production."
   ],
   "id": "d219f1264cea3dfa"
  },
  {
   "metadata": {},
   "cell_type": "markdown",
   "source": [
    "## Test Strategy Overview\n",
    "\n",
    "### Test Execution Process\n",
    "\n",
    "Each test follows this standardized process:\n",
    "\n",
    "1. Define a request to Harmony using `harmony-py`\n",
    "2. Execute that request\n",
    "3. Download the output file within a temporary directory\n",
    "4. Ensure that the expected output file is downloaded (i.e., that the request was successful)\n",
    "5. Convert the output to a JSON file that hashes the variables and groups in the output file\n",
    "6. Compare that JSON file to a reference JSON file, which should be identical (except for the `history` and `history_json` attributes that contain timestamps, and `/subset_files`, which varies between UAT and production)\n",
    "\n",
    "### Capabilities Tested\n",
    "\n",
    "These 4 tests are designed to validate different aspects of SAMBAH functionality:\n",
    "\n",
    "| Test                       | Purpose                             | Key Features Tested                                                 |\n",
    "|:---------------------------|:------------------------------------|:--------------------------------------------------------------------|\n",
    "| **1. Full Capabilities**   | Integration test with all features  | Temporal + Spatial + Variable subsetting + Multi-scan concatenation |\n",
    "| **2. Variable Subsetting** | Isolated variable filtering         | Variable selection + Intra-scan concatenation only                  |\n",
    "| **3. Spatial Subsetting**  | Isolated spatial filtering          | Bounding box filtering + Intra- & Inter-scan concatenation          |\n",
    "| **4. Minimal Processing**  | Edge case validation                | Single granule passthrough with no subsetting                       |\n",
    "\n",
    "### Test Data\n",
    "\n",
    "All tests use the same **TEMPO NO2 L2 V03** dataset from **2024-08-01**, and optionally specify:\n",
    "- **5 granules** spanning **2 scans** (S007G07-G09, S008G01-G02)\n",
    "- **Time range:** 15:34–16:00 UTC (26 minutes)\n",
    "- **Geographic coverage:** North America and Pacific regions\n"
   ],
   "id": "2b7fcaa7e70edd31"
  },
  {
   "metadata": {},
   "cell_type": "markdown",
   "source": "## Test Execution Helper function",
   "id": "cc76ea38b0f7cb14"
  },
  {
   "metadata": {},
   "cell_type": "code",
   "outputs": [],
   "execution_count": null,
   "source": [
    "def execute_sambah_test(\n",
    "    harmony_client_object,\n",
    "    harmony_request,\n",
    "    request_name,\n",
    "    output_filename,\n",
    "    reference_filepath,\n",
    "):\n",
    "    \"\"\"Execute a SAMBAH test with temporary directory handling and validation.\"\"\"\n",
    "    with TemporaryDirectory() as tmp_dir:\n",
    "        output_path = tmp_dir / Path(output_filename)\n",
    "        submit_and_download(harmony_client_object, harmony_request, output_path)\n",
    "        assert exists(output_path), f'Unsuccessful {request_name}.'\n",
    "        assert nc4_matches_reference_hash_file(\n",
    "            output_path,\n",
    "            reference_filepath,\n",
    "            skipped_variables_or_groups='/subset_files',\n",
    "        ), f'{request_name}: Output and reference files do not match'\n",
    "\n",
    "    print_success(request_name)"
   ],
   "id": "1eda7b2969f6384f"
  },
  {
   "metadata": {},
   "cell_type": "markdown",
   "source": [
    "## SAMBAH Test 1: Full Capabilities\n",
    "\n",
    "**Parameters:** 5 granules, time window, large bbox, 3 variables from different groups\n",
    "\n",
    "**Tests:** Temporal + Spatial + Variable subsetting + Multi-scan (i.e., `extend` & `concatenate`) concatenation"
   ],
   "id": "7ef0a9bd5a5bd871"
  },
  {
   "metadata": {},
   "cell_type": "code",
   "outputs": [],
   "execution_count": null,
   "source": [
    "if request_info is not None:\n",
    "    # All 5 granules + temporal + variable + spatial subsetting\n",
    "    temp_var_bbox_request = Request(\n",
    "        collection=request_info['collection'],\n",
    "        extend=['mirror_step'],\n",
    "        concatenate=True,\n",
    "        granule_id=request_info['granule_id'],  # All 5 granules\n",
    "        temporal=request_info['temporal'],  # 26-min window\n",
    "        variables=request_info['variables'],  # 3 selected variables\n",
    "        spatial=request_info['spatial'],  # Bounding box\n",
    "    )\n",
    "\n",
    "    execute_sambah_test(\n",
    "        harmony_client,\n",
    "        temp_var_bbox_request,\n",
    "        request_name='SAMBAH temporal + variable + bounding box request',\n",
    "        output_filename='temp_var_bbox.nc4',\n",
    "        reference_filepath='reference_files/temp_var_bbox.json',\n",
    "    )\n",
    "else:\n",
    "    print(\n",
    "        f'SAMBAH is not configured for environment: \"{harmony_environment}\" - skipping test.'\n",
    "    )"
   ],
   "id": "5b71262fa08f5bae"
  },
  {
   "metadata": {},
   "cell_type": "markdown",
   "source": [
    "## SAMBAH Test 2: Variable subsetting\n",
    "\n",
    "**Parameters:** 2 adjacent granules (same scan), 3 variables including one 3D variable\n",
    "\n",
    "**Tests:** Variable selection + Intra-scan (i.e., `extend`) concatenation only"
   ],
   "id": "a46f47978d8afe9b"
  },
  {
   "metadata": {},
   "cell_type": "code",
   "outputs": [],
   "execution_count": null,
   "source": [
    "if request_info is not None:\n",
    "    # First 2 granules + variable subsetting only\n",
    "    var_only_request = Request(\n",
    "        collection=request_info['collection'],\n",
    "        extend=['mirror_step'],\n",
    "        concatenate=True,\n",
    "        granule_id=request_info['granule_id'][:2],  # First 2 granules only\n",
    "        variables=request_info['variables'],  # 3 selected variables\n",
    "    )\n",
    "\n",
    "    execute_sambah_test(\n",
    "        harmony_client,\n",
    "        var_only_request,\n",
    "        request_name='SAMBAH variable request',\n",
    "        output_filename='var_only.nc4',\n",
    "        reference_filepath='reference_files/var_only.json',\n",
    "    )\n",
    "else:\n",
    "    print(\n",
    "        f'SAMBAH is not configured for environment: \"{harmony_environment}\" - skipping test.'\n",
    "    )"
   ],
   "id": "20e7b3ad0629ace1"
  },
  {
   "metadata": {},
   "cell_type": "markdown",
   "source": [
    "## SAMBAH Test 3: Spatial Subsetting\n",
    "\n",
    "**Parameters:** 5 granules, large bbox, all variables\n",
    "\n",
    "**Tests:** Bounding box filtering + Multi-scan (i.e., `extend` & `concatenate`) concatenation"
   ],
   "id": "6eaae390bfecdd3e"
  },
  {
   "metadata": {},
   "cell_type": "code",
   "outputs": [],
   "execution_count": null,
   "source": [
    "if request_info is not None:\n",
    "    # All 5 granules + spatial subsetting only\n",
    "    spatial_only_request = Request(\n",
    "        collection=request_info['collection'],\n",
    "        extend=['mirror_step'],\n",
    "        concatenate=True,\n",
    "        granule_id=request_info['granule_id'],  # All 5 granules\n",
    "        spatial=request_info['spatial'],  # Bounding box\n",
    "    )\n",
    "\n",
    "    execute_sambah_test(\n",
    "        harmony_client,\n",
    "        spatial_only_request,\n",
    "        request_name='SAMBAH spatial request',\n",
    "        output_filename='spatial_only.nc4',\n",
    "        reference_filepath='reference_files/spatial_only.json',\n",
    "    )\n",
    "else:\n",
    "    print(\n",
    "        f'SAMBAH is not configured for environment: \"{harmony_environment}\" - skipping test.'\n",
    "    )"
   ],
   "id": "fe565077a3adb454"
  },
  {
   "metadata": {},
   "cell_type": "markdown",
   "source": [
    "## SAMBAH Test 4: Minimal Processing\n",
    "\n",
    "**Parameters:** 1 granule, no subsetting operations\n",
    "\n",
    "**Tests:** Single granule passthrough with no subsetting"
   ],
   "id": "eece3f02865271a9"
  },
  {
   "metadata": {},
   "cell_type": "code",
   "outputs": [],
   "execution_count": null,
   "source": [
    "if request_info is not None:\n",
    "    # Single granule + no subsetting\n",
    "    all_data_request = Request(\n",
    "        collection=request_info['collection'],\n",
    "        extend='mirror_step',\n",
    "        concatenate=True,\n",
    "        granule_id=request_info['granule_id'][0],  # Single granule only\n",
    "    )\n",
    "\n",
    "    execute_sambah_test(\n",
    "        harmony_client,\n",
    "        all_data_request,\n",
    "        request_name='SAMBAH no subset single file request',\n",
    "        output_filename='all_data.nc4',\n",
    "        reference_filepath='reference_files/all_data.json',\n",
    "    )\n",
    "else:\n",
    "    print(\n",
    "        f'SAMBAH is not configured for environment: \"{harmony_environment}\" - skipping test.'\n",
    "    )"
   ],
   "id": "b936c00235e21246"
  }
 ],
 "metadata": {
  "celltoolbar": "Tags",
  "kernelspec": {
   "display_name": "Python 3 (ipykernel)",
   "language": "python",
   "name": "python3"
  },
  "language_info": {
   "codemirror_mode": {
    "name": "ipython",
    "version": 3
   },
   "file_extension": ".py",
   "mimetype": "text/x-python",
   "name": "python",
   "nbconvert_exporter": "python",
   "pygments_lexer": "ipython3",
   "version": "3.12.11"
  },
  "name": "SDS_Regression.ipynb"
 },
 "nbformat": 4,
 "nbformat_minor": 5
}
