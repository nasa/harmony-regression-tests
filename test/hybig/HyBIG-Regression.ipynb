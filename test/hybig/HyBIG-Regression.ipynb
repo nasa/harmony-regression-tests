{
 "cells": [
  {
   "cell_type": "markdown",
   "id": "d6d392de",
   "metadata": {},
   "source": [
    "# Harmony Browse Image Service (HyBIG) regression tests\n",
    "\n",
    "This Jupyter notebook runs a suite of regression tests against some requests against the Harmony Browse Image Service.\n",
    "\n",
    "These tests use The ASTER Global Digital Elevation Model (GDEM) Version 3 ([ASTGTM](https://lpdaac.usgs.gov/products/astgtmv003/)) as input GeoTIFF data to test the HyBIG service.\n",
    "\n",
    "## Set the Harmony environment:\n",
    "\n",
    "The cell below sets the `harmony_host_url` to one of the following valid values:\n",
    "\n",
    "* Production: <https://harmony.earthdata.nasa.gov>\n",
    "* UAT: <https://harmony.uat.earthdata.nasa.gov>\n",
    "* SIT: <https://harmony.sit.earthdata.nasa.gov>\n",
    "* Local: <http://localhost:3000>\n",
    "\n",
    "The default value is for the UAT environment. When using this notebook there are two ways to use the non-default environment:\n",
    "\n",
    "* Run this notebook in a local Jupyter notebook server and change the value of `harmony_host_url` in the cell below to the value for the environment you require from the above list.\n",
    "\n",
    "* Use the `run_notebooks.sh` script, which requires you to declare an environment variable `HARMONY_HOST_URL`. Set that environment variable to the value above that corresponds to the environment you want to test. That environment variable will take precedence over the default value in the cell below."
   ]
  },
  {
   "cell_type": "code",
   "execution_count": 3,
   "id": "2a1faa83",
   "metadata": {
    "tags": [
     "parameters"
    ]
   },
   "outputs": [],
   "source": [
    "harmony_host_url = 'https://harmony.uat.earthdata.nasa.gov'"
   ]
  },
  {
   "cell_type": "markdown",
   "id": "c59adb34",
   "metadata": {},
   "source": [
    "### Import required packages:"
   ]
  },
  {
   "cell_type": "code",
   "execution_count": 5,
   "id": "169deca1",
   "metadata": {},
   "outputs": [],
   "source": [
    "from harmony import Collection, Environment, Client, Request\n",
    "from utility import  print_success \n",
    "from pathlib import Path"
   ]
  },
  {
   "cell_type": "markdown",
   "id": "f80e1243",
   "metadata": {},
   "source": [
    "### Set up environment dependent variables:\n",
    "\n",
    "This includes the Harmony `Client` object and `Collection` objects for each of the collections for which there are regression tests. The local, SIT and UAT Harmony instances all utilise resources from CMR UAT, meaning any non-production environment will use the same resources.\n",
    "\n",
    "When adding a production entry to the dictionary below, the collection instances can be included directly in the production dictionary entry, as they do not need to be shared."
   ]
  },
  {
   "cell_type": "code",
   "execution_count": 6,
   "id": "184ff665",
   "metadata": {},
   "outputs": [],
   "source": [
    "non_production_collection = {\n",
    "    'aster_collection': Collection(id='C1256584478-EEDTEST')\n",
    "}\n",
    "\n",
    "non_prod_granule_data = {\n",
    "    'aster_granules': ['G1256584570-EEDTEST']\n",
    "}\n",
    "\n",
    "collection_data = {\n",
    "    'https://harmony.uat.earthdata.nasa.gov': {\n",
    "        **non_production_collection,\n",
    "        **non_prod_granule_data,\n",
    "        'env': Environment.UAT\n",
    "    },\n",
    "    'https://harmony.sit.earthdata.nasa.gov': {\n",
    "        **non_production_collection,\n",
    "        **non_prod_granule_data,\n",
    "        'env': Environment.SIT\n",
    "    },\n",
    "    'http://localhost:3000': {\n",
    "        **non_production_collection,\n",
    "        **non_prod_granule_data,        \n",
    "        'env': Environment.LOCAL\n",
    "    },\n",
    "}\n",
    "\n",
    "environment_information = collection_data.get(harmony_host_url)\n",
    "\n",
    "if environment_information is not None:\n",
    "    harmony_client = Client(env=environment_information['env'])\n",
    "    endpoint_url = environment_information.get('endpoint_url', None)"
   ]
  },
  {
   "cell_type": "code",
   "execution_count": 8,
   "id": "e5fbf1fc",
   "metadata": {},
   "outputs": [
    {
     "data": {
      "text/plain": [
       "<harmony.harmony.Client at 0x1082c9180>"
      ]
     },
     "execution_count": 8,
     "metadata": {},
     "output_type": "execute_result"
    }
   ],
   "source": [
    "harmony_client"
   ]
  },
  {
   "cell_type": "code",
   "execution_count": null,
   "id": "3d0109ba",
   "metadata": {},
   "outputs": [],
   "source": []
  }
 ],
 "metadata": {
  "celltoolbar": "Tags",
  "kernelspec": {
   "display_name": "Python 3 (ipykernel)",
   "language": "python",
   "name": "python3"
  },
  "language_info": {
   "codemirror_mode": {
    "name": "ipython",
    "version": 3
   },
   "file_extension": ".py",
   "mimetype": "text/x-python",
   "name": "python",
   "nbconvert_exporter": "python",
   "pygments_lexer": "ipython3",
   "version": "3.10.11"
  }
 },
 "nbformat": 4,
 "nbformat_minor": 5
}
