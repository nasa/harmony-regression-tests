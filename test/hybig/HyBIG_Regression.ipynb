{
 "cells": [
  {
   "cell_type": "markdown",
   "id": "32af63de",
   "metadata": {},
   "source": [
    "# Harmony Browse Image Service (HyBIG) regression tests\n",
    "\n",
    "This Jupyter notebook runs a suite of regression tests against some requests against the Harmony Browse Image Service.\n",
    "\n",
    "These tests use ASTER Global Digital Elevation Model (GDEM) Version 3 ([ASTGTM](https://cmr.uat.earthdata.nasa.gov/search/concepts/C1256584478-EEDTEST)) as GeoTIFF input data to test the HyBIG service for an image with no color information.\n",
    "\n",
    "These tests use MEaSUREs Vegetation Continuous Fields (VCF) Yearly Global 0.05 Deg V001 ([VCF5KYR](https://cmr.uat.earthdata.nasa.gov/search/concepts/C1258119317-EEDTEST)) as GeoTIFF input data to test the HyBIG service against RGB color banded input.\n",
    "\n",
    "## Set the Harmony environment:\n",
    "\n",
    "The cell below sets the `harmony_host_url` to one of the following valid values:\n",
    "\n",
    "* Production: <https://harmony.earthdata.nasa.gov>\n",
    "* UAT: <https://harmony.uat.earthdata.nasa.gov>\n",
    "* SIT: <https://harmony.sit.earthdata.nasa.gov>\n",
    "* Local: <http://localhost:3000>\n",
    "\n",
    "The default value is for the UAT environment. When using this notebook there are two ways to use the non-default environment:\n",
    "\n",
    "* Run this notebook in a local Jupyter notebook server and change the value of `harmony_host_url` in the cell below to the value for the environment you require from the above list.\n",
    "\n",
    "* Use the `run_notebooks.sh` script, which requires you to declare an environment variable `HARMONY_HOST_URL`. Set that environment variable to the value above that corresponds to the environment you want to test. That environment variable will take precedence over the default value in the cell below."
   ]
  },
  {
   "cell_type": "code",
   "execution_count": null,
   "id": "dec3bc66",
   "metadata": {
    "tags": [
     "parameters"
    ]
   },
   "outputs": [],
   "source": [
    "harmony_host_url = 'https://harmony.uat.earthdata.nasa.gov'"
   ]
  },
  {
   "cell_type": "markdown",
   "id": "802241b5",
   "metadata": {},
   "source": [
    "### Import required packages:"
   ]
  },
  {
   "cell_type": "code",
   "execution_count": null,
   "id": "295b8341",
   "metadata": {},
   "outputs": [],
   "source": [
    "from harmony import Collection, Environment, Client, Request\n",
    "import rasterio\n",
    "from rasterio.transform import Affine\n",
    "from rasterio.crs import CRS\n",
    "from utility import print_success, assert_dataset_produced_correct_results, build_file_list\n",
    "from tempfile import TemporaryDirectory\n",
    "from pathlib import Path\n",
    "from numpy.testing import assert_array_almost_equal\n",
    "reference_dir = Path('./reference_data')"
   ]
  },
  {
   "cell_type": "markdown",
   "id": "9b644811",
   "metadata": {},
   "source": [
    "### Set up environment dependent variables:\n",
    "\n",
    "This includes the Harmony `Client` object and `Collection` objects for each of the collections for which there are regression tests. The local, SIT and UAT Harmony instances all utilise resources from CMR UAT, meaning any non-production environment will use the same resources.\n",
    "\n",
    "When adding a production entry to the dictionary below, the collection instances can be included directly in the production dictionary entry, as they do not need to be shared."
   ]
  },
  {
   "cell_type": "code",
   "execution_count": null,
   "id": "437af5f8",
   "metadata": {},
   "outputs": [],
   "source": [
    "non_production_collection = {\n",
    "    'aster_collection': Collection(id='C1256584478-EEDTEST'),\n",
    "    'measures_collection': Collection(id='C1258119317-EEDTEST')\n",
    "}\n",
    "\n",
    "non_prod_granule_data = {\n",
    "    'aster_granules': ['G1256584570-EEDTEST'],\n",
    "    'measures_granules': ['G1258119387-EEDTEST']\n",
    "}\n",
    "\n",
    "collection_data = {\n",
    "    'https://harmony.uat.earthdata.nasa.gov': {\n",
    "        **non_production_collection,\n",
    "        **non_prod_granule_data,\n",
    "        'env': Environment.UAT\n",
    "    },\n",
    "    'https://harmony.sit.earthdata.nasa.gov': {\n",
    "        **non_production_collection,\n",
    "        **non_prod_granule_data,\n",
    "        'env': Environment.SIT\n",
    "    },\n",
    "    'http://localhost:3000': {\n",
    "        **non_production_collection,\n",
    "        **non_prod_granule_data,        \n",
    "        'env': Environment.LOCAL\n",
    "    },\n",
    "}\n",
    "\n",
    "environment_information = collection_data.get(harmony_host_url)\n",
    "\n",
    "if environment_information is not None:\n",
    "    harmony_client = Client(env=environment_information['env'])\n",
    "    endpoint_url = environment_information.get('endpoint_url', None)"
   ]
  },
  {
   "cell_type": "markdown",
   "id": "fd8d6cb3",
   "metadata": {},
   "source": [
    "## Test input GeoTIFF with no color information\n",
    "use ASTER data."
   ]
  },
  {
   "cell_type": "code",
   "execution_count": null,
   "id": "19878976",
   "metadata": {},
   "outputs": [],
   "source": [
    "common_aster_metadata = {\n",
    "    'dtype': 'uint8',\n",
    "    'nodata': None,\n",
    "    'width': 3601,\n",
    "    'height': 3601,\n",
    "    'crs': CRS.from_epsg(4326),\n",
    "    'transform': Affine(0.000277777777777778, 0.0, 21.9998611111111,\n",
    "                        0.0, -0.000277777777777778, 1.00013888888889)\n",
    "}\n",
    "aster_basename = 'ASTGTMV003_N00E022_dem'"
   ]
  },
  {
   "cell_type": "markdown",
   "id": "e696afee",
   "metadata": {},
   "source": [
    "### Test a request for PNG output from a 1-band GeoTIFF with no color information\n",
    "\n",
    "Forms a request for ASTER data (1-band with no color info) as 'image/png', ensures all files are created that the image has the correct metadata and that that the data in the png file matches the reference data in the test."
   ]
  },
  {
   "cell_type": "code",
   "execution_count": null,
   "id": "cc7d75c5",
   "metadata": {},
   "outputs": [],
   "source": [
    "if environment_information is not None:\n",
    "    aster_request = Request(collection=environment_information['aster_collection'],\n",
    "                           granule_id=environment_information['aster_granules'][0],\n",
    "                            format='image/png')                       \n",
    "    aster_job_id = harmony_client.submit(aster_request)\n",
    "    harmony_client.wait_for_processing(aster_job_id, show_progress=True)\n",
    "\n",
    "    reference_files = build_file_list(aster_basename, reference_dir, 'PNG')\n",
    "\n",
    "    with TemporaryDirectory() as temp_dir:\n",
    "        downloaded_grid_outputs = [\n",
    "            file_future.result()\n",
    "            for file_future\n",
    "            in harmony_client.download_all(aster_job_id, overwrite=True, directory=temp_dir)\n",
    "        ]\n",
    "\n",
    "        test_files = build_file_list(aster_basename, Path(temp_dir), 'PNG') \n",
    "        for file_name in test_files:\n",
    "            assert file_name.exists() == True, f'File does not exist {file_name.resolve()}'\n",
    "        print_success('all test files generated')\n",
    "\n",
    "        expected_output_metadata = {\n",
    "            'driver': 'PNG', **common_aster_metadata, 'count': 4\n",
    "        }\n",
    "         \n",
    "        assert_dataset_produced_correct_results(\n",
    "            test_files[0], expected_output_metadata, reference_files[0], 'PNG'\n",
    "        )\n",
    "        \n",
    "    print_success('Conversion of ASTER Geotiff to PNG Success')\n",
    "else:\n",
    "    print('Skipping test: HyBIG regression tests not configured for this environment.')"
   ]
  },
  {
   "cell_type": "markdown",
   "id": "1edc6d53",
   "metadata": {},
   "source": [
    "### Test a request for JPG output from a 1-band GeoTIFF with no color information\n",
    "\n",
    "Forms a request for ASTER data as 'image/png', ensures all files are created that the image has the correct metadata and that that the data in the png file matches the reference data in the test.\n"
   ]
  },
  {
   "cell_type": "code",
   "execution_count": null,
   "id": "aa3ec02c",
   "metadata": {},
   "outputs": [],
   "source": [
    "if environment_information is not None:\n",
    "    aster_request = Request(collection=environment_information['aster_collection'],\n",
    "                           granule_id=environment_information['aster_granules'][0],\n",
    "                            format='image/jpeg')      \n",
    "    aster_job_id = harmony_client.submit(aster_request)\n",
    "    harmony_client.wait_for_processing(aster_job_id, show_progress=True)\n",
    "\n",
    "    reference_files = build_file_list(aster_basename, reference_dir, 'JPEG')\n",
    "\n",
    "    with TemporaryDirectory() as temp_dir:\n",
    "        downloaded_grid_outputs = [\n",
    "            file_future.result()\n",
    "            for file_future\n",
    "            in harmony_client.download_all(aster_job_id, overwrite=True, directory=temp_dir)\n",
    "        ]\n",
    "\n",
    "        test_files = build_file_list(aster_basename, Path(temp_dir), 'JPEG')\n",
    "        for file_name in test_files:\n",
    "            assert file_name.exists() == True, f'File does not exist {file_name.resolve()}'\n",
    "        print_success('all test files generated')\n",
    "\n",
    "        expected_output_metadata = {\n",
    "            'driver': 'JPEG', **common_aster_metadata, 'count': 3\n",
    "        }\n",
    "\n",
    "        assert_dataset_produced_correct_results(\n",
    "            test_files[0], expected_output_metadata, reference_files[0], 'JPEG'\n",
    "        )\n",
    "\n",
    "    print_success('Conversion of ASTER Geotiff to JPEG Success')\n",
    "else:\n",
    "    print('Skipping test: HyBIG regression tests not configured for this environment.')"
   ]
  },
  {
   "cell_type": "markdown",
   "id": "da0eb9c7",
   "metadata": {},
   "source": [
    "### Test request from 3-band RGB input geoTIFF\n",
    "\n",
    "Use MEaSUREs VCF5KYR data (3-band RGB GeoTiff)."
   ]
  },
  {
   "cell_type": "code",
   "execution_count": null,
   "id": "9ba87bf7",
   "metadata": {},
   "outputs": [],
   "source": [
    "common_measures_metadata = {\n",
    "    'dtype': 'uint8',\n",
    "    'nodata': None,\n",
    "    'width': 7200,\n",
    "    'height': 3600,\n",
    "    'count': 3,\n",
    "    'crs': CRS.from_wkt('GEOGCS[\"Unknown datum based upon the Clarke 1866 ellipsoid\",'\n",
    "                        'DATUM[\"Not_specified_based_on_Clarke_1866_spheroid\",'\n",
    "                        'SPHEROID[\"Clarke 1866\",6378206.4,294.978698213898,'\n",
    "                        'AUTHORITY[\"EPSG\",\"7008\"]]],'\n",
    "                        'PRIMEM[\"Greenwich\",0],'\n",
    "                        'UNIT[\"degree\",0.0174532925199433,'\n",
    "                        'AUTHORITY[\"EPSG\",\"9122\"]],AXIS[\"Latitude\",NORTH],AXIS[\"Longitude\",EAST]]'),\n",
    "    'transform': Affine(0.05000000000000001, 0.0, -180.0,\n",
    "                        0.0, -0.05000000000000001, 90.0)\n",
    "}\n",
    "measures_base = 'VCF5KYR_1991001_001_2018224205008'"
   ]
  },
  {
   "cell_type": "markdown",
   "id": "db7075c7",
   "metadata": {},
   "source": [
    "#### Test a request for PNG output from 3-Band RGB input data\n",
    "\n",
    "Forms a request for MEaSUREs VCF5KYR data (3-band RGB GeoTiff) as 'image/png', ensures all files are created that the image has the correct metadata and that that the data in the png file matches the reference data in the test."
   ]
  },
  {
   "cell_type": "code",
   "execution_count": null,
   "id": "94f40d81",
   "metadata": {},
   "outputs": [],
   "source": [
    "if environment_information is not None:\n",
    "    measures_request = Request(collection=environment_information['measures_collection'],\n",
    "                               granule_id=environment_information['measures_granules'][0],\n",
    "                               format='image/png')                       \n",
    "\n",
    "    measures_job_id = harmony_client.submit(measures_request)\n",
    "    harmony_client.wait_for_processing(measures_job_id, show_progress=True)\n",
    "\n",
    "    reference_files = build_file_list(measures_base, reference_dir, 'PNG')\n",
    "\n",
    "    with TemporaryDirectory() as temp_dir:\n",
    "        downloaded_grid_outputs = [\n",
    "            file_future.result()\n",
    "            for file_future\n",
    "            in harmony_client.download_all(measures_job_id, overwrite=True, directory=temp_dir)\n",
    "        ]\n",
    "        \n",
    "        test_files = build_file_list(measures_base, Path(temp_dir), 'PNG')\n",
    "        for file_name in test_files:\n",
    "            assert file_name.exists() == True, f'File does not exist {file_name.resolve()}'\n",
    "    \n",
    "        print_success('all test files generated')\n",
    "\n",
    "        expected_output_metadata = {\n",
    "            'driver': 'PNG', **common_measures_metadata\n",
    "        }\n",
    "\n",
    "        assert_dataset_produced_correct_results(\n",
    "            test_files[0], expected_output_metadata, reference_files[0], 'PNG'\n",
    "        )\n",
    "\n",
    "    print_success('Conversion of MEaSUREs Geotiff to PNG Success')\n",
    "else:\n",
    "    print('Skipping test: HyBIG regression tests not configured for this environment.')"
   ]
  },
  {
   "cell_type": "markdown",
   "id": "ab9d4370",
   "metadata": {},
   "source": [
    "### Test a request for JPEG output from 3-Band RGB input data\n",
    "\n",
    "Forms a request for MEaSUREs VCF5KYR data (3-band RGB GeoTiff) as 'image/jpg', ensures all files are created that the image has the correct metadata and that that the data in the JPEG file matches the reference data in the test."
   ]
  },
  {
   "cell_type": "code",
   "execution_count": null,
   "id": "56bb7ba2",
   "metadata": {},
   "outputs": [],
   "source": [
    "if environment_information is not None:\n",
    "    measures_request = Request(collection=environment_information['measures_collection'],\n",
    "                               granule_id=environment_information['measures_granules'][0],\n",
    "                               format='image/jpeg')                       \n",
    "\n",
    "    measures_job_id = harmony_client.submit(measures_request)\n",
    "    harmony_client.wait_for_processing(measures_job_id, show_progress=True)\n",
    "\n",
    "    reference_files = build_file_list(measures_base, reference_dir, 'JPG')\n",
    "    \n",
    "    with TemporaryDirectory() as temp_dir:\n",
    "        downloaded_grid_outputs = [\n",
    "            file_future.result()\n",
    "            for file_future\n",
    "            in harmony_client.download_all(measures_job_id, overwrite=True, directory=temp_dir)\n",
    "        ]\n",
    "        \n",
    "        test_files = build_file_list(measures_base, Path(temp_dir), 'JPG')\n",
    "        for file_name in test_files:\n",
    "            assert file_name.exists() == True, f'File does not exist {file_name.resolve()}'\n",
    "        print_success('all test files generated')\n",
    "\n",
    "        expected_output_metadata = {\n",
    "            'driver': 'JPEG', **common_measures_metadata\n",
    "        }\n",
    "\n",
    "        assert_dataset_produced_correct_results(\n",
    "            test_files[0], expected_output_metadata, reference_files[0], 'JPEG'\n",
    "        )\n",
    "\n",
    "    print_success('Conversion of MEaSUREs Geotiff to JPEG Success')\n",
    "else:\n",
    "    print('Skipping test: HyBIG regression tests not configured for this environment.')"
   ]
  }
 ],
 "metadata": {
  "celltoolbar": "Tags",
  "kernelspec": {
   "display_name": "Python 3 (ipykernel)",
   "language": "python",
   "name": "python3"
  },
  "language_info": {
   "codemirror_mode": {
    "name": "ipython",
    "version": 3
   },
   "file_extension": ".py",
   "mimetype": "text/x-python",
   "name": "python",
   "nbconvert_exporter": "python",
   "pygments_lexer": "ipython3",
   "version": "3.10.11"
  }
 },
 "nbformat": 4,
 "nbformat_minor": 5
}
