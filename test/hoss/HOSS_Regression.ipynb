{
 "cells": [
  {
   "cell_type": "markdown",
   "id": "f7f9ded8",
   "metadata": {},
   "source": [
    "# Regression test suite for the Harmony OPeNDAP SubSetter (HOSS):\n",
    "\n",
    "This notebook provides condensed examples of using Harmony to make requests against the HOSS service developed and managed by the Data Services team on the Transformation Train. HOSS can process L3 and L4 data hosted in OPeNDAP, and is offered via two service chains - one for geographically gridded data and another for projection-gridded data. The features of HOSS include:\n",
    "\n",
    "* Variable subsetting, including required variables.\n",
    "* Temporal subsetting.\n",
    "* Bounding box spatial subsetting.\n",
    "* Shape file spatial subsetting.\n",
    "* Named dimension subsetting.\n",
    "\n",
    "Note, several configuration tips were gained from [this blog post](https://towardsdatascience.com/introduction-to-papermill-2c61f66bea30).\n",
    "\n",
    "## Prerequisites\n",
    "\n",
    "The dependencies for this notebook are listed in the [environment.yaml](./environment.yaml). To test or install locally, create the papermill environment used in the automated regression testing suite:\n",
    "\n",
    "`conda env create -f ./environment.yaml && conda activate papermill-hoss`\n",
    "\n",
    "A `.netrc` file must also be located in the `test` directory of this repository."
   ]
  },
  {
   "cell_type": "markdown",
   "id": "009f1df8",
   "metadata": {},
   "source": [
    "## Import requirements:"
   ]
  },
  {
   "cell_type": "code",
   "execution_count": null,
   "id": "7ce7f640",
   "metadata": {
    "jupyter": {
     "source_hidden": true
    },
    "tags": []
   },
   "outputs": [],
   "source": [
    "from datetime import datetime\n",
    "from os.path import exists\n",
    "\n",
    "from harmony import BBox, Client, Collection, Dimension, Environment, Request\n",
    "\n",
    "from utilities import (compare_results_to_reference_file, print_success,\n",
    "                       remove_results_files, submit_and_download)"
   ]
  },
  {
   "cell_type": "markdown",
   "id": "00758d6f",
   "metadata": {},
   "source": [
    "## Set default parameters:\n",
    "\n",
    "`papermill` requires default values for parameters used on the workflow. In this case, `harmony_host_url`."
   ]
  },
  {
   "cell_type": "code",
   "execution_count": null,
   "id": "45f380c6",
   "metadata": {
    "tags": [
     "parameters"
    ]
   },
   "outputs": [],
   "source": [
    "harmony_host_url = 'https://harmony.uat.earthdata.nasa.gov'"
   ]
  },
  {
   "cell_type": "markdown",
   "id": "9237f449",
   "metadata": {},
   "source": [
    "### Identify Harmony environment (for easier reference):"
   ]
  },
  {
   "cell_type": "code",
   "execution_count": null,
   "id": "4420bb6e",
   "metadata": {},
   "outputs": [],
   "source": [
    "host_environment = {'http://localhost:3000': Environment.LOCAL,\n",
    "                    'https://harmony.sit.earthdata.nasa.gov': Environment.SIT,\n",
    "                    'https://harmony.uat.earthdata.nasa.gov': Environment.UAT,\n",
    "                    'https://harmony.earthdata.nasa.gov': Environment.PROD}\n",
    "\n",
    "\n",
    "harmony_environment = host_environment.get(harmony_host_url)\n",
    "\n",
    "if harmony_environment is not None:\n",
    "    harmony_client = Client(env=harmony_environment)"
   ]
  },
  {
   "cell_type": "markdown",
   "id": "7e2edcfa-9d1c-498e-9dbd-9ff3566b2675",
   "metadata": {},
   "source": [
    "### Plotting helper functions"
   ]
  },
  {
   "cell_type": "markdown",
   "id": "fc7aef85",
   "metadata": {},
   "source": [
    "# Begin regression tests:"
   ]
  },
  {
   "cell_type": "markdown",
   "id": "9dd58c71-0232-4a20-9dc4-ef6b3544e797",
   "metadata": {},
   "source": [
    "## Harmony OPeNDAP SubSetter (HOSS), Geographic:\n",
    "\n",
    "HOSS is currently deployed to Sandbox, SIT, UAT and production. However, it is only associated with collections in UAT. Requests will be made against the RSSMIF16D collection, as mirrored in the EEDTEST CMR provider in UAT."
   ]
  },
  {
   "cell_type": "code",
   "execution_count": null,
   "id": "bd0cbbff",
   "metadata": {},
   "outputs": [],
   "source": [
    "hoss_non_prod_information = {'collection': Collection(id='C1238392622-EEDTEST'),\n",
    "                             'granule_id': 'G1245840464-EEDTEST',\n",
    "                             'temporal_collection': Collection(id='C1245662776-EEDTEST'),\n",
    "                             'temporal_granule_id': 'G1245662797-EEDTEST',\n",
    "                             'bounds_collection': Collection(id='C1245618475-EEDTEST'),\n",
    "                             'bounds_granule_id': 'G1255863984-EEDTEST'}\n",
    "\n",
    "hoss_env = {Environment.LOCAL: hoss_non_prod_information,\n",
    "            Environment.SIT: hoss_non_prod_information,\n",
    "            Environment.UAT: hoss_non_prod_information}\n",
    "\n",
    "if harmony_environment in hoss_env:\n",
    "    hoss_info = hoss_env[harmony_environment]\n",
    "else:\n",
    "    hoss_info = None"
   ]
  },
  {
   "cell_type": "markdown",
   "id": "ef9ec4d2-2228-47d0-a990-d5a4d77b7bc7",
   "metadata": {},
   "source": [
    "### HOSS bounding box and variable subsetter request\n",
    "\n",
    "This is a request that exercises the full range of HOSS options: bounding box and variable subsetting.\n",
    "\n",
    "Requested parameter:\n",
    "\n",
    "* `/atmosphere_water_vapor_content`\n",
    "\n",
    "Additional required parameters (grid dimensions):\n",
    "\n",
    "* `/latitude`\n",
    "* `/longitude`\n",
    "* `/time`"
   ]
  },
  {
   "cell_type": "code",
   "execution_count": null,
   "id": "fcee5100",
   "metadata": {},
   "outputs": [],
   "source": [
    "if hoss_info is not None:\n",
    "    hoss_var_bbox_file_name = 'hoss_var_bbox.nc4'\n",
    "    hoss_var_bbox_bbox = BBox(w=-150, s=0, e=-105, n=15)\n",
    "    hoss_var_bbox_request = Request(collection=hoss_info['collection'],\n",
    "                                    granule_id=[hoss_info['granule_id']],\n",
    "                                    variables=['atmosphere_cloud_liquid_water_content'],\n",
    "                                    spatial=hoss_var_bbox_bbox)\n",
    "\n",
    "    submit_and_download(harmony_client, hoss_var_bbox_request, hoss_var_bbox_file_name)\n",
    "    assert exists(hoss_var_bbox_file_name), 'Unsuccessful HOSS variable, bounding box request.'\n",
    "\n",
    "    compare_results_to_reference_file(hoss_var_bbox_file_name,\n",
    "                                      'reference_files/hoss_var_bbox_reference.nc4',\n",
    "                                      '/')\n",
    "\n",
    "    print_success('HOSS variable and bounding box request.')\n",
    "else:\n",
    "    print(f'HOSS is not configured for environment: \"{harmony_environment}\" - skipping test.')"
   ]
  },
  {
   "cell_type": "markdown",
   "id": "957e8660-90ba-472f-bb53-e50f5564eb0b",
   "metadata": {},
   "source": [
    "### HOSS asynchronous request\n",
    "\n",
    "This test is removed as `harmony-py` requests are all asynchronous."
   ]
  },
  {
   "cell_type": "markdown",
   "id": "4b476837-2482-4282-a394-b38324902b45",
   "metadata": {},
   "source": [
    "### HOSS bounding box crosses grid edge:\n",
    "\n",
    "For collections where the grid edge is the Prime Meridian (0 degrees east) rather than the Antimeridian (180 degrees east) HOSS needs to be able to function when a user requests a region crossing the Prime Meridian (for example a box containing the UK). It currently retrieves the specified latitude range, but the full longitude range, and fills outside the bounding box region.\n",
    "\n",
    "The expected output will look like two vertical stripes of data, one each at the lefthand and righthand edge of the plot."
   ]
  },
  {
   "cell_type": "code",
   "execution_count": null,
   "id": "ee5f05c1",
   "metadata": {},
   "outputs": [],
   "source": [
    "if hoss_info is not None:\n",
    "    grid_edge_file_name = 'hoss_grid_edge.nc4'\n",
    "    grid_edge_bbox = BBox(w=-15, s=-60, e=15, n=-30)\n",
    "    grid_edge_request = Request(collection=hoss_info['collection'],\n",
    "                                granule_id=[hoss_info['granule_id']],\n",
    "                                variables=['atmosphere_cloud_liquid_water_content'],\n",
    "                                spatial=grid_edge_bbox)\n",
    "\n",
    "    submit_and_download(harmony_client, grid_edge_request, grid_edge_file_name)\n",
    "    assert exists(grid_edge_file_name), 'Unsuccessful HOSS request crossing longitudinal edge.'\n",
    "\n",
    "    compare_results_to_reference_file(grid_edge_file_name,\n",
    "                                      'reference_files/hoss_grid_edge_reference.nc4',\n",
    "                                      '/')\n",
    "\n",
    "    print_success('HOSS request crossing longitudinal edge.')\n",
    "else:\n",
    "    print(f'HOSS is not configured for environment: \"{harmony_environment}\" - skipping test.')"
   ]
  },
  {
   "cell_type": "markdown",
   "id": "6603a5c2-9ef2-4620-93a5-029963eca195",
   "metadata": {},
   "source": [
    "### HOSS request no bounding box\n",
    "\n",
    "If a bounding box is not specified for a HOSS-activated collection, a variable subset will still be performed. The requested variables will be returned, with their full original data."
   ]
  },
  {
   "cell_type": "code",
   "execution_count": null,
   "id": "6fa15722",
   "metadata": {},
   "outputs": [],
   "source": [
    "if hoss_info is not None:\n",
    "    no_bbox_file_name = 'hoss_no_bbox.nc4'\n",
    "    no_bbox_request = Request(collection=hoss_info['collection'],\n",
    "                              granule_id=[hoss_info['granule_id']],\n",
    "                              variables=['sst_dtime', 'wind_speed'])\n",
    "\n",
    "    submit_and_download(harmony_client, no_bbox_request, no_bbox_file_name)\n",
    "    assert exists(no_bbox_file_name), 'Unsuccessful HOSS request without bounding box.'\n",
    "\n",
    "    compare_results_to_reference_file(no_bbox_file_name,\n",
    "                                      'reference_files/hoss_no_bbox_reference.nc4',\n",
    "                                      '/')\n",
    "\n",
    "    print_success('HOSS request without bounding box.')\n",
    "else:\n",
    "    print(f'HOSS is not configured for environment: \"{harmony_environment}\" - skipping test.')"
   ]
  },
  {
   "cell_type": "markdown",
   "id": "4c251606-58ed-4316-851f-cd9617cf6d0a",
   "metadata": {},
   "source": [
    "### HOSS request all variables\n",
    "\n",
    "If there are no variables specified, HOSS should retrieve all variables. If the bounding box is specified, all gridded variables should still be constrained to the requested spatial region."
   ]
  },
  {
   "cell_type": "code",
   "execution_count": null,
   "id": "08ef7edb",
   "metadata": {},
   "outputs": [],
   "source": [
    "if hoss_info is not None:\n",
    "    hoss_all_vars_file_name = 'hoss_all_vars.nc4'\n",
    "    hoss_all_vars_bbox = BBox(w=-150, s=0, e=-105, n=15)\n",
    "    hoss_all_vars_request = Request(collection=hoss_info['collection'],\n",
    "                                    granule_id=[hoss_info['granule_id']],\n",
    "                                    spatial=hoss_all_vars_bbox)\n",
    "\n",
    "    submit_and_download(harmony_client, hoss_all_vars_request, hoss_all_vars_file_name)\n",
    "    assert exists(hoss_all_vars_file_name), 'Unsuccessful HOSS all-variable request.'\n",
    "\n",
    "    compare_results_to_reference_file(hoss_all_vars_file_name,\n",
    "                                      'reference_files/hoss_all_vars_reference.nc4',\n",
    "                                      '/')\n",
    "\n",
    "    print_success('HOSS all-variable request.')\n",
    "else:\n",
    "    print(f'HOSS is not configured for environment: \"{harmony_environment}\" - skipping test.')"
   ]
  },
  {
   "cell_type": "markdown",
   "id": "d0629b4f-1990-42f7-b19d-025e46a96629",
   "metadata": {},
   "source": [
    "### HOSS request all variables, no bounding box\n",
    "\n",
    "If no variables and no bounding box are specified, the entire original granule should be retrieved. (This will run the Variable Subsetter branch of the `sds/variable-subsetter` Docker image, skipping any spatial subsetting portion of the service)\n",
    "\n",
    "The plotted image should cover the entire Earth (landmasses will be masked)."
   ]
  },
  {
   "cell_type": "code",
   "execution_count": null,
   "id": "55c0da12",
   "metadata": {},
   "outputs": [],
   "source": [
    "if hoss_info is not None:\n",
    "    all_no_bbox_file_name = 'hoss_all_no_bbox.nc4'\n",
    "    all_no_bbox_request = Request(collection=hoss_info['collection'],\n",
    "                                  granule_id=hoss_info['granule_id'])\n",
    "\n",
    "\n",
    "    submit_and_download(harmony_client, all_no_bbox_request, all_no_bbox_file_name)\n",
    "    assert exists(all_no_bbox_file_name), 'Unsuccessful HOSS all-variable, no bounding box request.'\n",
    "\n",
    "    compare_results_to_reference_file(all_no_bbox_file_name,\n",
    "                                      'reference_files/hoss_all_no_bbox_reference.nc4',\n",
    "                                      '/')\n",
    "\n",
    "    print_success('HOSS all-variable, no bounding box request.')\n",
    "else:\n",
    "    print(f'HOSS is not configured for environment: \"{harmony_environment}\" - skipping test.')"
   ]
  },
  {
   "cell_type": "markdown",
   "id": "751e3ca8",
   "metadata": {},
   "source": [
    "### HOSS temporal subset request:\n",
    "\n",
    "This request will combine a variable and temporal subset for a granule in the M2T1NXSLV collection (MERRA-2). The result will include the requested variable and the three associated dimension variables:\n",
    "\n",
    "* `/H1000`\n",
    "* `/lat`\n",
    "* `/lon`\n",
    "* `/time`\n",
    "\n",
    "Furthermore, the temporal dimension and the science variable (`/H1000`) will be limited to the specified temporal range. MERRA-2 is gridded at hourly intervals, so the 4-hour time range (12pm - 4pm on 9th June 2021) will return 4 time values.\n",
    "\n",
    "For the granule being tested, all time values are expressed as minutes since 2021-06-09T00:30:00Z, and each grid-cell spans 30 minutes in either direction from the stated value (cells are centre-aligned). As such:\n",
    "\n",
    "* 12pm is the leading edge of the cell with a centre value of 12:30pm, which is 720 minutes since 00:30am.\n",
    "* 4pm is the trailing edge of the cell with a centre value of 15:30pm, which is 900 minutes since 00:30am."
   ]
  },
  {
   "cell_type": "code",
   "execution_count": null,
   "id": "3c9e495e",
   "metadata": {},
   "outputs": [],
   "source": [
    "if hoss_info is not None:\n",
    "    hoss_temporal_file_name = 'hoss_temporal.nc4'\n",
    "    hoss_temporal_request = Request(collection=hoss_info['temporal_collection'],\n",
    "                                    granule_id=hoss_info['temporal_granule_id'],\n",
    "                                    variables=['H1000'],\n",
    "                                    temporal={'start': datetime(2021, 6, 9, 12, 0, 0),\n",
    "                                              'stop': datetime(2021, 6, 9, 16, 0, 0)})\n",
    "\n",
    "\n",
    "    submit_and_download(harmony_client, hoss_temporal_request, hoss_temporal_file_name)\n",
    "    assert exists(all_no_bbox_file_name), 'Unsuccessful HOSS temporal request.'\n",
    "\n",
    "    compare_results_to_reference_file(hoss_temporal_file_name,\n",
    "                                      'reference_files/hoss_temporal_reference.nc4',\n",
    "                                      '/')\n",
    "\n",
    "    print_success('HOSS temporal request.')\n",
    "else:\n",
    "    print(f'HOSS is not configured for environment: \"{harmony_environment}\" - skipping test.')"
   ]
  },
  {
   "cell_type": "markdown",
   "id": "9ee6a0ad",
   "metadata": {},
   "source": [
    "### Named dimension subsetting:\n",
    "\n",
    "The following test will recreate a bounding box subset, however, it will explicitly name the dimension variables, rather than relying on the generic bounding box request parameters, `subset=lat(a:b)&subset=lon(c:d)`. For the RSSMIF16D the longitude and latitude dimensions are named:\n",
    "\n",
    "* `/latitude` and `/longitude`."
   ]
  },
  {
   "cell_type": "code",
   "execution_count": null,
   "id": "980a1774",
   "metadata": {},
   "outputs": [],
   "source": [
    "if hoss_info is not None:\n",
    "    hoss_named_dims_file_name = 'hoss_named_dimensions.nc4'\n",
    "    hoss_named_dims_request = Request(collection=hoss_info['collection'],\n",
    "                                      granule_id=[hoss_info['granule_id']],\n",
    "                                      variables=['atmosphere_cloud_liquid_water_content'],\n",
    "                                      dimensions=[Dimension('latitude', -20, -5),\n",
    "                                                  Dimension('longitude', 70, 85)])\n",
    "\n",
    "    submit_and_download(harmony_client, hoss_named_dims_request, hoss_named_dims_file_name)\n",
    "    assert exists(hoss_named_dims_file_name), 'Unsuccessful HOSS named dimensions request.'\n",
    "\n",
    "    compare_results_to_reference_file(hoss_named_dims_file_name,\n",
    "                                      'reference_files/hoss_named_dimensions_reference.nc4',\n",
    "                                      '/')\n",
    "\n",
    "    print_success('HOSS named dimensions request.')\n",
    "else:\n",
    "    print(f'HOSS is not configured for environment: \"{harmony_environment}\" - skipping test.')"
   ]
  },
  {
   "cell_type": "markdown",
   "id": "2a1dca21",
   "metadata": {},
   "source": [
    "### Shape file spatial subsetting:\n",
    "\n",
    "The following request will include a GeoJSON shape file, which HOSS will use to limit the extent of the output grid retrieved from OPeNDAP to a bounding box that minimally encompasses the specified shape. The output will then be passed to MaskFill, which will apply fill values to all pixels inside the bounding box, but outside the GeoJSON shape."
   ]
  },
  {
   "cell_type": "code",
   "execution_count": null,
   "id": "1bd8aa94",
   "metadata": {},
   "outputs": [],
   "source": [
    "hoss_shape_non_prod_information = {'collection': Collection(id='C1245618475-EEDTEST'),\n",
    "                                   'shape_file_path': 'amazon_basin.geo.json',\n",
    "                                   'granule_id': 'G1245649517-EEDTEST'}\n",
    "\n",
    "hoss_shape_env = {Environment.LOCAL: hoss_shape_non_prod_information,\n",
    "                  Environment.SIT: hoss_shape_non_prod_information,\n",
    "                  Environment.UAT: hoss_shape_non_prod_information}\n",
    "\n",
    "if harmony_environment in hoss_shape_env:\n",
    "    hoss_shape_info = hoss_shape_env[harmony_environment]\n",
    "else:\n",
    "    hoss_shape_info = None"
   ]
  },
  {
   "cell_type": "code",
   "execution_count": null,
   "id": "c91f8443",
   "metadata": {},
   "outputs": [],
   "source": [
    "if hoss_shape_info is not None:\n",
    "    hoss_shape_file_name = 'hoss_shape_file.nc4'\n",
    "    hoss_shape_request = Request(collection=hoss_shape_info['collection'],\n",
    "                                 granule_id=hoss_shape_info['granule_id'],\n",
    "                                 shape=hoss_shape_info['shape_file_path'],\n",
    "                                 variables=['/Grid/precipitationCal'])\n",
    "    submit_and_download(harmony_client, hoss_shape_request, hoss_shape_file_name)\n",
    "    assert exists(hoss_shape_file_name), 'Unsuccessful HOSS-Geographic polygon spatial subset request.'\n",
    "\n",
    "    compare_results_to_reference_file(hoss_shape_file_name,\n",
    "                                      'reference_files/hoss_shape_file_reference.nc4',\n",
    "                                      '/Grid')\n",
    "\n",
    "    print_success('HOSS-Geographic polygon spatial subset request.')\n",
    "else:\n",
    "    print(f'HOSS-Geographic is not configured for environment: \"{harmony_environment}\" - skipping test.')"
   ]
  },
  {
   "cell_type": "markdown",
   "id": "85d6d22e",
   "metadata": {},
   "source": [
    "### Request for granule that has bounds variables:\n",
    "\n",
    "This regression test will use the GPM/IMERGHH collection, which is geographically gridded, to ensure that a granule with bounds variables extracts the expected temporal and spatial range:"
   ]
  },
  {
   "cell_type": "code",
   "execution_count": null,
   "id": "e99932fa",
   "metadata": {},
   "outputs": [],
   "source": [
    "if hoss_info is not None:\n",
    "    hoss_bounds_file_name = 'hoss_bounds.nc4'\n",
    "    hoss_bounds_bbox = BBox(w=60, s=-15, e=75, n=0)\n",
    "    hoss_bounds_request = Request(collection=hoss_info['bounds_collection'],\n",
    "                                  granule_id=[hoss_info['bounds_granule_id']],\n",
    "                                  variables=['/Grid/precipitationCal'],\n",
    "                                  spatial=hoss_bounds_bbox,\n",
    "                                  temporal={'start': datetime(2020, 1, 18, 18, 45, 0),\n",
    "                                            'stop': datetime(2020, 1, 18, 19, 45, 0)})\n",
    "\n",
    "    submit_and_download(harmony_client, hoss_bounds_request, hoss_bounds_file_name)\n",
    "    assert exists(hoss_bounds_file_name), 'Unsuccessful HOSS bounds request.'\n",
    "\n",
    "    compare_results_to_reference_file(hoss_bounds_file_name,\n",
    "                                      'reference_files/hoss_bounds_reference.nc4',\n",
    "                                      '/Grid')\n",
    "\n",
    "    print_success('HOSS bounds request.')\n",
    "else:\n",
    "    print(f'HOSS is not configured for environment: \"{harmony_environment}\" - skipping test.')"
   ]
  },
  {
   "cell_type": "markdown",
   "id": "d5dbe0de",
   "metadata": {},
   "source": [
    "## HOSS projection-gridded collections:"
   ]
  },
  {
   "cell_type": "markdown",
   "id": "72eeff5d-0893-4937-bcd9-a187e548b961",
   "metadata": {},
   "source": [
    "## Spatial subsetting of projected grid using a bounding box.\n",
    "\n",
    "This request uses the chained service that combines HOSS with MaskFill to offer bounding box spatial subsetting of coordinate projected gridded data hosted in OPeNDAP.\n",
    "\n",
    "The request will use the [ABoVE Tundra Vegetation Photosynthesis and Respiration Model (TVPRM) Simulated Net Ecosystem Exchange collection](https://cmr.uat.earthdata.nasa.gov/search/concepts/C1245804308-EEDTEST.html). This collection uses an Albers Conical Equal Area projection.\n",
    "\n",
    "The request also uses a temporal subset to limit the size of the result.\n"
   ]
  },
  {
   "cell_type": "code",
   "execution_count": null,
   "id": "4657e58b-8153-4f81-a794-3f8f8a1620b1",
   "metadata": {},
   "outputs": [],
   "source": [
    "hoss_projected_non_prod_information = {\n",
    "    'collection': Collection(id='C1245804308-EEDTEST'),\n",
    "    'bbox': BBox(w=-160, s=68, e=-150, n=70),\n",
    "    'shape_file_path': 'north_slope.geo.json',\n",
    "    'granule_id': 'G1245804356-EEDTEST',\n",
    "    'temporal_range': {\n",
    "        'start': datetime(2008, 7, 2, 0, 0, 0),\n",
    "        'stop': datetime(2008, 7, 2, 1, 0, 0)\n",
    "    }\n",
    "}\n",
    "\n",
    "hoss_projected_env = {\n",
    "    Environment.LOCAL: hoss_projected_non_prod_information,\n",
    "    Environment.SIT: hoss_projected_non_prod_information,\n",
    "    Environment.UAT: hoss_projected_non_prod_information\n",
    "}\n",
    "\n",
    "if harmony_environment in hoss_projected_env:\n",
    "    hoss_projected_info = hoss_projected_env[harmony_environment]\n",
    "else:\n",
    "    hoss_projected_info = None"
   ]
  },
  {
   "cell_type": "code",
   "execution_count": null,
   "id": "64f96581-a7bb-4221-ab8c-b4a81aa15a71",
   "metadata": {},
   "outputs": [],
   "source": [
    "if hoss_projected_info is not None:\n",
    "    hoss_projected_filename = 'hoss_projected_north_slope.nc4'\n",
    "    hoss_projected_request = Request(collection=hoss_projected_info['collection'],\n",
    "                                     granule_id=hoss_projected_info['granule_id'],\n",
    "                                     spatial=hoss_projected_info['bbox'],\n",
    "                                     variables=['NEE', 'lat', 'lon'],\n",
    "                                     temporal=hoss_projected_info['temporal_range'])\n",
    "    submit_and_download(harmony_client, hoss_projected_request, hoss_projected_filename)\n",
    "    assert exists(hoss_projected_filename), 'Unsuccessful HOSS spatial subset request.'\n",
    "\n",
    "    compare_results_to_reference_file(hoss_projected_filename,\n",
    "                                      'reference_files/hoss_projected_north_slope_reference.nc4',\n",
    "                                      '/')\n",
    "\n",
    "    print_success('HOSS-projection-gridded with bounding box.')\n",
    "else:\n",
    "    print(f'HOSS-projection-gridded is not configured for environment: \"{harmony_environment}\" - skipping test.')"
   ]
  },
  {
   "cell_type": "markdown",
   "id": "e3e03691-7375-436d-aaff-fcdd4e8c22e6",
   "metadata": {},
   "source": [
    "## Spatial subsetting of projected grid using GeoJSON polygon.\n",
    "\n",
    "This request uses the chained service that combines HOSS with MaskFill to offer shapefile subsetting of coordinate projected gridded data hosted in OPeNDAP.\n",
    "\n",
    "The request will use the [ABoVE Tundra Vegetation Photosynthesis and Respiration Model (TVPRM) Simulated Net Ecosystem Exchange collection](https://cmr.uat.earthdata.nasa.gov/search/concepts/C1245804308-EEDTEST.html). This collection uses an Albers Conical Equal Area projection.\n",
    "\n",
    "The request also uses a temporal subset to limit the size of the result."
   ]
  },
  {
   "cell_type": "code",
   "execution_count": null,
   "id": "ddf20717-736d-4f0e-a57e-97702f8e1c83",
   "metadata": {},
   "outputs": [],
   "source": [
    "if hoss_projected_info is not None:\n",
    "    hoss_projected_shape_filename = 'hoss_projected_north_slope_shape.nc4'\n",
    "    hoss_projected_request = Request(collection=hoss_projected_info['collection'],\n",
    "                                     granule_id=hoss_projected_info['granule_id'],\n",
    "                                     shape=hoss_projected_info['shape_file_path'],\n",
    "                                     variables=['NEE', 'lat', 'lon'],\n",
    "                                     temporal=hoss_projected_info['temporal_range'])\n",
    "    submit_and_download(harmony_client, hoss_projected_request, hoss_projected_shape_filename)\n",
    "    assert exists(hoss_projected_shape_filename), 'Unsuccessful HOSS shapefile spatial subset request.'\n",
    "\n",
    "    compare_results_to_reference_file(hoss_projected_shape_filename,\n",
    "                                      'reference_files/hoss_projected_north_slope_reference.nc4',\n",
    "                                      '/')\n",
    "\n",
    "    print_success('Subsetting projected grid with shapefile.')\n",
    "else:\n",
    "    print(f'HOSS is not configured for environment: \"{harmony_environment}\" - skipping test.')"
   ]
  },
  {
   "cell_type": "markdown",
   "id": "ca88eb71-2526-4b34-8ff7-441f869244e0",
   "metadata": {},
   "source": [
    "# Clean up test outputs:"
   ]
  },
  {
   "cell_type": "code",
   "execution_count": null,
   "id": "73fdd147-74a0-48d3-957f-388e2abe356a",
   "metadata": {},
   "outputs": [],
   "source": [
    "remove_results_files()"
   ]
  }
 ],
 "metadata": {
  "celltoolbar": "Tags",
  "kernelspec": {
   "display_name": "Python 3 (ipykernel)",
   "language": "python",
   "name": "python3"
  },
  "language_info": {
   "codemirror_mode": {
    "name": "ipython",
    "version": 3
   },
   "file_extension": ".py",
   "mimetype": "text/x-python",
   "name": "python",
   "nbconvert_exporter": "python",
   "pygments_lexer": "ipython3",
   "version": "3.9.13"
  },
  "name": "SDS_Regression.ipynb"
 },
 "nbformat": 4,
 "nbformat_minor": 5
}
