{
 "cells": [
  {
   "cell_type": "markdown",
   "id": "f7f9ded8",
   "metadata": {},
   "source": [
    "# Regression test suite for the IMAGENATOR service:\n",
    "\n",
    "This notebook runs a suite of regression tests against the Harmony IMAGENATOR Service chain. These tests use a sample TEMPO NO₂ granule to verify that IMAGENATOR logic works as expected and that output matches reference data in `reference_data/`.\n",
    "\n",
    "\n",
    "## Prerequisites\n",
    "\n",
    "- Create the `papermill-imagenator` environment:\n",
    "  ```bash\n",
    "  conda env create -f ./environment.yaml && conda activate papermill-imagenator\n",
    "  ```\n",
    "- Ensure a `.netrc` file with your Earthdata Login credentials is present here."
   ]
  },
  {
   "cell_type": "markdown",
   "id": "009f1df8",
   "metadata": {},
   "source": [
    "## Import required packages:"
   ]
  },
  {
   "cell_type": "code",
   "execution_count": null,
   "id": "7ce7f640",
   "metadata": {
    "tags": []
   },
   "outputs": [],
   "source": [
    "import sys\n",
    "\n",
    "sys.path.append('../shared_utils')\n",
    "from utilities import print_success\n",
    "from pathlib import Path\n",
    "from tempfile import TemporaryDirectory\n",
    "\n",
    "from harmony import Client, Collection, Environment, Request"
   ]
  },
  {
   "cell_type": "markdown",
   "id": "00758d6f",
   "metadata": {},
   "source": [
    "## Set default parameters:\n",
    "\n",
    "`papermill` requires default values for parameters used on the workflow. In this case, `harmony_host_url`."
   ]
  },
  {
   "cell_type": "code",
   "execution_count": null,
   "id": "45f380c6",
   "metadata": {
    "tags": [
     "parameters"
    ]
   },
   "outputs": [],
   "source": [
    "harmony_host_url = 'https://harmony.uat.earthdata.nasa.gov'"
   ]
  },
  {
   "cell_type": "markdown",
   "id": "9237f449",
   "metadata": {},
   "source": [
    "### Identify Harmony environment (for easier reference):"
   ]
  },
  {
   "cell_type": "code",
   "execution_count": null,
   "id": "4420bb6e",
   "metadata": {},
   "outputs": [],
   "source": [
    "host_environment = {\n",
    "    'http://localhost:3000': Environment.LOCAL,\n",
    "    'https://harmony.sit.earthdata.nasa.gov': Environment.SIT,\n",
    "    'https://harmony.uat.earthdata.nasa.gov': Environment.UAT,\n",
    "    'https://harmony.earthdata.nasa.gov': Environment.PROD,\n",
    "}\n",
    "\n",
    "harmony_environment = host_environment.get(harmony_host_url)\n",
    "\n",
    "if harmony_environment is not None:\n",
    "    harmony_client = Client(env=harmony_environment)"
   ]
  },
  {
   "cell_type": "markdown",
   "id": "49fd6743-17fb-4a43-a2e7-e4263348e0ae",
   "metadata": {},
   "source": [
    "# Begin regression tests:\n",
    "\n",
    "The IMAGENATOR is currently only configured against collections in the UAT environment.\n",
    "\n",
    "### Set up environment-dependent variables for imagenator L2:\n",
    "\n",
    "Define the collection and granule for testing in each environment."
   ]
  },
  {
   "cell_type": "code",
   "execution_count": null,
   "id": "9ef1408b-aba9-48a9-ba0f-a880a6283919",
   "metadata": {},
   "outputs": [],
   "source": [
    "imagenator_non_prod_information = {\n",
    "    'collection': Collection(id='C1262899916-LARC_CLOUD'),\n",
    "    'granule_id': 'G1269044683-LARC_CLOUD',\n",
    "}\n",
    "associated_output = 'TEMPO_NO2_L2_V03_20240801T195948Z_S012G02_regridded_filtered_product_vertical_column_stratosphere_reformatted'\n",
    "\n",
    "imagenator_env = {\n",
    "    Environment.LOCAL: imagenator_non_prod_information,\n",
    "    Environment.SIT: imagenator_non_prod_information,\n",
    "    Environment.UAT: imagenator_non_prod_information,\n",
    "}\n",
    "\n",
    "if harmony_environment in imagenator_env:\n",
    "    imagenator_info = imagenator_env[harmony_environment]\n",
    "else:\n",
    "    imagenator_info = None"
   ]
  },
  {
   "cell_type": "markdown",
   "id": "c93f150c-f1b3-4005-885c-4b9f65f6600f",
   "metadata": {},
   "source": [
    "## Test: imagenator L2 request on TEMPO NO2 vertical_column_stratosphere variable\n",
    "\n",
    "Submit a single-granule request and validate output files."
   ]
  },
  {
   "cell_type": "code",
   "execution_count": null,
   "id": "a99357c0",
   "metadata": {},
   "outputs": [],
   "source": [
    "if imagenator_info is not None:\n",
    "    request = Request(\n",
    "        collection=imagenator_info['collection'],\n",
    "        granule_id=[imagenator_info['granule_id']],\n",
    "        variables='product/vertical_column_stratosphere',\n",
    "        format='image/png',\n",
    "    )\n",
    "\n",
    "    job_id = harmony_client.submit(request)\n",
    "    harmony_client.wait_for_processing(job_id)\n",
    "\n",
    "    with TemporaryDirectory() as temp_dir:\n",
    "        output_files = [\n",
    "            Path(future.result())\n",
    "            for future in harmony_client.download_all(job_id, directory=temp_dir)\n",
    "        ]\n",
    "\n",
    "        assert len(output_files) == 3\n",
    "        assert output_files[0].suffixes == ['.png']\n",
    "        assert output_files[1].suffixes == ['.pgw']\n",
    "        assert output_files[2].suffixes == ['.png', '.aux', '.xml']\n",
    "\n",
    "        reference_data = Path('reference_data')\n",
    "        expected_png = reference_data / f'{associated_output}.png'\n",
    "        expected_pgw = reference_data / f'{associated_output}.pgw'\n",
    "        expected_aux = reference_data / f'{associated_output}.png.aux.xml'\n",
    "\n",
    "        assert output_files[0].read_bytes() == expected_png.read_bytes()\n",
    "        assert output_files[1].read_bytes() == expected_pgw.read_bytes()\n",
    "        assert output_files[2].read_bytes() == expected_aux.read_bytes()\n",
    "    print_success('imagenator L2 request on TEMPO NO2 vertical_column_stratosphere')\n",
    "else:\n",
    "    print('Skipping test: imagenator L2 not configured for environment')"
   ]
  },
  {
   "cell_type": "markdown",
   "id": "a9fed2cb-d963-4d1c-8ac6-f521cb59cb88",
   "metadata": {},
   "source": [
    "### Set up environment-dependent variables for imagenator L3:\n",
    "\n",
    "Define the collection and granule for testing in each environment."
   ]
  },
  {
   "cell_type": "code",
   "execution_count": null,
   "id": "a80fa22c",
   "metadata": {},
   "outputs": [],
   "source": [
    "imagenator_non_prod_information = {\n",
    "    'collection': Collection(id='C1262899964-LARC_CLOUD'),\n",
    "    'granule_id': 'G1269043414-LARC_CLOUD',\n",
    "}\n",
    "associated_output = 'TEMPO_NO2_L3_V03_20240822T114056Z_S002_filtered_product_vertical_column_stratosphere_reformatted'\n",
    "\n",
    "imagenator_env = {\n",
    "    Environment.LOCAL: imagenator_non_prod_information,\n",
    "    Environment.SIT: imagenator_non_prod_information,\n",
    "    Environment.UAT: imagenator_non_prod_information,\n",
    "}\n",
    "\n",
    "if harmony_environment in imagenator_env:\n",
    "    imagenator_info = imagenator_env[harmony_environment]\n",
    "else:\n",
    "    imagenator_info = None"
   ]
  },
  {
   "cell_type": "markdown",
   "id": "4935bd7e-8e73-4c30-9787-727675c96136",
   "metadata": {},
   "source": [
    "## Test: imagenator L3 request on TEMPO NO2 vertical_column_stratosphere variable\n",
    "\n",
    "Submit a single-granule request and validate output files."
   ]
  },
  {
   "cell_type": "code",
   "execution_count": null,
   "id": "b8043c0f-1f35-4597-9c84-673d2da67f9e",
   "metadata": {},
   "outputs": [],
   "source": [
    "if imagenator_info is not None:\n",
    "    request = Request(\n",
    "        collection=imagenator_info['collection'],\n",
    "        granule_id=[imagenator_info['granule_id']],\n",
    "        variables='product/vertical_column_stratosphere',\n",
    "        format='image/png',\n",
    "    )\n",
    "\n",
    "    job_id = harmony_client.submit(request)\n",
    "    harmony_client.wait_for_processing(job_id)\n",
    "\n",
    "    with TemporaryDirectory() as temp_dir:\n",
    "        output_files = [\n",
    "            Path(future.result())\n",
    "            for future in harmony_client.download_all(job_id, directory=temp_dir)\n",
    "        ]\n",
    "\n",
    "        assert len(output_files) == 3\n",
    "        assert output_files[0].suffixes == ['.png']\n",
    "        assert output_files[1].suffixes == ['.pgw']\n",
    "        assert output_files[2].suffixes == ['.png', '.aux', '.xml']\n",
    "\n",
    "        reference_data = Path('reference_data')\n",
    "        expected_png = reference_data / f'{associated_output}.png'\n",
    "        expected_pgw = reference_data / f'{associated_output}.pgw'\n",
    "        expected_aux = reference_data / f'{associated_output}.png.aux.xml'\n",
    "\n",
    "        assert output_files[0].read_bytes() == expected_png.read_bytes()\n",
    "        assert output_files[1].read_bytes() == expected_pgw.read_bytes()\n",
    "        assert output_files[2].read_bytes() == expected_aux.read_bytes()\n",
    "    print_success('imagenator L3 request on TEMPO NO2 vertical_column_stratosphere')\n",
    "else:\n",
    "    print('Skipping test: imagenator L3 not configured for environment')"
   ]
  }
 ],
 "metadata": {
  "celltoolbar": "Tags",
  "kernelspec": {
   "display_name": "Python 3 (ipykernel)",
   "language": "python",
   "name": "python3"
  },
  "language_info": {
   "codemirror_mode": {
    "name": "ipython",
    "version": 3
   },
   "file_extension": ".py",
   "mimetype": "text/x-python",
   "name": "python",
   "nbconvert_exporter": "python",
   "pygments_lexer": "ipython3",
   "version": "3.12.11"
  },
  "name": "SDS_Regression.ipynb"
 },
 "nbformat": 4,
 "nbformat_minor": 5
}
