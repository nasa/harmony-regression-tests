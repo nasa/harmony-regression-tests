{
 "cells": [
  {
   "cell_type": "markdown",
   "id": "4609a539",
   "metadata": {},
   "source": [
    "# imagenator Regression Tests\n",
    "\n",
    "This notebook runs a suite of regression tests against the Harmony imagenator Service chain.\n",
    "These tests use a sample TEMPO NO₂ granule to verify that imagenator logic works as expected and that output matches reference data in `reference_data/`.\n"
   ]
  },
  {
   "cell_type": "code",
   "execution_count": null,
   "id": "526534cd",
   "metadata": {
    "tags": [
     "parameters"
    ]
   },
   "outputs": [],
   "source": [
    "harmony_host_url = 'https://harmony.uat.earthdata.nasa.gov'\n",
    "# (Overridden if you set HARMONY_HOST_URL in the shell before running.)"
   ]
  },
  {
   "cell_type": "markdown",
   "id": "42686ad9",
   "metadata": {},
   "source": [
    "## Prerequisites\n",
    "\n",
    "- Create the `papermill-imagenator` environment:\n",
    "  ```bash\n",
    "  conda env create -f ./environment.yaml && conda activate papermill-imagenator\n",
    "  ```\n",
    "- Ensure a `.netrc` file with your Earthdata Login credentials is present here.\n"
   ]
  },
  {
   "cell_type": "markdown",
   "id": "964a92ad",
   "metadata": {},
   "source": [
    "### Import required packages:\n"
   ]
  },
  {
   "cell_type": "code",
   "execution_count": null,
   "id": "d204c930",
   "metadata": {},
   "outputs": [],
   "source": [
    "from harmony import Client, Collection, Environment, Request\n",
    "from utilities import validate_imagenator_outputs"
   ]
  },
  {
   "cell_type": "markdown",
   "id": "6c4efdf1",
   "metadata": {},
   "source": [
    "### Set up environment-dependent variables for imagenator L2:\n",
    "\n",
    "Define the collection and granule for testing in each environment."
   ]
  },
  {
   "cell_type": "code",
   "execution_count": null,
   "id": "ffd001f4",
   "metadata": {},
   "outputs": [],
   "source": [
    "# TEMPO NO2 Level-2 data\n",
    "non_production_collection = {\n",
    "    'filter_collection': Collection(id='C1262899916-LARC_CLOUD')\n",
    "}\n",
    "non_prod_granule_data = {'filter_granules': ['G1269044683-LARC_CLOUD']}\n",
    "\n",
    "collection_data = {\n",
    "    'https://harmony.uat.earthdata.nasa.gov': {\n",
    "        **non_production_collection,\n",
    "        **non_prod_granule_data,\n",
    "        'env': Environment.UAT,\n",
    "    },\n",
    "    'https://harmony.sit.earthdata.nasa.gov': {\n",
    "        **non_production_collection,\n",
    "        **non_prod_granule_data,\n",
    "        'env': Environment.SIT,\n",
    "    },\n",
    "    'http://localhost:3000': {\n",
    "        **non_production_collection,\n",
    "        **non_prod_granule_data,\n",
    "        'env': Environment.LOCAL,\n",
    "    },\n",
    "}\n",
    "\n",
    "environment_information = collection_data.get(harmony_host_url)\n",
    "\n",
    "if environment_information is not None:\n",
    "    harmony_client = Client(env=environment_information['env'])\n",
    "    filter_collection = environment_information['filter_collection']\n",
    "    filter_granule = environment_information['filter_granules'][0]\n",
    "else:\n",
    "    print('Skipping tests: imagenator L2 is not configured for environment')"
   ]
  },
  {
   "cell_type": "markdown",
   "id": "e75ca9df",
   "metadata": {},
   "source": [
    "## Test: imagenator L2 request on TEMPO NO2 vertical_column_stratosphere variable\n",
    "\n",
    "Submit a single-granule request and validate output files."
   ]
  },
  {
   "cell_type": "code",
   "execution_count": null,
   "id": "a5365989",
   "metadata": {},
   "outputs": [],
   "source": [
    "if environment_information is not None:\n",
    "    # Build the request\n",
    "    request = Request(collection=filter_collection, granule_id=[filter_granule],\n",
    "                      variables='product/vertical_column_stratosphere',format='image/png')\n",
    "    print(harmony_client.request_as_curl(request))\n",
    "\n",
    "    # Submit and wait for completion\n",
    "    job_id = harmony_client.submit(request)\n",
    "    harmony_client.wait_for_processing(job_id, show_progress=True)\n",
    "\n",
    "    # Validate against reference_data/\n",
    "    validate_imagenator_outputs(harmony_client, job_id)\n",
    "else:\n",
    "    print('Skipping test: imagenator L2 not configured for environment')"
   ]
  },
  {
   "cell_type": "markdown",
   "id": "4252b16d-c5c2-4cc3-8004-1d7695641782",
   "metadata": {},
   "source": [
    "### Set up environment-dependent variables for imagenator L3:\n",
    "\n",
    "Define the collection and granule for testing in each environment."
   ]
  },
  {
   "cell_type": "code",
   "execution_count": null,
   "id": "fb196c0e-1631-4845-b57f-4dd40125de04",
   "metadata": {},
   "outputs": [],
   "source": [
    "# TEMPO NO2 Level-3 data\n",
    "non_production_collection = {\n",
    "    'filter_collection': Collection(id='C1262899964-LARC_CLOUD')\n",
    "}\n",
    "non_prod_granule_data = {'filter_granules': ['G1269043414-LARC_CLOUD']}\n",
    "\n",
    "collection_data = {\n",
    "    'https://harmony.uat.earthdata.nasa.gov': {\n",
    "        **non_production_collection,\n",
    "        **non_prod_granule_data,\n",
    "        'env': Environment.UAT,\n",
    "    },\n",
    "    'https://harmony.sit.earthdata.nasa.gov': {\n",
    "        **non_production_collection,\n",
    "        **non_prod_granule_data,\n",
    "        'env': Environment.SIT,\n",
    "    },\n",
    "    'http://localhost:3000': {\n",
    "        **non_production_collection,\n",
    "        **non_prod_granule_data,\n",
    "        'env': Environment.LOCAL,\n",
    "    },\n",
    "}\n",
    "\n",
    "environment_information = collection_data.get(harmony_host_url)\n",
    "\n",
    "if environment_information is not None:\n",
    "    harmony_client = Client(env=environment_information['env'])\n",
    "    filter_collection = environment_information['filter_collection']\n",
    "    filter_granule = environment_information['filter_granules'][0]\n",
    "else:\n",
    "    print('Skipping tests: imagenator L3 is not configured for environment')"
   ]
  },
  {
   "cell_type": "markdown",
   "id": "7a28b942-9775-47e8-bcb0-26e1ab5f6988",
   "metadata": {},
   "source": [
    "## Test: imagenator L3 request on TEMPO NO2 vertical_column_stratosphere variable\n",
    "\n",
    "Submit a single-granule request and validate output files."
   ]
  },
  {
   "cell_type": "code",
   "execution_count": null,
   "id": "c39675ba-a8df-49e5-93c3-8289d0916759",
   "metadata": {},
   "outputs": [],
   "source": [
    "if environment_information is not None:\n",
    "    # Build the request\n",
    "    request = Request(collection=filter_collection, granule_id=[filter_granule],\n",
    "                      variables='product/vertical_column_stratosphere',format='image/png')\n",
    "    print(harmony_client.request_as_curl(request))\n",
    "\n",
    "    # Submit and wait for completion\n",
    "    job_id = harmony_client.submit(request)\n",
    "    harmony_client.wait_for_processing(job_id, show_progress=True)\n",
    "\n",
    "    # Validate against reference_data/\n",
    "    validate_imagenator_outputs(harmony_client, job_id)\n",
    "else:\n",
    "    print('Skipping test: imagenator L3 not configured for environment')"
   ]
  }
 ],
 "metadata": {
  "kernelspec": {
   "display_name": "Python 3 (ipykernel)",
   "language": "python",
   "name": "python3"
  },
  "language_info": {
   "codemirror_mode": {
    "name": "ipython",
    "version": 3
   },
   "file_extension": ".py",
   "mimetype": "text/x-python",
   "name": "python",
   "nbconvert_exporter": "python",
   "pygments_lexer": "ipython3",
   "version": "3.12.11"
  }
 },
 "nbformat": 4,
 "nbformat_minor": 5
}
