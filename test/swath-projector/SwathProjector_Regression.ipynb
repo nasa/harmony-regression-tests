{
 "cells": [
  {
   "cell_type": "markdown",
   "id": "f7f9ded8",
   "metadata": {},
   "source": [
    "# Regression test suite for the Swath Projector service:\n",
    "\n",
    "This notebook provides condensed examples of using Harmony to make requests against the [Swath Projector service]() developed and managed by the Data Services team on the Transformation Train. This service take input swath data and projects the variables within that swath to a grid as defined by the input Harmony request.\n",
    "\n",
    "A request to the Swath Projector can specify a number of parameters, or combinations thereof:\n",
    "\n",
    "* A target projection specified by an EPSG code (e.g., \"EPSG:4326\" for geographically gridded data).\n",
    "* A target projection specified as a Proj4 string (e.g., \"+proj=lcc +lat_1=43 +lat_2=62 +lat_0=30 +lon_0=10 +x_0=0 +y_0=0 +ellps=intl +units=m +no_defs\").\n",
    "* A target grid height and width (e.g., the number of pixel columns and rows).\n",
    "* A target grid resolution (in degrees or projected metres).\n",
    "* A target grid extent (e.g., the longitude and latitude or x and y ranges of the output grid).\n",
    "\n",
    "Note, several configuration tips were gained from [this blog post](https://towardsdatascience.com/introduction-to-papermill-2c61f66bea30).\n",
    "\n",
    "## Prerequisites\n",
    "\n",
    "The dependencies for this notebook are listed in the [environment.yaml](./environment.yaml). To test or install locally, create the papermill environment used in the automated regression testing suite:\n",
    "\n",
    "`conda env create -f ./environment.yaml && conda activate papermill`\n",
    "\n",
    "A `.netrc` file must also be located in the `test` directory of this repository."
   ]
  },
  {
   "cell_type": "markdown",
   "id": "009f1df8",
   "metadata": {},
   "source": [
    "## Import required packages:"
   ]
  },
  {
   "cell_type": "code",
   "execution_count": null,
   "id": "7ce7f640",
   "metadata": {
    "jupyter": {
     "source_hidden": true
    },
    "tags": []
   },
   "outputs": [],
   "source": [
    "from datetime import datetime\n",
    "from os.path import exists\n",
    "\n",
    "from harmony import Client, Collection, Environment, Request\n",
    "\n",
    "from utilities import (compare_results_to_reference_file, print_success,\n",
    "                       remove_results_files, submit_and_download)"
   ]
  },
  {
   "cell_type": "markdown",
   "id": "00758d6f",
   "metadata": {},
   "source": [
    "## Set default parameters:\n",
    "\n",
    "`papermill` requires default values for parameters used on the workflow. In this case, `harmony_host_url`."
   ]
  },
  {
   "cell_type": "code",
   "execution_count": null,
   "id": "45f380c6",
   "metadata": {
    "tags": [
     "parameters"
    ]
   },
   "outputs": [],
   "source": [
    "harmony_host_url = 'https://harmony.uat.earthdata.nasa.gov'"
   ]
  },
  {
   "cell_type": "markdown",
   "id": "9237f449",
   "metadata": {},
   "source": [
    "### Identify Harmony environment (for easier reference):"
   ]
  },
  {
   "cell_type": "code",
   "execution_count": null,
   "id": "4420bb6e",
   "metadata": {},
   "outputs": [],
   "source": [
    "host_environment = {'http://localhost:3000': Environment.LOCAL,\n",
    "                    'https://harmony.sit.earthdata.nasa.gov': Environment.SIT,\n",
    "                    'https://harmony.uat.earthdata.nasa.gov': Environment.UAT,\n",
    "                    'https://harmony.earthdata.nasa.gov': Environment.PROD}\n",
    "\n",
    "\n",
    "harmony_environment = host_environment.get(harmony_host_url)\n",
    "\n",
    "if harmony_environment is not None:\n",
    "    harmony_client = Client(env=harmony_environment)"
   ]
  },
  {
   "cell_type": "markdown",
   "id": "fc7aef85",
   "metadata": {},
   "source": [
    "# Begin regression tests:\n",
    "\n",
    "The Swath Projector is currently only configured against collections in the SIT and UAT environment. These tests use the [Harmony L2 example data collection](https://cmr.uat.earthdata.nasa.gov/search/concepts/C1233860183-EEDTEST.html)."
   ]
  },
  {
   "cell_type": "code",
   "execution_count": null,
   "id": "9ef1408b-aba9-48a9-ba0f-a880a6283919",
   "metadata": {},
   "outputs": [],
   "source": [
    "swath_projector_non_prod_information = {'collection': Collection(id='C1233860183-EEDTEST'),\n",
    "                                        'granule_id': 'G1233860549-EEDTEST'}\n",
    "\n",
    "swath_projector_env = {Environment.LOCAL: swath_projector_non_prod_information,\n",
    "                       Environment.SIT: swath_projector_non_prod_information,\n",
    "                       Environment.UAT: swath_projector_non_prod_information}\n",
    "\n",
    "if harmony_environment in swath_projector_env:\n",
    "    swath_projector_info = swath_projector_env[harmony_environment]\n",
    "else:\n",
    "    swath_projector_info = None"
   ]
  },
  {
   "cell_type": "markdown",
   "id": "692b23d7-e82f-4f76-ad31-27dde2f7ed76",
   "metadata": {},
   "source": [
    "### Swath Projector request with defaults:\n",
    "\n",
    "Make a request that only specifies the collection and an appropriate granule. This should rely on the default target Coordinate Reference System (CRS) and interpolation method."
   ]
  },
  {
   "cell_type": "code",
   "execution_count": null,
   "id": "ebe08e96",
   "metadata": {},
   "outputs": [],
   "source": [
    "if swath_projector_info is not None:\n",
    "    defaults_file_name = 'swath_projector_defaults.nc4'\n",
    "    defaults_request = Request(collection=swath_projector_info['collection'],\n",
    "                               granule_id=[swath_projector_info['granule_id']])\n",
    "\n",
    "    submit_and_download(harmony_client, defaults_request, defaults_file_name)\n",
    "    assert exists(defaults_file_name), 'Unsuccessful Swath Projector defaults request.'\n",
    "\n",
    "    compare_results_to_reference_file(defaults_file_name,\n",
    "                                      'reference_files/swath_projector_defaults_reference.nc4')\n",
    "\n",
    "    print_success('Swath projector with default parameters.')\n",
    "else:\n",
    "    print(f'The Swath Projector is not configured for environment: \"{harmony_environment}\" - skipping test.')"
   ]
  },
  {
   "cell_type": "markdown",
   "id": "c93f150c-f1b3-4005-885c-4b9f65f6600f",
   "metadata": {},
   "source": [
    "### Swath Projector request for Madagascar:\n",
    "\n",
    "Make a request to the Swath Projector specifying a target CRS using an EPSG code, and requested that the target grid covers only the area surrounding Madagascar, using the `scaleExtents` parameter."
   ]
  },
  {
   "cell_type": "code",
   "execution_count": null,
   "id": "a99357c0",
   "metadata": {},
   "outputs": [],
   "source": [
    "if swath_projector_info is not None:\n",
    "    epsg_file_name = 'swath_projector_epsg.nc4'\n",
    "    epsg_request = Request(collection=swath_projector_info['collection'],\n",
    "                           granule_id=[swath_projector_info['granule_id']],\n",
    "                           crs='EPSG:4326', scale_extent=[42, -27, 52, -10],\n",
    "                           temporal={'start': datetime(2020, 1, 15), 'stop': datetime(2020, 1, 16)})\n",
    "\n",
    "    submit_and_download(harmony_client, epsg_request, epsg_file_name)\n",
    "    assert exists(epsg_file_name), 'Unsuccessful Swath Projector EPSG code request.'\n",
    "\n",
    "    compare_results_to_reference_file(epsg_file_name,\n",
    "                                      'reference_files/swath_projector_epsg_reference.nc4')\n",
    "\n",
    "    print_success('Swath Projector EPSG code request.')\n",
    "else:\n",
    "    print(f'The Swath Projector is not configured for environment: \"{harmony_environment}\" - skipping test.')"
   ]
  },
  {
   "cell_type": "markdown",
   "id": "35a1507a-84e2-4856-8f6f-bf646339c727",
   "metadata": {},
   "source": [
    "### Swath Projector, interpolation type and Proj4:\n",
    "\n",
    "Use the `interpolation` and `outputCrs` parameters to ensure a raw Proj4 string is valid input and that the user can select a non-default interpolation type."
   ]
  },
  {
   "cell_type": "code",
   "execution_count": null,
   "id": "a80fa22c",
   "metadata": {},
   "outputs": [],
   "source": [
    "if swath_projector_info is not None:\n",
    "    proj4_string_file_name = 'swath_projector_proj4.nc4'\n",
    "    proj4_lcc = '+proj=lcc +lat_1=43 +lat_2=62 +lat_0=30 +lon_0=10 +x_0=0 +y_0=0 +ellps=intl +units=m +no_defs'\n",
    "    proj4_string_request = Request(collection=swath_projector_info['collection'],\n",
    "                                   granule_id=[swath_projector_info['granule_id']],\n",
    "                                   crs=proj4_lcc, interpolation='near',\n",
    "                                   temporal={'start': datetime(2020, 1, 15), 'stop': datetime(2020, 1, 16)})\n",
    "\n",
    "    submit_and_download(harmony_client, proj4_string_request, proj4_string_file_name)\n",
    "    assert exists(proj4_string_file_name), 'Unsuccessful Swath Projector interpolation and Proj4 request.'\n",
    "\n",
    "    compare_results_to_reference_file(proj4_string_file_name,\n",
    "                                      'reference_files/swath_projector_proj4_reference.nc4')\n",
    "\n",
    "    print_success('Swath Projector interpolation and Proj4 request')\n",
    "else:\n",
    "    print(f'The Swath Projector is not configured for environment: \"{harmony_environment}\" - skipping test.')"
   ]
  },
  {
   "cell_type": "markdown",
   "id": "1312de28",
   "metadata": {},
   "source": [
    "## Clean up results files:"
   ]
  },
  {
   "cell_type": "code",
   "execution_count": null,
   "id": "73fdd147-74a0-48d3-957f-388e2abe356a",
   "metadata": {},
   "outputs": [],
   "source": [
    "remove_results_files()"
   ]
  }
 ],
 "metadata": {
  "celltoolbar": "Tags",
  "kernelspec": {
   "display_name": "Python 3 (ipykernel)",
   "language": "python",
   "name": "python3"
  },
  "language_info": {
   "codemirror_mode": {
    "name": "ipython",
    "version": 3
   },
   "file_extension": ".py",
   "mimetype": "text/x-python",
   "name": "python",
   "nbconvert_exporter": "python",
   "pygments_lexer": "ipython3",
   "version": "3.9.15"
  },
  "name": "SDS_Regression.ipynb"
 },
 "nbformat": 4,
 "nbformat_minor": 5
}
