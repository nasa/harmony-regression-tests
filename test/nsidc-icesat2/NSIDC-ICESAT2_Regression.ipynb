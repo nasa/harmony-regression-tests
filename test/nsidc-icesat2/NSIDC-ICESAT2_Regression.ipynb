{
 "cells": [
  {
   "cell_type": "markdown",
   "id": "b651bd85-cab3-4efa-a1b2-a1442512e8d4",
   "metadata": {
    "editable": true,
    "slideshow": {
     "slide_type": ""
    },
    "tags": []
   },
   "source": [
    "# NSIDC ICESat2 Regression tests\n",
    "\n",
    "### This juypter notebook runs and verifies a series of test requests against NSIDC's ICESat2 data.\n",
    "\n",
    "Requests are submitted and the retrieved data compared to a set of verified results.\n",
    "\n",
    "Sample requests include:\n",
    "\n",
    "- Subset by bounding box\n",
    "- Subset by temporal range\n",
    "- Subset by shapefile \n",
    "\n",
    "\n",
    "We test against ICESat2 v6 collections:\n",
    "[ATL03](https://nsidc.org/data/atl03/versions/6), [ATL04](https://nsidc.org/data/atl04/versions/6), [ATL06](https://nsidc.org/data/atl06/versions/6), [ATL07](https://nsidc.org/data/atl07/versions/6), [ATL08](https://nsidc.org/data/atl08/versions/6), [ATL09](https://nsidc.org/data/atl09/versions/6), [ATL10](https://nsidc.org/data/atl10/versions/6), [ATL12](https://nsidc.org/data/atl12/versions/6) and [ATL13](https://nsidc.org/data/atl13/versions/6)\n",
    "\n",
    "\n",
    "## Prerequisites\n",
    "\n",
    "The dependencies for this notebook are listed in the\n",
    "[environment.yaml](https://github.com/nasa/harmony-regression-tests/blob/main/test/nsidc-icesat2/environment.yaml). To test locally, create the conda environment used in the automated regression testing suite:\n",
    "\n",
    "```sh\n",
    "conda env create -f ./environment.yaml && conda activate papermill-nsidc-icesat2\n",
    "```\n",
    "\n",
    "A `.netrc` file must also be located in the `test` directory of this repository. Additionally the credentials in this .netrc should belong to a user that can access the NSIDC data which may be protected by ACLs in UAT and SIT.\n",
    "\n",
    "\n",
    "## Set the Harmony environment:\n",
    "\n",
    "The next cell below sets the `harmony_host_url` to one of the following valid values:\n",
    "\n",
    "* Production: <https://harmony.earthdata.nasa.gov>\n",
    "* UAT: <https://harmony.uat.earthdata.nasa.gov>\n",
    "* SIT: <https://harmony.sit.earthdata.nasa.gov>\n",
    "* Local: <http://localhost:3000>\n",
    "\n",
    "By default, the value is set to use Harmony's UAT environment. You can modify the target environment in two ways when using this notebook.\n",
    "\n",
    "* Run this notebook in a local Jupyter notebook server and simply edit the value of `harmony_host_url` in the cell below to be the desired value for your environment.\n",
    "\n",
    "* Run the `run_notebooks.sh` script, which uses the papermill library to parameterize and run notebooks. Before running, set the environment variable `HARMONY_HOST_URL` to the desired environment's URL from the list above. This variable will override the default value in the cell below, allowing papermill to inject the correct URL into the notebook at runtime."
   ]
  },
  {
   "cell_type": "code",
   "execution_count": null,
   "id": "f08acc3f-6bc7-4a2e-a602-cc10ecb27677",
   "metadata": {
    "editable": true,
    "slideshow": {
     "slide_type": ""
    },
    "tags": [
     "parameters"
    ]
   },
   "outputs": [],
   "source": [
    "harmony_host_url = 'https://harmony.uat.earthdata.nasa.gov'"
   ]
  },
  {
   "cell_type": "markdown",
   "id": "861e2e7d-9627-4c4f-9eda-77e915a3cc2d",
   "metadata": {},
   "source": [
    "### Import required packages"
   ]
  },
  {
   "cell_type": "code",
   "execution_count": null,
   "id": "c6c54643-4653-4368-9158-1deb8197f9c9",
   "metadata": {},
   "outputs": [],
   "source": [
    "from harmony import BBox, Client, Collection, Dimension, Environment, Request\n",
    "from os.path import exists\n",
    "from datetime import datetime\n",
    "from pathlib import Path"
   ]
  },
  {
   "cell_type": "markdown",
   "id": "723b8b8e-312c-4bdc-9620-3cbcb48183d7",
   "metadata": {},
   "source": [
    "#### Import shared utility functions:"
   ]
  },
  {
   "cell_type": "code",
   "execution_count": null,
   "id": "4919504b-1f79-4073-ae79-9a23fb1f906f",
   "metadata": {},
   "outputs": [],
   "source": [
    "import sys\n",
    "\n",
    "sys.path.append('../shared_utils')\n",
    "from utilities import (\n",
    "    print_error,\n",
    "    print_success,\n",
    "    submit_and_download,\n",
    "    compare_results_to_reference_file_new,\n",
    ")"
   ]
  },
  {
   "cell_type": "markdown",
   "id": "b38863ea-7be5-4251-afa8-9669e973fc36",
   "metadata": {},
   "source": [
    "### Set up test information"
   ]
  },
  {
   "cell_type": "code",
   "execution_count": null,
   "id": "5e40649a-20f8-4c8d-8b7f-9d0b81c7732f",
   "metadata": {},
   "outputs": [],
   "source": [
    "non_production_configuration = {\n",
    "    'subset_bounding_box': {\n",
    "        'ATL03': {\n",
    "            'collection_concept_id': Collection(id='C1256407609-NSIDC_CUAT'),\n",
    "            'granule_id': 'G1262402516-NSIDC_CUAT',\n",
    "            'spatial': BBox(-105.5, 40.0, -105.0, 40.005),\n",
    "        },\n",
    "        'ATL07': {\n",
    "            'collection_concept_id': Collection(id='C1256535488-NSIDC_CUAT'),\n",
    "            'granule_id': 'G1261684946-NSIDC_CUAT',\n",
    "            'spatial': BBox(-112.0, 80.0, -93.0, 80.3),\n",
    "        },\n",
    "        'ATL08': {\n",
    "            'collection_concept_id': Collection(id='C1256432189-NSIDC_CUAT'),\n",
    "            'granule_id': 'G1260745539-NSIDC_CUAT',\n",
    "            'spatial': BBox(-105.5, 40.0, -105.0, 40.25),\n",
    "        },\n",
    "    },\n",
    "    'subset_by_temporal_range': {\n",
    "        'ATL04': {\n",
    "            'collection_concept_id': Collection(id='C1256535558-NSIDC_CUAT'),\n",
    "            'granule_id': 'G1256952662-NSIDC_CUAT',\n",
    "            'temporal': {\n",
    "                'start': datetime.fromisoformat(\"2020-04-08T08:00:00.000Z\"),\n",
    "                'stop': datetime.fromisoformat(\"2020-04-08T08:05:00.000Z\"),\n",
    "            },\n",
    "            'coords_to_rename': ['delta_time'],\n",
    "        }\n",
    "    },\n",
    "    'subset_by_shapefile': {\n",
    "        'ATL06': {\n",
    "            'collection_concept_id': Collection(id='C1256358217-NSIDC_CUAT'),\n",
    "            'granule_id': 'G1260779121-NSIDC_CUAT',\n",
    "            'shape': 'ancillary/Iceland_sliver.geojson',\n",
    "        },\n",
    "    },\n",
    "}\n",
    "\n",
    "\n",
    "environment_configuration = {\n",
    "    'https://harmony.uat.earthdata.nasa.gov': {\n",
    "        **non_production_configuration,\n",
    "        'env': Environment.UAT,\n",
    "    },\n",
    "    'https://harmony.sit.earthdata.nasa.gov': {\n",
    "        **non_production_configuration,\n",
    "        'env': Environment.SIT,\n",
    "    },\n",
    "    'http://localhost:3000': {\n",
    "        **non_production_configuration,\n",
    "        'env': Environment.LOCAL,\n",
    "    },\n",
    "}\n",
    "\n",
    "configuration = environment_configuration.get(harmony_host_url)\n",
    "\n",
    "if configuration is not None:\n",
    "    harmony_client = Client(env=configuration['env'])"
   ]
  },
  {
   "cell_type": "markdown",
   "id": "57e82730-a033-4a4e-82ea-403a38d9670f",
   "metadata": {},
   "source": [
    "### Run Bounding Box Tests\n",
    "\n",
    "#### TODO write what this does\n",
    "\n"
   ]
  },
  {
   "cell_type": "code",
   "execution_count": null,
   "id": "42269206-f773-45c0-83ac-4a5fea4668c4",
   "metadata": {},
   "outputs": [],
   "source": [
    "test_name = 'subset_bounding_box'\n",
    "if configuration is not None:\n",
    "    for shortname, test_config in configuration[test_name].items():\n",
    "        test_request = Request(\n",
    "            collection=test_config['collection_concept_id'],\n",
    "            granule_id=[test_config['granule_id']],\n",
    "            spatial=test_config['spatial'],\n",
    "        )\n",
    "        test_output = Path(f'{shortname}_{test_name}.h5')\n",
    "        test_reference = Path(\n",
    "            f'reference_files/{test_output.stem}_reference{test_output.suffix}'\n",
    "        )\n",
    "\n",
    "        url = harmony_client.request_as_url(test_request)\n",
    "        print(f'testing URL: {url}')\n",
    "\n",
    "        submit_and_download(harmony_client, test_request, test_output)\n",
    "\n",
    "        assert exists(\n",
    "            test_output\n",
    "        ), 'Unsuccessful Harmony Request: {shortname}: {test_name}'\n",
    "        compare_results_to_reference_file_new(test_output, test_reference)\n",
    "        print_success(f'{shortname} {test_name} test request.')\n",
    "\n",
    "    print_success(f'{test_name} test suite.')\n",
    "else:\n",
    "    print(\n",
    "        f'Bounding box tests not configured for environment: {harmony_environment} - skipping tests'\n",
    "    )"
   ]
  },
  {
   "cell_type": "markdown",
   "id": "f0f860c5-9c4e-4b83-920b-02353c8f5114",
   "metadata": {},
   "source": [
    "## Run Temporal Range Tests"
   ]
  },
  {
   "cell_type": "code",
   "execution_count": null,
   "id": "abdd4887-b242-4582-a296-b58315d0d444",
   "metadata": {},
   "outputs": [],
   "source": []
  },
  {
   "cell_type": "code",
   "execution_count": null,
   "id": "20ab50f4-c142-4733-858e-b4fba1053386",
   "metadata": {},
   "outputs": [],
   "source": [
    "test_name = 'subset_by_temporal_range'\n",
    "if configuration is not None:\n",
    "    for shortname, test_config in configuration[test_name].items():\n",
    "        test_request = Request(\n",
    "            collection=test_config['collection_concept_id'],\n",
    "            granule_id=[test_config['granule_id']],\n",
    "            temporal=test_config['temporal'],\n",
    "        )\n",
    "        test_output = Path(f'{shortname}_{test_name}.h5')\n",
    "        test_reference = Path(\n",
    "            f'reference_files/{test_output.stem}_reference{test_output.suffix}'\n",
    "        )\n",
    "\n",
    "        url = harmony_client.request_as_url(test_request)\n",
    "        print(f'testing URL: {url}')\n",
    "\n",
    "        submit_and_download(harmony_client, test_request, test_output)\n",
    "\n",
    "        assert exists(\n",
    "            test_output\n",
    "        ), 'Unsuccessful Harmony Request: {shortname}: {test_name}'\n",
    "        compare_results_to_reference_file_new(\n",
    "            test_output, test_reference, test_config['coords_to_rename']\n",
    "        )\n",
    "        print_success(f'{shortname} {test_name} test request.')\n",
    "\n",
    "    print_success(f'{test_name} test suite.')\n",
    "else:\n",
    "    print(\n",
    "        f'Bounding box tests not configured for environment: {harmony_environment} - skipping tests'\n",
    "    )"
   ]
  },
  {
   "cell_type": "markdown",
   "id": "905f5f9e-2fca-456d-ae37-7ac49f6296ce",
   "metadata": {},
   "source": [
    "## Run Subset by Shapefile Tests"
   ]
  },
  {
   "cell_type": "code",
   "execution_count": null,
   "id": "c60d37d9-2a18-49db-8c88-c022f70bdab7",
   "metadata": {},
   "outputs": [],
   "source": []
  },
  {
   "cell_type": "code",
   "execution_count": null,
   "id": "e91d4136-74c4-4bbc-8217-44a27296d196",
   "metadata": {},
   "outputs": [],
   "source": [
    "test_name = 'subset_by_shapefile'\n",
    "if configuration is not None:\n",
    "    for shortname, test_config in configuration[test_name].items():\n",
    "        test_request = Request(\n",
    "            collection=test_config['collection_concept_id'],\n",
    "            granule_id=[test_config['granule_id']],\n",
    "            shape=test_config['shape'],\n",
    "        )\n",
    "        test_output = Path(f'{shortname}_{test_name}.h5')\n",
    "        test_reference = Path(\n",
    "            f'reference_files/{test_output.stem}_reference{test_output.suffix}'\n",
    "        )\n",
    "        print(test_reference)\n",
    "\n",
    "        submit_and_download(harmony_client, test_request, test_output)\n",
    "\n",
    "        assert exists(\n",
    "            test_output\n",
    "        ), 'Unsuccessful Harmony Request: {shortname}: {test_name}'\n",
    "        compare_results_to_reference_file_new(test_output, test_reference, [])\n",
    "        print_success(f'{shortname} {test_name} test request.')\n",
    "\n",
    "    print_success(f'{test_name} test suite.')\n",
    "else:\n",
    "    print(\n",
    "        f'Bounding box tests not configured for environment: {harmony_environment} - skipping tests'\n",
    "    )"
   ]
  },
  {
   "cell_type": "code",
   "execution_count": null,
   "id": "cf49d848-f90e-46e5-b13f-5f7d1eaf9e1c",
   "metadata": {},
   "outputs": [],
   "source": []
  }
 ],
 "metadata": {
  "kernelspec": {
   "display_name": "Python 3 (ipykernel)",
   "language": "python",
   "name": "python3"
  },
  "language_info": {
   "codemirror_mode": {
    "name": "ipython",
    "version": 3
   },
   "file_extension": ".py",
   "mimetype": "text/x-python",
   "name": "python",
   "nbconvert_exporter": "python",
   "pygments_lexer": "ipython3",
   "version": "3.11.5"
  }
 },
 "nbformat": 4,
 "nbformat_minor": 5
}
