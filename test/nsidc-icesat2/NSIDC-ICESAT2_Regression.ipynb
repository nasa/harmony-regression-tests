{
 "cells": [
  {
   "cell_type": "markdown",
   "id": "b651bd85-cab3-4efa-a1b2-a1442512e8d4",
   "metadata": {
    "editable": true,
    "slideshow": {
     "slide_type": ""
    },
    "tags": []
   },
   "source": [
    "# NSIDC ICESat2 Regression tests\n",
    "\n",
    "### This juypter notebook runs and verifies a series of test requests against NSIDC's ICESat2 data.\n",
    "\n",
    "Requests are submitted and the retrieved data compared to a set of verified results.\n",
    "\n",
    "Sample requests include:\n",
    "\n",
    "- Subset by bounding box\n",
    "- Subset by temporal range\n",
    "- Subset by shapefile \n",
    "\n",
    "\n",
    "We test against ICESat2 v6 collections:\n",
    "[ATL03](https://nsidc.org/data/atl03/versions/6), [ATL04](https://nsidc.org/data/atl04/versions/6), [ATL06](https://nsidc.org/data/atl06/versions/6), [ATL07](https://nsidc.org/data/atl07/versions/6), [ATL08](https://nsidc.org/data/atl08/versions/6), [ATL09](https://nsidc.org/data/atl09/versions/6), [ATL10](https://nsidc.org/data/atl10/versions/6), [ATL12](https://nsidc.org/data/atl12/versions/6) and [ATL13](https://nsidc.org/data/atl13/versions/6)\n",
    "\n",
    "\n",
    "## Prerequisites\n",
    "\n",
    "The dependencies for this notebook are listed in the\n",
    "[environment.yaml](https://github.com/nasa/harmony-regression-tests/blob/main/test/nsidc-icesat2/environment.yaml). To test locally, create the conda environment used in the automated regression testing suite:\n",
    "\n",
    "```sh\n",
    "conda env create -f ./environment.yaml && conda activate papermill-nsidc-icesat2\n",
    "```\n",
    "\n",
    "A `.netrc` file must also be located in the `test` directory of this repository. Additionally the credentials in this .netrc should belong to a user that can access the NSIDC data which may be protected by ACLs in UAT and SIT.\n",
    "\n",
    "\n",
    "## Set the Harmony environment:\n",
    "\n",
    "The next cell below sets the `harmony_host_url` to one of the following valid values:\n",
    "\n",
    "* Production: <https://harmony.earthdata.nasa.gov>\n",
    "* UAT: <https://harmony.uat.earthdata.nasa.gov>\n",
    "* SIT: <https://harmony.sit.earthdata.nasa.gov>\n",
    "* Local: <http://localhost:3000>\n",
    "\n",
    "By default, the value is set to use Harmony's UAT environment. You can modify the target environment in two ways when using this notebook.\n",
    "\n",
    "* Run this notebook in a local Jupyter notebook server and simply edit the value of `harmony_host_url` in the cell below to be the desired value for your environment.\n",
    "\n",
    "* Run the `run_notebooks.sh` script, which uses the papermill library to parameterize and run notebooks. Before running, set the environment variable `HARMONY_HOST_URL` to the desired environment's URL from the list above. This variable will override the default value in the cell below, allowing papermill to inject the correct URL into the notebook at runtime."
   ]
  },
  {
   "cell_type": "code",
   "execution_count": 8,
   "id": "f08acc3f-6bc7-4a2e-a602-cc10ecb27677",
   "metadata": {
    "editable": true,
    "slideshow": {
     "slide_type": ""
    },
    "tags": [
     "parameters"
    ]
   },
   "outputs": [],
   "source": [
    "harmony_host_url = 'https://harmony.uat.earthdata.nasa.gov'"
   ]
  },
  {
   "cell_type": "markdown",
   "id": "861e2e7d-9627-4c4f-9eda-77e915a3cc2d",
   "metadata": {},
   "source": [
    "### Import required packages"
   ]
  },
  {
   "cell_type": "code",
   "execution_count": 3,
   "id": "c6c54643-4653-4368-9158-1deb8197f9c9",
   "metadata": {},
   "outputs": [],
   "source": [
    "from harmony import BBox, Client, Collection, Dimension, Environment, Request"
   ]
  },
  {
   "cell_type": "markdown",
   "id": "723b8b8e-312c-4bdc-9620-3cbcb48183d7",
   "metadata": {},
   "source": [
    "#### Import shared utility functions:"
   ]
  },
  {
   "cell_type": "code",
   "execution_count": 15,
   "id": "4919504b-1f79-4073-ae79-9a23fb1f906f",
   "metadata": {},
   "outputs": [
    {
     "name": "stdout",
     "output_type": "stream",
     "text": [
      "\u001b[91mwhoopie\u001b[0m\n"
     ]
    }
   ],
   "source": [
    "import sys\n",
    "\n",
    "sys.path.append('../shared_utils')\n",
    "from utilities import print_error  # noqa: E402"
   ]
  },
  {
   "cell_type": "markdown",
   "id": "b38863ea-7be5-4251-afa8-9669e973fc36",
   "metadata": {},
   "source": [
    "### Set up test information"
   ]
  },
  {
   "cell_type": "code",
   "execution_count": 16,
   "id": "273e24d4-9a7b-42bb-a3be-568b37969da2",
   "metadata": {},
   "outputs": [],
   "source": [
    "non_prod_configuration = {\n",
    "    'subset_bounding_box': {\n",
    "        'ATL03': {\n",
    "            'collection_concept_id': 'C1256407609-NSIDC_CUAT',\n",
    "            'granule_id': 'G1262402516-NSIDC_CUAT',\n",
    "            'subset': 'subset=lat(40:40.005)&subset=lon(-105.5:-105)',\n",
    "        },\n",
    "        'ATL07': {\n",
    "            'collection_concept_id': 'C1256535488-NSIDC_CUAT',\n",
    "            'granule_id': 'G1261684946-NSIDC_CUAT',\n",
    "            'subset': 'subset=lat(80:80.3)&subset=lon(-112:-93)',\n",
    "        },\n",
    "        'ATL08': {\n",
    "            'collection_concept_id': 'C1256432189-NSIDC_CUAT',\n",
    "            'granule_id': 'G1260745539-NSIDC_CUAT',\n",
    "            'subset': 'subset=lat(40:40.25)&subset=lon(-105.5:-105)',\n",
    "        },\n",
    "    },\n",
    "    'subset_by_temporal_range': {\n",
    "        'ATL04': {\n",
    "            'collection_concept_id': 'C1256535558-NSIDC_CUAT',\n",
    "            'granule_id': 'G1256952662-NSIDC_CUAT',\n",
    "            'subset': 'subset=time(\"2020-04-08T08:00:00.000Z\":\"2020-04-08T08:05:00.000Z\")',\n",
    "        }\n",
    "    },\n",
    "    'subset_by_shapefile': {\n",
    "        'ATL06': {\n",
    "            'collection_concept_id': 'C1256358217-NSIDC_CUAT',\n",
    "            'granule_id': 'G1260779121-NSIDC_CUAT',\n",
    "            'shape': '-F \"shapefile=@Iceland_sliver.geojson;type=application/geo+json\"',\n",
    "        },\n",
    "    },\n",
    "}"
   ]
  },
  {
   "cell_type": "code",
   "execution_count": null,
   "id": "3a3e4e07-7833-4d81-974e-c696c280cab9",
   "metadata": {},
   "outputs": [],
   "source": []
  },
  {
   "cell_type": "code",
   "execution_count": null,
   "id": "8ad80e63-5a78-47f8-a343-13c1d3d07d28",
   "metadata": {},
   "outputs": [],
   "source": []
  },
  {
   "cell_type": "markdown",
   "id": "7cd0d91e-bc75-4931-a43c-a6926d67275c",
   "metadata": {},
   "source": [
    "description|short name|version|root url|collection concept ID|api|api version|collections/all/coverage/rangeset?maxResults=1|granuleId|subset||curl|output file||harmony request url|curl command\n",
    "----|----|----|----|----|----|----|----|----|----|----|---|----|----|----|----|\n",
    "subset by bounding box|ATL03|6|https://harmony.uat.earthdata.nasa.gov/|C1256407609-NSIDC_CUAT|/ogc-api-coverages/|1.0.0/|collections/all/coverage/rangeset?granuleId|G1262402516-NSIDC_CUAT|subset=lat(40%3A40.25)&subset=lon(-105.5%3A-105)||curl -Lnbj|-o atl03_spatial_test.h5||curl -Lnbj 'https://harmony.uat.earthdata.nasa.gov/C1256407609-NSIDC_CUAT/ogc-api-coverages/1.0.0/collections/all/coverage/rangeset?granuleId&G1262402516-NSIDC_CUAT&subset=lat(40%3A40.25)&subset=lon(-105.5%3A-105)' -o atl03_spatial_test.h5|\n",
    "subset by temporal range|ATL04|6|https://harmony.uat.earthdata.nasa.gov/|C1256535558-NSIDC_CUAT|/ogc-api-coverages/|1.0.0/|collections/all/coverage/rangeset?granuleId|G1256952662-NSIDC_CUAT|subset=time(%222020-04-08T08%3A00%3A00.000Z%22%3A%222020-04-08T08%3A20%3A00.000Z%22)||curl -Lnbj|-o atl04_temporal_test.h5||curl -Lnbj 'https://harmony.uat.earthdata.nasa.gov/C1256535558-NSIDC_CUAT/ogc-api-coverages/1.0.0/collections/all/coverage/rangeset?granuleId&G1256952662-NSIDC_CUAT&subset=time(%222020-04-08T08%3A00%3A00.000Z%22%3A%222020-04-08T08%3A20%3A00.000Z%22)' -o atl04_temporal_test.h5|\n",
    "subset by shapefile|ATL06|6|https://harmony.uat.earthdata.nasa.gov/|C1256358217-NSIDC_CUAT|/ogc-api-coverages/|1.0.0/|collections/all/coverage/rangeset?granuleId|G1260779121-NSIDC_CUAT|||curl -Ln -bj||shapefile=@iceland_simple.zip;type=application/shapefile+zip|curl -Ln -bj 'https://harmony.uat.earthdata.nasa.gov/C1256358217-NSIDC_CUAT/ogc-api-coverages/1.0.0/collections/all/coverage/rangeset?granuleId&G1260779121-NSIDC_CUAT&' |\n",
    "subset by bounding box|ATL07|6|https://harmony.uat.earthdata.nasa.gov/|C1256535488-NSIDC_CUAT|/ogc-api-coverages/|1.0.0/|collections/all/coverage/rangeset?granuleId|G1261684946-NSIDC_CUAT|subset=lat(77%3A82.5)&subset=lon(-112%3A-93)||curl -Lnbj|-o atl07_spatial_test.h5||curl -Lnbj 'https://harmony.uat.earthdata.nasa.gov/C1256535488-NSIDC_CUAT/ogc-api-coverages/1.0.0/collections/all/coverage/rangeset?granuleId&G1261684946-NSIDC_CUAT&subset=lat(77%3A82.5)&subset=lon(-112%3A-93)' -o atl07_spatial_test.h5|\n",
    "subset by bounding box|ATL08|6|https://harmony.uat.earthdata.nasa.gov/|C1256432189-NSIDC_CUAT|/ogc-api-coverages/|1.0.0/|collections/all/coverage/rangeset?granuleId|G1260745539-NSIDC_CUAT|subset=lat(40%3A40.25)&subset=lon(-105.5%3A-105)||curl -Lnbj|-o atl08_spatial_test.h5||curl -Lnbj 'https://harmony.uat.earthdata.nasa.gov/C1256432189-NSIDC_CUAT/ogc-api-coverages/1.0.0/collections/all/coverage/rangeset?granuleId&G1260745539-NSIDC_CUAT&subset=lat(40%3A40.25)&subset=lon(-105.5%3A-105)' -o atl08_spatial_test.h5|\n",
    "subset by temporal range|ATL08|6|https://harmony.uat.earthdata.nasa.gov/|C1256432189-NSIDC_CUAT|/ogc-api-coverages/|1.0.0/|collections/all/coverage/rangeset?granuleId|G1261385533-NSIDC_CUAT|subset=time(%222022-07-31T23%3A01%3A00.000Z%22%3A%222022-07-31T23%3A01%3A30.000Z%22)||curl -Lnbj|-o atl08_temporal_test.h5||curl -Lnbj 'https://harmony.uat.earthdata.nasa.gov/C1256432189-NSIDC_CUAT/ogc-api-coverages/1.0.0/collections/all/coverage/rangeset?granuleId&G1261385533-NSIDC_CUAT&subset=time(%222022-07-31T23%3A01%3A00.000Z%22%3A%222022-07-31T23%3A01%3A30.000Z%22)' -o atl08_temporal_test.h5|\n",
    "subset by shapefile|ATL09|6|https://harmony.uat.earthdata.nasa.gov/|C1256563776-NSIDC_CUAT|/ogc-api-coverages/|1.0.0/|collections/all/coverage/rangeset?granuleId|G1262106425-NSIDC_CUAT|||curl -Ln -bj||shapefile=@Tasmania_simple.geojson;type=application/geo+json|curl -Ln -bj 'https://harmony.uat.earthdata.nasa.gov/C1256563776-NSIDC_CUAT/ogc-api-coverages/1.0.0/collections/all/coverage/rangeset?granuleId&G1262106425-NSIDC_CUAT&' |\n",
    "subset by shapefile|ATL10|6|https://harmony.uat.earthdata.nasa.gov/|C1256535487-NSIDC_CUAT|/ogc-api-coverages/|1.0.0/|collections/all/coverage/rangeset?granuleId||*this test failed because of anti-meridian crossing||curl -Ln -bj||||\n",
    "subset by bounding box|ATL10|6|https://harmony.uat.earthdata.nasa.gov/|C1256535487-NSIDC_CUAT|/ogc-api-coverages/|1.0.0/|collections/all/coverage/rangeset?granuleId|G1261681735-NSIDC_CUAT|||curl -Ln -bj|-o atl10_spatial_test.h5|shapefile=@Ross_sea_positive_lon_only.geojson;type=application/geo+json|curl -Ln -bj 'https://harmony.uat.earthdata.nasa.gov/C1256535487-NSIDC_CUAT/ogc-api-coverages/1.0.0/collections/all/coverage/rangeset?granuleId&G1261681735-NSIDC_CUAT&' -o atl10_spatial_test.h5|\n",
    "subset by bounding box|ATL12|6|https://harmony.uat.earthdata.nasa.gov/|C1256476536-NSIDC_CUAT|/ogc-api-coverages/|1.0.0/|collections/all/coverage/rangeset?granuleId|G1263137424-NSIDC_CUAT|subset=lat(27%3A34)&subset=lon(-79%3A-77)||curl -Ln -bj|-o atl12_spatial_test.h5||curl -Ln -bj 'https://harmony.uat.earthdata.nasa.gov/C1256476536-NSIDC_CUAT/ogc-api-coverages/1.0.0/collections/all/coverage/rangeset?granuleId&G1263137424-NSIDC_CUAT&subset=lat(27%3A34)&subset=lon(-79%3A-77)' -o atl12_spatial_test.h5|\n",
    "subset by bounding box|ATL13|6|https://harmony.uat.earthdata.nasa.gov/|C1257810199-NSIDC_CUAT|/ogc-api-coverages/|1.0.0/|collections/all/coverage/rangeset?granuleId|G1261681705-NSIDC_CUAT|subset=lat(43%3A45)&subset=lon(-89%3A-75)||curl -Ln -bj|-o atl13_spatial_test.h5||curl -Ln -bj 'https://harmony.uat.earthdata.nasa.gov/C1257810199-NSIDC_CUAT/ogc-api-coverages/1.0.0/collections/all/coverage/rangeset?granuleId&G1261681705-NSIDC_CUAT&subset=lat(43%3A45)&subset=lon(-89%3A-75)' -o atl13_spatial_test.h5|"
   ]
  },
  {
   "cell_type": "code",
   "execution_count": null,
   "id": "aad47d4a-4d4a-484c-a4e2-517701c78ecf",
   "metadata": {},
   "outputs": [],
   "source": []
  }
 ],
 "metadata": {
  "kernelspec": {
   "display_name": "Python 3 (ipykernel)",
   "language": "python",
   "name": "python3"
  },
  "language_info": {
   "codemirror_mode": {
    "name": "ipython",
    "version": 3
   },
   "file_extension": ".py",
   "mimetype": "text/x-python",
   "name": "python",
   "nbconvert_exporter": "python",
   "pygments_lexer": "ipython3",
   "version": "3.11.5"
  }
 },
 "nbformat": 4,
 "nbformat_minor": 5
}
