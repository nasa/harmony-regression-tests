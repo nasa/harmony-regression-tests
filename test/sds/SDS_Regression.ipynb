{
 "cells": [
  {
   "cell_type": "markdown",
   "id": "f7f9ded8",
   "metadata": {},
   "source": [
    "# Regression test suite for services managed by the Data Services team:\n",
    "\n",
    "This notebook provides condensed examples of using Harmony to make requests against the services developed and managed by the Data Services team on the Transformation Train. These services currently include:\n",
    "\n",
    "* Swath Projector (a.k.a. SWOT Reprojector): `sds/swot-reproject`. A service that projects L2 swath data to a grid.\n",
    "* Variable Subsetter: `sds/variable-subsetter`. A service that extracts a subset of granule variables from OPeNDAP to provide a smaller, specific output product.\n",
    "* Harmony OPeNDAP SubSetter (HOSS): `sds/HOSS`. A service for geographically-gridded collections, allowing variable and bounding-box spatial subsetting.\n",
    "* MaskFill: `sds/maskfill`. A service that sets values outside of a user-defined GeoJSON shape to a fill value.\n",
    "\n",
    "Note, several configuration tips were gained from [this blog post](https://towardsdatascience.com/introduction-to-papermill-2c61f66bea30).\n",
    "\n",
    "## Prerequisites\n",
    "\n",
    "The dependencies for this notebook are listed in the [environment.yaml](./environment.yaml). To test or install locally, create the papermill environment used in the automated regression testing suite: \n",
    "\n",
    "`conda env create -f ./environment.yaml && conda activate papermill`\n",
    "\n",
    "A `.netrc` file must also be located in the `test` directory of this repository."
   ]
  },
  {
   "cell_type": "markdown",
   "id": "009f1df8",
   "metadata": {},
   "source": [
    "## Import requirements:"
   ]
  },
  {
   "cell_type": "code",
   "execution_count": null,
   "id": "7ce7f640",
   "metadata": {
    "jupyter": {
     "source_hidden": true
    },
    "tags": []
   },
   "outputs": [],
   "source": [
    "from io import BytesIO\n",
    "from os import listdir, remove\n",
    "from time import sleep\n",
    "from typing import Dict, List, Optional, Tuple\n",
    "from uuid import uuid4\n",
    "import json\n",
    "\n",
    "from h5py import File as H5File\n",
    "from netCDF4 import Dataset\n",
    "import matplotlib.pyplot as plt\n",
    "import numpy as np\n",
    "import requests"
   ]
  },
  {
   "cell_type": "markdown",
   "id": "00758d6f",
   "metadata": {},
   "source": [
    "## Set default parameters:\n",
    "\n",
    "`papermill` requires default values for parameters used on the workflow. In this case, `harmony_host_url`."
   ]
  },
  {
   "cell_type": "code",
   "execution_count": null,
   "id": "45f380c6",
   "metadata": {
    "tags": [
     "parameters"
    ]
   },
   "outputs": [],
   "source": [
    "harmony_host_url = 'https://harmony.uat.earthdata.nasa.gov'"
   ]
  },
  {
   "cell_type": "markdown",
   "id": "9237f449",
   "metadata": {},
   "source": [
    "### Identify Harmony environment (for easier reference):"
   ]
  },
  {
   "cell_type": "code",
   "execution_count": null,
   "id": "4420bb6e",
   "metadata": {},
   "outputs": [],
   "source": [
    "host_environment = {'https://harmony.sit.earthdata.nasa.gov': 'sit',\n",
    "                    'https://harmony.uat.earthdata.nasa.gov': 'uat',\n",
    "                    'https://harmony.earthdata.nasa.gov': 'prod'}\n",
    "\n",
    "harmony_environment = host_environment.get(harmony_host_url, 'sandbox')\n",
    "\n",
    "# Test data in SIT and UAT are hosted in a Harmony S3 bucket:\n",
    "uat_staging_bucket = 'https://harmony.uat.earthdata.nasa.gov/service-results/harmony-uat-staging'\n",
    "sit_staging_bucket = 'https://harmony.sit.earthdata.nasa.gov/service-results/harmony-sit-staging'"
   ]
  },
  {
   "cell_type": "markdown",
   "id": "53d09a3f-cdb6-4ccf-85b5-7707fec40ebf",
   "metadata": {},
   "source": [
    "## Helper functions:"
   ]
  },
  {
   "cell_type": "code",
   "execution_count": null,
   "id": "66d36ca5-6196-4c00-a519-bd8dc2b8361e",
   "metadata": {
    "jupyter": {
     "source_hidden": true
    },
    "tags": []
   },
   "outputs": [],
   "source": [
    "def print_error(error_string: str) -> str:\n",
    "    \"\"\"Print an error, with formatting for red text. \"\"\"\n",
    "    print(f'\\033[91m{error_string}\\033[0m')"
   ]
  },
  {
   "cell_type": "code",
   "execution_count": null,
   "id": "9e3e923f-74bc-4149-8f29-92470e599af6",
   "metadata": {
    "jupyter": {
     "source_hidden": true
    },
    "tags": []
   },
   "outputs": [],
   "source": [
    "def get_harmony_request_url(host_url: str, collection_concept_id: str, variables: List[str] = ['all']):\n",
    "    \"\"\" Construct a Harmony URL to make a request against the correct host, collection and variables. The parameteres for\n",
    "        the request will be specified using the `params` keyword argument of the `requests.get` function.\n",
    "    \n",
    "    \"\"\"\n",
    "    return f'{host_url}/{collection_concept_id}/ogc-api-coverages/1.0.0/collections/{\",\".join(variables)}/coverage/rangeset'"
   ]
  },
  {
   "cell_type": "markdown",
   "id": "6c5cda8d-1111-4b19-9b74-7efc58d826c3",
   "metadata": {},
   "source": [
    "### Download helper functions:\n",
    "\n",
    "The helper functions below could be removed in favour of `harmony-py` if the Sandbox environment (with a host name containing the Harmony Elastic Load Balancer) was compatible with the `harmony-py` `Client` class."
   ]
  },
  {
   "cell_type": "code",
   "execution_count": null,
   "id": "1303c4ce",
   "metadata": {
    "jupyter": {
     "source_hidden": true
    },
    "tags": []
   },
   "outputs": [],
   "source": [
    "def request(url: str, extension: str = 'nc4', request_parameters: Optional[Dict] = None,\n",
    "            files: Optional[Dict] = None) -> Tuple[str, bool]:\n",
    "    \"\"\" Make a request to the specified URL, and save the output response content as a NetCDF-4 file. \"\"\"\n",
    "    if files is None:\n",
    "        response = requests.get(url, params=request_parameters)\n",
    "    else:\n",
    "        response = requests.post(url, data=request_parameters, files=files)\n",
    "\n",
    "    if response.ok:\n",
    "        file_name = f'{uuid4()}.{extension}'\n",
    "        with open(file_name, 'wb') as file_handler:\n",
    "            file_handler.write(response.content)\n",
    "\n",
    "    else:\n",
    "        print_error(f'Request failed with status: {response.status_code}')\n",
    "        print_error(response.text)\n",
    "        file_name = ''\n",
    "        success = False\n",
    "\n",
    "    return file_name, response.ok\n",
    "\n",
    "\n",
    "def get_job_id(response: requests.Response) -> Optional[str]:\n",
    "    \"\"\" Parse the job ID from the output of an asynchronous request. \"\"\"\n",
    "    response_json = response.json()\n",
    "    return response_json.get('jobID')\n",
    "\n",
    "\n",
    "def check_job_status(job_id: str) -> Tuple[bool, str]:\n",
    "    \"\"\" Query the Harmony /jobs endpoint to check the status of the job.\n",
    "        If completed, and successful, return the path to the output file.\n",
    "        If completed, and unsuccessful, return an empty file path.\n",
    "        If not completed, return False, and an empty file path.\n",
    "\n",
    "    \"\"\"\n",
    "    empty_file_url = ''\n",
    "    status_response = requests.get(f'{harmony_host_url}/jobs/{job_id}')\n",
    "    \n",
    "    if status_response.ok:\n",
    "        status_json = status_response.json()\n",
    "        status = status_json.get('status')\n",
    "\n",
    "        if status == 'successful':\n",
    "            completed = True\n",
    "            file_url = next((link.get('href')\n",
    "                             for link in status_json.get('links', [])\n",
    "                             if link.get('rel') == 'data'), empty_file_url)\n",
    "        elif status == 'failed':\n",
    "            completed = True\n",
    "            file_url = empty_file_url\n",
    "        else:\n",
    "            completed = False\n",
    "            file_url = empty_file_url\n",
    "    else:\n",
    "        # Problem retrieving the status, avoid an infinite loop.\n",
    "        completed = True\n",
    "        file_name = empty_file_url\n",
    "    \n",
    "    return completed, file_url\n",
    "\n",
    "def request_async(url: str, extension: str = 'nc4', request_parameters: Optional[Dict] = None,\n",
    "                  files: Optional[Dict] = None) -> Tuple[str, bool]:\n",
    "    \"\"\" Make an asynchronous request to the specified URL and retrieve that produced NetCDF-4 file. \"\"\"\n",
    "    success = True\n",
    "    file_name = ''\n",
    "    request_parameters['forceAsync'] = True\n",
    "\n",
    "    if files is None:\n",
    "        job_response = requests.get(url, params=request_parameters)\n",
    "    else:\n",
    "        job_response = requests.post(url, data=request_parameters, files=files)\n",
    "    \n",
    "    if job_response.ok:\n",
    "        job_id = get_job_id(job_response)\n",
    "\n",
    "        if job_id is not None:\n",
    "            print(f'Asynchronous job submitted, ID: {job_id}')\n",
    "            job_completed = False\n",
    "            while not job_completed:\n",
    "                print('Job not completed, waiting 5 seconds...')\n",
    "                sleep(5.0)\n",
    "                job_completed, file_url = check_job_status(job_id)\n",
    "\n",
    "            if file_url == '':\n",
    "                print_error(f'Request failed: {job_id}')\n",
    "                success = False\n",
    "            else:\n",
    "                print('Request successful, retrieving output file.')\n",
    "                file_name, download_success = request(file_url, extension=extension)\n",
    "        else:\n",
    "            print_error('Failed to submit Harmony request')\n",
    "            print_error(job_response.text)\n",
    "            success = False\n",
    "    else:\n",
    "        print_error(f'Request failed with status: {job_response.status_code}')\n",
    "        print_error(job_response.text)\n",
    "        success = False\n",
    "\n",
    "    return file_name, success"
   ]
  },
  {
   "cell_type": "markdown",
   "id": "fa122d23-6040-4352-bf43-619bed3a894e",
   "metadata": {},
   "source": [
    "### Helper functions to check variables in output file:"
   ]
  },
  {
   "cell_type": "code",
   "execution_count": null,
   "id": "43e18c9d-bef4-480c-84b6-348644d9a4a9",
   "metadata": {
    "jupyter": {
     "source_hidden": true
    },
    "tags": []
   },
   "outputs": [],
   "source": [
    "def variable_in_dataset(dataset: Dataset, variable_name: str) -> bool:\n",
    "    \"\"\" Check if a variable is present in a dataset. The variable name must\n",
    "        be the full path, including groups it is nested in.\n",
    "\n",
    "    \"\"\"\n",
    "    variable_bits = variable_name.lstrip('/').split('/')\n",
    "    working_group = dataset\n",
    "    \n",
    "    while len(variable_bits) > 1:\n",
    "        group = variable_bits.pop(0)\n",
    "        if group in working_group.groups:\n",
    "            working_group = working_group[group]\n",
    "        else:\n",
    "            return False\n",
    "\n",
    "    variable_base_name = variable_bits.pop(0)\n",
    "    return variable_base_name in working_group.variables\n",
    "    \n",
    "\n",
    "def all_variables_present(file_name: str, variable_list: List[str]) -> bool:\n",
    "    \"\"\" Take a list of variable and ensure that all of them are present in the\n",
    "        downloaded NetCDF-4 file.\n",
    "\n",
    "    \"\"\"\n",
    "    with Dataset(file_name, 'r') as dataset:\n",
    "        return all(variable_in_dataset(dataset, variable) for variable in variable_list)"
   ]
  },
  {
   "cell_type": "markdown",
   "id": "7e2edcfa-9d1c-498e-9dbd-9ff3566b2675",
   "metadata": {},
   "source": [
    "### Plotting helper functions"
   ]
  },
  {
   "cell_type": "code",
   "execution_count": null,
   "id": "89cbe39d",
   "metadata": {
    "jupyter": {
     "source_hidden": true
    },
    "tags": []
   },
   "outputs": [],
   "source": [
    "def create_plot(variable_data, x_values, y_values, title=None, colourbar_units=None,\n",
    "                x_label=None, y_label=None, levels=20, fill_value=None):\n",
    "    \"\"\" This helper function will display a contour plot of the requested data. This\n",
    "        function assumes the variable data will be two, or three dimensionally gridded, with\n",
    "        dimensions: (time, latitude, longitude) or (latitude, longitude).\n",
    "        \n",
    "        For 3-dimensional data, the first slice in time is extracted for plotting.\n",
    "\n",
    "    \"\"\"\n",
    "    masked_variable = np.ma.masked_where(variable_data[:] == fill_value, variable_data)\n",
    "\n",
    "    fig = plt.figure(figsize=(10, 10))\n",
    "\n",
    "    if title is not None:\n",
    "        fig.suptitle(title, fontsize=20)\n",
    "\n",
    "    ax = plt.axes(xlabel=x_label, ylabel=y_label)\n",
    "\n",
    "    if len(variable_data.shape) == 3:\n",
    "        variable_slice = masked_variable[0][:]\n",
    "    else:\n",
    "        variable_slice = masked_variable\n",
    "\n",
    "    # Plot masked data:\n",
    "    colour_scale = ax.contourf(x_values[:], y_values[:], variable_slice, levels=levels)\n",
    "    \n",
    "    # Add colour bar for scaling\n",
    "    colour_bar = plt.colorbar(colour_scale, ax=ax, orientation='horizontal', pad=0.05)\n",
    "\n",
    "    if colourbar_units is not None:\n",
    "        colour_bar.set_label(colourbar_units, fontsize=14)\n",
    "\n",
    "    plt.tight_layout()\n",
    "    plt.show()\n",
    "\n",
    "\n",
    "def plot_variable(file_name, variable, x_variable, y_variable, title, colourbar_units,\n",
    "                  x_label, y_label, levels=20, fill_value=None):\n",
    "    \"\"\" Open the requested NetCDF-4 file and pass the variables through to the `create_plot`\n",
    "        function.\n",
    "\n",
    "    \"\"\"\n",
    "    if file_name.endswith('.nc4'):\n",
    "        # Swath Projector, Variable Subsetter and HOSS\n",
    "        with Dataset(file_name, 'r') as dataset:\n",
    "            create_plot(dataset[variable], dataset[x_variable], dataset[y_variable],\n",
    "                        title=title, colourbar_units=colourbar_units, x_label=x_label,\n",
    "                        y_label=y_label, levels=levels, fill_value=fill_value)\n",
    "    elif file_name.endswith('.h5'):\n",
    "        # MaskFill\n",
    "        with H5File(file_name, 'r') as h5_file:\n",
    "            create_plot(h5_file[variable], h5_file[x_variable], h5_file[y_variable],\n",
    "                        title=title, colourbar_units=colourbar_units, x_label=x_label,\n",
    "                        y_label=y_label, levels=levels, fill_value=fill_value)\n",
    "    else:\n",
    "        print_error('Problem with request, not able to plot output.')"
   ]
  },
  {
   "cell_type": "markdown",
   "id": "fc7aef85",
   "metadata": {},
   "source": [
    "# Begin regression tests:"
   ]
  },
  {
   "cell_type": "markdown",
   "id": "1285f7bf-1d5d-478f-865f-eb02af6aaca8",
   "metadata": {},
   "source": [
    "## Swath Projector:\n",
    "\n",
    "The Swath Projector is currently only configured for collections in UAT."
   ]
  },
  {
   "cell_type": "code",
   "execution_count": null,
   "id": "9ef1408b-aba9-48a9-ba0f-a880a6283919",
   "metadata": {},
   "outputs": [],
   "source": [
    "swath_projector_env = {'uat': {'collection_id': 'C1233860183-EEDTEST',\n",
    "                               'granule_id': 'G1233860549-EEDTEST',\n",
    "                               'original_data_url': f'{uat_staging_bucket}/public/harmony_example_l2/nc/015_00_210_africa.nc'}}\n",
    "\n",
    "\n",
    "if harmony_environment in swath_projector_env:\n",
    "    swath_projector_info = swath_projector_env[harmony_environment]\n",
    "    swath_projector_request_url = get_harmony_request_url(harmony_host_url,\n",
    "                                                          swath_projector_info['collection_id'])"
   ]
  },
  {
   "cell_type": "markdown",
   "id": "1444f496-7e0b-4c26-9131-e1bf7d808f5a",
   "metadata": {},
   "source": [
    "### Retrieve original granule for visual comparison:"
   ]
  },
  {
   "cell_type": "code",
   "execution_count": null,
   "id": "d03d5740-57a1-4154-858f-7e6c29e5326e",
   "metadata": {
    "tags": []
   },
   "outputs": [],
   "source": [
    "if harmony_environment in swath_projector_env:\n",
    "    original_file_name, request_success = request(swath_projector_info['original_data_url'])\n",
    "\n",
    "    plot_variable(original_file_name, 'alpha_var', 'lon', 'lat', title='Input Africa granule',\n",
    "                  colourbar_units='Land mask', x_label='Longitude (degrees east)', y_label='Latitude (degrees north)')\n",
    "    \n",
    "    assert request_success, 'Unsuccessful download of Swath Projector source data.'\n",
    "    \n",
    "    expected_variables = ['/lat', '/lon', '/time', '/alpha_var', '/blue_var', '/green_var', '/red_var']\n",
    "    assert all_variables_present(original_file_name, expected_variables), 'Missing variables in downloaded output'\n",
    "else:\n",
    "    print(f'The Swath Projector is not configured for environment: \"{harmony_environment}\" - skipping download.')"
   ]
  },
  {
   "cell_type": "markdown",
   "id": "692b23d7-e82f-4f76-ad31-27dde2f7ed76",
   "metadata": {},
   "source": [
    "### Swath Projector request with defaults:\n",
    "\n",
    "Make a request that only specifies the collection and an appropriate granule. This should rely on the default target Coordinate Reference System (CRS) and interpolation method."
   ]
  },
  {
   "cell_type": "code",
   "execution_count": null,
   "id": "abba00c3-ebf1-455b-8aa5-57420c4db058",
   "metadata": {},
   "outputs": [],
   "source": [
    "if harmony_environment in swath_projector_env:\n",
    "    defaults_file_name, defaults_success = request(swath_projector_request_url,\n",
    "                                                   request_parameters={'granuleId': swath_projector_info['granule_id']})\n",
    "\n",
    "    plot_variable(defaults_file_name, 'alpha_var', 'lon', 'lat', title='Default parameters Africa granule',\n",
    "                  colourbar_units='Land mask', x_label='Longitude (degrees east)', y_label='Latitude (degrees north)')\n",
    "    \n",
    "    assert defaults_success, 'Unsuccessful Swath Projector default request'\n",
    "    \n",
    "    expected_variables = ['/lat', '/lon', '/latitude_longitude', '/time', '/alpha_var', '/blue_var', '/green_var', '/red_var']\n",
    "    assert all_variables_present(defaults_file_name, expected_variables), 'Missing variables in downloaded output'\n",
    "else:\n",
    "    print(f'The Swath Projector is not configured for environment: \"{harmony_environment}\" - skipping test.')"
   ]
  },
  {
   "cell_type": "markdown",
   "id": "c93f150c-f1b3-4005-885c-4b9f65f6600f",
   "metadata": {},
   "source": [
    "### Swath Projector request for Madagascar:\n",
    "\n",
    "Make a request to the Swath Projector specifying a target CRS using an EPSG code, and requested that the target grid covers only the area surrounding Madagascar, using the `scaleExtents` parameter."
   ]
  },
  {
   "cell_type": "code",
   "execution_count": null,
   "id": "a26750d6-1592-40c8-b5a3-693330b3b4ec",
   "metadata": {},
   "outputs": [],
   "source": [
    "if harmony_environment in swath_projector_env:\n",
    "    epsg_file_name, epsg_success = request(\n",
    "        swath_projector_request_url,\n",
    "        request_parameters={'granuleId': swath_projector_info['granule_id'],\n",
    "                            'outputCrs': 'EPSG:4326',\n",
    "                            'scaleExtent': '42,-27,52,-10', # W, S, E, N\n",
    "                            'subset': 'time(\"2020-01-15T00:00:00Z\":\"2020-01-16T00:00:00Z\")'}\n",
    "    )\n",
    "\n",
    "    plot_variable(epsg_file_name, 'alpha_var', 'lon', 'lat', title='EPSG:4326 output Africa granule',\n",
    "                  colourbar_units='Land mask', x_label='Longitude (degrees east)', y_label='Latitude (degrees north)')\n",
    "    \n",
    "    assert epsg_success, 'Unsuccessful Swath Projector EPSG code request.'\n",
    "    \n",
    "    expected_variables = ['/lat', '/lon', '/latitude_longitude', '/time', '/alpha_var', '/blue_var', '/green_var', '/red_var']\n",
    "    assert all_variables_present(epsg_file_name, expected_variables), 'Missing variables in downloaded output'\n",
    "else:\n",
    "    print(f'The Swath Projector is not configured for environment: \"{harmony_environment}\" - skipping test.')"
   ]
  },
  {
   "cell_type": "markdown",
   "id": "35a1507a-84e2-4856-8f6f-bf646339c727",
   "metadata": {},
   "source": [
    "### Swath Projector, interpolation type and Proj4:\n",
    "\n",
    "Use the `interpolation` and `outputCrs` parameters to ensure a raw Proj4 string is valid input and that the user can select a non-default interpolation type."
   ]
  },
  {
   "cell_type": "code",
   "execution_count": null,
   "id": "3b36c7d2",
   "metadata": {},
   "outputs": [],
   "source": [
    "if harmony_environment in swath_projector_env:\n",
    "    proj4_string_file_name, proj4_string_success = request(\n",
    "        swath_projector_request_url,\n",
    "        request_parameters={'outputCrs': '+proj=lcc +lat_1=43 +lat_2=62 +lat_0=30 +lon_0=10 +x_0=0 +y_0=0 +ellps=intl +units=m +no_defs',\n",
    "                            'interpolation': 'near',\n",
    "                            'subset': 'time(\"2020-01-15T00:00:00Z\":\"2020-01-16T00:00:00Z\")',\n",
    "                            'granuleId': swath_projector_info['granule_id']}\n",
    "    )\n",
    "\n",
    "    plot_variable(proj4_string_file_name, 'alpha_var', 'x', 'y', title='Lambert Conformal Conic CRS, Africa granule',\n",
    "                  colourbar_units='Land mask', x_label='Longitude (degrees east)', y_label='Latitude (degrees north)')\n",
    "\n",
    "    assert proj4_string_success, 'Unsuccessful Swath Projector interpolation and Proj4 request.'\n",
    "    \n",
    "    expected_variables = ['/x', '/y', '/lambert_conformal_conic', '/time', '/alpha_var', '/blue_var', '/green_var', '/red_var']\n",
    "    assert all_variables_present(proj4_string_file_name, expected_variables), 'Missing variables in downloaded output'\n",
    "else:\n",
    "    print(f'The Swath Projector is not configured for environment: \"{harmony_environment}\" - skipping test.')"
   ]
  },
  {
   "cell_type": "markdown",
   "id": "6e966ac0-88bc-4bed-b5a1-7180c871a082",
   "metadata": {},
   "source": [
    "### Swath Projector asynchronous request:"
   ]
  },
  {
   "cell_type": "code",
   "execution_count": null,
   "id": "2a810829-26aa-4bc9-9113-d7e8d2b47e07",
   "metadata": {},
   "outputs": [],
   "source": [
    "if harmony_environment in swath_projector_env:\n",
    "    async_file_name, async_success = request_async(\n",
    "        swath_projector_request_url,\n",
    "        request_parameters={'forceAsync': True,\n",
    "                            'granuleId': swath_projector_info['granule_id']}\n",
    "    )\n",
    "\n",
    "    plot_variable(async_file_name, 'alpha_var', 'lon', 'lat', title='Scale extents output Africa granule',\n",
    "                  colourbar_units='Land mask', x_label='Longitude (degrees east)', y_label='Latitude (degrees north)')\n",
    "\n",
    "    assert async_success, 'Unsuccessful Swath Projector asynchronous request'\n",
    "\n",
    "    expected_variables = ['/lat', '/lon', '/latitude_longitude', '/time', '/alpha_var', '/blue_var', '/green_var', '/red_var']\n",
    "    assert all_variables_present(async_file_name, expected_variables), 'Missing variables in downloaded output'\n",
    "else:\n",
    "    print(f'The Swath Projector is not configured for environment: \"{harmony_environment}\" - skipping test.')"
   ]
  },
  {
   "cell_type": "markdown",
   "id": "162a6fb9-fe99-4d2e-afe5-e252f0d8c6ab",
   "metadata": {},
   "source": [
    "## Variable Subsetter\n",
    "\n",
    "The variable subsetter is currently only configured for collections in UAT.\n",
    "\n",
    "The granule selected is the smallest in the ATL08 collection, to improve performance of tests."
   ]
  },
  {
   "cell_type": "code",
   "execution_count": null,
   "id": "b214f4ca-3628-4e94-8297-febf053dc15f",
   "metadata": {},
   "outputs": [],
   "source": [
    "var_subsetter_env = {'uat': {'collection_id': 'C1234714698-EEDTEST',\n",
    "                             'granule_id': 'G1238479209-EEDTEST',\n",
    "                             'original_data_url': f'{uat_staging_bucket}/public/sds/staged/ATL08_20200711232648_02530814_003_01.h5'}}\n",
    "\n",
    "if harmony_environment in var_subsetter_env:\n",
    "    var_subsetter_info = var_subsetter_env[harmony_environment]"
   ]
  },
  {
   "cell_type": "markdown",
   "id": "e8f58ea4-124f-4dc4-8039-81fb20cd02c7",
   "metadata": {},
   "source": [
    "### Variable Subsetter synchronous request, no Int64 variables\n",
    "\n",
    "This request should retrieve the requested `/gt1l/land_segments/dem_h` variable alongside the following supporting variables:\n",
    "\n",
    "* `/gt1l/land_segments/delta_time`\n",
    "* `/gt1l/land_segments/latitude`\n",
    "* `/gt1l/land_segments/longitude`\n",
    "\n",
    "Note: The paths in the URL for Variable Subsetter and HOSS requests must be URL encoded, so the slashes can be included."
   ]
  },
  {
   "cell_type": "code",
   "execution_count": null,
   "id": "d80496cc-95b8-49fe-b074-b2740a273bd1",
   "metadata": {},
   "outputs": [],
   "source": [
    "if harmony_environment in var_subsetter_env:\n",
    "    sync_request_url = get_harmony_request_url(harmony_host_url,\n",
    "                                               var_subsetter_info['collection_id'],\n",
    "                                               ['%2Fgt1l%2Fland_segments%2Fdem_h'])\n",
    "\n",
    "    sync_file_name, sync_success = request(sync_request_url,\n",
    "                                           request_parameters={'granuleId': var_subsetter_info['granule_id']})\n",
    "\n",
    "    assert sync_success, 'Unsuccessful synchronous Variable Subsetter request.'\n",
    "\n",
    "    expected_variables = ['/gt1l/land_segments/dem_h', '/gt1l/land_segments/delta_time',\n",
    "                          '/gt1l/land_segments/latitude', '/gt1l/land_segments/longitude']\n",
    "    \n",
    "    assert all_variables_present(sync_file_name, expected_variables), 'Missing variables in downloaded output'\n",
    "else:\n",
    "    print(f'The Variable Subsetter is not configured for environment: \"{harmony_environment}\" - skipping test.')"
   ]
  },
  {
   "cell_type": "markdown",
   "id": "40e40229-3ff7-4d82-945b-af33703eb11c",
   "metadata": {},
   "source": [
    "### Variable Subsetter asynchronous request and Int64 variables\n",
    "\n",
    "This request should retrieve the `/gt1l/signal_photons/classed_pc_flag` variable and 6 supporting variables, some of which are Int64, which is not supported by the DAP2 protocol:\n",
    "\n",
    "* `/gt1l/signal_photons/delta_time`\n",
    "* `/gt1l/land_segments/ph_ndx`\n",
    "* `/gt1l/land_segments/n_seg_ph`\n",
    "* `/gt1l/land_segments/delta_time`\n",
    "* `/gt1l/land_segments/latitude`\n",
    "* `/gt1l/land_segments/longitude`"
   ]
  },
  {
   "cell_type": "code",
   "execution_count": null,
   "id": "c2185634-99aa-4b1f-920e-d8fce44c0cd0",
   "metadata": {},
   "outputs": [],
   "source": [
    "if harmony_environment in var_subsetter_env:\n",
    "    async_request_url = get_harmony_request_url(harmony_host_url,\n",
    "                                                var_subsetter_info['collection_id'],\n",
    "                                                ['%2Fgt1l%2Fsignal_photons%2Fclassed_pc_flag'])\n",
    "\n",
    "    async_file_name, async_success = request_async(\n",
    "        async_request_url,\n",
    "        request_parameters={'granuleId': var_subsetter_info['granule_id'], 'forceAsync': True}\n",
    "    )\n",
    "\n",
    "    assert async_success, 'Unsuccessful asynchronous Variable Subsetter request'\n",
    "\n",
    "    expected_variables = ['/gt1l/signal_photons/classed_pc_flag', '/gt1l/signal_photons/delta_time',\n",
    "                          '/gt1l/land_segments/ph_ndx_beg', '/gt1l/land_segments/n_seg_ph',\n",
    "                          '/gt1l/land_segments/delta_time', '/gt1l/land_segments/latitude',\n",
    "                          '/gt1l/land_segments/longitude']\n",
    "    \n",
    "    assert all_variables_present(async_file_name, expected_variables), 'Missing variables in downloaded output'\n",
    "else:\n",
    "    print(f'The Variable Subsetter is not configured for environment: \"{harmony_environment}\" - skipping test.')"
   ]
  },
  {
   "cell_type": "markdown",
   "id": "aaeb21d3-ce95-4068-b6aa-28b9f9b93b5a",
   "metadata": {},
   "source": [
    "### Variable Subsetter, all variables\n",
    "\n",
    "Make a request for \"all\" variables. This should retrieve the entire file, with all the variables from the original source granule.\n",
    "\n",
    "**This test is commented out as the request from Harmony to OPeNDAP often times out. The same branch of code is exercised by the HOSS all-variable, no bounding box regression test.**"
   ]
  },
  {
   "cell_type": "code",
   "execution_count": null,
   "id": "f1d44ecf-58be-4ee9-84c1-48deec4f4a2d",
   "metadata": {},
   "outputs": [],
   "source": [
    "\"\"\"\n",
    "if harmony_environment in var_subsetter_env:\n",
    "    all_request_url = get_harmony_request_url(harmony_host_url,\n",
    "                                              var_subsetter_info['collection_id'])\n",
    "\n",
    "    all_file_name, all_success = request_async(\n",
    "        all_request_url,\n",
    "        request_parameters={'granuleId': var_subsetter_info['granule_id'], 'forceAsync': True}\n",
    "    )\n",
    "\n",
    "    assert all_success, 'Unsuccessful Variable Subsetter request, all variables'\n",
    "\n",
    "    # Recursive check of all variables and groups from input granule.\n",
    "else:\n",
    "    print(f'The Variable Subsetter is not configured for environment: \"{harmony_environment}\" - skipping test.')\n",
    "\"\"\""
   ]
  },
  {
   "cell_type": "markdown",
   "id": "9dd58c71-0232-4a20-9dc4-ef6b3544e797",
   "metadata": {},
   "source": [
    "## Harmony OPeNDAP SubSetter (HOSS):\n",
    "\n",
    "HOSS is currently only activated for collections in UAT. Requests will be made against the GHRC RSSMIF16D collection."
   ]
  },
  {
   "cell_type": "code",
   "execution_count": null,
   "id": "c05a636c-c6d1-4f6d-a4d6-bc2d02d17d47",
   "metadata": {},
   "outputs": [],
   "source": [
    "hoss_env = {'uat': {'collection_id': 'C1222931739-GHRC_CLOUD',\n",
    "                    'bounding_box': [-150, 0, -105, 15],  # W, S, E, N\n",
    "                    'granule_id': 'G1240561151-GHRC_CLOUD',\n",
    "                    'original_data_url': ('https://data.ghrc.uat.earthdata.nasa.gov/'\n",
    "                                          'ghrcwuat-protected/rss/rssmif16d__7/f16_ssmis_20210425v7.nc'),\n",
    "                    'subset_param': ['lat(0:15)', 'lon(-150:-105)']}}\n",
    "\n",
    "if harmony_environment in hoss_env:\n",
    "    hoss_info = hoss_env[harmony_environment]"
   ]
  },
  {
   "cell_type": "markdown",
   "id": "1b060b65-b8a4-4723-a965-7b753c375cc0",
   "metadata": {},
   "source": [
    "### Retrieve original data for visual comparison"
   ]
  },
  {
   "cell_type": "code",
   "execution_count": null,
   "id": "216c33a0-fae1-4c68-b276-0611ba295844",
   "metadata": {},
   "outputs": [],
   "source": [
    "if harmony_environment in hoss_env:\n",
    "    original_file_name, request_success = request(hoss_info['original_data_url'])\n",
    "    assert request_success, 'Unsuccessful download of HOSS input granule.'\n",
    "    \n",
    "    plot_variable(original_file_name, '/atmosphere_cloud_liquid_water_content', '/longitude', '/latitude',\n",
    "                  title='HOSS input granule.', colourbar_units='Columnar cloud liquid water (kg.m-2)',\n",
    "                  x_label='Longitude (degrees east)', y_label='Latitude (degrees north)',\n",
    "                  levels=np.linspace(-0.05, 2.45, 51))\n",
    "else:\n",
    "    print(f'The Variable Subsetter is not configured for environment: \"{harmony_environment}\" - skipping download.')"
   ]
  },
  {
   "cell_type": "markdown",
   "id": "ef9ec4d2-2228-47d0-a990-d5a4d77b7bc7",
   "metadata": {},
   "source": [
    "### HOSS synchronous request\n",
    "\n",
    "This is a request the exercises the full range of HOSS options: bounding box and variable subsetting.\n",
    "\n",
    "Requested parameter:\n",
    "\n",
    "* `/atmosphere_water_vapor_content`\n",
    "\n",
    "Additional required parameters (grid dimensions):\n",
    "\n",
    "* `/latitude`\n",
    "* `/longitude`\n",
    "* `/time`"
   ]
  },
  {
   "cell_type": "code",
   "execution_count": null,
   "id": "f118aee4-c5c9-4178-a224-7cc3af173f51",
   "metadata": {},
   "outputs": [],
   "source": [
    "if harmony_environment in hoss_env:\n",
    "    sync_request_url = get_harmony_request_url(harmony_host_url,\n",
    "                                               hoss_info['collection_id'],\n",
    "                                               ['atmosphere_cloud_liquid_water_content'])\n",
    "\n",
    "    sync_file_name, sync_success = request(\n",
    "        sync_request_url,\n",
    "        request_parameters={'granuleId': hoss_info['granule_id'], 'subset': hoss_info['subset_param']}\n",
    "    )\n",
    "\n",
    "    assert sync_success, 'Unsuccessful HOSS synchronous request.'\n",
    "\n",
    "    plot_variable(sync_file_name, '/atmosphere_cloud_liquid_water_content', '/longitude', '/latitude',\n",
    "                  title='HOSS synchronous results.', colourbar_units='Columnar cloud liquid water (kg.m-2)',\n",
    "                  x_label='Longitude (degrees east)', y_label='Latitude (degrees north)',\n",
    "                  levels=np.linspace(-0.05, 2.45, 51))\n",
    "\n",
    "    expected_variables = ['/atmosphere_cloud_liquid_water_content', '/latitude', '/longitude', '/time']\n",
    "    assert all_variables_present(sync_file_name, expected_variables), 'Missing variables in HOSS synchronous output'\n",
    "else:\n",
    "    print(f'HOSS is not configured for environment: \"{harmony_environment}\" - skipping test.')"
   ]
  },
  {
   "cell_type": "markdown",
   "id": "957e8660-90ba-472f-bb53-e50f5564eb0b",
   "metadata": {},
   "source": [
    "### HOSS asynchronous request"
   ]
  },
  {
   "cell_type": "code",
   "execution_count": null,
   "id": "4673623f-a502-4d28-966c-9d7970fdd926",
   "metadata": {},
   "outputs": [],
   "source": [
    "if harmony_environment in hoss_env:\n",
    "    async_request_url = get_harmony_request_url(harmony_host_url,\n",
    "                                                hoss_info['collection_id'],\n",
    "                                                ['atmosphere_cloud_liquid_water_content'])\n",
    "\n",
    "    async_file_name, async_success = request_async(\n",
    "        async_request_url,\n",
    "        request_parameters={'granuleId': hoss_info['granule_id'],\n",
    "                            'subset': hoss_info['subset_param'],\n",
    "                            'forceAsync': True}\n",
    "    )\n",
    "\n",
    "    assert async_success, 'Unsuccessful HOSS asynchronous request.'\n",
    "\n",
    "    plot_variable(async_file_name, '/atmosphere_cloud_liquid_water_content', '/longitude', '/latitude',\n",
    "                  title='HOSS asynchronous results.', colourbar_units='Columnar cloud liquid water (kg.m-2)',\n",
    "                  x_label='Longitude (degrees east)', y_label='Latitude (degrees north)',\n",
    "                  levels=np.linspace(-0.05, 2.45, 51))\n",
    "\n",
    "    expected_variables = ['/atmosphere_cloud_liquid_water_content', '/latitude', '/longitude', '/time']\n",
    "    assert all_variables_present(async_file_name, expected_variables), 'Missing variables in HOSS asynchronous output'\n",
    "else:\n",
    "    print(f'HOSS is not configured for environment: \"{harmony_environment}\" - skipping test.')"
   ]
  },
  {
   "cell_type": "markdown",
   "id": "4b476837-2482-4282-a394-b38324902b45",
   "metadata": {},
   "source": [
    "### HOSS bounding box crosses grid edge:\n",
    "\n",
    "For collections where the grid edge is the Prime Meridian (0 degrees east) rather than the Antimeridian (180 degrees east) HOSS needs to be able to function when a user requests a region crossing the Prime Meridian (for example a box containing the UK). It currently retrieves the specified latitude range, but the full longitude range, and fills outside the bounding box region.\n",
    "\n",
    "The expected output will look like two vertical stripes of data, one each at the lefthand and righthand edge of the plot."
   ]
  },
  {
   "cell_type": "code",
   "execution_count": null,
   "id": "526c559f-5f42-43a8-8e6c-0e57232d73fc",
   "metadata": {},
   "outputs": [],
   "source": [
    "if harmony_environment in hoss_env:\n",
    "    grid_edge_request_url = get_harmony_request_url(harmony_host_url,\n",
    "                                                    hoss_info['collection_id'],\n",
    "                                                    ['atmosphere_cloud_liquid_water_content'])\n",
    "\n",
    "    grid_edge_file_name, grid_edge_success = request_async(\n",
    "        grid_edge_request_url,\n",
    "        request_parameters={'granuleId': hoss_info['granule_id'], 'subset': ['lat(-60:-30)', 'lon(-15:15)']}\n",
    "    )\n",
    "\n",
    "    assert grid_edge_success, 'Unsuccessful HOSS request crossing longitudinal edge.'\n",
    "\n",
    "    plot_variable(grid_edge_file_name, '/atmosphere_cloud_liquid_water_content', '/longitude', '/latitude',\n",
    "                  title='HOSS request crossing grid edge.', colourbar_units='Columnar cloud liquid water (kg.m-2)',\n",
    "                  x_label='Longitude (degrees east)', y_label='Latitude (degrees north)',\n",
    "                  levels=np.linspace(-0.05, 2.45, 51))\n",
    "\n",
    "    expected_variables = ['/atmosphere_cloud_liquid_water_content', '/latitude', '/longitude', '/time']\n",
    "    assert all_variables_present(grid_edge_file_name, expected_variables), 'Missing variables in grid-edge-crossing output'\n",
    "else:\n",
    "    print(f'HOSS is not configured for environment: \"{harmony_environment}\" - skipping test.')"
   ]
  },
  {
   "cell_type": "markdown",
   "id": "6603a5c2-9ef2-4620-93a5-029963eca195",
   "metadata": {},
   "source": [
    "### HOSS request no bounding box\n",
    "\n",
    "If a bounding box is not specified for a HOSS-activated collection, a variable subset will still be performed. The requested variables will be returned, with their full original data."
   ]
  },
  {
   "cell_type": "code",
   "execution_count": null,
   "id": "9b5e2cd4-4adc-47d5-a640-8c9c515dbbd4",
   "metadata": {},
   "outputs": [],
   "source": [
    "if harmony_environment in hoss_env:\n",
    "    no_bbox_request_url = get_harmony_request_url(harmony_host_url,\n",
    "                                                  hoss_info['collection_id'],\n",
    "                                                  ['sst_dtime', 'wind_speed'])\n",
    "\n",
    "    no_bbox_file_name, no_bbox_success = request_async(\n",
    "        no_bbox_request_url,\n",
    "        request_parameters={'granuleId': hoss_info['granule_id']}\n",
    "    )\n",
    "\n",
    "    assert no_bbox_success, 'Unsuccessful HOSS request without bounding box.'\n",
    "\n",
    "    plot_variable(no_bbox_file_name, '/wind_speed', '/longitude', '/latitude',\n",
    "                  title='HOSS request no bounding box.', colourbar_units='Wind speed (m/s)',\n",
    "                  x_label='Longitude (degrees east)', y_label='Latitude (degrees north)',\n",
    "                  levels=np.linspace(0, 50, 51))\n",
    "\n",
    "    expected_variables = ['/sst_dtime', '/wind_speed', '/latitude', '/longitude', '/time']\n",
    "    assert all_variables_present(no_bbox_file_name, expected_variables), 'Missing variables in no bounding box output'\n",
    "else:\n",
    "    print(f'HOSS is not configured for environment: \"{harmony_environment}\" - skipping test.')"
   ]
  },
  {
   "cell_type": "markdown",
   "id": "4c251606-58ed-4316-851f-cd9617cf6d0a",
   "metadata": {},
   "source": [
    "### HOSS request all variables\n",
    "\n",
    "If there are no variables specified, HOSS should retrieve all variables. If the bounding box is specified, all gridded variables should still be constrained to the requested spatial region.\n",
    "\n",
    "**This regression test cannot be deployed until Harmony v0.0.389 is deployed to UAT.**"
   ]
  },
  {
   "cell_type": "code",
   "execution_count": null,
   "id": "a44ca692-6201-4e16-a263-8e994aab5996",
   "metadata": {},
   "outputs": [],
   "source": [
    "\"\"\"\n",
    "if harmony_environment in hoss_env:\n",
    "    all_request_url = get_harmony_request_url(harmony_host_url, hoss_info['collection_id'])\n",
    "\n",
    "    all_file_name, all_success = request_async(\n",
    "        all_request_url,\n",
    "        request_parameters={'granuleId': hoss_info['granule_id'],\n",
    "                            'subset': hoss_info['subset_param']}\n",
    "    )\n",
    "\n",
    "    assert all_success, 'Unsuccessful HOSS all-variable request.'\n",
    "\n",
    "    plot_variable(all_file_name, '/atmosphere_cloud_liquid_water_content', '/longitude', '/latitude',\n",
    "                  title='HOSS all variable results.', colourbar_units='Columnar cloud liquid water (kg.m-2)',\n",
    "                  x_label='Longitude (degrees east)', y_label='Latitude (degrees north)',\n",
    "                  levels=np.linspace(-0.05, 2.45, 51))\n",
    "\n",
    "    expected_variables = ['/atmosphere_cloud_liquid_water_content', '/atmosphere_water_vapor_content',\n",
    "                          '/latitude', '/longitude', '/rainfall_rate', '/sst_dtime', '/time', '/wind_speed']\n",
    "    assert all_variables_present(all_file_name, expected_variables), 'Missing variables in HOSS all-variable output'\n",
    "else:\n",
    "    print(f'HOSS is not configured for environment: \"{harmony_environment}\" - skipping test.')\n",
    "\"\"\""
   ]
  },
  {
   "cell_type": "markdown",
   "id": "d0629b4f-1990-42f7-b19d-025e46a96629",
   "metadata": {},
   "source": [
    "### HOSS request all variables, no bounding box\n",
    "\n",
    "If no variables and no bounding box are specified, the entire original granule should be retrieved. (This will run the Variable Subsetter branch of the `sds/variable-subsetter` Docker image, skipping any spatial subsetting portion of the service)\n",
    "\n",
    "The plotted image should match the original source data, plotted above as \"HOSS input granule\"."
   ]
  },
  {
   "cell_type": "code",
   "execution_count": null,
   "id": "0341674f-c47e-4696-95ca-a161a7dc4c45",
   "metadata": {},
   "outputs": [],
   "source": [
    "if harmony_environment in hoss_env:\n",
    "    all_no_bbox_request_url = get_harmony_request_url(harmony_host_url, hoss_info['collection_id'])\n",
    "\n",
    "    all_no_bbox_file_name, all_no_bbox_success = request_async(\n",
    "        all_no_bbox_request_url,\n",
    "        request_parameters={'granuleId': hoss_info['granule_id']}\n",
    "    )\n",
    "\n",
    "    assert all_no_bbox_success, 'Unsuccessful HOSS all-variable, no bounding box request.'\n",
    "\n",
    "    plot_variable(all_no_bbox_file_name, '/atmosphere_cloud_liquid_water_content', '/longitude', '/latitude',\n",
    "                  title='HOSS all variables, no bounding box results.',\n",
    "                  colourbar_units='Columnar cloud liquid water (kg.m-2)',\n",
    "                  x_label='Longitude (degrees east)', y_label='Latitude (degrees north)',\n",
    "                  levels=np.linspace(-0.05, 2.45, 51))\n",
    "\n",
    "    expected_variables = ['/atmosphere_cloud_liquid_water_content', '/atmosphere_water_vapor_content',\n",
    "                          '/latitude', '/longitude', '/rainfall_rate', '/sst_dtime', '/time', '/wind_speed']\n",
    "    assert all_variables_present(all_no_bbox_file_name, expected_variables), 'Missing variables in HOSS all-variable, no bbox output'\n",
    "else:\n",
    "    print(f'HOSS is not configured for environment: \"{harmony_environment}\" - skipping test.')"
   ]
  },
  {
   "cell_type": "markdown",
   "id": "189df669-2856-470a-8eee-01d359d3a59d",
   "metadata": {},
   "source": [
    "## MaskFill:\n",
    "\n",
    "MaskFill is currently only activated for collections in the UAT environment. Requests will be made against granules in the SPL4CMDL collection, as this is the only currently active collection. The download of these granules may be slow, as they are over 100 MB in size."
   ]
  },
  {
   "cell_type": "code",
   "execution_count": null,
   "id": "d2b09170-ca50-47cb-8c69-206e471c0682",
   "metadata": {},
   "outputs": [],
   "source": [
    "maskfill_env = {'uat': {'collection_id': 'C1240150677-EEDTEST',\n",
    "                        'shape_file_path': 'amazon_basin.geo.json',\n",
    "                        'granule_id': 'G1240154805-EEDTEST',\n",
    "                        'original_data_url': f'{uat_staging_bucket}/public/sds/staged/SPL4CMDL/SMAP_L4_C_mdl_20210223T000000_Vv5024_001.h5'}}\n",
    "\n",
    "if harmony_environment in maskfill_env:\n",
    "    maskfill_info = maskfill_env[harmony_environment]\n",
    "    maskfill_request_url = get_harmony_request_url(harmony_host_url, maskfill_info['collection_id'])"
   ]
  },
  {
   "cell_type": "markdown",
   "id": "7ed88963-f821-4197-bba9-203a5aaac66c",
   "metadata": {},
   "source": [
    "### MaskFill synchronous request:\n",
    "\n",
    "This request uses a GeoJSON shape file of the Amazon River basin."
   ]
  },
  {
   "cell_type": "code",
   "execution_count": null,
   "id": "f3efd865-03c3-4e1e-bec2-9bc98f50e6ee",
   "metadata": {},
   "outputs": [],
   "source": [
    "if harmony_environment in maskfill_env:\n",
    "    sync_file_name, sync_success = request(\n",
    "        maskfill_request_url,\n",
    "        extension='h5',\n",
    "        request_parameters={'granuleId': maskfill_info['granule_id']},\n",
    "        files={'shapefile': (maskfill_info['shape_file_path'], open(maskfill_info['shape_file_path'], 'r'), 'application/geo+json')}\n",
    "    )\n",
    "    assert sync_success, 'Unsuccessful MaskFill synchronous request.'\n",
    "\n",
    "    plot_variable(sync_file_name, '/GPP/gpp_mean', '/x', '/y',\n",
    "                  title='MaskFill synchronous results.',\n",
    "                  colourbar_units='Gross Primary Productivity ($\\mathrm{g.cm}^{-2}.\\mathrm{day}^{-1}$)',\n",
    "                  x_label='EASE-2 grid x coordinate (m)', y_label='EASE-2 grid y coordinate (m)',\n",
    "                  levels=np.linspace(0, 30, 31))\n",
    "else:\n",
    "    print(f'MaskFill is not configured for environment: \"{harmony_environment}\" - skipping test.')"
   ]
  },
  {
   "cell_type": "markdown",
   "id": "4dca8d54-7f0c-45cf-8286-3d313982bf65",
   "metadata": {},
   "source": [
    "### MaskFill asynchronous request:\n",
    "\n",
    "For the SPL4CMDL collection, an asynchronous request is preferable for normal operations due to the size of each granule."
   ]
  },
  {
   "cell_type": "code",
   "execution_count": null,
   "id": "e2d40f69-db69-4f44-a4fc-a7b09dd391f6",
   "metadata": {},
   "outputs": [],
   "source": [
    "if harmony_environment in maskfill_env:\n",
    "    async_file_name, async_success = request_async(\n",
    "        maskfill_request_url,\n",
    "        extension='h5',\n",
    "        request_parameters={'granuleId': maskfill_info['granule_id']},\n",
    "        files={'shapefile': (maskfill_info['shape_file_path'], open(maskfill_info['shape_file_path'], 'r'), 'application/geo+json')}\n",
    "    )\n",
    "\n",
    "    assert async_success, 'Unsuccessful MaskFill asynchronous request.'\n",
    "\n",
    "    plot_variable(async_file_name, '/GPP/gpp_mean', '/x', '/y',\n",
    "                  title='MaskFill asynchronous results.',\n",
    "                  colourbar_units='Gross Primary Productivity ($\\mathrm{g.cm}^{-2}.\\mathrm{day}^{-1}$)',\n",
    "                  x_label='EASE-2 grid x coordinate (m)', y_label='EASE-2 grid y coordinate (m)',\n",
    "                  levels=np.linspace(0, 30, 31))\n",
    "else:\n",
    "    print(f'MaskFill is not configured for environment: \"{harmony_environment}\" - skipping test.')"
   ]
  },
  {
   "cell_type": "markdown",
   "id": "ca88eb71-2526-4b34-8ff7-441f869244e0",
   "metadata": {},
   "source": [
    "# Clean up test outputs:"
   ]
  },
  {
   "cell_type": "code",
   "execution_count": null,
   "id": "73fdd147-74a0-48d3-957f-388e2abe356a",
   "metadata": {},
   "outputs": [],
   "source": [
    "directory_files = listdir()\n",
    "\n",
    "for directory_file in directory_files:\n",
    "    if directory_file.endswith(('.nc4', '.h5')):\n",
    "        remove(directory_file)"
   ]
  }
 ],
 "metadata": {
  "celltoolbar": "Tags",
  "kernelspec": {
   "display_name": "Python 3 (ipykernel)",
   "language": "python",
   "name": "python3"
  },
  "language_info": {
   "codemirror_mode": {
    "name": "ipython",
    "version": 3
   },
   "file_extension": ".py",
   "mimetype": "text/x-python",
   "name": "python",
   "nbconvert_exporter": "python",
   "pygments_lexer": "ipython3",
   "version": "3.8.10"
  }
 },
 "nbformat": 4,
 "nbformat_minor": 5
}
