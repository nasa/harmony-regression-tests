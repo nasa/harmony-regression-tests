{
 "cells": [
  {
   "cell_type": "markdown",
   "id": "f7f9ded8",
   "metadata": {},
   "source": [
    "# Regression test suite for services managed by the Data Services team:\n",
    "\n",
    "This notebook provides condensed examples of using Harmony to make requests against the services developed and managed by the Data Services team on the Transformation Train. These services currently include:\n",
    "\n",
    "* Swath Projector (a.k.a. SWOT Reprojector): `sds/swot-reproject`. A service that projects L2 swath data to a grid.\n",
    "* Variable Subsetter: `sds/variable-subsetter`. A service that extracts a subset of granule variables from OPeNDAP to provide a smaller, specific output product.\n",
    "* Harmony OPeNDAP SubSetter (HOSS): `sds/HOSS`. A service for geographic and projected gridded collections, allowing variable and bounding-box spatial subsetting.\n",
    "* MaskFill: `sds/maskfill`. A service that sets values outside of a user-defined GeoJSON shape to a fill value.\n",
    "* Trajectory Subsetter: `sds/trajectory-subsetter`. A service that performs variable, bounding box spatial, shape file spatial and temporal subsetting on segmented trajectory data.\n",
    "\n",
    "Note, several configuration tips were gained from [this blog post](https://towardsdatascience.com/introduction-to-papermill-2c61f66bea30).\n",
    "\n",
    "## Prerequisites\n",
    "\n",
    "The dependencies for this notebook are listed in the [environment.yaml](./environment.yaml). To test or install locally, create the papermill environment used in the automated regression testing suite:\n",
    "\n",
    "`conda env create -f ./environment.yaml && conda activate papermill`\n",
    "\n",
    "A `.netrc` file must also be located in the `test` directory of this repository."
   ]
  },
  {
   "cell_type": "markdown",
   "id": "009f1df8",
   "metadata": {},
   "source": [
    "## Import requirements:"
   ]
  },
  {
   "cell_type": "code",
   "execution_count": null,
   "id": "7ce7f640",
   "metadata": {
    "jupyter": {
     "source_hidden": true
    },
    "tags": []
   },
   "outputs": [],
   "source": [
    "from datetime import datetime\n",
    "from os import listdir, remove, replace\n",
    "from os.path import exists\n",
    "from typing import List\n",
    "\n",
    "from h5py import File as H5File\n",
    "from harmony import BBox, Client, Collection, Dimension, Environment, Request\n",
    "from harmony.harmony import ProcessingFailedException\n",
    "from netCDF4 import Dataset\n",
    "import matplotlib.pyplot as plt\n",
    "import numpy as np\n",
    "import xarray as xr"
   ]
  },
  {
   "cell_type": "markdown",
   "id": "00758d6f",
   "metadata": {},
   "source": [
    "## Set default parameters:\n",
    "\n",
    "`papermill` requires default values for parameters used on the workflow. In this case, `harmony_host_url`."
   ]
  },
  {
   "cell_type": "code",
   "execution_count": null,
   "id": "45f380c6",
   "metadata": {
    "tags": [
     "parameters"
    ]
   },
   "outputs": [],
   "source": [
    "harmony_host_url = 'https://harmony.uat.earthdata.nasa.gov'"
   ]
  },
  {
   "cell_type": "markdown",
   "id": "9237f449",
   "metadata": {},
   "source": [
    "### Identify Harmony environment (for easier reference):"
   ]
  },
  {
   "cell_type": "code",
   "execution_count": null,
   "id": "4420bb6e",
   "metadata": {},
   "outputs": [],
   "source": [
    "host_environment = {'http://localhost:3000': Environment.LOCAL,\n",
    "                    'https://harmony.sit.earthdata.nasa.gov': Environment.SIT,\n",
    "                    'https://harmony.uat.earthdata.nasa.gov': Environment.UAT,\n",
    "                    'https://harmony.earthdata.nasa.gov': Environment.PROD}\n",
    "\n",
    "\n",
    "harmony_environment = host_environment.get(harmony_host_url)\n",
    "\n",
    "if harmony_environment is not None:\n",
    "    harmony_client = Client(env=harmony_environment)"
   ]
  },
  {
   "cell_type": "markdown",
   "id": "53d09a3f-cdb6-4ccf-85b5-7707fec40ebf",
   "metadata": {},
   "source": [
    "## Helper functions:"
   ]
  },
  {
   "cell_type": "code",
   "execution_count": null,
   "id": "66d36ca5-6196-4c00-a519-bd8dc2b8361e",
   "metadata": {
    "jupyter": {
     "source_hidden": true
    },
    "tags": []
   },
   "outputs": [],
   "source": [
    "def print_error(error_string: str) -> str:\n",
    "    \"\"\"Print an error, with formatting for red text. \"\"\"\n",
    "    print(f'\\033[91m{error_string}\\033[0m')\n",
    "\n",
    "\n",
    "def print_success(success_string: str) -> str:\n",
    "    \"\"\" Print a success message, with formatting for green text. \"\"\"\n",
    "    print(f'\\033[92mSuccess: {success_string}\\033[0m')"
   ]
  },
  {
   "cell_type": "markdown",
   "id": "6c5cda8d-1111-4b19-9b74-7efc58d826c3",
   "metadata": {},
   "source": [
    "### Download helper function:"
   ]
  },
  {
   "cell_type": "code",
   "execution_count": null,
   "id": "033ad2bd",
   "metadata": {},
   "outputs": [],
   "source": [
    "def submit_and_download(harmony_client: Client, request: Request, output_file_name: str):\n",
    "    \"\"\" Submit a Harmony request via a `harmony-py` client. Wait for the Harmony job to\n",
    "        finish, then download the results to the specified file path.\n",
    "\n",
    "    \"\"\"\n",
    "    downloaded_filename = None\n",
    "    \n",
    "    try:\n",
    "        job_id = harmony_client.submit(request)\n",
    "\n",
    "\n",
    "        for filename in [file_future.result()\n",
    "                         for file_future\n",
    "                         in harmony_client.download_all(job_id, overwrite=True)]:\n",
    "\n",
    "            print(f'Downloaded: {filename}')\n",
    "            downloaded_filename = filename\n",
    "\n",
    "        if downloaded_filename is not None:\n",
    "            replace(downloaded_filename, output_file_name)\n",
    "            print(f'Saved output to: {output_file_name}')\n",
    "\n",
    "    except ProcessingFailedException:\n",
    "        print_error(f'Harmony request failed to complete successfully.')"
   ]
  },
  {
   "cell_type": "markdown",
   "id": "fa122d23-6040-4352-bf43-619bed3a894e",
   "metadata": {},
   "source": [
    "### Helper functions to check variables in output file:"
   ]
  },
  {
   "cell_type": "code",
   "execution_count": null,
   "id": "43e18c9d-bef4-480c-84b6-348644d9a4a9",
   "metadata": {
    "jupyter": {
     "source_hidden": true
    },
    "tags": []
   },
   "outputs": [],
   "source": [
    "def variable_in_dataset(dataset: Dataset, variable_name: str) -> bool:\n",
    "    \"\"\" Check if a variable is present in a dataset. The variable name must\n",
    "        be the full path, including groups it is nested in.\n",
    "\n",
    "    \"\"\"\n",
    "    variable_bits = variable_name.lstrip('/').split('/')\n",
    "    working_group = dataset\n",
    "    \n",
    "    while len(variable_bits) > 1:\n",
    "        group = variable_bits.pop(0)\n",
    "        if group in working_group.groups:\n",
    "            working_group = working_group[group]\n",
    "        else:\n",
    "            return False\n",
    "\n",
    "    variable_base_name = variable_bits.pop(0)\n",
    "    return variable_base_name in working_group.variables\n",
    "    \n",
    "\n",
    "def all_variables_present(file_name: str, variable_list: List[str]) -> bool:\n",
    "    \"\"\" Take a list of variable and ensure that all of them are present in the\n",
    "        downloaded NetCDF-4 file.\n",
    "\n",
    "    \"\"\"\n",
    "    with Dataset(file_name, 'r') as dataset:\n",
    "        return all(variable_in_dataset(dataset, variable) for variable in variable_list)\n",
    "\n",
    "\n",
    "def variable_values_all_in_range(file_name: str, variable_name: str,\n",
    "                                  minimum_value: float, maximum_value: float) -> bool:\n",
    "    \"\"\" Ensure that all values in a specified variable are within a specified range. \"\"\"\n",
    "    with Dataset(file_name, 'r') as dataset:\n",
    "        variable_values = dataset[variable_name][:]\n",
    "\n",
    "    return variable_values.max() <= maximum_value and variable_values.min() >= minimum_value"
   ]
  },
  {
   "cell_type": "markdown",
   "id": "7e2edcfa-9d1c-498e-9dbd-9ff3566b2675",
   "metadata": {},
   "source": [
    "### Plotting helper functions"
   ]
  },
  {
   "cell_type": "code",
   "execution_count": null,
   "id": "89cbe39d",
   "metadata": {
    "jupyter": {
     "source_hidden": true
    },
    "tags": []
   },
   "outputs": [],
   "source": [
    "def create_plot(variable_data, x_values, y_values, title=None, colourbar_units=None,\n",
    "                x_label=None, y_label=None, levels=20, fill_value=None):\n",
    "    \"\"\" This helper function will display a contour plot of the requested data. This\n",
    "        function assumes the variable data will be two, or three dimensionally gridded, with\n",
    "        dimensions: (time, latitude, longitude) or (latitude, longitude).\n",
    "        \n",
    "        For 3-dimensional data, the first slice in time is extracted for plotting.\n",
    "\n",
    "    \"\"\"\n",
    "    masked_variable = np.ma.masked_where(variable_data[:] == fill_value, variable_data)\n",
    "\n",
    "    fig = plt.figure(figsize=(10, 10))\n",
    "\n",
    "    if title is not None:\n",
    "        fig.suptitle(title, fontsize=20)\n",
    "\n",
    "    ax = plt.axes(xlabel=x_label, ylabel=y_label)\n",
    "\n",
    "    if len(variable_data.shape) == 3:\n",
    "        variable_slice = masked_variable[0][:]\n",
    "    else:\n",
    "        variable_slice = masked_variable\n",
    "\n",
    "    # Some data are lon, lat rather than lat, lon (Python is row, column)\n",
    "    if variable_slice.shape == (len(x_values[:]), len(y_values[:])):\n",
    "        variable_slice = variable_slice.T\n",
    "\n",
    "    # Plot masked data:\n",
    "    colour_scale = ax.contourf(x_values[:], y_values[:], variable_slice, levels=levels)\n",
    "    \n",
    "    # Add colour bar for scaling\n",
    "    colour_bar = plt.colorbar(colour_scale, ax=ax, orientation='horizontal', pad=0.05)\n",
    "\n",
    "    if colourbar_units is not None:\n",
    "        colour_bar.set_label(colourbar_units, fontsize=14)\n",
    "\n",
    "    plt.tight_layout()\n",
    "    plt.show()\n",
    "\n",
    "\n",
    "def plot_variable(file_name, variable, x_variable, y_variable, title, colourbar_units,\n",
    "                  x_label, y_label, levels=20, fill_value=None):\n",
    "    \"\"\" Open the requested NetCDF-4 file and pass the variables through to the `create_plot`\n",
    "        function.\n",
    "\n",
    "    \"\"\"\n",
    "    if file_name.endswith('.nc4'):\n",
    "        # Swath Projector, Variable Subsetter and HOSS\n",
    "        with Dataset(file_name, 'r') as dataset:\n",
    "            create_plot(dataset[variable], dataset[x_variable], dataset[y_variable],\n",
    "                        title=title, colourbar_units=colourbar_units, x_label=x_label,\n",
    "                        y_label=y_label, levels=levels, fill_value=fill_value)\n",
    "    elif file_name.endswith('.h5'):\n",
    "        # MaskFill\n",
    "        with H5File(file_name, 'r') as h5_file:\n",
    "            create_plot(h5_file[variable], h5_file[x_variable], h5_file[y_variable],\n",
    "                        title=title, colourbar_units=colourbar_units, x_label=x_label,\n",
    "                        y_label=y_label, levels=levels, fill_value=fill_value)\n",
    "    else:\n",
    "        print_error('Problem with request, not able to plot output.')"
   ]
  },
  {
   "cell_type": "markdown",
   "id": "fc7aef85",
   "metadata": {},
   "source": [
    "# Begin regression tests:"
   ]
  },
  {
   "cell_type": "markdown",
   "id": "1285f7bf-1d5d-478f-865f-eb02af6aaca8",
   "metadata": {},
   "source": [
    "## Swath Projector:\n",
    "\n",
    "The Swath Projector is currently only configured for collections in UAT."
   ]
  },
  {
   "cell_type": "code",
   "execution_count": null,
   "id": "9ef1408b-aba9-48a9-ba0f-a880a6283919",
   "metadata": {},
   "outputs": [],
   "source": [
    "swath_projector_non_prod_information = {'collection': Collection(id='C1233860183-EEDTEST'),\n",
    "                                        'granule_id': 'G1233860549-EEDTEST'}\n",
    "\n",
    "swath_projector_env = {Environment.LOCAL: swath_projector_non_prod_information,\n",
    "                       Environment.SIT: swath_projector_non_prod_information,\n",
    "                       Environment.UAT: swath_projector_non_prod_information}\n",
    "\n",
    "if harmony_environment in swath_projector_env:\n",
    "    swath_projector_info = swath_projector_env[harmony_environment]\n",
    "else:\n",
    "    swath_projector_info = None"
   ]
  },
  {
   "cell_type": "markdown",
   "id": "692b23d7-e82f-4f76-ad31-27dde2f7ed76",
   "metadata": {},
   "source": [
    "### Swath Projector request with defaults:\n",
    "\n",
    "Make a request that only specifies the collection and an appropriate granule. This should rely on the default target Coordinate Reference System (CRS) and interpolation method."
   ]
  },
  {
   "cell_type": "code",
   "execution_count": null,
   "id": "ebe08e96",
   "metadata": {},
   "outputs": [],
   "source": [
    "if swath_projector_info is not None:\n",
    "    defaults_file_name = 'swath_projector_defaults.nc4'\n",
    "    defaults_request = Request(collection=swath_projector_info['collection'],\n",
    "                               granule_id=[swath_projector_info['granule_id']])\n",
    "    \n",
    "    submit_and_download(harmony_client, defaults_request, defaults_file_name)\n",
    "    assert exists(defaults_file_name), 'Unsuccessful Swath Projector defaults request.'\n",
    "\n",
    "    expected_variables = ['/lat', '/lon', '/latitude_longitude', '/time', '/alpha_var', '/blue_var', '/green_var', '/red_var']\n",
    "    assert all_variables_present(defaults_file_name, expected_variables), 'Missing variables in downloaded output'\n",
    "\n",
    "    plot_variable(defaults_file_name, 'alpha_var', 'lon', 'lat', title='Default parameters Africa granule',\n",
    "                  colourbar_units='Land mask', x_label='Longitude (degrees east)', y_label='Latitude (degrees north)')\n",
    "\n",
    "    print_success('Swath projector with default parameters.')\n",
    "else:\n",
    "    print(f'The Swath Projector is not configured for environment: \"{harmony_environment}\" - skipping test.')"
   ]
  },
  {
   "cell_type": "markdown",
   "id": "c93f150c-f1b3-4005-885c-4b9f65f6600f",
   "metadata": {},
   "source": [
    "### Swath Projector request for Madagascar:\n",
    "\n",
    "Make a request to the Swath Projector specifying a target CRS using an EPSG code, and requested that the target grid covers only the area surrounding Madagascar, using the `scaleExtents` parameter."
   ]
  },
  {
   "cell_type": "code",
   "execution_count": null,
   "id": "a99357c0",
   "metadata": {},
   "outputs": [],
   "source": [
    "if swath_projector_info is not None:\n",
    "    epsg_file_name = 'swath_projector_epsg.nc4'\n",
    "    epsg_request = Request(collection=swath_projector_info['collection'],\n",
    "                           granule_id=[swath_projector_info['granule_id']],\n",
    "                           crs='EPSG:4326', scale_extent=[42, -27, 52, -10],\n",
    "                           temporal={'start': datetime(2020, 1, 15), 'stop': datetime(2020, 1, 16)})\n",
    "    \n",
    "    submit_and_download(harmony_client, epsg_request, epsg_file_name)\n",
    "    assert exists(epsg_file_name), 'Unsuccessful Swath Projector EPSG code request.'\n",
    "\n",
    "    expected_variables = ['/lat', '/lon', '/latitude_longitude', '/time', '/alpha_var', '/blue_var', '/green_var', '/red_var']\n",
    "    assert all_variables_present(epsg_file_name, expected_variables), 'Missing variables in downloaded output'\n",
    "\n",
    "    plot_variable(epsg_file_name, 'alpha_var', 'lon', 'lat', title='EPSG:4326 output Africa granule',\n",
    "                  colourbar_units='Land mask', x_label='Longitude (degrees east)', y_label='Latitude (degrees north)')\n",
    "\n",
    "    print_success('Swath Projector EPSG code request.')\n",
    "else:\n",
    "    print(f'The Swath Projector is not configured for environment: \"{harmony_environment}\" - skipping test.')"
   ]
  },
  {
   "cell_type": "markdown",
   "id": "35a1507a-84e2-4856-8f6f-bf646339c727",
   "metadata": {},
   "source": [
    "### Swath Projector, interpolation type and Proj4:\n",
    "\n",
    "Use the `interpolation` and `outputCrs` parameters to ensure a raw Proj4 string is valid input and that the user can select a non-default interpolation type."
   ]
  },
  {
   "cell_type": "code",
   "execution_count": null,
   "id": "a80fa22c",
   "metadata": {},
   "outputs": [],
   "source": [
    "if swath_projector_info is not None:\n",
    "    proj4_string_file_name = 'swath_projector_proj4.nc4'\n",
    "    proj4_lcc = '+proj=lcc +lat_1=43 +lat_2=62 +lat_0=30 +lon_0=10 +x_0=0 +y_0=0 +ellps=intl +units=m +no_defs'\n",
    "    proj4_string_request = Request(collection=swath_projector_info['collection'],\n",
    "                                   granule_id=[swath_projector_info['granule_id']],\n",
    "                                   crs=proj4_lcc, interpolation='near',\n",
    "                                   temporal={'start': datetime(2020, 1, 15), 'stop': datetime(2020, 1, 16)})\n",
    "    \n",
    "    submit_and_download(harmony_client, proj4_string_request, proj4_string_file_name)\n",
    "    assert exists(proj4_string_file_name), 'Unsuccessful Swath Projector interpolation and Proj4 request.'\n",
    "\n",
    "    expected_variables = ['/x', '/y', '/lambert_conformal_conic', '/time', '/alpha_var', '/blue_var', '/green_var', '/red_var']\n",
    "    assert all_variables_present(proj4_string_file_name, expected_variables), 'Missing variables in downloaded output'\n",
    "\n",
    "    plot_variable(proj4_string_file_name, 'alpha_var', 'x', 'y', title='Lambert Conformal Conic CRS, Africa granule',\n",
    "                  colourbar_units='Land mask', x_label='Longitude (degrees east)', y_label='Latitude (degrees north)')\n",
    "\n",
    "    print_success('Swath Projector interpolation and Proj4 request')\n",
    "else:\n",
    "    print(f'The Swath Projector is not configured for environment: \"{harmony_environment}\" - skipping test.')"
   ]
  },
  {
   "cell_type": "markdown",
   "id": "6e966ac0-88bc-4bed-b5a1-7180c871a082",
   "metadata": {},
   "source": [
    "### Swath Projector asynchronous request:\n",
    "\n",
    "This test has been removed: `harmony-py` requests are asynchronous by default."
   ]
  },
  {
   "cell_type": "markdown",
   "id": "162a6fb9-fe99-4d2e-afe5-e252f0d8c6ab",
   "metadata": {},
   "source": [
    "## Variable Subsetter\n",
    "\n",
    "The variable subsetter is currently only configured for collections in UAT.\n",
    "\n",
    "The granule selected is the smallest in the ATL08 collection, to improve performance of tests."
   ]
  },
  {
   "cell_type": "code",
   "execution_count": null,
   "id": "7ada788f",
   "metadata": {},
   "outputs": [],
   "source": [
    "var_subsetter_non_prod_information = {'collection': Collection(id='C1234714698-EEDTEST'),\n",
    "                                      'granule_id': 'G1238479209-EEDTEST'}\n",
    "\n",
    "var_subsetter_env = {Environment.LOCAL: var_subsetter_non_prod_information,\n",
    "                     Environment.SIT: var_subsetter_non_prod_information,\n",
    "                     Environment.UAT: var_subsetter_non_prod_information}\n",
    "\n",
    "if harmony_environment in var_subsetter_env:\n",
    "    var_subsetter_info = var_subsetter_env[harmony_environment]\n",
    "else:\n",
    "    var_subsetter_info = None"
   ]
  },
  {
   "cell_type": "markdown",
   "id": "e8f58ea4-124f-4dc4-8039-81fb20cd02c7",
   "metadata": {},
   "source": [
    "### Variable Subsetter request, no Int64 variables\n",
    "\n",
    "This request should retrieve the requested `/gt1l/land_segments/dem_h` variable alongside the following supporting variables:\n",
    "\n",
    "* `/gt1l/land_segments/delta_time`\n",
    "* `/gt1l/land_segments/latitude`\n",
    "* `/gt1l/land_segments/longitude`"
   ]
  },
  {
   "cell_type": "code",
   "execution_count": null,
   "id": "6af0f6d7",
   "metadata": {},
   "outputs": [],
   "source": [
    "if var_subsetter_info is not None:\n",
    "    no_int64_file_name = 'var_subsetter_no_int64.nc4'\n",
    "    no_int64_request = Request(collection=var_subsetter_info['collection'],\n",
    "                               granule_id=[var_subsetter_info['granule_id']],\n",
    "                               variables=['/gt1l/land_segments/dem_h'])\n",
    "\n",
    "    submit_and_download(harmony_client, no_int64_request, no_int64_file_name)\n",
    "    assert exists(no_int64_file_name), 'Unsuccessful non-Int64 Variable Subsetter request.'\n",
    "\n",
    "    expected_variables = ['/gt1l/land_segments/dem_h', '/gt1l/land_segments/delta_time',\n",
    "                          '/gt1l/land_segments/latitude', '/gt1l/land_segments/longitude']\n",
    "    \n",
    "    assert all_variables_present(no_int64_file_name, expected_variables), 'Missing variables in downloaded output'\n",
    "\n",
    "    print_success('Variable subsetter synchronous request.')\n",
    "else:\n",
    "    print(f'The Variable Subsetter is not configured for environment: \"{harmony_environment}\" - skipping test.')"
   ]
  },
  {
   "cell_type": "markdown",
   "id": "40e40229-3ff7-4d82-945b-af33703eb11c",
   "metadata": {},
   "source": [
    "### Variable Subsetter request and Int64 variables\n",
    "\n",
    "This request should retrieve the `/gt1l/signal_photons/classed_pc_flag` variable and 6 supporting variables, some of which are Int64, which is not supported by the DAP2 protocol:\n",
    "\n",
    "* `/gt1l/signal_photons/delta_time`\n",
    "* `/gt1l/land_segments/ph_ndx`\n",
    "* `/gt1l/land_segments/n_seg_ph`\n",
    "* `/gt1l/land_segments/delta_time`\n",
    "* `/gt1l/land_segments/latitude`\n",
    "* `/gt1l/land_segments/longitude`"
   ]
  },
  {
   "cell_type": "code",
   "execution_count": null,
   "id": "41a3f8fd",
   "metadata": {},
   "outputs": [],
   "source": [
    "if var_subsetter_info is not None:\n",
    "    int64_file_name = 'var_subsetter_int64.nc4'\n",
    "    int64_request = Request(collection=var_subsetter_info['collection'],\n",
    "                            granule_id=[var_subsetter_info['granule_id']],\n",
    "                            variables=['/gt1l/signal_photons/classed_pc_flag'])\n",
    "\n",
    "    submit_and_download(harmony_client, int64_request, int64_file_name)\n",
    "    assert exists(int64_file_name), 'Unsuccessful Int64 Variable Subsetter request.'\n",
    "\n",
    "    expected_variables = ['/gt1l/signal_photons/classed_pc_flag', '/gt1l/signal_photons/delta_time',\n",
    "                          '/gt1l/land_segments/ph_ndx_beg', '/gt1l/land_segments/n_seg_ph',\n",
    "                          '/gt1l/land_segments/delta_time', '/gt1l/land_segments/latitude',\n",
    "                          '/gt1l/land_segments/longitude']\n",
    "    \n",
    "    assert all_variables_present(int64_file_name, expected_variables), 'Missing variables in downloaded output'\n",
    "\n",
    "    print_success('Variable Subsetter Int64 request.')\n",
    "else:\n",
    "    print(f'The Variable Subsetter is not configured for environment: \"{harmony_environment}\" - skipping test.')"
   ]
  },
  {
   "cell_type": "markdown",
   "id": "aaeb21d3-ce95-4068-b6aa-28b9f9b93b5a",
   "metadata": {},
   "source": [
    "### Variable Subsetter, all variables\n",
    "\n",
    "Make a request for \"all\" variables. This should retrieve the entire file, with all the variables from the original source granule.\n",
    "\n",
    "This test is now live, as improvements to OPeNDAP performance have mitigated a timeout. Progress!!!"
   ]
  },
  {
   "cell_type": "code",
   "execution_count": null,
   "id": "a5b11ceb",
   "metadata": {},
   "outputs": [],
   "source": [
    "if var_subsetter_info is not None:\n",
    "    all_variables_file_name = 'var_subsetter_all_vars.nc4'\n",
    "    all_variables_request = Request(collection=var_subsetter_info['collection'],\n",
    "                                    granule_id=[var_subsetter_info['granule_id']])\n",
    "\n",
    "    submit_and_download(harmony_client, all_variables_request, all_variables_file_name)\n",
    "    assert exists(all_variables_file_name), 'Unsuccessful Variable Subsetter all variable request.'\n",
    "\n",
    "    # TODO: Recursive check of all variables and groups from input granule.\n",
    "\n",
    "    print_success('Variable Subsetter all variable request.')\n",
    "else:\n",
    "    print(f'The Variable Subsetter is not configured for environment: \"{harmony_environment}\" - skipping test.')"
   ]
  },
  {
   "cell_type": "markdown",
   "id": "9dd58c71-0232-4a20-9dc4-ef6b3544e797",
   "metadata": {},
   "source": [
    "## Harmony OPeNDAP SubSetter (HOSS):\n",
    "\n",
    "HOSS is currently deployed to Sandbox, SIT, UAT and production. However, it is only associated with collections in UAT. Requests will be made against the RSSMIF16D collection, as mirrored in the EEDTEST CMR provider in UAT."
   ]
  },
  {
   "cell_type": "code",
   "execution_count": null,
   "id": "bd0cbbff",
   "metadata": {},
   "outputs": [],
   "source": [
    "hoss_non_prod_information = {'collection': Collection(id='C1238392622-EEDTEST'),\n",
    "                             'granule_id': 'G1245840464-EEDTEST',\n",
    "                             'temporal_collection': Collection(id='C1245662776-EEDTEST'),\n",
    "                             'temporal_granule_id': 'G1245662797-EEDTEST',\n",
    "                             'bounds_collection': Collection(id='C1245618475-EEDTEST'),\n",
    "                             'bounds_granule_id': 'G1255863984-EEDTEST'}\n",
    "\n",
    "hoss_env = {Environment.LOCAL: hoss_non_prod_information,\n",
    "            Environment.SIT: hoss_non_prod_information,\n",
    "            Environment.UAT: hoss_non_prod_information}\n",
    "\n",
    "if harmony_environment in hoss_env:\n",
    "    hoss_info = hoss_env[harmony_environment]\n",
    "else:\n",
    "    hoss_info = None"
   ]
  },
  {
   "cell_type": "markdown",
   "id": "ef9ec4d2-2228-47d0-a990-d5a4d77b7bc7",
   "metadata": {},
   "source": [
    "### HOSS bounding box and variable subsetter request\n",
    "\n",
    "This is a request that exercises the full range of HOSS options: bounding box and variable subsetting.\n",
    "\n",
    "Requested parameter:\n",
    "\n",
    "* `/atmosphere_water_vapor_content`\n",
    "\n",
    "Additional required parameters (grid dimensions):\n",
    "\n",
    "* `/latitude`\n",
    "* `/longitude`\n",
    "* `/time`"
   ]
  },
  {
   "cell_type": "code",
   "execution_count": null,
   "id": "fcee5100",
   "metadata": {},
   "outputs": [],
   "source": [
    "if hoss_info is not None:\n",
    "    hoss_var_bbox_file_name = 'hoss_var_bbox.nc4'\n",
    "    hoss_var_bbox_bbox = BBox(w=-150, s=0, e=-105, n=15)\n",
    "    hoss_var_bbox_request = Request(collection=hoss_info['collection'],\n",
    "                                    granule_id=[hoss_info['granule_id']],\n",
    "                                    variables=['atmosphere_cloud_liquid_water_content'],\n",
    "                                    spatial=hoss_var_bbox_bbox)\n",
    "\n",
    "    submit_and_download(harmony_client, hoss_var_bbox_request, hoss_var_bbox_file_name)\n",
    "    assert exists(hoss_var_bbox_file_name), 'Unsuccessful HOSS variable, bounding box request.'\n",
    "\n",
    "    expected_variables = ['/atmosphere_cloud_liquid_water_content', '/latitude', '/longitude', '/time']\n",
    "    assert all_variables_present(hoss_var_bbox_file_name, expected_variables), 'Missing variables in HOSS output'\n",
    "\n",
    "    plot_variable(hoss_var_bbox_file_name, '/atmosphere_cloud_liquid_water_content', '/longitude', '/latitude',\n",
    "                  title='HOSS synchronous results.', colourbar_units='Columnar cloud liquid water (kg.m-2)',\n",
    "                  x_label='Longitude (degrees east)', y_label='Latitude (degrees north)',\n",
    "                  levels=np.linspace(-0.05, 2.45, 51))\n",
    "\n",
    "    print_success('HOSS variable and bounding box request.')\n",
    "else:\n",
    "    print(f'HOSS is not configured for environment: \"{harmony_environment}\" - skipping test.')"
   ]
  },
  {
   "cell_type": "markdown",
   "id": "957e8660-90ba-472f-bb53-e50f5564eb0b",
   "metadata": {},
   "source": [
    "### HOSS asynchronous request\n",
    "\n",
    "This test is removed as `harmony-py` requests are all asynchronous."
   ]
  },
  {
   "cell_type": "markdown",
   "id": "4b476837-2482-4282-a394-b38324902b45",
   "metadata": {},
   "source": [
    "### HOSS bounding box crosses grid edge:\n",
    "\n",
    "For collections where the grid edge is the Prime Meridian (0 degrees east) rather than the Antimeridian (180 degrees east) HOSS needs to be able to function when a user requests a region crossing the Prime Meridian (for example a box containing the UK). It currently retrieves the specified latitude range, but the full longitude range, and fills outside the bounding box region.\n",
    "\n",
    "The expected output will look like two vertical stripes of data, one each at the lefthand and righthand edge of the plot."
   ]
  },
  {
   "cell_type": "code",
   "execution_count": null,
   "id": "ee5f05c1",
   "metadata": {},
   "outputs": [],
   "source": [
    "if hoss_info is not None:\n",
    "    grid_edge_file_name = 'hoss_grid_edge.nc4'\n",
    "    grid_edge_bbox = BBox(w=-15, s=-60, e=15, n=-30)\n",
    "    grid_edge_request = Request(collection=hoss_info['collection'],\n",
    "                                granule_id=[hoss_info['granule_id']],\n",
    "                                variables=['atmosphere_cloud_liquid_water_content'],\n",
    "                                spatial=grid_edge_bbox)\n",
    "\n",
    "    submit_and_download(harmony_client, grid_edge_request, grid_edge_file_name)\n",
    "    assert exists(grid_edge_file_name), 'Unsuccessful HOSS request crossing longitudinal edge.'\n",
    "\n",
    "    expected_variables = ['/atmosphere_cloud_liquid_water_content', '/latitude', '/longitude', '/time']\n",
    "    assert all_variables_present(grid_edge_file_name, expected_variables), 'Missing variables in grid-edge-crossing output'\n",
    "\n",
    "    plot_variable(grid_edge_file_name, '/atmosphere_cloud_liquid_water_content', '/longitude', '/latitude',\n",
    "                  title='HOSS request crossing grid edge.', colourbar_units='Columnar cloud liquid water (kg.m-2)',\n",
    "                  x_label='Longitude (degrees east)', y_label='Latitude (degrees north)',\n",
    "                  levels=np.linspace(-0.05, 2.45, 51))\n",
    "\n",
    "    print_success('HOSS request crossing longitudinal edge.')\n",
    "else:\n",
    "    print(f'HOSS is not configured for environment: \"{harmony_environment}\" - skipping test.')"
   ]
  },
  {
   "cell_type": "markdown",
   "id": "6603a5c2-9ef2-4620-93a5-029963eca195",
   "metadata": {},
   "source": [
    "### HOSS request no bounding box\n",
    "\n",
    "If a bounding box is not specified for a HOSS-activated collection, a variable subset will still be performed. The requested variables will be returned, with their full original data."
   ]
  },
  {
   "cell_type": "code",
   "execution_count": null,
   "id": "6fa15722",
   "metadata": {},
   "outputs": [],
   "source": [
    "if hoss_info is not None:\n",
    "    no_bbox_file_name = 'hoss_no_bbox.nc4'\n",
    "    no_bbox_request = Request(collection=hoss_info['collection'],\n",
    "                              granule_id=[hoss_info['granule_id']],\n",
    "                              variables=['sst_dtime', 'wind_speed'])\n",
    "\n",
    "    submit_and_download(harmony_client, no_bbox_request, no_bbox_file_name)\n",
    "    assert exists(no_bbox_file_name), 'Unsuccessful HOSS request without bounding box.'\n",
    "\n",
    "    expected_variables = ['/sst_dtime', '/wind_speed', '/latitude', '/longitude', '/time']\n",
    "    assert all_variables_present(no_bbox_file_name, expected_variables), 'Missing variables in no bounding box output'\n",
    "\n",
    "    plot_variable(no_bbox_file_name, '/wind_speed', '/longitude', '/latitude',\n",
    "                  title='HOSS request no bounding box.', colourbar_units='Wind speed (m/s)',\n",
    "                  x_label='Longitude (degrees east)', y_label='Latitude (degrees north)',\n",
    "                  levels=np.linspace(0, 50, 51))\n",
    "\n",
    "    print_success('HOSS request without bounding box.')\n",
    "else:\n",
    "    print(f'HOSS is not configured for environment: \"{harmony_environment}\" - skipping test.')"
   ]
  },
  {
   "cell_type": "markdown",
   "id": "4c251606-58ed-4316-851f-cd9617cf6d0a",
   "metadata": {},
   "source": [
    "### HOSS request all variables\n",
    "\n",
    "If there are no variables specified, HOSS should retrieve all variables. If the bounding box is specified, all gridded variables should still be constrained to the requested spatial region."
   ]
  },
  {
   "cell_type": "code",
   "execution_count": null,
   "id": "08ef7edb",
   "metadata": {},
   "outputs": [],
   "source": [
    "if hoss_info is not None:\n",
    "    hoss_all_vars_file_name = 'hoss_all_vars.nc4'\n",
    "    hoss_all_vars_bbox = BBox(w=-150, s=0, e=-105, n=15)\n",
    "    hoss_all_vars_request = Request(collection=hoss_info['collection'],\n",
    "                                    granule_id=[hoss_info['granule_id']],\n",
    "                                    spatial=hoss_all_vars_bbox)\n",
    "\n",
    "    submit_and_download(harmony_client, hoss_all_vars_request, hoss_all_vars_file_name)\n",
    "    assert exists(hoss_all_vars_file_name), 'Unsuccessful HOSS all-variable request.'\n",
    "\n",
    "    expected_variables = ['/atmosphere_cloud_liquid_water_content', '/atmosphere_water_vapor_content',\n",
    "                          '/latitude', '/longitude', '/rainfall_rate', '/sst_dtime', '/time', '/wind_speed']\n",
    "    assert all_variables_present(hoss_all_vars_file_name, expected_variables), 'Missing variables in HOSS all-variable output'\n",
    "\n",
    "    plot_variable(hoss_all_vars_file_name, '/atmosphere_cloud_liquid_water_content', '/longitude', '/latitude',\n",
    "                  title='HOSS all variable results.', colourbar_units='Columnar cloud liquid water (kg.m-2)',\n",
    "                  x_label='Longitude (degrees east)', y_label='Latitude (degrees north)',\n",
    "                  levels=np.linspace(-0.05, 2.45, 51))\n",
    "\n",
    "    print_success('HOSS all-variable request.')\n",
    "else:\n",
    "    print(f'HOSS is not configured for environment: \"{harmony_environment}\" - skipping test.')"
   ]
  },
  {
   "cell_type": "markdown",
   "id": "d0629b4f-1990-42f7-b19d-025e46a96629",
   "metadata": {},
   "source": [
    "### HOSS request all variables, no bounding box\n",
    "\n",
    "If no variables and no bounding box are specified, the entire original granule should be retrieved. (This will run the Variable Subsetter branch of the `sds/variable-subsetter` Docker image, skipping any spatial subsetting portion of the service)\n",
    "\n",
    "The plotted image should cover the entire Earth (landmasses will be masked)."
   ]
  },
  {
   "cell_type": "code",
   "execution_count": null,
   "id": "55c0da12",
   "metadata": {},
   "outputs": [],
   "source": [
    "if hoss_info is not None:\n",
    "    all_no_bbox_file_name = 'hoss_all_no_bbox.nc4'\n",
    "    all_no_bbox_request = Request(collection=hoss_info['collection'],\n",
    "                                  granule_id=hoss_info['granule_id'])\n",
    "\n",
    "\n",
    "    submit_and_download(harmony_client, all_no_bbox_request, all_no_bbox_file_name)\n",
    "    assert exists(all_no_bbox_file_name), 'Unsuccessful HOSS all-variable, no bounding box request.'\n",
    "\n",
    "    expected_variables = ['/atmosphere_cloud_liquid_water_content', '/atmosphere_water_vapor_content',\n",
    "                          '/latitude', '/longitude', '/rainfall_rate', '/sst_dtime', '/time', '/wind_speed']\n",
    "    assert all_variables_present(all_no_bbox_file_name, expected_variables), 'Missing variables in HOSS all-variable, no bbox output'\n",
    "\n",
    "    plot_variable(all_no_bbox_file_name, '/atmosphere_cloud_liquid_water_content', '/longitude', '/latitude',\n",
    "                  title='HOSS all variables, no bounding box results.',\n",
    "                  colourbar_units='Columnar cloud liquid water (kg.m-2)',\n",
    "                  x_label='Longitude (degrees east)', y_label='Latitude (degrees north)',\n",
    "                  levels=np.linspace(-0.05, 2.45, 51))\n",
    "\n",
    "    print_success('HOSS all-variable, no bounding box request.')\n",
    "else:\n",
    "    print(f'HOSS is not configured for environment: \"{harmony_environment}\" - skipping test.')"
   ]
  },
  {
   "cell_type": "markdown",
   "id": "751e3ca8",
   "metadata": {},
   "source": [
    "### HOSS temporal subset request:\n",
    "\n",
    "This request will combine a variable and temporal subset for a granule in the M2T1NXSLV collection (MERRA-2). The result will include the requested variable and the three associated dimension variables:\n",
    "\n",
    "* `/H1000`\n",
    "* `/lat`\n",
    "* `/lon`\n",
    "* `/time`\n",
    "\n",
    "Furthermore, the temporal dimension and the science variable (`/H1000`) will be limited to the specified temporal range. MERRA-2 is gridded at hourly intervals, so the 4-hour time range (12pm - 4pm on 9th June 2021) will return 4 time values.\n",
    "\n",
    "For the granule being tested, all time values are expressed as minutes since 2021-06-09T00:30:00Z, and each grid-cell spans 30 minutes in either direction from the stated value (cells are centre-aligned). As such:\n",
    "\n",
    "* 12pm is the leading edge of the cell with a centre value of 12:30pm, which is 720 minutes since 00:30am.\n",
    "* 4pm is the trailing edge of the cell with a centre value of 15:30pm, which is 900 minutes since 00:30am."
   ]
  },
  {
   "cell_type": "code",
   "execution_count": null,
   "id": "3c9e495e",
   "metadata": {},
   "outputs": [],
   "source": [
    "if hoss_info is not None:\n",
    "    hoss_temporal_file_name = 'hoss_temporal.nc4'\n",
    "    hoss_temporal_request = Request(collection=hoss_info['temporal_collection'],\n",
    "                                    granule_id=hoss_info['temporal_granule_id'],\n",
    "                                    variables=['H1000'],\n",
    "                                    temporal={'start': datetime(2021, 6, 9, 12, 0, 0),\n",
    "                                              'stop': datetime(2021, 6, 9, 16, 0, 0)})\n",
    "\n",
    "\n",
    "    submit_and_download(harmony_client, hoss_temporal_request, hoss_temporal_file_name)\n",
    "    assert exists(all_no_bbox_file_name), 'Unsuccessful HOSS temporal request.'\n",
    "\n",
    "    expected_variables = ['/H1000', '/lat', '/lon', 'time']\n",
    "    assert all_variables_present(hoss_temporal_file_name, expected_variables), 'Missing variables in HOSS temporal output'\n",
    "    \n",
    "    assert variable_values_all_in_range(hoss_temporal_file_name, '/time', 720.0, 900.0), 'Temporal dimension not correctly subsetted'\n",
    "\n",
    "    print_success('HOSS temporal request.')\n",
    "else:\n",
    "    print(f'HOSS is not configured for environment: \"{harmony_environment}\" - skipping test.')"
   ]
  },
  {
   "cell_type": "markdown",
   "id": "9ee6a0ad",
   "metadata": {},
   "source": [
    "### Named dimension subsetting:\n",
    "\n",
    "The following test will recreate a bounding box subset, however, it will explicitly name the dimension variables, rather than relying on the generic bounding box request parameters, `subset=lat(a:b)&subset=lon(c:d)`. For the RSSMIF16D the longitude and latitude dimensions are named:\n",
    "\n",
    "* `/latitude` and `/longitude`."
   ]
  },
  {
   "cell_type": "code",
   "execution_count": null,
   "id": "980a1774",
   "metadata": {},
   "outputs": [],
   "source": [
    "if hoss_info is not None:\n",
    "    hoss_named_dims_file_name = 'hoss_named_dimensions.nc4'\n",
    "    hoss_named_dims_request = Request(collection=hoss_info['collection'],\n",
    "                                      granule_id=[hoss_info['granule_id']],\n",
    "                                      variables=['atmosphere_cloud_liquid_water_content'],\n",
    "                                      dimensions=[Dimension('latitude', -20, -5),\n",
    "                                                  Dimension('longitude', 70, 85)])\n",
    "\n",
    "    submit_and_download(harmony_client, hoss_named_dims_request, hoss_named_dims_file_name)\n",
    "    assert exists(hoss_named_dims_file_name), 'Unsuccessful HOSS named dimensions request.'\n",
    "\n",
    "    expected_variables = ['/atmosphere_cloud_liquid_water_content', '/latitude', '/longitude', '/time']\n",
    "    assert all_variables_present(hoss_named_dims_file_name, expected_variables), 'Missing variables in HOSS output'\n",
    "\n",
    "    plot_variable(hoss_named_dims_file_name, '/atmosphere_cloud_liquid_water_content', '/longitude', '/latitude',\n",
    "                  title='HOSS synchronous results.', colourbar_units='Columnar cloud liquid water (kg.m-2)',\n",
    "                  x_label='Longitude (degrees east)', y_label='Latitude (degrees north)',\n",
    "                  levels=np.linspace(-0.05, 2.45, 51))\n",
    "\n",
    "    print_success('HOSS named dimensions request.')\n",
    "else:\n",
    "    print(f'HOSS is not configured for environment: \"{harmony_environment}\" - skipping test.')"
   ]
  },
  {
   "cell_type": "markdown",
   "id": "d5dbe0de",
   "metadata": {},
   "source": [
    "## HOSS/MaskFill chained service request:\n",
    "\n",
    "This request uses the chained service that combines HOSS with MaskFill to offer polygon spatial subsetting for L3/L4 gridded data hosted in OPeNDAP. This request will use a GeoJSON shape file of the Amazon River basin and the GPM/IMERG test collection."
   ]
  },
  {
   "cell_type": "code",
   "execution_count": null,
   "id": "1bd8aa94",
   "metadata": {},
   "outputs": [],
   "source": [
    "hoss_maskfill_non_prod_information = {'collection': Collection(id='C1245618475-EEDTEST'),\n",
    "                                      'shape_file_path': 'amazon_basin.geo.json',\n",
    "                                      'granule_id': 'G1245649517-EEDTEST'}\n",
    "\n",
    "hoss_maskfill_env = {Environment.LOCAL: hoss_maskfill_non_prod_information,\n",
    "                     Environment.SIT: hoss_maskfill_non_prod_information,\n",
    "                     Environment.UAT: hoss_maskfill_non_prod_information}\n",
    "\n",
    "if harmony_environment in hoss_maskfill_env:\n",
    "    hoss_maskfill_info = hoss_maskfill_env[harmony_environment]\n",
    "else:\n",
    "    hoss_maskfill_info = None"
   ]
  },
  {
   "cell_type": "code",
   "execution_count": null,
   "id": "c91f8443",
   "metadata": {},
   "outputs": [],
   "source": [
    "if hoss_maskfill_info is not None:\n",
    "    hoss_maskfill_file_name = 'hoss_maskfill_amazon.nc4'\n",
    "    hoss_maskfill_request = Request(collection=hoss_maskfill_info['collection'],\n",
    "                                    granule_id=hoss_maskfill_info['granule_id'],\n",
    "                                    shape=hoss_maskfill_info['shape_file_path'],\n",
    "                                    variables=['/Grid/precipitationCal'])\n",
    "    submit_and_download(harmony_client, hoss_maskfill_request, hoss_maskfill_file_name)\n",
    "    assert exists(hoss_maskfill_file_name), 'Unsuccessful HOSS/MaskFill polygon spatial subset request.'\n",
    "\n",
    "    expected_variables = ['/Grid/lat', '/Grid/lat_bnds', '/Grid/lon', '/Grid/lon_bnds', '/Grid/time',\n",
    "                          '/Grid/time_bnds', '/Grid/precipitationCal']\n",
    "    assert all_variables_present(hoss_maskfill_file_name, expected_variables), 'Missing variables in HOSS/MaskFill output'\n",
    "\n",
    "\n",
    "    plot_variable(hoss_maskfill_file_name, '/Grid/precipitationCal', '/Grid/lon', '/Grid/lat',\n",
    "                  title='HOSS/MaskFill polygon spatial subset.',\n",
    "                  colourbar_units='Calibrated precipitation ($\\mathrm{mm\\,hr}^{-1}$)',\n",
    "                  x_label='Longitude (degrees east)', y_label='Latitude (degrees north)',\n",
    "                  levels=np.linspace(0, 30, 31))\n",
    "\n",
    "    print_success('HOSS/MaskFill polygon spatial subset request.')\n",
    "else:\n",
    "    print(f'HOSS/MaskFill chained service is not configured for environment: \"{harmony_environment}\" - skipping test.')\n"
   ]
  },
  {
   "cell_type": "markdown",
   "id": "72eeff5d-0893-4937-bcd9-a187e548b961",
   "metadata": {},
   "source": [
    "## Spatial subsetting of projected grid using a bounding box.\n",
    "\n",
    "This request uses the chained service that combines HOSS with MaskFill to offer bounding box spatial subsetting of coordinate projected gridded data hosted in OPeNDAP.\n",
    "\n",
    "The request will use the [ABoVE Tundra Vegetation Photosynthesis and Respiration Model (TVPRM) Simulated Net Ecosystem Exchange collection](https://cmr.uat.earthdata.nasa.gov/search/concepts/C1245804308-EEDTEST.html). This collection uses an Albers Conical Equal Area projection.\n",
    "\n",
    "The request also uses a temporal subset to limit the size of the result.\n"
   ]
  },
  {
   "cell_type": "code",
   "execution_count": null,
   "id": "4657e58b-8153-4f81-a794-3f8f8a1620b1",
   "metadata": {},
   "outputs": [],
   "source": [
    "hoss_projected_non_prod_information = {\n",
    "    'collection': Collection(id='C1245804308-EEDTEST'),\n",
    "    'bbox': BBox(w=-160, s=68, e=-150, n=70),\n",
    "    'shape_file_path': 'north_slope.geo.json',\n",
    "    'granule_id': 'G1245804356-EEDTEST',\n",
    "    'temporal_range': {\n",
    "        'start': datetime(2008, 7, 2, 0, 0, 0),\n",
    "        'stop': datetime(2008, 7, 2, 1, 0, 0)\n",
    "    }\n",
    "}\n",
    "\n",
    "hoss_projected_env = {\n",
    "    Environment.LOCAL: hoss_projected_non_prod_information,\n",
    "    Environment.SIT: hoss_projected_non_prod_information,\n",
    "    Environment.UAT: hoss_projected_non_prod_information\n",
    "}\n",
    "\n",
    "if harmony_environment in hoss_projected_env:\n",
    "    hoss_projected_info = hoss_projected_env[harmony_environment]\n",
    "else:\n",
    "    hoss_projected_info = None"
   ]
  },
  {
   "cell_type": "code",
   "execution_count": null,
   "id": "64f96581-a7bb-4221-ab8c-b4a81aa15a71",
   "metadata": {},
   "outputs": [],
   "source": [
    "if hoss_projected_info is not None:\n",
    "    hoss_projected_reference_filename = 'reference_images/hoss_projected_north_slope_reference_one.nc4'\n",
    "    hoss_projected_filename = 'hoss_projected_north_slope.nc4'\n",
    "    hoss_projected_request = Request(collection=hoss_projected_info['collection'],\n",
    "                                     granule_id=hoss_projected_info['granule_id'],\n",
    "                                     spatial=hoss_projected_info['bbox'],\n",
    "                                     variables=['NEE', 'lat', 'lon'],\n",
    "                                     temporal=hoss_projected_info['temporal_range'])\n",
    "    submit_and_download(harmony_client, hoss_projected_request, hoss_projected_filename)\n",
    "    assert exists(hoss_projected_filename), 'Unsuccessful HOSS spatial subset request.'\n",
    "    \n",
    "    # Load data and make comparison:\n",
    "    reference_data =  xr.open_dataset(hoss_projected_reference_filename)\n",
    "    output_data = xr.open_dataset(hoss_projected_filename)\n",
    "    assert output_data.equals(reference_data), 'reference and output datasets did not match'\n",
    "    print_success('Subsetting projected grid with bounding box.')\n",
    "else:\n",
    "    print(f'HOSS is not configured for environment: \"{harmony_environment}\" - skipping test.')"
   ]
  },
  {
   "cell_type": "markdown",
   "id": "5722bd0f-2489-402d-8cb5-c27c1149226a",
   "metadata": {},
   "source": [
    "### Set Cartopy features and plot images of data and control variables. "
   ]
  },
  {
   "cell_type": "code",
   "execution_count": null,
   "id": "38707fb9-1f9e-4f35-91e4-ed7f07bbfc83",
   "metadata": {},
   "outputs": [],
   "source": [
    "if hoss_projected_info is not None:\n",
    "    import cartopy.crs as ccrs\n",
    "    import cartopy.feature as cfeature\n",
    "\n",
    "    land = cfeature.NaturalEarthFeature(category='physical', name='land', scale='50m',\n",
    "                                        facecolor=cfeature.COLORS['land'])\n",
    "    ocean = cfeature.NaturalEarthFeature(category='physical', name='ocean', scale='50m',\n",
    "                                         facecolor=cfeature.COLORS['water'])\n",
    "\n",
    "    albers_projection = ccrs.AlbersEqualArea(central_longitude=-96.0, central_latitude=40.0,\n",
    "                                             false_easting=0.0, false_northing=0.0,\n",
    "                                             standard_parallels=(50.0, 70.0), globe=None)"
   ]
  },
  {
   "cell_type": "code",
   "execution_count": null,
   "id": "bc30f67f-21d8-409a-8c1e-8f3b0914961a",
   "metadata": {},
   "outputs": [],
   "source": [
    "if hoss_projected_info is not None:\n",
    "    plt.figure(figsize=(16, 16))\n",
    "\n",
    "    ax = plt.subplot(1, 2, 1, projection=albers_projection)\n",
    "    ax.add_feature(ocean)\n",
    "    ax.add_feature(land)\n",
    "    ax.gridlines(color='gray', linestyle='dashed', draw_labels=True)\n",
    "    ax.set_extent([-2330000, -1800000, 3900000, 4500000], albers_projection)\n",
    "    output_data.lon.plot.pcolormesh(ax=ax, transform=albers_projection,\n",
    "                                    x='x', y='y', cmap=plt.cm.turbo,\n",
    "                                    add_colorbar=False, zorder=2)\n",
    "    plt.title('Longitude (degrees east)')\n",
    "\n",
    "    ax = plt.subplot(1, 2, 2, projection=albers_projection)\n",
    "    ax.add_feature(ocean)\n",
    "    ax.add_feature(land)\n",
    "    ax.gridlines(color='grey', linestyle='dashed', draw_labels=True)\n",
    "    ax.set_extent([-2330000, -1800000, 3900000, 4500000], albers_projection)\n",
    "    output_data.lat.plot.pcolormesh(ax=ax, transform=albers_projection,\n",
    "                                    x='x', y='y', cmap=plt.cm.turbo,\n",
    "                                    add_colorbar=False, zorder=2)\n",
    "    plt.title('Latitude (degrees north)')"
   ]
  },
  {
   "cell_type": "code",
   "execution_count": null,
   "id": "95e16ba1-1b59-473a-9257-c6a69fbeae6a",
   "metadata": {},
   "outputs": [],
   "source": [
    "if hoss_projected_info is not None:\n",
    "    plt.figure(figsize=(18, 10))\n",
    "\n",
    "    ax = plt.axes(projection=albers_projection)\n",
    "    ax.add_feature(ocean)\n",
    "    ax.add_feature(land)\n",
    "    ax.gridlines(color='grey', linestyle='dashed')\n",
    "    ax.set_extent([-2330000, -1800000, 3900000, 4500000], albers_projection)\n",
    "    output_data.NEE[0].plot.pcolormesh(ax=ax, transform=albers_projection,\n",
    "                                       x='x', y='y', cmap=plt.cm.turbo, zorder=2)\n",
    "    plt.title('Output data for ABoVE TVPRM simulated Net Ecosystem Exchange\\n'\n",
    "              '2008-01-01T00:30:00Z')\n",
    "    plt.show()"
   ]
  },
  {
   "cell_type": "markdown",
   "id": "f23c5fa2-88db-4b93-afb6-b9a0161a11c2",
   "metadata": {},
   "source": [
    "### Clean up `xarray` objects:\n",
    "\n",
    "Using a context manager for `xarray.Dataset` does not remove the variable assignment as part of the `.__exit__` method."
   ]
  },
  {
   "cell_type": "code",
   "execution_count": null,
   "id": "055a32d1-d546-4def-9096-38614c6b46fb",
   "metadata": {},
   "outputs": [],
   "source": [
    "if hoss_projected_info is not None:\n",
    "    del reference_data\n",
    "    del output_data"
   ]
  },
  {
   "cell_type": "markdown",
   "id": "e3e03691-7375-436d-aaff-fcdd4e8c22e6",
   "metadata": {},
   "source": [
    "## Spatial subsetting of projected grid using geojson polygon.\n",
    "\n",
    "This request uses the chained service that combines HOSS with MaskFill to offer shapefile subsetting of coordinate projected gridded data hosted in OPeNDAP.\n",
    "\n",
    "The request will use the [ABoVE Tundra Vegetation Photosynthesis and Respiration Model (TVPRM) Simulated Net Ecosystem Exchange collection](https://cmr.uat.earthdata.nasa.gov/search/concepts/C1245804308-EEDTEST.html). This collection uses an Albers Conical Equal Area projection.\n",
    "\n",
    "The request also uses a temporal subset to limit the size of the result."
   ]
  },
  {
   "cell_type": "code",
   "execution_count": null,
   "id": "ddf20717-736d-4f0e-a57e-97702f8e1c83",
   "metadata": {},
   "outputs": [],
   "source": [
    "if hoss_projected_info is not None:\n",
    "    hoss_projected_reference_filename = 'reference_images/hoss_projected_north_slope_reference_one.nc4'\n",
    "    hoss_projected_shape_filename = 'hoss_projected_north_slope_shape.nc4'\n",
    "    hoss_projected_request = Request(collection=hoss_projected_info['collection'],\n",
    "                                     granule_id=hoss_projected_info['granule_id'],\n",
    "                                     shape=hoss_projected_info['shape_file_path'],\n",
    "                                     variables=['NEE', 'lat', 'lon'],\n",
    "                                     temporal=hoss_projected_info['temporal_range'])\n",
    "    submit_and_download(harmony_client, hoss_projected_request, hoss_projected_shape_filename)\n",
    "    assert exists(hoss_projected_shape_filename), 'Unsuccessful HOSS shapefile spatial subset request.'\n",
    "\n",
    "    # Load output data and compare to a reference image:\n",
    "    reference_data =  xr.open_dataset(hoss_projected_reference_filename)\n",
    "    output_data = xr.open_dataset(hoss_projected_shape_filename)\n",
    "    assert output_data.equals(reference_data), 'reference and output datasets did not match'\n",
    "    print_success('Subsetting projected grid with shapefile.')\n",
    "else:\n",
    "    print(f'HOSS is not configured for environment: \"{harmony_environment}\" - skipping test.')"
   ]
  },
  {
   "cell_type": "markdown",
   "id": "f19701bc-d5bf-4114-aa0f-110b1bd131f1",
   "metadata": {},
   "source": [
    "### Plot data and control variables "
   ]
  },
  {
   "cell_type": "code",
   "execution_count": null,
   "id": "8c325b9c-df07-44eb-a015-605a85996fd6",
   "metadata": {},
   "outputs": [],
   "source": [
    "if hoss_projected_info is not None:\n",
    "    plt.figure(figsize=(16, 16))\n",
    "\n",
    "    ax = plt.subplot(1, 2, 1, projection=albers_projection)\n",
    "    ax.add_feature(ocean)\n",
    "    ax.add_feature(land)\n",
    "    ax.gridlines(color='gray', linestyle='dashed', draw_labels=True)\n",
    "    ax.set_extent([-2330000, -1800000, 3900000, 4500000], albers_projection)\n",
    "    output_data.lon.plot.pcolormesh(ax=ax, transform=albers_projection,\n",
    "                                    x='x', y='y', cmap=plt.cm.turbo,\n",
    "                                    add_colorbar=False, zorder=2)\n",
    "    plt.title('Longitude (degrees east)')\n",
    "\n",
    "    ax = plt.subplot(1, 2, 2, projection=albers_projection)\n",
    "    ax.add_feature(ocean)\n",
    "    ax.add_feature(land)\n",
    "    ax.gridlines(color='grey', linestyle='dashed', draw_labels=True)\n",
    "    ax.set_extent([-2330000, -1800000, 3900000, 4500000], albers_projection)\n",
    "    output_data.lat.plot.pcolormesh(ax=ax, transform=albers_projection,\n",
    "                                    x='x', y='y', cmap=plt.cm.turbo,\n",
    "                                    add_colorbar=False, zorder=2)\n",
    "    plt.title('Latitude (degrees north)')"
   ]
  },
  {
   "cell_type": "code",
   "execution_count": null,
   "id": "4884ebf7-79b1-4450-a4d2-bbf319145007",
   "metadata": {},
   "outputs": [],
   "source": [
    "if hoss_projected_info is not None:\n",
    "    plt.figure(figsize=(18, 10))\n",
    "\n",
    "    ax = plt.axes(projection=albers_projection)\n",
    "    ax.add_feature(ocean)\n",
    "    ax.add_feature(land)\n",
    "    ax.gridlines(color='grey', linestyle='dashed')\n",
    "    ax.set_extent([-2330000, -1800000, 3900000, 4500000], albers_projection)\n",
    "    output_data.NEE[0].plot.pcolormesh(ax=ax, transform=albers_projection,\n",
    "                                       x='x', y='y', cmap=plt.cm.turbo, zorder=2)\n",
    "    plt.title('Output data for ABoVE TVPRM simulated Net Ecosystem Exchange\\n'\n",
    "              '2008-01-01T00:30:00Z')\n",
    "    plt.show()"
   ]
  },
  {
   "cell_type": "markdown",
   "id": "bf78c79c-0fc0-4dea-885e-b0e862e74f94",
   "metadata": {},
   "source": [
    "### Clean up `xarray` objects:"
   ]
  },
  {
   "cell_type": "code",
   "execution_count": null,
   "id": "11226472-1ae6-4125-930b-0bd0cddf5eb8",
   "metadata": {},
   "outputs": [],
   "source": [
    "if hoss_projected_info is not None:\n",
    "    del reference_data\n",
    "    del output_data"
   ]
  },
  {
   "cell_type": "markdown",
   "id": "85d6d22e",
   "metadata": {},
   "source": [
    "### Request for granule that has bounds variables:\n",
    "\n",
    "This regression test will use the GPM/IMERGHH collection, which is geographically gridded, to ensure that a granule with bounds variables extracts the expected temporal and spatial range:"
   ]
  },
  {
   "cell_type": "code",
   "execution_count": null,
   "id": "e99932fa",
   "metadata": {},
   "outputs": [],
   "source": [
    "if hoss_info is not None:\n",
    "    hoss_bounds_file_name = 'hoss_bounds.nc4'\n",
    "    hoss_bounds_reference_file_name = 'reference_images/hoss_bounds_reference_one.nc4'\n",
    "    hoss_bounds_bbox = BBox(w=60, s=-15, e=75, n=0)\n",
    "    hoss_bounds_request = Request(collection=hoss_info['bounds_collection'],\n",
    "                                  granule_id=[hoss_info['bounds_granule_id']],\n",
    "                                  variables=['/Grid/precipitationCal'],\n",
    "                                  spatial=hoss_bounds_bbox,\n",
    "                                  temporal={'start': datetime(2020, 1, 18, 18, 45, 0),\n",
    "                                            'stop': datetime(2020, 1, 18, 19, 45, 0)})\n",
    "\n",
    "    submit_and_download(harmony_client, hoss_bounds_request, hoss_bounds_file_name)\n",
    "    assert exists(hoss_bounds_file_name), 'Unsuccessful HOSS bounds request.'\n",
    "\n",
    "    expected_variables = ['/Grid/precipitationCal', '/Grid/lat', '/Grid/lat_bnds',\n",
    "                          '/Grid/lon', '/Grid/lon_bnds', '/Grid/time', '/Grid/time_bnds']\n",
    "    assert all_variables_present(hoss_bounds_file_name, expected_variables), 'Missing variables in HOSS output'\n",
    "\n",
    "    plot_variable(hoss_bounds_file_name, '/Grid/precipitationCal', '/Grid/lon', '/Grid/lat',\n",
    "                  title='HOSS bounds results.', colourbar_units='Calibrated precipitation (mm.hr-1)',\n",
    "                  x_label='Longitude (degrees east)', y_label='Latitude (degrees north)',\n",
    "                  levels=np.linspace(0, 60, 51))\n",
    "\n",
    "    # Ensure that all variables returned are expected and are equal to those in a reference file:\n",
    "    reference_data =  xr.open_dataset(hoss_bounds_reference_file_name, group='/Grid')\n",
    "    output_data = xr.open_dataset(hoss_bounds_file_name, group='/Grid') \n",
    "\n",
    "    assert output_data.equals(reference_data), f'Output file does not match reference {hoss_bounds_reference_file_name}'\n",
    "\n",
    "    reference_data.close()\n",
    "    output_data.close()\n",
    "    reference_data = None\n",
    "    output_data = None\n",
    "    \n",
    "    print_success('HOSS bounds request.')\n",
    "else:\n",
    "    print(f'HOSS is not configured for environment: \"{harmony_environment}\" - skipping test.')"
   ]
  },
  {
   "cell_type": "markdown",
   "id": "189df669-2856-470a-8eee-01d359d3a59d",
   "metadata": {},
   "source": [
    "## MaskFill:\n",
    "\n",
    "MaskFill is currently only activated for collections in the UAT environment. Requests will be made against granules in the SPL4CMDL collection, as this is the only currently active collection. The download of these granules may be slow, as they are over 100 MB in size."
   ]
  },
  {
   "cell_type": "code",
   "execution_count": null,
   "id": "d2b09170-ca50-47cb-8c69-206e471c0682",
   "metadata": {},
   "outputs": [],
   "source": [
    "maskfill_non_prod_information = {'collection': Collection(id='C1240150677-EEDTEST'),\n",
    "                                 'shape_file_path': 'amazon_basin.geo.json',\n",
    "                                 'granule_id': 'G1245558666-EEDTEST'}\n",
    "\n",
    "maskfill_env = {Environment.LOCAL: maskfill_non_prod_information,\n",
    "                Environment.SIT: maskfill_non_prod_information,\n",
    "                Environment.UAT: maskfill_non_prod_information}\n",
    "\n",
    "if harmony_environment in maskfill_env:\n",
    "    maskfill_info = maskfill_env[harmony_environment]\n",
    "else:\n",
    "    maskfill_info = None"
   ]
  },
  {
   "cell_type": "markdown",
   "id": "7ed88963-f821-4197-bba9-203a5aaac66c",
   "metadata": {},
   "source": [
    "### MaskFill request:\n",
    "\n",
    "This request uses a GeoJSON shape file of the Amazon River basin and the SPL4CMDL collection."
   ]
  },
  {
   "cell_type": "code",
   "execution_count": null,
   "id": "f3efd865-03c3-4e1e-bec2-9bc98f50e6ee",
   "metadata": {},
   "outputs": [],
   "source": [
    "if maskfill_info is not None:\n",
    "    amazon_file_name = 'maskfill_amazon.h5'\n",
    "    amazon_request = Request(collection=maskfill_info['collection'],\n",
    "                             granule_id=maskfill_info['granule_id'],\n",
    "                             shape=maskfill_info['shape_file_path'])\n",
    "\n",
    "    submit_and_download(harmony_client, amazon_request, amazon_file_name)\n",
    "    assert exists(amazon_file_name), 'Unsuccessful MaskFill Amazon river basin request.'\n",
    "\n",
    "    plot_variable(amazon_file_name, '/GPP/gpp_mean', '/x', '/y',\n",
    "                  title='MaskFill synchronous results.',\n",
    "                  colourbar_units='Gross Primary Productivity ($\\mathrm{g.cm}^{-2}.\\mathrm{day}^{-1}$)',\n",
    "                  x_label='EASE-2 grid x coordinate (m)', y_label='EASE-2 grid y coordinate (m)',\n",
    "                  levels=np.linspace(0, 30, 31))\n",
    "\n",
    "    print_success('MaskFill synchronous request.')\n",
    "else:\n",
    "    print(f'MaskFill is not configured for environment: \"{harmony_environment}\" - skipping test.')"
   ]
  },
  {
   "cell_type": "markdown",
   "id": "4dca8d54-7f0c-45cf-8286-3d313982bf65",
   "metadata": {},
   "source": [
    "### MaskFill asynchronous request:\n",
    "\n",
    "This test has been removed, as `harmony-py` requests are asynchronous by default."
   ]
  },
  {
   "cell_type": "markdown",
   "id": "703c863b",
   "metadata": {},
   "source": [
    "## Segmented Trajectory Subsetter:\n",
    "\n",
    "The Segmented Trajectory Subsetter is currently only activated for collections in the UAT environment. Requests will be made against granules in the GEDI L4A collection, as this is the only currently active collection. To minimize the size of the output, all requests will use a variable subset - the original granules are > 1 GB in size!\n",
    "\n",
    "The specific granule used in the requests below was selected to have a trajectory that crosses the Amazon river basin GeoJSON shape used in the MaskFill regression tests above."
   ]
  },
  {
   "cell_type": "code",
   "execution_count": null,
   "id": "68b09818",
   "metadata": {},
   "outputs": [],
   "source": [
    "traj_sub_non_prod_information = {'collection': Collection(id='C1242267295-EEDTEST'),\n",
    "                                 'granule_id': 'G1242274836-EEDTEST',\n",
    "                                 'shape_file_path': 'amazon_basin.geo.json',\n",
    "                                 'requested_variables': ['/BEAM0000/agbd'],\n",
    "                                 'retrieved_variables': ['/BEAM0000/agbd', '/BEAM0000/delta_time',\n",
    "                                                         '/BEAM0000/lat_lowestmode',\n",
    "                                                         '/BEAM0000/lon_lowestmode',\n",
    "                                                         '/BEAM0000/shot_number']}\n",
    "\n",
    "trajectory_subsetter_env = {Environment.LOCAL: traj_sub_non_prod_information,\n",
    "                            Environment.SIT: traj_sub_non_prod_information,\n",
    "                            Environment.UAT: traj_sub_non_prod_information}\n",
    "\n",
    "if harmony_environment in trajectory_subsetter_env:\n",
    "    trajectory_subsetter_info = trajectory_subsetter_env[harmony_environment]\n",
    "else:\n",
    "    trajectory_subsetter_info = None"
   ]
  },
  {
   "cell_type": "markdown",
   "id": "b9f35c7e",
   "metadata": {},
   "source": [
    "### Trajectory Subsetter variable subset request:\n",
    "\n",
    "This is a request to retrieve a variable subset of a GEDI L4A granule. The request will ask for a single variable `/BEAM0000/agbd`, but will retrieve an additional four variables that are required to make the output viable for downstream processing. The five expected output variables are:\n",
    "\n",
    "* `/BEAM0000/agbd` (above ground biomass density)\n",
    "* `/BEAM0000/delta_time` (from the `coordinates` metadata attribute of `/BEAM0000/agbd`)\n",
    "* `/BEAM0000/lat_lowestmode` (from the `coordinates` metadata attribute of `/BEAM0000/agbd`)\n",
    "* `/BEAM0000/lon_lowestmode` (from the `coordinates` metadata attribute of `/BEAM0000/agbd`)\n",
    "* `/BEAM0000/shot_number` (from the `ancillary_variables` metadata attribute of `/BEAM0000/agbd`, as configured by `sds-varinfo`)"
   ]
  },
  {
   "cell_type": "code",
   "execution_count": null,
   "id": "74bf1567",
   "metadata": {},
   "outputs": [],
   "source": [
    "if trajectory_subsetter_info is not None:\n",
    "    ts_variable_file_name = 'trajectory_subsetter_variable.h5'\n",
    "    ts_variable_request = Request(collection=trajectory_subsetter_info['collection'],\n",
    "                                  granule_id=[trajectory_subsetter_info['granule_id']],\n",
    "                                  variables=trajectory_subsetter_info['requested_variables'])\n",
    "\n",
    "    submit_and_download(harmony_client, ts_variable_request, ts_variable_file_name)\n",
    "    assert exists(ts_variable_file_name), 'Unsuccessful Trajectory Subsetter variable subset request.'\n",
    "\n",
    "    assert all_variables_present(\n",
    "        ts_variable_file_name, trajectory_subsetter_info['retrieved_variables']\n",
    "    ), 'Missing variables in Trajectory Subsetter output'\n",
    "\n",
    "    print_success('Trajectory Subsetter variable subset request.')\n",
    "else:\n",
    "    print(f'Trajectory Subsetter is not configured for environment: \"{harmony_environment}\" - skipping test.')"
   ]
  },
  {
   "cell_type": "markdown",
   "id": "42e85030",
   "metadata": {},
   "source": [
    "### Trajectory Subsetter temporal subset request:\n",
    "\n",
    "This request will combine a variable subset with a temporal range - as defined via the `subset` request parameter. The requested data should fall between 1am and 2am on the 8th of July 2020."
   ]
  },
  {
   "cell_type": "code",
   "execution_count": null,
   "id": "c51eb82c",
   "metadata": {},
   "outputs": [],
   "source": [
    "if trajectory_subsetter_info is not None:\n",
    "    ts_temporal_file_name = 'trajectory_subsetter_temporal.h5'\n",
    "    ts_temporal_request = Request(collection=trajectory_subsetter_info['collection'],\n",
    "                                  granule_id=[trajectory_subsetter_info['granule_id']],\n",
    "                                  variables=trajectory_subsetter_info['requested_variables'],\n",
    "                                  temporal={'start': datetime(2020, 7, 8, 1, 0, 0),\n",
    "                                            'stop': datetime(2020, 7, 8, 2, 0, 0)})\n",
    "\n",
    "    submit_and_download(harmony_client, ts_temporal_request, ts_temporal_file_name)\n",
    "    assert exists(ts_temporal_file_name), 'Unsuccessful Trajectory Subsetter temporal subset request.'\n",
    "\n",
    "    assert all_variables_present(\n",
    "        ts_temporal_file_name, trajectory_subsetter_info['retrieved_variables']\n",
    "    ), 'Missing variables in temporal subset Trajectory Subsetter output'\n",
    "\n",
    "    print_success('Trajectory Subsetter temporal subset request.')\n",
    "else:\n",
    "    print(f'Trajectory Subsetter is not configured for environment: \"{harmony_environment}\" - skipping test.')"
   ]
  },
  {
   "cell_type": "markdown",
   "id": "3f6a86b6",
   "metadata": {},
   "source": [
    "### Trajectory Subsetter bounding box spatial subset request:\n",
    "\n",
    "This request combines the variable subset (for output size purposes) with a bounding box spatial subset. The bounding box has been selected to approximately encompass Brazil:\n",
    "\n",
    "* -74 ≤ longitude (degrees east) ≤ -35\n",
    "* -34 ≤ latitude (degress north) ≤ 5"
   ]
  },
  {
   "cell_type": "code",
   "execution_count": null,
   "id": "ffb9742c",
   "metadata": {},
   "outputs": [],
   "source": [
    "if trajectory_subsetter_info is not None:\n",
    "    ts_bbox_file_name = 'trajectory_subsetter_bbox.h5'\n",
    "    ts_bbox_bbox = BBox(w=-74, s=-34, e=-35, n=5)\n",
    "    ts_bbox_request = Request(collection=trajectory_subsetter_info['collection'],\n",
    "                              granule_id=[trajectory_subsetter_info['granule_id']],\n",
    "                              variables=trajectory_subsetter_info['requested_variables'],\n",
    "                              spatial=ts_bbox_bbox)\n",
    "\n",
    "    submit_and_download(harmony_client, ts_bbox_request, ts_bbox_file_name)\n",
    "    assert exists(ts_bbox_file_name), 'Unsuccessful Trajectory Subsetter bounding box subset request.'\n",
    "\n",
    "    assert all_variables_present(\n",
    "        ts_bbox_file_name, trajectory_subsetter_info['retrieved_variables']\n",
    "    ), 'Missing variables in bounding box spatial subset Trajectory Subsetter output'\n",
    "    assert variable_values_all_in_range(\n",
    "        ts_bbox_file_name, '/BEAM0000/lon_lowestmode', ts_bbox_bbox.w, ts_bbox_bbox.e\n",
    "    ), 'Longitude values not all in expected range, Trajectory Subsetter bounding box request'\n",
    "    assert variable_values_all_in_range(\n",
    "        ts_bbox_file_name, '/BEAM0000/lat_lowestmode', ts_bbox_bbox.s, ts_bbox_bbox.n\n",
    "    ), 'Latitude values not all in expected range, Trajectory Subsetter bounding box request'\n",
    "\n",
    "    print_success('Trajectory Subsetter bounding box spatial subset request.')\n",
    "else:\n",
    "    print(f'Trajectory Subsetter is not configured for environment: \"{harmony_environment}\" - skipping test.')"
   ]
  },
  {
   "cell_type": "markdown",
   "id": "05201125",
   "metadata": {},
   "source": [
    "### Trajectory Subsetter polygon spatial subset request:\n",
    "\n",
    "The request below combines a variable subset with the Amazon river basin polygon. The output should constrained to be extent of this polygon."
   ]
  },
  {
   "cell_type": "code",
   "execution_count": null,
   "id": "a10d6af4",
   "metadata": {},
   "outputs": [],
   "source": [
    "if trajectory_subsetter_info is not None:\n",
    "    ts_polygon_file_name = 'trajectory_subsetter_polygon.h5'\n",
    "    ts_polygon_request = Request(collection=trajectory_subsetter_info['collection'],\n",
    "                                 granule_id=[trajectory_subsetter_info['granule_id']],\n",
    "                                 variables=trajectory_subsetter_info['requested_variables'],\n",
    "                                 shape=trajectory_subsetter_info['shape_file_path'])\n",
    "\n",
    "    submit_and_download(harmony_client, ts_polygon_request, ts_polygon_file_name)\n",
    "    assert exists(ts_polygon_file_name), 'Unsuccessful Trajectory Subsetter polygon spatial subset request.'\n",
    "\n",
    "    assert all_variables_present(\n",
    "        ts_polygon_file_name, trajectory_subsetter_info['retrieved_variables']\n",
    "    ), 'Missing variables in polygon spatial subset Trajectory Subsetter output'\n",
    "\n",
    "    # Define the smallest bounding box that minimally encompasses the polygon area. All points should be\n",
    "    # inside this bounding box:\n",
    "    ts_polygon_bbox = BBox(w=-80, s=-19, e=-44, n=9)\n",
    "    assert variable_values_all_in_range(\n",
    "        ts_polygon_file_name, '/BEAM0000/lon_lowestmode', ts_polygon_bbox.w, ts_polygon_bbox.e\n",
    "    ), 'Longitude values not all in expected range, Trajectory Subsetter polygon request'\n",
    "    assert variable_values_all_in_range(\n",
    "        ts_polygon_file_name, '/BEAM0000/lat_lowestmode', ts_polygon_bbox.s, ts_polygon_bbox.n\n",
    "    ), 'Latitude values not all in expected range, Trajectory Subsetter polygon request'\n",
    "\n",
    "    print_success('Trajectory Subsetter polygon spatial subset request.')\n",
    "else:\n",
    "    print(f'Trajectory Subsetter is not configured for environment: \"{harmony_environment}\" - skipping test.')"
   ]
  },
  {
   "cell_type": "markdown",
   "id": "da258874",
   "metadata": {},
   "source": [
    "### Segmented Trajectory Subsetter additional tests:\n",
    "\n",
    "Ideally, we should test that photon segment indices are correctly handled (e.g., they are all consecutive integers, even if a middle segment is excluded by a subset: [0, 0, 0, 0, 1, 1, 1, 1, 2, 2, ...]). Currently (2021-12-02), there are no Cloud-hosted collections with photon segment indices associated with the Segmented Trajectory Subsetter."
   ]
  },
  {
   "cell_type": "markdown",
   "id": "ca88eb71-2526-4b34-8ff7-441f869244e0",
   "metadata": {},
   "source": [
    "# Clean up test outputs:"
   ]
  },
  {
   "cell_type": "code",
   "execution_count": null,
   "id": "73fdd147-74a0-48d3-957f-388e2abe356a",
   "metadata": {},
   "outputs": [],
   "source": [
    "directory_files = listdir()\n",
    "\n",
    "for directory_file in directory_files:\n",
    "    if directory_file.endswith(('.nc4', '.h5', '.sha256', )):\n",
    "        remove(directory_file)"
   ]
  }
 ],
 "metadata": {
  "celltoolbar": "Tags",
  "kernelspec": {
   "display_name": "Python 3 (ipykernel)",
   "language": "python",
   "name": "python3"
  },
  "language_info": {
   "codemirror_mode": {
    "name": "ipython",
    "version": 3
   },
   "file_extension": ".py",
   "mimetype": "text/x-python",
   "name": "python",
   "nbconvert_exporter": "python",
   "pygments_lexer": "ipython3",
   "version": "3.9.13"
  },
  "name": "SDS_Regression.ipynb"
 },
 "nbformat": 4,
 "nbformat_minor": 5
}
