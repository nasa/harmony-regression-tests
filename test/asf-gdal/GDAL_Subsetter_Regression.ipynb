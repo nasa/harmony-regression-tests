{
 "cells": [
  {
   "cell_type": "markdown",
   "metadata": {},
   "source": [
    "# Harmony and GDAL Subsetter \n",
    "## Regression Tests for ASF Collections"
   ]
  },
  {
   "cell_type": "markdown",
   "metadata": {},
   "source": [
    "## Environment Selection:"
   ]
  },
  {
   "cell_type": "code",
   "execution_count": null,
   "metadata": {
    "tags": [
     "parameters"
    ]
   },
   "outputs": [],
   "source": [
    "harmony_host_url = 'https://harmony.uat.earthdata.nasa.gov'"
   ]
  },
  {
   "cell_type": "code",
   "execution_count": null,
   "metadata": {},
   "outputs": [],
   "source": [
    "class StopExecution(Exception):\n",
    "    def _render_traceback_(self):\n",
    "        pass"
   ]
  },
  {
   "cell_type": "code",
   "execution_count": null,
   "metadata": {},
   "outputs": [],
   "source": [
    "import re\n",
    "import sys"
   ]
  },
  {
   "cell_type": "code",
   "execution_count": null,
   "metadata": {
    "scrolled": false
   },
   "outputs": [],
   "source": [
    "SUPPORTED_ENVS = ['uat']\n",
    "global env\n",
    "m = re.search('harmony(\\.|-)(.*)(\\.earthdata\\.nasa\\.gov|-frontend)', harmony_host_url)\n",
    "env = m.group(2)\n",
    "if env.lower() not in SUPPORTED_ENVS:\n",
    "    print(f'{env} is not a supported environment (supported envs: {SUPPORTED_ENVS}) - skipping tests')\n",
    "    sys.exit(0)\n",
    "print(\"Environment: \", env)\n",
    "if env.lower() == 'sit':\n",
    "    print('Connect to the NASA VPN before running requests against the sit environment.')"
   ]
  },
  {
   "cell_type": "markdown",
   "metadata": {},
   "source": [
    "## Regression tests for the S1 InSAR (GRFN) collection:"
   ]
  },
  {
   "cell_type": "code",
   "execution_count": null,
   "metadata": {
    "scrolled": false
   },
   "outputs": [],
   "source": [
    "# TODO HARMONY-765 Uncomment this when GRFN data is accessible from Harmony\n",
    "# import requests\n",
    "# import s1_info\n",
    "# import get_base_url_info\n",
    "# import get_product_info\n",
    "# import compare_images\n",
    "# import write_testfile\n",
    "# import get_filetype\n",
    "# import write_filetype_test\n",
    "# import pytest\n",
    "# import os\n",
    "# import cleanup\n",
    "# import glob\n",
    "\n",
    "# if 'env' not in globals():\n",
    "#     global env\n",
    "#     env = 'uat'\n",
    "    \n",
    "# collection = 's1_insar'\n",
    "# base_url_info = get_base_url_info.get_base_url_info(env,collection)\n",
    "# s1 = s1_info.s1_info()\n",
    "# # Loop through the list of dictionaries in s1_info.py\n",
    "# for num_requests in s1:    \n",
    "#     harmony_url = base_url_info['base_url'] + base_url_info['collection_id'] + '/ogc-api-coverages/1.0.0/collections/' + num_requests['request_url'] + num_requests[base_url_info['granule_env_flag']]\n",
    "#     outfile = env + num_requests['outfile']\n",
    "#     print(\"Running request \" + num_requests['q_num'] + ': ' + harmony_url)\n",
    "#     print(num_requests['message'])\n",
    "#     r = requests.get(harmony_url)\n",
    "#     status_code = r.status_code    \n",
    "#     if status_code == 200:\n",
    "#         print ('Status code: ',status_code, ' Success!')\n",
    "#     else:\n",
    "#         print (('Status code: ',status_code, ' Something went wrong!'))\n",
    "#     with open(outfile, 'wb') as f:\n",
    "#         f.write(r.content)\n",
    "#         f.close()\n",
    "#     file_ext = outfile[-4:]\n",
    "#     if  file_ext == 'tiff':\n",
    "#         product_info = get_product_info.get_product_info(collection, outfile)\n",
    "#         is_identical = compare_images.compare_images(num_requests['reference_image'],outfile)\n",
    "#         filename = 'test_grfn_' + num_requests['q_num'] + '.py'\n",
    "#         write_the_testfile = write_testfile.write_testfile(filename, collection, is_identical, product_info, num_requests)\n",
    "#         ! pytest -v -p no:warnings\n",
    "#         assert(_exit_code == 0)\n",
    "#     else:\n",
    "#         filetype = get_filetype.get_filetype(outfile)\n",
    "#         filename = 'test_grfn_' + num_requests['q_num'] + '.py'\n",
    "#         write_the_testfile = write_filetype_test.write_filetype_test(filename, collection, filetype, num_requests)\n",
    "#         ! pytest -v -p no:warnings\n",
    "#         assert(_exit_code == 0)\n",
    "#     # Keep the test file around for later\n",
    "#     if os.path.exists(filename):\n",
    "#         os.rename(filename, 'temp'+filename)\n",
    "#     else:\n",
    "#         print(\"The file \" + filename + \" does not exist\")\n",
    "#     # Get rid of the product file\n",
    "#     clean = cleanup.cleanup(outfile)\n",
    "# # Rename the temp files to test files\n",
    "# files = glob.glob('temp*')\n",
    "# for f in files:\n",
    "#     old_name = f\n",
    "#     new_name=f.replace('temp', '')\n",
    "#     try:\n",
    "#         os.rename(f, new_name)\n",
    "#     except OSError as e:\n",
    "#         print(\"Error: %s : %s\" % (f, e.strerror))\n",
    "# # Run all the tests one more time to get the cumulative result\n",
    "# ! pytest -v -p no:warnings\n",
    "# assert(_exit_code == 0)\n",
    "# # Get rid of the test files\n",
    "# files = glob.glob('test*')\n",
    "# for f in files:\n",
    "#     clean = cleanup.cleanup(f)"
   ]
  },
  {
   "cell_type": "markdown",
   "metadata": {},
   "source": [
    "## Regression tests for the UAVSAR POLSAR PAULI collection:"
   ]
  },
  {
   "cell_type": "code",
   "execution_count": null,
   "metadata": {
    "scrolled": false
   },
   "outputs": [],
   "source": [
    "# TODO HARMONY-766 Uncomment this when UAVSAR data is accessible from Harmony\n",
    "# import requests\n",
    "# import uavsar_info\n",
    "# import get_base_url_info\n",
    "# import get_product_info\n",
    "# import compare_images\n",
    "# import write_testfile\n",
    "# import get_filetype\n",
    "# import write_filetype_test\n",
    "# import pytest\n",
    "# import os\n",
    "# import cleanup\n",
    "# import glob\n",
    "\n",
    "# if 'env' not in globals():\n",
    "#     global env\n",
    "#     env = 'uat'\n",
    "# collection = 'uavsar'\n",
    "# base_url_info = get_base_url_info.get_base_url_info(env,collection)\n",
    "# uavsar = uavsar_info.uavsar_info()\n",
    "# for num_requests in uavsar:    \n",
    "#     harmony_url = base_url_info['base_url'] + base_url_info['collection_id'] + '/ogc-api-coverages/1.0.0/collections/' + num_requests['request_url'] + num_requests[base_url_info['granule_env_flag']]\n",
    "#     outfile = env + num_requests['outfile']\n",
    "#     print(\"Running request \" + num_requests['q_num'] + ': ' + harmony_url)\n",
    "#     print(num_requests['message'])\n",
    "#     r = requests.get(harmony_url)\n",
    "#     status_code = r.status_code    \n",
    "#     if status_code == 200:\n",
    "#         print ('Status code: ',status_code, ' Success!')\n",
    "#     else:\n",
    "#         print (('Status code: ',status_code, ' Something went wrong!'))\n",
    "#     with open(outfile, 'wb') as f:\n",
    "#         f.write(r.content)\n",
    "#         f.close()\n",
    "#     file_ext = outfile[-4:]\n",
    "#     if  file_ext == 'tiff':\n",
    "#         product_info = get_product_info.get_product_info(collection, outfile)\n",
    "#         is_identical = compare_images.compare_images(num_requests['reference_image'],outfile)\n",
    "#         filename = 'test_uavsar_' + num_requests['q_num'] + '.py'\n",
    "#         write_the_testfile = write_testfile.write_testfile(filename, collection, is_identical, product_info, num_requests)\n",
    "#         ! pytest -v -p no:warnings\n",
    "#         assert(_exit_code == 0)\n",
    "#     else:\n",
    "#         filetype = get_filetype.get_filetype(outfile)\n",
    "#         filename = 'test_uavsar_' + num_requests['q_num'] + '.py'\n",
    "#         write_the_testfile = write_filetype_test.write_filetype_test(filename, collection, filetype, num_requests)\n",
    "#         ! pytest -v -p no:warnings\n",
    "#         assert(_exit_code == 0)\n",
    "#     # Keep the test file around for later\n",
    "#     if os.path.exists(filename):\n",
    "#         os.rename(filename, 'temp'+filename)\n",
    "#     else:\n",
    "#         print(\"The file \" + filename + \" does not exist\")\n",
    "#     # Get rid of the product file\n",
    "#     clean = cleanup.cleanup(outfile)\n",
    "# # Rename the temp files to test files\n",
    "# files = glob.glob('temp*')\n",
    "# for f in files:\n",
    "#     old_name = f\n",
    "#     new_name=f.replace('temp', '')\n",
    "#     try:\n",
    "#         os.rename(f, new_name)\n",
    "#     except OSError as e:\n",
    "#         print(\"Error: %s : %s\" % (f, e.strerror))\n",
    "# # Run all the tests one more time to get the cumulative result\n",
    "# ! pytest -v -p no:warnings\n",
    "# assert(_exit_code == 0)\n",
    "# # Get rid of the test files\n",
    "# files = glob.glob('test*')\n",
    "# for f in files:\n",
    "#     clean = cleanup.cleanup(f)"
   ]
  },
  {
   "cell_type": "markdown",
   "metadata": {},
   "source": [
    "## Regression tests for the AVNIR-2 collection:"
   ]
  },
  {
   "cell_type": "code",
   "execution_count": null,
   "metadata": {},
   "outputs": [],
   "source": [
    "import requests\n",
    "import avnir_info\n",
    "import get_base_url_info\n",
    "import get_product_info\n",
    "import compare_images\n",
    "import write_testfile\n",
    "import get_filetype\n",
    "import write_filetype_test\n",
    "import pytest\n",
    "import os\n",
    "import cleanup\n",
    "import glob\n",
    "\n",
    "if 'env' not in globals():\n",
    "    global env\n",
    "    env = 'uat'\n",
    "collection = 'avnir'\n",
    "base_url_info = get_base_url_info.get_base_url_info(env,collection)\n",
    "avnir = avnir_info.avnir_info()\n",
    "for num_requests in avnir:    \n",
    "    harmony_url = base_url_info['base_url'] + base_url_info['collection_id'] + '/ogc-api-coverages/1.0.0/collections/' + num_requests['request_url'] + num_requests[base_url_info['granule_env_flag']]\n",
    "    outfile = env + num_requests['outfile']\n",
    "    print(\"Running request \" + num_requests['q_num'] + ': ' + harmony_url)\n",
    "    print(num_requests['message'])\n",
    "    r = requests.get(harmony_url)\n",
    "    status_code = r.status_code    \n",
    "    if status_code == 200:\n",
    "        print ('Status code: ',status_code, ' Success!')\n",
    "    else:\n",
    "        print (('Status code: ',status_code, ' Something went wrong!'))\n",
    "    with open(outfile, 'wb') as f:\n",
    "        f.write(r.content)\n",
    "        f.close()\n",
    "    file_ext = outfile[-4:]\n",
    "    if  file_ext == 'tiff':\n",
    "        product_info = get_product_info.get_product_info(collection, outfile)\n",
    "        filename = 'test_avnir_' + num_requests['q_num'] + '.py'\n",
    "        write_the_testfile = write_testfile.write_testfile(filename, collection, product_info, num_requests)\n",
    "        ! pytest -v -p no:warnings\n",
    "        assert(_exit_code == 0)\n",
    "    else:\n",
    "        filetype = get_filetype.get_filetype(outfile)\n",
    "        filename = 'test_avnir_' + num_requests['q_num'] + '.py'\n",
    "        write_the_testfile = write_filetype_test.write_filetype_test(filename, collection, filetype, num_requests)\n",
    "        ! pytest -v -p no:warnings\n",
    "        assert(_exit_code == 0)\n",
    "    # Keep the test file around for later\n",
    "    if os.path.exists(filename):\n",
    "        os.rename(filename, 'temp'+filename)\n",
    "    else:\n",
    "        print(\"The file \" + filename + \" does not exist\")\n",
    "    # Get rid of the product file\n",
    "    clean = cleanup.cleanup(outfile)\n",
    "# Rename the temp files to test files\n",
    "files = glob.glob('temp*')\n",
    "for f in files:\n",
    "    old_name = f\n",
    "    new_name=f.replace('temp', '')\n",
    "    try:\n",
    "        os.rename(f, new_name)\n",
    "    except OSError as e:\n",
    "        print(\"Error: %s : %s\" % (f, e.strerror))\n",
    "# Run all the tests one more time to get the cumulative result\n",
    "! pytest -v -p no:warnings\n",
    "assert(_exit_code == 0)\n",
    "# Get rid of the test files\n",
    "files = glob.glob('test*')\n",
    "for f in files:\n",
    "    clean = cleanup.cleanup(f)"
   ]
  },
  {
   "cell_type": "code",
   "execution_count": null,
   "metadata": {},
   "outputs": [],
   "source": []
  }
 ],
 "metadata": {
  "celltoolbar": "Tags",
  "kernelspec": {
   "display_name": "Python 3",
   "language": "python",
   "name": "python3"
  },
  "language_info": {
   "codemirror_mode": {
    "name": "ipython",
    "version": 3
   },
   "file_extension": ".py",
   "mimetype": "text/x-python",
   "name": "python",
   "nbconvert_exporter": "python",
   "pygments_lexer": "ipython3",
   "version": "3.7.7"
  }
 },
 "nbformat": 4,
 "nbformat_minor": 4
}