{
 "cells": [
  {
   "cell_type": "markdown",
   "metadata": {},
   "source": [
    "# Harmony Regression \n",
    "This notebook provides condensed examples of using Harmony to perform specific tasks.  For more a general introduction and tutorial, see [Harmony API Introduction](https://harmony.earthdata.nasa.gov/notebook-example.html) or any of the example notebooks provided in the [Harmony repository](https://github.com/nasa/harmony). [Helper functions](./notebook_helpers) are used for making the calls found in this notebook.\n",
    "\n",
    "## Prerequisites\n",
    "\n",
    " The dependencies for this notebook are listed in the [environment.yaml](./environment.yaml). To test or install locally, create the papermill environment used in the automated regression testing suite: \n",
    "\n",
    "`conda env create -f ./environment.yaml && conda activate papermill`\n",
    "\n",
    "Also ensure you have a `.netrc` file located in the `test` directory of this repository."
   ]
  },
  {
   "cell_type": "markdown",
   "metadata": {},
   "source": [
    "## Set harmony_host_url and import libraries "
   ]
  },
  {
   "cell_type": "code",
   "execution_count": null,
   "metadata": {
    "tags": [
     "parameters"
    ]
   },
   "outputs": [],
   "source": [
    "#harmony_host_url = 'https://harmony.sit.earthdata.nasa.gov'\n",
    "harmony_host_url = 'https://harmony.uat.earthdata.nasa.gov'\n",
    "#harmony_host_url = 'https://harmony.earthdata.nasa.gov'\n",
    "\n",
    "# Import libraries used throughout the notebook\n",
    "from notebook_helpers import get, post, show, get_data_urls, show_async, show_async_condensed, show_shape, print_async_status, check_bbox_subset, check_stac\n",
    "import json\n",
    "import intake"
   ]
  },
  {
   "cell_type": "markdown",
   "metadata": {},
   "source": [
    "## Example Data\n",
    "\n",
    "Harmony has produced example collections with artificial data but realistic structure to allow testing our services.  We have L3 and L2 NetCDF4 collections, and a shapefile collection."
   ]
  },
  {
   "cell_type": "code",
   "execution_count": null,
   "metadata": {},
   "outputs": [],
   "source": [
    "coverages_root = '{root}/{collection}/ogc-api-coverages/1.0.0/collections/{variable}/coverage/rangeset'\n",
    "\n",
    "if harmony_host_url == 'https://harmony.uat.earthdata.nasa.gov' or harmony_host_url == 'https://harmony.sit.earthdata.nasa.gov':\n",
    "    l3_collection = 'C1234088182-EEDTEST'\n",
    "    l3_zarr_collection = 'C1234088182-EEDTEST'\n",
    "    l2_collection = 'C1233860183-EEDTEST'\n",
    "    shapefile_collection = 'C1234530533-EEDTEST'\n",
    "    l2ss_collection = 'C1234208438-POCLOUD'\n",
    "    var_collection = 'C1234714698-EEDTEST'\n",
    "elif harmony_host_url == 'https://harmony.earthdata.nasa.gov':\n",
    "    l3_collection = 'C1756916832-XYZ_PROV'\n",
    "    l3_zarr_collection = 'C1940468263-POCLOUD'\n",
    "    l2_collection = 'C1756916832-XYZ_PROV'\n",
    "    l2ss_collection = 'C1940473819-POCLOUD'\n",
    "\n",
    "example_vars = ['red_var', 'green_var', 'blue_var', 'alpha_var']"
   ]
  },
  {
   "cell_type": "markdown",
   "metadata": {},
   "source": [
    "### Sample Sync Request - Bounding Box and Temporal Subsetting with Reformatting\n",
    "\n",
    "Harmony/gdal only working in UAT due to Harmony-600."
   ]
  },
  {
   "cell_type": "code",
   "execution_count": null,
   "metadata": {
    "tags": []
   },
   "outputs": [],
   "source": [
    "if harmony_host_url == 'https://harmony.uat.earthdata.nasa.gov' or harmony_host_url == 'https://harmony.sit.earthdata.nasa.gov':\n",
    "    #By default, this reformats to tiff\n",
    "    params = {\n",
    "        'subset': [\n",
    "            'lon(-20:90)', \n",
    "            'lat(0:60)', \n",
    "            'time(\"2020-01-15T00:00:00Z\":\"2020-01-15T01:00:00Z\")']\n",
    "    }\n",
    "    response = get(\n",
    "        coverages_root.format(\n",
    "            root=harmony_host_url,\n",
    "            collection=l3_collection, \n",
    "            variable='all'), \n",
    "        params=params)\n",
    "\n",
    "    show(response, example_vars)"
   ]
  },
  {
   "cell_type": "code",
   "execution_count": null,
   "metadata": {
    "tags": []
   },
   "outputs": [],
   "source": [
    "if harmony_host_url == 'https://harmony.uat.earthdata.nasa.gov' or harmony_host_url == 'https://harmony.sit.earthdata.nasa.gov':\n",
    "    response = get(\n",
    "    coverages_root.format(\n",
    "        root=harmony_host_url,\n",
    "        collection=l3_collection, \n",
    "        variable='green_var'), \n",
    "    params=params)\n",
    "\n",
    "    show(response, color_index=1)"
   ]
  },
  {
   "cell_type": "markdown",
   "metadata": {},
   "source": [
    "## Asynchronous Requests\n",
    "\n",
    "Harmony/gdal only working in UAT due to Harmony-600."
   ]
  },
  {
   "cell_type": "code",
   "execution_count": null,
   "metadata": {
    "tags": []
   },
   "outputs": [],
   "source": [
    "if harmony_host_url == 'https://harmony.uat.earthdata.nasa.gov' or harmony_host_url == 'https://harmony.sit.earthdata.nasa.gov':\n",
    "    response = get(\n",
    "        coverages_root.format(\n",
    "            root=harmony_host_url,\n",
    "            collection=l3_collection, \n",
    "            variable='all'), \n",
    "        params={\n",
    "            'subset': [\n",
    "                'lon(-20:90)', \n",
    "                'lat(0:60)', \n",
    "                'time(\"2020-01-01T00:00:00Z\":\"2020-01-05T01:00:00Z\")']})\n",
    "    show_async_condensed(response)"
   ]
  },
  {
   "cell_type": "markdown",
   "metadata": {},
   "source": [
    "## Cancel Async Requests\n",
    "\n",
    "Harmony/gdal only working in UAT due to Harmony-600."
   ]
  },
  {
   "cell_type": "code",
   "execution_count": null,
   "metadata": {
    "scrolled": true,
    "tags": []
   },
   "outputs": [],
   "source": [
    "if harmony_host_url == 'https://harmony.uat.earthdata.nasa.gov' or harmony_host_url == 'https://harmony.sit.earthdata.nasa.gov':\n",
    "    #Add 3 requests\n",
    "    response1 = get(coverages_root.format(root=harmony_host_url, collection=l3_collection, variable='all'), params={'format': 'image/tiff', 'maxResults': '20'})\n",
    "    response2 = get(coverages_root.format(root=harmony_host_url, collection=l3_collection, variable='all'), params={'format': 'image/tiff', 'maxResults': '20'})\n",
    "    response3 = get(coverages_root.format(root=harmony_host_url, collection=l3_collection, variable='all'), params={'format': 'image/tiff', 'maxResults': '20'})\n",
    "\n",
    "    #List the requests\n",
    "\n",
    "    jobs_root = '{root}/jobs'\n",
    "    my_jobs = jobs_root.format(root=harmony_host_url)\n",
    "    response = get(my_jobs,params={'page': '1','limit': '10'})\n",
    "    body = response.json()\n",
    "\n",
    "    for job in body['jobs']:\n",
    "        print_async_status(job)\n",
    "\n",
    "    #Cancel one\n",
    "    my_jobs_cancel_root=my_jobs+'/{job_id}/cancel'\n",
    "    response = post(my_jobs_cancel_root.format(job_id=response3.json()['jobID']))\n",
    "\n",
    "    print_async_status(response.json())\n",
    "\n",
    "    assert response.json()['status'] == 'canceled'"
   ]
  },
  {
   "cell_type": "markdown",
   "metadata": {},
   "source": [
    "# Basic Tests with Backend Services"
   ]
  },
  {
   "cell_type": "markdown",
   "metadata": {},
   "source": [
    "### Shapefile Subsetting\n",
    "\n",
    "Only available in UAT. Remove UAT or SIT if statements and test/modify requests when available in PROD."
   ]
  },
  {
   "cell_type": "markdown",
   "metadata": {},
   "source": [
    "#### PO.DAAC's Shapefile Subsetter "
   ]
  },
  {
   "cell_type": "code",
   "execution_count": null,
   "metadata": {
    "tags": []
   },
   "outputs": [],
   "source": [
    "if harmony_host_url == 'https://harmony.uat.earthdata.nasa.gov' or harmony_host_url == 'https://harmony.sit.earthdata.nasa.gov':\n",
    "    show_shape('zip://./notebook_helpers/test_in-polygon.shp.zip')\n",
    "    show(get('https://harmony.uat.earthdata.nasa.gov/service-results/harmony-uat-staging/public/shapefile_example/shapefile_r_001_249_20090109T000000.shp.zip'))"
   ]
  },
  {
   "cell_type": "code",
   "execution_count": null,
   "metadata": {
    "tags": []
   },
   "outputs": [],
   "source": [
    "if harmony_host_url == 'https://harmony.uat.earthdata.nasa.gov' or harmony_host_url == 'https://harmony.sit.earthdata.nasa.gov':\n",
    "    response = post(\n",
    "        coverages_root.format(\n",
    "            root=harmony_host_url,\n",
    "            collection=shapefile_collection, \n",
    "            variable='all'), \n",
    "        data={ 'subset': 'time(\"2009-01-09T00:00:00Z\":\"2009-01-09T01:00:00Z\")' },\n",
    "        files={ 'shapefile': ('test_in-polygon.shp.zip', open('./notebook_helpers/test_in-polygon.shp.zip', 'rb'), 'application/shapefile+zip') }\n",
    "    )\n",
    "\n",
    "    try:\n",
    "        show(response)\n",
    "    except:\n",
    "        print(response.text)\n"
   ]
  },
  {
   "cell_type": "markdown",
   "metadata": {},
   "source": [
    "### Zarr Reformatter"
   ]
  },
  {
   "cell_type": "code",
   "execution_count": null,
   "metadata": {
    "tags": []
   },
   "outputs": [],
   "source": [
    "response = get(\n",
    "    coverages_root.format(\n",
    "        root=harmony_host_url,\n",
    "        collection=l3_zarr_collection, \n",
    "        variable='all'), \n",
    "    params={\n",
    "        'subset': 'time(\"2020-01-15T00:00:00Z\":\"2020-01-16T01:00:00Z\")',\n",
    "        'maxResults': '3'\n",
    "        },\n",
    "    headers = {'accept': 'application/x-zarr'})\n",
    "\n",
    "zarr_response = show_async(response)"
   ]
  },
  {
   "cell_type": "markdown",
   "metadata": {},
   "source": [
    "#### STAC outputs\n"
   ]
  },
  {
   "cell_type": "code",
   "execution_count": null,
   "metadata": {},
   "outputs": [],
   "source": [
    "results = json.loads(zarr_response.content)\n",
    "job = results['jobID']\n",
    "print(job)\n",
    "\n",
    "stac_root = '{root}/stac/{jobID}/{item}'\n",
    "\n",
    "stac_cat = intake.open_stac_catalog(stac_root.format(root=harmony_host_url,jobID=job,item=''),name='Harmony output')\n",
    "display(list(stac_cat))"
   ]
  },
  {
   "cell_type": "code",
   "execution_count": null,
   "metadata": {},
   "outputs": [],
   "source": [
    "for i in range(len(list(stac_cat))):\n",
    "    display(intake.open_stac_item(stac_root.format(root=harmony_host_url,jobID=job,item=i)))\n",
    "\n",
    "entries = []\n",
    "for id, entry in stac_cat.search('type').items():\n",
    "    display(entry)\n",
    "    entries.append(entry)"
   ]
  },
  {
   "cell_type": "code",
   "execution_count": null,
   "metadata": {},
   "outputs": [],
   "source": [
    "# da = stac_cat[list(stac_cat)[0]][entries[0].describe()['name']].to_dask()\n",
    "# da"
   ]
  },
  {
   "cell_type": "code",
   "execution_count": null,
   "metadata": {},
   "outputs": [],
   "source": [
    "#da.plot.imshow()"
   ]
  },
  {
   "cell_type": "markdown",
   "metadata": {},
   "source": [
    "### SWOT Reprojection Tool\n",
    "\n",
    "Only available in UAT. Remove UAT or SIT if statements and test/modify requests when available in PROD."
   ]
  },
  {
   "cell_type": "code",
   "execution_count": null,
   "metadata": {
    "tags": []
   },
   "outputs": [],
   "source": [
    "#Shows original test data for easy visual comparison\n",
    "\n",
    "if harmony_host_url == 'https://harmony.uat.earthdata.nasa.gov' or harmony_host_url == 'https://harmony.sit.earthdata.nasa.gov':\n",
    "    response = get('https://harmony.uat.earthdata.nasa.gov/service-results/harmony-uat-staging/public/harmony_example_l2/nc/015_02_210_europe.nc')\n",
    "    show(response, example_vars)"
   ]
  },
  {
   "cell_type": "markdown",
   "metadata": {},
   "source": [
    "#### SWOT Reprojection Tool (Sync)"
   ]
  },
  {
   "cell_type": "code",
   "execution_count": null,
   "metadata": {
    "tags": []
   },
   "outputs": [],
   "source": [
    "if harmony_host_url == 'https://harmony.uat.earthdata.nasa.gov' or harmony_host_url == 'https://harmony.sit.earthdata.nasa.gov':\n",
    "    response = get(\n",
    "        coverages_root.format(\n",
    "            root=harmony_host_url,\n",
    "            collection=l2_collection, \n",
    "            variable='all'), \n",
    "        params={\n",
    "            'outputCrs': 'EPSG:4326',\n",
    "            'subset': 'time(\"2020-01-15T16:00:00Z\":\"2020-01-15T17:00:00Z\")'})\n",
    "    show(response, example_vars)"
   ]
  },
  {
   "cell_type": "code",
   "execution_count": null,
   "metadata": {
    "tags": []
   },
   "outputs": [],
   "source": [
    "if harmony_host_url == 'https://harmony.uat.earthdata.nasa.gov' or harmony_host_url == 'https://harmony.sit.earthdata.nasa.gov':\n",
    "    response = get(\n",
    "    coverages_root.format(\n",
    "        root=harmony_host_url,\n",
    "        collection=l2_collection, \n",
    "        variable='all'), \n",
    "    params={\n",
    "        'outputCrs': '+proj=lcc +lat_1=43 +lat_2=62 +lat_0=30 +lon_0=10 +x_0=0 +y_0=0 +ellps=intl +units=m +no_defs',\n",
    "        'interpolation': 'near',\n",
    "        'scaleExtent': '-4000000,-1000000,5000000,7000000',\n",
    "        'subset': 'time(\"2020-01-15T16:00:00Z\":\"2020-01-15T17:00:00Z\")'})\n",
    "\n",
    "    show(response, example_vars)"
   ]
  },
  {
   "cell_type": "markdown",
   "metadata": {},
   "source": [
    "#### SWOT Reprojection Tool (Async)\n",
    "\n",
    "Only available in UAT. Remove UAT or SIT if statements and test/modify requests when available in PROD."
   ]
  },
  {
   "cell_type": "code",
   "execution_count": null,
   "metadata": {
    "tags": []
   },
   "outputs": [],
   "source": [
    "if harmony_host_url == 'https://harmony.uat.earthdata.nasa.gov' or harmony_host_url == 'https://harmony.sit.earthdata.nasa.gov':\n",
    "    response = get(\n",
    "        coverages_root.format(\n",
    "            root=harmony_host_url,\n",
    "            collection=l2_collection, \n",
    "            variable='all'), \n",
    "        params={\n",
    "            'outputCrs': '+proj=lcc +lat_1=43 +lat_2=62 +lat_0=30 +lon_0=10 +x_0=0 +y_0=0 +ellps=intl +units=m +no_defs',\n",
    "            'interpolation': 'near',\n",
    "            'scaleExtent': '-7000000,-1000000,8000000,8000000',\n",
    "            'maxResults': '3'})\n",
    "\n",
    "    show_async_condensed(response, example_vars)\n"
   ]
  },
  {
   "cell_type": "markdown",
   "metadata": {},
   "source": [
    "### PODAAC L2 Subsetter"
   ]
  },
  {
   "cell_type": "markdown",
   "metadata": {},
   "source": [
    "#### PODAAC L2 Subsetter (Sync)"
   ]
  },
  {
   "cell_type": "code",
   "execution_count": null,
   "metadata": {
    "tags": []
   },
   "outputs": [],
   "source": [
    "response = get(\n",
    "    coverages_root.format(\n",
    "        root=harmony_host_url,\n",
    "        collection=l2ss_collection, \n",
    "        variable='all'), \n",
    "    params={\n",
    "        'maxResults': '1',\n",
    "        'subset': [\n",
    "           'lon(-160:160)', \n",
    "           'lat(-80:80)',\n",
    "           'time(\"2012-03-03T12:17:00\":\"2012-03-03T12:18:00\")']\n",
    "        })\n",
    "\n",
    "if harmony_host_url == 'https://harmony.uat.earthdata.nasa.gov' or harmony_host_url == 'https://harmony.sit.earthdata.nasa.gov':\n",
    "    show(response, ['ssha'])\n",
    "else:\n",
    "    show(response, ['sea_surface_temperature'])"
   ]
  },
  {
   "cell_type": "markdown",
   "metadata": {},
   "source": [
    "#### PODAAC L2 Subsetter (Async)"
   ]
  },
  {
   "cell_type": "code",
   "execution_count": null,
   "metadata": {
    "tags": []
   },
   "outputs": [],
   "source": [
    "response = get(\n",
    "    coverages_root.format(\n",
    "        root=harmony_host_url,\n",
    "        collection=l2ss_collection, \n",
    "        variable='all'), \n",
    "    params={\n",
    "        'maxResults': '3',\n",
    "        'format': 'application/x-netcdf4',\n",
    "        'subset': [\n",
    "            'lon(-160:160)', \n",
    "            'lat(-80:80)',\n",
    "             'time(\"2012-03-03T00:00:00Z\":\"2012-03-03T02:59:59Z\")'\n",
    "            ]})\n",
    "\n",
    "if harmony_host_url == 'https://harmony.uat.earthdata.nasa.gov' or harmony_host_url == 'https://harmony.sit.earthdata.nasa.gov':\n",
    "    show_async_condensed(response, ['ssha'])\n",
    "else:\n",
    "    show_async_condensed(response, ['sea_surface_temperature'])"
   ]
  },
  {
   "cell_type": "markdown",
   "metadata": {},
   "source": [
    "### SDS Variable Subsetter\n",
    "Only available in UAT. Remove UAT or SIT if statements and test/modify requests when available in PROD.\n"
   ]
  },
  {
   "cell_type": "markdown",
   "metadata": {},
   "source": [
    "#### SDS Variable Subsetter (Sync)"
   ]
  },
  {
   "cell_type": "code",
   "execution_count": null,
   "metadata": {
    "tags": []
   },
   "outputs": [],
   "source": [
    "if harmony_host_url == 'https://harmony.uat.earthdata.nasa.gov' or harmony_host_url == 'https://harmony.sit.earthdata.nasa.gov':\n",
    "    response = get(\n",
    "        coverages_root.format(\n",
    "            root=harmony_host_url,\n",
    "            collection=var_collection, \n",
    "            variable='%2Fgt1l%2Fland_segments%2Fcanopy%2Fh_canopy'), \n",
    "        params={\n",
    "            'granuleid':'G1238479514-EEDTEST'\n",
    "        })\n",
    "\n",
    "    show(response, ['/gt1l/land_segments/canopy/h_canopy'])"
   ]
  },
  {
   "cell_type": "markdown",
   "metadata": {},
   "source": [
    "#### SDS Variable Subsetter (Async)"
   ]
  },
  {
   "cell_type": "code",
   "execution_count": null,
   "metadata": {
    "tags": []
   },
   "outputs": [],
   "source": [
    "if harmony_host_url == 'https://harmony.uat.earthdata.nasa.gov' or harmony_host_url == 'https://harmony.sit.earthdata.nasa.gov':\n",
    "    response = get(\n",
    "        coverages_root.format(\n",
    "            root=harmony_host_url,\n",
    "            collection=var_collection, \n",
    "            variable='%2Fgt1l%2Fland_segments%2Fcanopy%2Fh_canopy'), \n",
    "            params={'maxResults': '3'})\n",
    "\n",
    "    show_async_condensed(response, ['/gt1l/land_segments/canopy/h_canopy'])"
   ]
  },
  {
   "cell_type": "markdown",
   "metadata": {},
   "source": [
    "### ASF's GDAL Subsetter (These cells are conmented out until issues with the ASF service are resolved)"
   ]
  },
  {
   "cell_type": "markdown",
   "metadata": {},
   "source": [
    "#### ASF's GDAL Subsetter (Sync)"
   ]
  },
  {
   "cell_type": "code",
   "execution_count": null,
   "metadata": {
    "tags": []
   },
   "outputs": [],
   "source": [
    "# response = get(\n",
    "#     coverages_root.format(\n",
    "#         root=harmony_host_url,\n",
    "#         collection='C1225776654-ASF',\n",
    "#         variable='science%2Fgrids%2Fdata%2Famplitude'), \n",
    "#         params={\n",
    "#             'granuleId' : 'G1235282694-ASF',\n",
    "#             'subset': [\n",
    "#             'lon(37:40)', \n",
    "#             'lat(23:24)', \n",
    "#             'time(\"2014-10-30T15:00:00Z\":\"2014-10-30T15:59:00Z\")']})\n",
    "            \n",
    "# show(response)\n"
   ]
  },
  {
   "cell_type": "markdown",
   "metadata": {},
   "source": [
    "#### ASF's GDAL Subsetter (Async)"
   ]
  },
  {
   "cell_type": "code",
   "execution_count": null,
   "metadata": {
    "tags": []
   },
   "outputs": [],
   "source": [
    "# response = get(\n",
    "#     coverages_root.format(\n",
    "#         root=harmony_host_url,\n",
    "#         collection='C1225776654-ASF',\n",
    "#         variable='science%2Fgrids%2Fdata%2Famplitude'), \n",
    "#         params={\n",
    "#             'subset': [\n",
    "#             'lon(37:40)', \n",
    "#             'lat(23:24)', \n",
    "#             'time(\"2014-10-30T15:00:00Z\":\"2014-10-30T15:59:00Z\")']})\n",
    "            \n",
    "# show_async_condensed(response)"
   ]
  },
  {
   "cell_type": "markdown",
   "metadata": {},
   "source": [
    "_Minimizing time to science_"
   ]
  }
 ],
 "metadata": {
  "celltoolbar": "Tags",
  "file_extension": ".py",
  "kernelspec": {
   "display_name": "Python 3",
   "language": "python",
   "name": "python3"
  },
  "language_info": {
   "codemirror_mode": {
    "name": "ipython",
    "version": 3
   },
   "file_extension": ".py",
   "mimetype": "text/x-python",
   "name": "python",
   "nbconvert_exporter": "python",
   "pygments_lexer": "ipython3",
   "version": "3.7.7"
  },
  "mimetype": "text/x-python",
  "name": "python",
  "npconvert_exporter": "python",
  "pygments_lexer": "ipython3",
  "version": 3
 },
 "nbformat": 4,
 "nbformat_minor": 4
}
