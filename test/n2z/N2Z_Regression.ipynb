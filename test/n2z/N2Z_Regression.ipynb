{
 "cells": [
  {
   "cell_type": "markdown",
   "id": "ab819831",
   "metadata": {},
   "source": [
    "# NetCDF to Zarr (N2Z) regression tests\n",
    "\n",
    "This Jupyter notebook runs a suite of regression tests against a sample collection for the NetCDF-to-Zarr service (N2Z). The *GPM IMERG Final Precipitation L3 Half Hourly 0.1 degree x 0.1 degree V06 ([GPM_3IMERGHH](https://search.uat.earthdata.nasa.gov/search?q=C1245618475-EEDTEST)) at GES DISC* is chosen for its size ~10Mb per granule. \n",
    "\n",
    "\n",
    "## Set the Harmony environment:\n",
    "\n",
    "The cell below sets the `harmony_host_url` to one of the following valid values:\n",
    "\n",
    "* Production: <https://harmony.earthdata.nasa.gov>\n",
    "* UAT: <https://harmony.uat.earthdata.nasa.gov>\n",
    "* SIT: <https://harmony.sit.earthdata.nasa.gov>\n",
    "* Local: <http://localhost:3000>\n",
    "\n",
    "The default value is for the UAT environment. When using this notebook there are two ways to use the non-default environment:\n",
    "\n",
    "* Run this notebook in a local Jupyter notebook server and change the value of `harmony_host_url` in the cell below to the value for the environment you require from the above list.\n",
    "* Use the `run_notebooks.sh` script, which requires you to declare an environment variable `HARMONY_HOST_URL`. Set that environment variable to the value above that corresponds to the environment you want to test. That environment variable will take precedence over the default value in the cell below.\n",
    "\n",
    "###  AWS permisisons\n",
    "\n",
    "This notebook uses boto3 to download a harmony created zarr store. In order to do this, s3 read access credentials must be set. The easiest way to do this is to ensure the environment variables AWS_ACCESS_KEY_ID and AWS_SECRET_ACCESS_KEY are set in the shell from where the notebook server is started.  "
   ]
  },
  {
   "cell_type": "code",
   "execution_count": null,
   "id": "a7b732c0",
   "metadata": {
    "tags": [
     "parameters"
    ]
   },
   "outputs": [],
   "source": [
    "harmony_host_url = 'https://harmony.uat.earthdata.nasa.gov'"
   ]
  },
  {
   "cell_type": "markdown",
   "id": "755d5bd9-bdb5-43f8-8a3b-fd125220982d",
   "metadata": {},
   "source": [
    "## Prerequisites\n",
    "\n",
    "The dependencies for this notebook are listed in the [environment.yaml](./environment.yaml). To test or install locally, create the papermill environment used in the automated regression testing suite:\n",
    "\n",
    "`conda env create -f ./environment.yaml && conda activate papermill-n2z`\n",
    "\n",
    "A `.netrc` file must also be located in the `test` directory of this repository."
   ]
  },
  {
   "cell_type": "markdown",
   "id": "4979305a",
   "metadata": {},
   "source": [
    "### Import required packages:"
   ]
  },
  {
   "cell_type": "code",
   "execution_count": null,
   "id": "93128635",
   "metadata": {},
   "outputs": [],
   "source": [
    "from harmony import Collection, Environment, Client, Request\n",
    "from utility import (\n",
    "    assert_result_has_correct_number_of_stores,\n",
    "    download_zarr_store,\n",
    "    get_zarr_store_location,\n",
    "    print_success,\n",
    ")\n",
    "from tempfile import TemporaryDirectory\n",
    "import xarray as xr"
   ]
  },
  {
   "cell_type": "markdown",
   "id": "7e29b32f",
   "metadata": {},
   "source": [
    "### Set up environment dependent variables:\n",
    "\n",
    "This includes the Harmony `Client` object and `Collection` objects for each of the collections for which there are regression tests. The local, SIT and UAT Harmony instances all utilise resources from CMR UAT, meaning any non-production environment will use the same resources.\n",
    "\n",
    "When adding a production entry to the dictionary below, the collection instances can be included directly in the production dictionary entry, as they do not need to be shared."
   ]
  },
  {
   "cell_type": "code",
   "execution_count": null,
   "id": "f5c95750",
   "metadata": {},
   "outputs": [],
   "source": [
    "non_production_collection = {\n",
    "    'imerg_collection': Collection(id='C1245618475-EEDTEST'),\n",
    "}\n",
    "\n",
    "collection_data = {\n",
    "    'https://harmony.uat.earthdata.nasa.gov': {\n",
    "        **non_production_collection,\n",
    "        'env': Environment.UAT,\n",
    "    },\n",
    "    'https://harmony.sit.earthdata.nasa.gov': {\n",
    "        **non_production_collection,\n",
    "        'env': Environment.SIT,\n",
    "    },\n",
    "    'http://localhost:3000': {\n",
    "        **non_production_collection,\n",
    "        'env': Environment.LOCAL,\n",
    "        'endpoint_url': 'http://localhost:4566',\n",
    "    },\n",
    "}\n",
    "\n",
    "environment_information = collection_data.get(harmony_host_url)\n",
    "\n",
    "if environment_information is not None:\n",
    "    harmony_client = Client(env=environment_information['env'])\n",
    "    endpoint_url = environment_information.get('endpoint_url', None)"
   ]
  },
  {
   "cell_type": "markdown",
   "id": "ae80e3cf",
   "metadata": {},
   "source": [
    "## Test for a single, non-aggregated granule input\n",
    "\n",
    "Makes a request, limiting the results to a single granule. Because the results aren't concatenated, we expect to find 1 Zarr store in the returned results."
   ]
  },
  {
   "cell_type": "code",
   "execution_count": null,
   "id": "1a9d8a3a-5a5f-4c5e-ab13-98592959537b",
   "metadata": {},
   "outputs": [],
   "source": [
    "if environment_information is not None:\n",
    "    imrg_request1 = Request(\n",
    "        collection=environment_information['imerg_collection'],\n",
    "        max_results=1,\n",
    "        concatenate=False,\n",
    "        format='application/x-zarr',\n",
    "    )\n",
    "\n",
    "    job_id = harmony_client.submit(imrg_request1)\n",
    "    harmony_client.wait_for_processing(job_id, show_progress=True)\n",
    "    results1 = harmony_client.result_json(job_id)\n",
    "    assert_result_has_correct_number_of_stores(results1, 1)\n",
    "    print_success('One granule, not aggregated, creates a single Zarr store.')\n",
    "else:\n",
    "    print('Skipping test: N2Z regression tests not configured for this environment.')"
   ]
  },
  {
   "cell_type": "markdown",
   "id": "4b94959e-fd7c-4584-84dc-079ee53e6bfc",
   "metadata": {},
   "source": [
    "## Test three non-aggregated granules input\n",
    "\n",
    "Makes a request, limiting the results to three granules. Because the results aren't concatenated, we expect to find 3 Zarr stores in the returned results."
   ]
  },
  {
   "cell_type": "code",
   "execution_count": null,
   "id": "a15bd22c-fb26-4a0b-9e17-7feccbf1d25e",
   "metadata": {},
   "outputs": [],
   "source": [
    "if environment_information is not None:\n",
    "    imrg_request2 = Request(\n",
    "        collection=environment_information['imerg_collection'],\n",
    "        max_results=3,\n",
    "        concatenate=False,\n",
    "        format='application/x-zarr',\n",
    "    )\n",
    "\n",
    "    job_id2 = harmony_client.submit(imrg_request2)\n",
    "    harmony_client.wait_for_processing(job_id2, show_progress=True)\n",
    "    results2 = harmony_client.result_json(job_id2)\n",
    "    assert_result_has_correct_number_of_stores(results2, 3)\n",
    "    print_success('Three granules, not aggregated, create three Zarr stores.')"
   ]
  },
  {
   "cell_type": "markdown",
   "id": "052ff62f-8115-46bd-b6db-d7232b823ec1",
   "metadata": {},
   "source": [
    "##  Test two aggregated granules input\n",
    "\n",
    "Makes a request, limiting the results to two granules. Because the results are concatenated, we expect to find just 1 Zarr store in the returned results.\n",
    "\n",
    "Additionally we download the Zarr store and compare it with a reference store using Xarray."
   ]
  },
  {
   "cell_type": "code",
   "execution_count": null,
   "id": "8d8244a4",
   "metadata": {},
   "outputs": [],
   "source": [
    "if environment_information is not None:\n",
    "    imrg_request3 = Request(\n",
    "        collection=environment_information['imerg_collection'],\n",
    "        max_results=2,\n",
    "        concatenate=True,\n",
    "        format='application/x-zarr',\n",
    "    )\n",
    "\n",
    "    job_id3 = harmony_client.submit(imrg_request3)\n",
    "    harmony_client.wait_for_processing(job_id3, show_progress=True)\n",
    "    results3 = harmony_client.result_json(job_id3)\n",
    "    assert_result_has_correct_number_of_stores(results3, 1)\n",
    "\n",
    "    zarr_store = get_zarr_store_location(results3)\n",
    "    with TemporaryDirectory() as tmp_zarr_store:\n",
    "        download_zarr_store(zarr_store, tmp_zarr_store, endpoint_url)\n",
    "        downloaded_ds = xr.open_dataset(tmp_zarr_store, group='/Grid', engine='zarr')\n",
    "        reference_ds = xr.open_dataset('reference_data/sample.zarr', group='/Grid')\n",
    "        assert downloaded_ds.equals(\n",
    "            reference_ds\n",
    "        ), 'reference and output Zarr stores did not match'\n",
    "\n",
    "    print_success('Two granules aggregated create a single Zarr store.')"
   ]
  },
  {
   "cell_type": "markdown",
   "id": "1c4a498f-b27b-4374-906d-bd37a34f5222",
   "metadata": {},
   "source": [
    "##  Test two granules input default concatentation\n",
    "\n",
    "Makes a request, limiting the results to two granules. Because the default is not to concatenate, we expect to find 2 Zarr stores in the returned results."
   ]
  },
  {
   "cell_type": "code",
   "execution_count": null,
   "id": "44712d48-c5aa-4a24-84c6-97c27b65eef3",
   "metadata": {},
   "outputs": [],
   "source": [
    "if environment_information is not None:\n",
    "    imrg_request4 = Request(\n",
    "        collection=environment_information['imerg_collection'],\n",
    "        max_results=2,\n",
    "        format='application/x-zarr',\n",
    "    )\n",
    "\n",
    "    job_id4 = harmony_client.submit(imrg_request4)\n",
    "    harmony_client.wait_for_processing(job_id4, show_progress=True)\n",
    "    results4 = harmony_client.result_json(job_id4)\n",
    "    assert_result_has_correct_number_of_stores(results4, 2)\n",
    "    print_success('Two granules create two Zarr stores.')"
   ]
  }
 ],
 "metadata": {
  "celltoolbar": "Tags",
  "kernelspec": {
   "display_name": "Python 3 (ipykernel)",
   "language": "python",
   "name": "python3"
  },
  "language_info": {
   "codemirror_mode": {
    "name": "ipython",
    "version": 3
   },
   "file_extension": ".py",
   "mimetype": "text/x-python",
   "name": "python",
   "nbconvert_exporter": "python",
   "pygments_lexer": "ipython3",
   "version": "3.10.13"
  },
  "name": "N2Z_Regression.ipynb"
 },
 "nbformat": 4,
 "nbformat_minor": 5
}
