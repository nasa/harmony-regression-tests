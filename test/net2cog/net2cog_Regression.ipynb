{
 "cells": [
  {
   "cell_type": "markdown",
   "id": "32af63de",
   "metadata": {},
   "source": [
    "# net2cog regression tests\n",
    "\n",
    "This Jupyter notebook runs a suite of regression tests against the net2cog Harmony Service.\n",
    "\n",
    "These tests use [SMAP_RSS_L3_SSS_SMI_8DAY-RUNNINGMEAN_V4](https://cmr.uat.earthdata.nasa.gov/search/concepts/C1234410736-POCLOUD) as netcdf input data to test the net2cog service for the smap_sss variable.\n",
    "\n",
    "## Set the Harmony environment:\n",
    "\n",
    "The cell below sets the `harmony_host_url` to one of the following valid values:\n",
    "\n",
    "* Production: <https://harmony.earthdata.nasa.gov>\n",
    "* UAT: <https://harmony.uat.earthdata.nasa.gov>\n",
    "* SIT: <https://harmony.sit.earthdata.nasa.gov>\n",
    "* Local: <http://localhost:3000>\n",
    "\n",
    "The default value is for the UAT environment. When using this notebook there are two ways to use the non-default environment:\n",
    "\n",
    "* Run this notebook in a local Jupyter notebook server and change the value of `harmony_host_url` in the cell below to the value for the environment you require from the above list.\n",
    "\n",
    "* Use the `run_notebooks.sh` script, which requires you to declare an environment variable `HARMONY_HOST_URL`. Set that environment variable to the value above that corresponds to the environment you want to test. That environment variable will take precedence over the default value in the cell below."
   ]
  },
  {
   "cell_type": "code",
   "execution_count": null,
   "id": "dec3bc66",
   "metadata": {
    "tags": [
     "parameters"
    ]
   },
   "outputs": [],
   "source": [
    "harmony_host_url = 'https://harmony.uat.earthdata.nasa.gov'"
   ]
  },
  {
   "cell_type": "markdown",
   "id": "7e969d81",
   "metadata": {},
   "source": [
    "## Prerequisites\n",
    "\n",
    "The dependencies for this notebook are listed in the [environment.yaml](./environment.yaml). To test or install locally, create the papermill environment used in the automated regression testing suite:\n",
    "\n",
    "`conda env create -f ./environment.yaml && conda activate papermill-net2cog`\n",
    "\n",
    "A `.netrc` file must also be located in the `test` directory of this repository."
   ]
  },
  {
   "cell_type": "markdown",
   "id": "802241b5",
   "metadata": {},
   "source": [
    "### Import required packages:"
   ]
  },
  {
   "cell_type": "code",
   "execution_count": null,
   "id": "295b8341",
   "metadata": {},
   "outputs": [],
   "source": [
    "from harmony import Collection, Environment, Client, Request\n",
    "\n",
    "from utility import validate_smap_outputs"
   ]
  },
  {
   "cell_type": "markdown",
   "id": "9b644811",
   "metadata": {},
   "source": [
    "### Set up environment dependent variables:\n",
    "\n",
    "This includes the Harmony `Client` object and `Collection` objects for each of the collections for which there are regression tests. The local, SIT and UAT Harmony instances all utilise resources from CMR UAT, meaning any non-production environment will use the same resources.\n",
    "\n",
    "When adding a production entry to the dictionary below, the collection instances can be included directly in the production dictionary entry, as they do not need to be shared."
   ]
  },
  {
   "cell_type": "code",
   "execution_count": null,
   "id": "85d47774",
   "metadata": {},
   "outputs": [],
   "source": [
    "non_production_collection = {\n",
    "    'smap_collection': Collection(id='C1272962474-EEDTEST'),\n",
    "}\n",
    "\n",
    "non_prod_granule_data = {\n",
    "    'smap_granules': ['G1272962521-EEDTEST'],\n",
    "}\n",
    "\n",
    "collection_data = {\n",
    "    'https://harmony.uat.earthdata.nasa.gov': {\n",
    "        **non_production_collection,\n",
    "        **non_prod_granule_data,\n",
    "        'env': Environment.UAT,\n",
    "    },\n",
    "    'https://harmony.sit.earthdata.nasa.gov': {\n",
    "        **non_production_collection,\n",
    "        **non_prod_granule_data,\n",
    "        'env': Environment.SIT,\n",
    "    },\n",
    "    'http://localhost:3000': {\n",
    "        **non_production_collection,\n",
    "        **non_prod_granule_data,\n",
    "        'env': Environment.LOCAL,\n",
    "    },\n",
    "}\n",
    "\n",
    "environment_information = collection_data.get(harmony_host_url)\n",
    "\n",
    "if environment_information is not None:\n",
    "    harmony_client = Client(env=environment_information['env'])\n",
    "    endpoint_url = environment_information.get('endpoint_url', None)"
   ]
  },
  {
   "cell_type": "markdown",
   "id": "fd8d6cb3",
   "metadata": {},
   "source": [
    "## Test conversion of sss_smap variable\n",
    "\n",
    "Use SMAP data."
   ]
  },
  {
   "cell_type": "markdown",
   "id": "6b32c849",
   "metadata": {},
   "source": [
    "### Single variable request:"
   ]
  },
  {
   "cell_type": "code",
   "execution_count": null,
   "id": "f2baf2eb",
   "metadata": {},
   "outputs": [],
   "source": [
    "if environment_information is not None:\n",
    "\n",
    "    smap_single_variable_request = Request(\n",
    "        collection=environment_information['smap_collection'],\n",
    "        granule_id=environment_information['smap_granules'][0],\n",
    "        variables=['sss_smap'],\n",
    "        max_results=1,\n",
    "        format='image/tiff',\n",
    "    )\n",
    "    print(harmony_client.request_as_curl(smap_single_variable_request))\n",
    "\n",
    "    smap_single_variable_job_id = harmony_client.submit(smap_single_variable_request)\n",
    "    harmony_client.wait_for_processing(smap_single_variable_job_id, show_progress=True)\n",
    "    validate_smap_outputs(harmony_client, smap_single_variable_job_id, 1)\n",
    "else:\n",
    "    print('Skipping test: net2cog is not configured for environment')"
   ]
  },
  {
   "cell_type": "markdown",
   "id": "9b911c99",
   "metadata": {},
   "source": [
    "### Multiple variables specified:\n",
    "\n",
    "This test ensures that a request for more than one variable, where those variables are named, will succeed and return output for each variable."
   ]
  },
  {
   "cell_type": "code",
   "execution_count": null,
   "id": "fc72842a",
   "metadata": {},
   "outputs": [],
   "source": [
    "if environment_information is not None:\n",
    "    smap_multi_variable_request = Request(\n",
    "        collection=environment_information['smap_collection'],\n",
    "        granule_id=environment_information['smap_granules'][0],\n",
    "        variables=['sss_smap', 'sss_smap_40km'],\n",
    "        max_results=1,\n",
    "        format='image/tiff',\n",
    "    )\n",
    "    print(harmony_client.request_as_curl(smap_multi_variable_request))\n",
    "\n",
    "    smap_multi_variable_job_id = harmony_client.submit(smap_multi_variable_request)\n",
    "    harmony_client.wait_for_processing(smap_multi_variable_job_id, show_progress=True)\n",
    "    validate_smap_outputs(harmony_client, smap_multi_variable_job_id, 2)\n",
    "else:\n",
    "    print('Skipping test: net2cog is not configured for environment')"
   ]
  },
  {
   "cell_type": "markdown",
   "id": "42df81cb",
   "metadata": {},
   "source": [
    "### No variables specified (so all variables returned):\n",
    "\n",
    "This should result in 10 output files, 1 each for the following variables:\n",
    "\n",
    "* `fland`\n",
    "* `gice`\n",
    "* `gland`\n",
    "* `nobs`\n",
    "* `nobs_40km`\n",
    "* `sss_ref`\n",
    "* `sss_smap`\n",
    "* `sss_smap_40km`\n",
    "* `sss_smap_uncertainty`\n",
    "* `surtep`\n",
    "\n",
    "The input NetCDF-4 file has three additional variables that should not be converted to a GeoTIFF:\n",
    "\n",
    "* `lat`\n",
    "* `lon`\n",
    "* `time`"
   ]
  },
  {
   "cell_type": "code",
   "execution_count": null,
   "id": "faa512b3",
   "metadata": {},
   "outputs": [],
   "source": [
    "if environment_information is not None:\n",
    "\n",
    "    smap_all_variable_request = Request(\n",
    "        collection=environment_information['smap_collection'],\n",
    "        granule_id=environment_information['smap_granules'][0],\n",
    "        max_results=1,\n",
    "        format='image/tiff',\n",
    "    )\n",
    "    print(harmony_client.request_as_curl(smap_all_variable_request))\n",
    "\n",
    "    smap_all_variable_job_id = harmony_client.submit(smap_all_variable_request)\n",
    "    harmony_client.wait_for_processing(smap_all_variable_job_id, show_progress=True)\n",
    "\n",
    "    # Check all expected variables were produced\n",
    "    validate_smap_outputs(harmony_client, smap_all_variable_job_id, 10)\n",
    "else:\n",
    "    print('Skipping test: net2cog is not configured for environment')"
   ]
  }
 ],
 "metadata": {
  "celltoolbar": "Tags",
  "kernelspec": {
   "display_name": "Python 3 (ipykernel)",
   "language": "python",
   "name": "python3"
  },
  "language_info": {
   "codemirror_mode": {
    "name": "ipython",
    "version": 3
   },
   "file_extension": ".py",
   "mimetype": "text/x-python",
   "name": "python",
   "nbconvert_exporter": "python",
   "pygments_lexer": "ipython3",
   "version": "3.10.15"
  }
 },
 "nbformat": 4,
 "nbformat_minor": 5
}
