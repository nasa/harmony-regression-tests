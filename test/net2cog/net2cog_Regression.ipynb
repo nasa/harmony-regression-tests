{
 "cells": [
  {
   "cell_type": "markdown",
   "id": "32af63de",
   "metadata": {},
   "source": [
    "# net2cog regression tests\n",
    "\n",
    "This Jupyter notebook runs a suite of regression tests against the net2cog Harmony Service.\n",
    "\n",
    "These tests evaluate the net2cog service using NetCDF input data from\n",
    "* [SMAP_RSS_L3_SSS_SMI_8DAY-RUNNINGMEAN_V4](https://search.uat.earthdata.nasa.gov/search?q=C1234410736) \n",
    "* [SMAP L4 Global 9 km EASE-Grid Surface and Root Zone Soil Moisture Land Model Constants](https://search.uat.earthdata.nasa.gov/search/granules?p=C1256108792-EEDTEST&pg[0][v]=f&pg[0][gsk]=-start_date&q=SPL4SMLM%20EEDTEST&tl=1588197503.679!5!!)\n",
    "\n",
    "## Set the Harmony environment:\n",
    "\n",
    "The cell below sets the `harmony_host_url` to one of the following valid values:\n",
    "\n",
    "* Production: <https://harmony.earthdata.nasa.gov>\n",
    "* UAT: <https://harmony.uat.earthdata.nasa.gov>\n",
    "* SIT: <https://harmony.sit.earthdata.nasa.gov>\n",
    "* Local: <http://localhost:3000>\n",
    "\n",
    "The default value is for the UAT environment. When using this notebook there are two ways to use the non-default environment:\n",
    "\n",
    "* Run this notebook in a local Jupyter notebook server and change the value of `harmony_host_url` in the cell below to the value for the environment you require from the above list.\n",
    "\n",
    "* Use the `run_notebooks.sh` script, which requires you to declare an environment variable `HARMONY_HOST_URL`. Set that environment variable to the value above that corresponds to the environment you want to test. That environment variable will take precedence over the default value in the cell below."
   ]
  },
  {
   "cell_type": "code",
   "execution_count": null,
   "id": "dec3bc66",
   "metadata": {
    "tags": [
     "parameters"
    ]
   },
   "outputs": [],
   "source": [
    "harmony_host_url = 'https://harmony.uat.earthdata.nasa.gov'"
   ]
  },
  {
   "cell_type": "markdown",
   "id": "7e969d81",
   "metadata": {},
   "source": [
    "## Prerequisites\n",
    "\n",
    "The dependencies for this notebook are listed in the [environment.yaml](./environment.yaml). To test or install locally, create the papermill environment used in the automated regression testing suite:\n",
    "\n",
    "`conda env create -f ./environment.yaml && conda activate papermill-net2cog`\n",
    "\n",
    "A `.netrc` file must also be located in the `test` directory of this repository."
   ]
  },
  {
   "cell_type": "markdown",
   "id": "802241b5",
   "metadata": {},
   "source": [
    "### Import required packages:"
   ]
  },
  {
   "cell_type": "code",
   "execution_count": null,
   "id": "295b8341",
   "metadata": {},
   "outputs": [],
   "source": [
    "from harmony import Collection, Environment, Client, Request\n",
    "from tempfile import TemporaryDirectory\n",
    "\n",
    "from utility import validate_smap_outputs"
   ]
  },
  {
   "cell_type": "markdown",
   "id": "9b644811",
   "metadata": {},
   "source": [
    "### Set up environment dependent variables:\n",
    "\n",
    "This includes the Harmony `Client` object and `Collection` objects for each of the collections for which there are regression tests. The local, SIT and UAT Harmony instances all utilise resources from CMR UAT, meaning any non-production environment will use the same resources.\n",
    "\n",
    "When adding a production entry to the dictionary below, the collection instances can be included directly in the production dictionary entry, as they do not need to be shared."
   ]
  },
  {
   "cell_type": "code",
   "execution_count": null,
   "id": "85d47774",
   "metadata": {},
   "outputs": [],
   "source": [
    "non_production_configuration = {\n",
    "    'RSS_SPL3_SSS_single_variable': {\n",
    "        'collection_concept_id': Collection(id='C1272962474-EEDTEST'),\n",
    "        'granule_id': 'G1272962521-EEDTEST',\n",
    "        'variables_to_subset': ['sss_smap'],\n",
    "    },\n",
    "    'RSS_SPL3_SSS_multi_variables': {\n",
    "        'collection_concept_id': Collection(id='C1272962474-EEDTEST'),\n",
    "        'granule_id': 'G1272962521-EEDTEST',\n",
    "        'variables_to_subset': ['sss_smap', 'sss_smap_40km'],\n",
    "    },\n",
    "    'RSS_SPL3_SSS_all_variables': {\n",
    "        'collection_concept_id': Collection(id='C1272962474-EEDTEST'),\n",
    "        'granule_id': 'G1272962521-EEDTEST',\n",
    "    },\n",
    "    'SPL4_SMLM': {\n",
    "        'collection_concept_id': Collection(id='C1256108792-EEDTEST'),\n",
    "        'granule_id': 'G1256108793-EEDTEST',\n",
    "        'variables_to_subset': [\"/Land-Model-Constants_Data/cell_land_fraction\"],\n",
    "    },\n",
    "}\n",
    "\n",
    "production_configuration = {\n",
    "    'RSS_SPL3_SSS_single_variable': {\n",
    "        'collection_concept_id': Collection(id='TBD'),\n",
    "        'granule_id': '',\n",
    "        'variables_to_subset': ['sss_smap'],\n",
    "    },\n",
    "    'RSS_SPL3_SSS_multi_variables': {\n",
    "        'collection_concept_id': Collection(id='TBD'),\n",
    "        'granule_id': '',\n",
    "        'variables_to_subset': ['sss_smap'],\n",
    "    },\n",
    "    'RSS_SPL3_SSS_all_variables': {\n",
    "        'collection_concept_id': Collection(id='TBD'),\n",
    "        'granule_id': '',\n",
    "    },\n",
    "    'SPL4_SMLM': {\n",
    "        'collection_concept_id': Collection(id='TBD'),\n",
    "        'granule_id': '',\n",
    "        'variables_to_subset': [\"/Land-Model-Constants_Data/cell_land_fraction\"],\n",
    "    },\n",
    "}"
   ]
  },
  {
   "cell_type": "code",
   "execution_count": null,
   "id": "8380e7ab",
   "metadata": {},
   "outputs": [],
   "source": [
    "environment_configuration = {\n",
    "    # 'https://harmony.earthdata.nasa.gov': {\n",
    "    #     'config': production_configuration,\n",
    "    #     'env': Environment.PROD,\n",
    "    # },\n",
    "    'https://harmony.uat.earthdata.nasa.gov': {\n",
    "        'config': non_production_configuration,\n",
    "        'env': Environment.UAT,\n",
    "    },\n",
    "    'https://harmony.sit.earthdata.nasa.gov': {\n",
    "        'config': non_production_configuration,\n",
    "        'env': Environment.SIT,\n",
    "    },\n",
    "    'http://localhost:3000': {\n",
    "        'config': non_production_configuration,\n",
    "        'env': Environment.LOCAL,\n",
    "    },\n",
    "}\n",
    "\n",
    "configuration = environment_configuration.get(harmony_host_url)\n",
    "\n",
    "if configuration is not None:\n",
    "    harmony_client = Client(env=configuration['env'])"
   ]
  },
  {
   "cell_type": "markdown",
   "id": "c4e02db1",
   "metadata": {},
   "source": [
    "### Expected Results:\n",
    "\n",
    "* Expected value of the Coordinate Reference System (CRS).\n",
    "* Expected value of number of files are returned.\n",
    "* Expected value bounding box"
   ]
  },
  {
   "cell_type": "code",
   "execution_count": null,
   "id": "d5c5a4de",
   "metadata": {},
   "outputs": [],
   "source": [
    "expected_results = {\n",
    "    'RSS_SPL3_SSS_single_variable': {\n",
    "        'expected_crs': 'EPSG:4326',\n",
    "        'expected_file_count': 1,\n",
    "        'expected_bounding_box': [(0.0, 90.0, 360.0, -90.0)],\n",
    "    },\n",
    "    'RSS_SPL3_SSS_multi_variables': {\n",
    "        'expected_crs': 'EPSG:4326',\n",
    "        'expected_file_count': 2,\n",
    "        'expected_bounding_box': [(0.0, 90.0, 360.0, -90.0)],\n",
    "    },\n",
    "    'RSS_SPL3_SSS_all_variables': {\n",
    "        'expected_crs': 'EPSG:4326',\n",
    "        'expected_file_count': 10,\n",
    "        'expected_bounding_box': [(0.0, 90.0, 360.0, -90.0)],\n",
    "    },\n",
    "    'SPL4_SMLM': {\n",
    "        'expected_crs': 'EPSG:6933',\n",
    "        'expected_file_count': 1,\n",
    "        'expected_bounding_box': [\n",
    "            (-17367531.3203125, -7314541.19921875, 17367531.3203125, 7314541.19921875)\n",
    "        ],\n",
    "    },\n",
    "}"
   ]
  },
  {
   "cell_type": "markdown",
   "id": "fd8d6cb3",
   "metadata": {},
   "source": [
    "### Run Tests\n",
    "\n",
    "* This cell loops through the collections specified in the configured environment\n",
    "* The process involves submitting a request for collection data to Harmony, followed by downloading the returned results.\n",
    "* Verification compares the results to a previously generated and subsetted reference data file.\n",
    "* Validation of the generated COG file.\n",
    "* Validation of the Coordinate Reference System (CRS).\n",
    "* Visualizes each variable with a graph.\n",
    "\n",
    "Lists of tests:\n",
    "* SPL4_SMLM: Land-Model-Constants_Data/cell_land_fraction nested single variable\n",
    "* RSS_SPL3_SSS: conversion of sss_smap single variable\n",
    "* RSS_SPL3_SSS: multiple variables.  \n",
    "    This test ensures that a request for more than one variable, where those variables are named, will succeed and return output for each variable.\n",
    "* RSS_SPL3_SSS: all variables\n",
    "    This should result in 10 output files, 1 each for the following variables:\n",
    "    * `fland`\n",
    "    * `gice`\n",
    "    * `gland`\n",
    "    * `nobs`\n",
    "    * `nobs_40km`\n",
    "    * `sss_ref`\n",
    "    * `sss_smap`\n",
    "    * `sss_smap_40km`\n",
    "    * `sss_smap_uncertainty`\n",
    "    * `surtep`\n",
    "\n",
    "    The input NetCDF-4 file has three additional variables that should not be converted to a GeoTIFF:\n",
    "    * `lat`\n",
    "    * `lon`\n",
    "    * `time`"
   ]
  },
  {
   "cell_type": "code",
   "execution_count": null,
   "id": "f2baf2eb",
   "metadata": {},
   "outputs": [],
   "source": [
    "if configuration is not None:\n",
    "    for collection, test_config in configuration['config'].items():\n",
    "        with TemporaryDirectory() as tmp_dir:\n",
    "\n",
    "            print(f'Testing collection: {collection} ')\n",
    "            test_request = Request(\n",
    "                collection=test_config['collection_concept_id'],\n",
    "                granule_id=[test_config['granule_id']],\n",
    "                max_results=1,\n",
    "                format='image/tiff',\n",
    "            )\n",
    "\n",
    "            if 'variables_to_subset' in test_config:\n",
    "                test_request.variables = test_config['variables_to_subset']\n",
    "\n",
    "            job_id = harmony_client.submit(test_request)\n",
    "            harmony_client.wait_for_processing(job_id, show_progress=True)\n",
    "\n",
    "            if collection in expected_results:\n",
    "                validate_smap_outputs(\n",
    "                    harmony_client, job_id, expected_results[collection]\n",
    "                )\n",
    "            else:\n",
    "                print(\n",
    "                    f'Skipping test: collection: {collection} is not configured expected_results dictionary'\n",
    "                )\n",
    "else:\n",
    "    print('Skipping test: net2cog is not configured for environment')"
   ]
  }
 ],
 "metadata": {
  "celltoolbar": "Tags",
  "kernelspec": {
   "display_name": "Python 3 (ipykernel)",
   "language": "python",
   "name": "python3"
  },
  "language_info": {
   "codemirror_mode": {
    "name": "ipython",
    "version": 3
   },
   "file_extension": ".py",
   "mimetype": "text/x-python",
   "name": "python",
   "nbconvert_exporter": "python",
   "pygments_lexer": "ipython3",
   "version": "3.10.18"
  }
 },
 "nbformat": 4,
 "nbformat_minor": 5
}
