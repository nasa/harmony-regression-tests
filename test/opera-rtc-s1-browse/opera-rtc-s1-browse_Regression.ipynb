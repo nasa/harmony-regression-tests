{
 "cells": [
  {
   "cell_type": "code",
   "execution_count": null,
   "id": "24ad02a3-f52b-4e10-8654-e28d3e998c59",
   "metadata": {},
   "outputs": [],
   "source": [
    "from os import environ\n",
    "from pathlib import Path\n",
    "from tempfile import TemporaryDirectory\n",
    "\n",
    "import harmony\n",
    "\n",
    "\n",
    "environments = {\n",
    "    'http://localhost:3000': harmony.Environment.LOCAL,\n",
    "    'https://harmony.sit.earthdata.nasa.gov': harmony.Environment.SIT,\n",
    "    'https://harmony.uat.earthdata.nasa.gov': harmony.Environment.UAT,\n",
    "    'https://harmony.earthdata.nasa.gov': harmony.Environment.PROD,\n",
    "}\n",
    "\n",
    "harmony_host_url = environ.get('HARMONY_HOST_URL', 'https://harmony.uat.earthdata.nasa.gov')\n",
    "assert harmony_host_url in environments\n",
    "harmony_client = harmony.Client(env=environments[harmony_host_url])\n",
    "\n",
    "request = harmony.Request(\n",
    "    collection=harmony.Collection(id='OPERA_L2_RTC-S1_V1'),\n",
    "    granule_name=['OPERA_L2_RTC-S1_T014-029901-IW1_20241001T165524Z_20241001T215545Z_S1A_30_v1.0'],\n",
    "    format='image/png',\n",
    ")\n",
    "job_id = harmony_client.submit(request)\n",
    "harmony_client.wait_for_processing(job_id)\n",
    "\n",
    "with TemporaryDirectory() as temp_dir:\n",
    "    output_files = [Path(future.result()) for future in harmony_client.download_all(job_id, directory=temp_dir)]\n",
    "\n",
    "    assert len(output_files) == 3\n",
    "    assert output_files[0].suffixes == ['.png']\n",
    "    assert output_files[1].suffixes == ['.pgw']\n",
    "    assert output_files[2].suffixes == ['.png', '.aux', '.xml']\n",
    "\n",
    "    reference_data = Path('reference_data')\n",
    "    assert output_files[0].read_bytes() == (reference_data / 'rgb.png').read_bytes()\n",
    "    assert output_files[1].read_bytes() == (reference_data / 'rgb.pgw').read_bytes()\n",
    "    assert output_files[2].read_bytes() == (reference_data / 'rgb.png.aux.xml').read_bytes()"
   ]
  }
 ],
 "metadata": {
  "kernelspec": {
   "display_name": "Python 3 (ipykernel)",
   "language": "python",
   "name": "python3"
  },
  "language_info": {
   "codemirror_mode": {
    "name": "ipython",
    "version": 3
   },
   "file_extension": ".py",
   "mimetype": "text/x-python",
   "name": "python",
   "nbconvert_exporter": "python",
   "pygments_lexer": "ipython3",
   "version": "3.12.7"
  }
 },
 "nbformat": 4,
 "nbformat_minor": 5
}
