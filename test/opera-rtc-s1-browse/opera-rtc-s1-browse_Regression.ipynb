{
 "cells": [
  {
   "cell_type": "code",
   "execution_count": null,
   "id": "24ad02a3-f52b-4e10-8654-e28d3e998c59",
   "metadata": {},
   "outputs": [],
   "source": [
    "from os import environ\n",
    "from pathlib import Path\n",
    "from tempfile import TemporaryDirectory\n",
    "\n",
    "import harmony\n",
    "\n",
    "\n",
    "harmony_client = harmony.Client(env=harmony.Environment.UAT)\n",
    "\n",
    "request = harmony.Request(\n",
    "    collection=harmony.Collection(id='OPERA_L2_RTC-S1_V1'),\n",
    "    granule_name=['OPERA_L2_RTC-S1_T014-029901-IW1_20241001T165524Z_20241001T215545Z_S1A_30_v1.0'],\n",
    "    format='image/png',\n",
    ")\n",
    "job_id = harmony_client.submit(request)\n",
    "harmony_client.wait_for_processing(job_id)\n",
    "\n",
    "with TemporaryDirectory() as temp_dir:\n",
    "    output_files = [Path(future.result()) for future in harmony_client.download_all(job_id, directory=temp_dir)]\n",
    "\n",
    "    assert len(output_files) == 3\n",
    "    assert output_files[0].suffixes == ['.png']\n",
    "    assert output_files[1].suffixes == ['.pgw']\n",
    "    assert output_files[2].suffixes == ['.png', '.aux', '.xml']\n",
    "\n",
    "    reference_data = Path(__file__).parent / 'reference_data'\n",
    "    assert output_files[0].read_bytes() == (reference_data / 'rgb.png').read_bytes()\n",
    "    assert output_files[1].read_bytes() == (reference_data / 'rgb.pgw').read_bytes()\n",
    "    assert output_files[2].read_bytes() == (reference_data / 'rgb.png.aux.xml').read_bytes()"
   ]
  }
 ],
 "metadata": {
  "kernelspec": {
   "display_name": "Python 3 (ipykernel)",
   "language": "python",
   "name": "python3"
  },
  "language_info": {
   "name": ""
  }
 },
 "nbformat": 4,
 "nbformat_minor": 5
}
